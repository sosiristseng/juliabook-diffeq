{
 "cells": [
  {
   "cell_type": "markdown",
   "id": "dfb61911-844d-42d9-91b3-c30c6de37a16",
   "metadata": {},
   "source": [
    "# Catalyst\n",
    "\n",
    "`Catalyst.jl` is a domain specific language (DSL) for high performance simulation and modeling of chemical reaction networks. It is based on `ModelingToolkit.jl` to perform symbolic transformations.\n",
    "\n",
    "[Catalyst Docs](https://catalyst.sciml.ai/dev/)"
   ]
  },
  {
   "cell_type": "code",
   "execution_count": null,
   "id": "8ccb722b-6d18-475e-96c2-96b800420109",
   "metadata": {
    "execution": {
     "iopub.execute_input": "2022-03-02T08:59:22.168000Z",
     "iopub.status.busy": "2022-03-02T08:59:21.669000Z",
     "iopub.status.idle": "2022-03-02T08:59:48.338000Z",
     "shell.execute_reply": "2022-03-02T08:59:48.309000Z"
    }
   },
   "outputs": [],
   "source": [
    "using Catalyst\n",
    "using DifferentialEquations\n",
    "using Plots"
   ]
  },
  {
   "cell_type": "code",
   "execution_count": null,
   "id": "c7277800-0031-4302-8af5-590ae56cd794",
   "metadata": {
    "execution": {
     "iopub.execute_input": "2022-03-02T08:59:50.262000Z",
     "iopub.status.busy": "2022-03-02T08:59:48.341000Z",
     "iopub.status.idle": "2022-03-02T09:00:09.739000Z",
     "shell.execute_reply": "2022-03-02T09:00:09.739000Z"
    }
   },
   "outputs": [],
   "source": [
    "repressilator = @reaction_network begin\n",
    "    hillr(P₃,α,K,n), ∅ --> m₁\n",
    "    hillr(P₁,α,K,n), ∅ --> m₂\n",
    "    hillr(P₂,α,K,n), ∅ --> m₃\n",
    "    (δ,γ), m₁ ↔ ∅\n",
    "    (δ,γ), m₂ ↔ ∅\n",
    "    (δ,γ), m₃ ↔ ∅\n",
    "    β, m₁ --> m₁ + P₁\n",
    "    β, m₂ --> m₂ + P₂\n",
    "    β, m₃ --> m₃ + P₃\n",
    "    μ, P₁ --> ∅\n",
    "    μ, P₂ --> ∅\n",
    "    μ, P₃ --> ∅\n",
    "end α K n δ γ β μ"
   ]
  },
  {
   "cell_type": "code",
   "execution_count": null,
   "id": "7aed8745-a9ff-4efa-ab78-004b1fea0278",
   "metadata": {
    "execution": {
     "iopub.execute_input": "2022-03-02T09:00:09.742000Z",
     "iopub.status.busy": "2022-03-02T09:00:09.742000Z",
     "iopub.status.idle": "2022-03-02T09:00:12.834000Z",
     "shell.execute_reply": "2022-03-02T09:00:12.832000Z"
    }
   },
   "outputs": [],
   "source": [
    "states(repressilator)"
   ]
  },
  {
   "cell_type": "code",
   "execution_count": null,
   "id": "7ab71561-5d2f-4ed7-b1bd-83db08de65cf",
   "metadata": {
    "execution": {
     "iopub.execute_input": "2022-03-02T09:00:12.836000Z",
     "iopub.status.busy": "2022-03-02T09:00:12.836000Z",
     "iopub.status.idle": "2022-03-02T09:00:12.878000Z",
     "shell.execute_reply": "2022-03-02T09:00:12.878000Z"
    }
   },
   "outputs": [],
   "source": [
    "parameters(repressilator)"
   ]
  },
  {
   "cell_type": "markdown",
   "id": "730587eb-33f2-4fde-b63f-710322cdc60c",
   "metadata": {},
   "source": [
    "## Convert to ODEs"
   ]
  },
  {
   "cell_type": "code",
   "execution_count": null,
   "id": "c1f7e326-f3fe-44da-a82e-15540e4ba484",
   "metadata": {
    "execution": {
     "iopub.execute_input": "2022-03-02T09:00:12.883000Z",
     "iopub.status.busy": "2022-03-02T09:00:12.882000Z",
     "iopub.status.idle": "2022-03-02T09:00:46.054000Z",
     "shell.execute_reply": "2022-03-02T09:00:46.053000Z"
    }
   },
   "outputs": [],
   "source": [
    "# parameters [α,K,n,δ,γ,β,μ]\n",
    "p = (.5, 40, 2, log(2)/120, 5e-3, 20*log(2)/120, log(2)/60)\n",
    "\n",
    "# initial condition [m₁,m₂,m₃,P₁,P₂,P₃]\n",
    "u₀ = [0.,0.,0.,20.,0.,0.]\n",
    "\n",
    "# time interval to solve on\n",
    "tspan = (0., 10000.)\n",
    "\n",
    "# create the ODEProblem we want to solve\n",
    "oprob = ODEProblem(repressilator, u₀, tspan, p)"
   ]
  },
  {
   "cell_type": "code",
   "execution_count": null,
   "id": "b09784c2-478b-4d96-abd5-199730832bc4",
   "metadata": {
    "execution": {
     "iopub.execute_input": "2022-03-02T09:00:46.056000Z",
     "iopub.status.busy": "2022-03-02T09:00:46.056000Z",
     "iopub.status.idle": "2022-03-02T09:01:07.877000Z",
     "shell.execute_reply": "2022-03-02T09:01:07.876000Z"
    }
   },
   "outputs": [],
   "source": [
    "sol = solve(oprob, Tsit5(), saveat=10.)\n",
    "plot(sol)"
   ]
  },
  {
   "cell_type": "markdown",
   "id": "71184bed-e12a-46b9-b3cb-6ac9ef112e16",
   "metadata": {},
   "source": [
    "## Convert to Stochastic simulations"
   ]
  },
  {
   "cell_type": "code",
   "execution_count": null,
   "id": "825a3596-878d-48c9-adbb-a0e4289369dd",
   "metadata": {
    "execution": {
     "iopub.execute_input": "2022-03-02T09:01:07.879000Z",
     "iopub.status.busy": "2022-03-02T09:01:07.879000Z",
     "iopub.status.idle": "2022-03-02T09:01:19.993000Z",
     "shell.execute_reply": "2022-03-02T09:01:19.992000Z"
    }
   },
   "outputs": [],
   "source": [
    "# redefine the initial condition to be integer valued\n",
    "u₀ = [0,0,0,20,0,0]\n",
    "\n",
    "# next we create a discrete problem to encode that our species are integer valued:\n",
    "dprob = DiscreteProblem(repressilator, u₀, tspan, p)\n",
    "\n",
    "# now, we create a JumpProblem, and specify Gillespie's Direct Method as the solver:\n",
    "jprob = JumpProblem(repressilator, dprob, Direct(), save_positions=(false,false))\n",
    "\n",
    "# now, let's solve and plot the jump process:\n",
    "sol = solve(jprob, SSAStepper(), saveat=10.)\n",
    "plot(sol)"
   ]
  },
  {
   "cell_type": "markdown",
   "id": "235a111d-f11e-416e-9681-51cb3e499fb8",
   "metadata": {},
   "source": [
    "# Calculation of conservation laws"
   ]
  },
  {
   "cell_type": "code",
   "execution_count": null,
   "id": "0ddfd808-9ee5-4551-bf1d-43d586c5a152",
   "metadata": {
    "execution": {
     "iopub.execute_input": "2022-03-02T09:01:19.995000Z",
     "iopub.status.busy": "2022-03-02T09:01:19.995000Z",
     "iopub.status.idle": "2022-03-02T09:01:20.336000Z",
     "shell.execute_reply": "2022-03-02T09:01:20.335000Z"
    }
   },
   "outputs": [],
   "source": [
    "function conserved(rn)\n",
    "    clawmat = conservationlaws(netstoichmat(rn))\n",
    "    cquants = conservedquantities(species(rn), clawmat)\n",
    "end"
   ]
  },
  {
   "cell_type": "code",
   "execution_count": null,
   "id": "64720ed4-9db7-488b-bf26-6ced08a7286c",
   "metadata": {
    "execution": {
     "iopub.execute_input": "2022-03-02T09:01:20.338000Z",
     "iopub.status.busy": "2022-03-02T09:01:20.337000Z",
     "iopub.status.idle": "2022-03-02T09:01:22.819000Z",
     "shell.execute_reply": "2022-03-02T09:01:22.818000Z"
    }
   },
   "outputs": [],
   "source": [
    "rn = @reaction_network begin\n",
    "  (k₊,k₋), A + B <--> C\n",
    "end k₊ k₋\n",
    "conserved(rn)"
   ]
  },
  {
   "cell_type": "markdown",
   "id": "fb0477b8-2b26-4cae-894d-2cbb12494b15",
   "metadata": {},
   "source": [
    "# Generating ReactionSystems Programmatically\n",
    "\n",
    "Using `ReactionSystem` to represent the chemical reactions.\n",
    "\n",
    "[Smoluchowski coagulation equation](https://en.wikipedia.org/wiki/Smoluchowski_coagulation_equation)\n",
    "\n",
    "> The Smoluchowski coagulation equation describes a system of reactions in which monomers may collide to form dimers, monomers and dimers may collide to form trimers, and so on. This models a variety of chemical/physical processes, including polymerization and flocculation."
   ]
  },
  {
   "cell_type": "code",
   "execution_count": null,
   "id": "5b0e7f95-7359-4fb4-ba0a-fc0c6094671a",
   "metadata": {
    "execution": {
     "iopub.execute_input": "2022-03-02T09:01:22.821000Z",
     "iopub.status.busy": "2022-03-02T09:01:22.820000Z",
     "iopub.status.idle": "2022-03-02T09:01:22.887000Z",
     "shell.execute_reply": "2022-03-02T09:01:22.886000Z"
    }
   },
   "outputs": [],
   "source": [
    "using ModelingToolkit\n",
    "using Catalyst\n",
    "using LinearAlgebra\n",
    "using DifferentialEquations\n",
    "using Plots\n",
    "using SpecialFunctions"
   ]
  },
  {
   "cell_type": "code",
   "execution_count": null,
   "id": "18683be6-a4a8-421d-a06b-751c5f9c8ae3",
   "metadata": {
    "execution": {
     "iopub.execute_input": "2022-03-02T09:01:22.889000Z",
     "iopub.status.busy": "2022-03-02T09:01:22.889000Z",
     "iopub.status.idle": "2022-03-02T09:01:23.160000Z",
     "shell.execute_reply": "2022-03-02T09:01:23.159000Z"
    }
   },
   "outputs": [],
   "source": [
    "## Parameters\n",
    "N = 10                       # maximum cluster size\n",
    "Vₒ = (4π/3)*(10e-06*100)^3   # volume of a monomers in cm³\n",
    "Nₒ = 1e-06/Vₒ                # initial conc. = (No. of init. monomers) / bulk volume\n",
    "uₒ = 10000                   # No. of monomers initially\n",
    "V = uₒ/Nₒ                    # Bulk volume of system in cm³\n",
    "\n",
    "integ(x) = Int(floor(x))\n",
    "n        = integ(N/2)\n",
    "nr       = N%2 == 0 ? (n*(n + 1) - n) : (n*(n + 1)) # No. of forward reactions"
   ]
  },
  {
   "cell_type": "code",
   "execution_count": null,
   "id": "9a0103ca-5171-4a97-989d-d27ff718d772",
   "metadata": {
    "execution": {
     "iopub.execute_input": "2022-03-02T09:01:23.162000Z",
     "iopub.status.busy": "2022-03-02T09:01:23.161000Z",
     "iopub.status.idle": "2022-03-02T09:01:24.307000Z",
     "shell.execute_reply": "2022-03-02T09:01:24.306000Z"
    }
   },
   "outputs": [],
   "source": [
    "# possible pairs of reactant multimers\n",
    "pair = []\n",
    "for i = 2:N\n",
    "    push!(pair,[1:integ(i/2)  i .- (1:integ(i/2))])\n",
    "end\n",
    "pair = vcat(pair...)\n",
    "vᵢ = @view pair[:,1]   # Reactant 1 indices\n",
    "vⱼ = @view pair[:,2]   # Reactant 2 indices\n",
    "volᵢ = Vₒ*vᵢ           # cm⁻³\n",
    "volⱼ = Vₒ*vⱼ           # cm⁻³\n",
    "sum_vᵢvⱼ = @. vᵢ + vⱼ  # Product index"
   ]
  },
  {
   "cell_type": "code",
   "execution_count": null,
   "id": "b6594606-6548-4e57-a849-cf71fdcb711d",
   "metadata": {
    "execution": {
     "iopub.execute_input": "2022-03-02T09:01:24.309000Z",
     "iopub.status.busy": "2022-03-02T09:01:24.308000Z",
     "iopub.status.idle": "2022-03-02T09:01:24.738000Z",
     "shell.execute_reply": "2022-03-02T09:01:24.737000Z"
    }
   },
   "outputs": [],
   "source": [
    "# For simplicity, we allow a user-selected additive kernel or constant kernel.\n",
    "# set i to  1 for additive kernel, 2  for constant\n",
    "i = 1\n",
    "if i==1\n",
    "    B = 1.53e03                # s⁻¹\n",
    "    kv = @. B*(volᵢ + volⱼ)/V  # dividing by volume as its a bi-molecular reaction chain\n",
    "elseif i==2\n",
    "    C = 1.84e-04               # cm³ s⁻¹\n",
    "    kv = fill(C/V, nr) \n",
    "end"
   ]
  },
  {
   "cell_type": "code",
   "execution_count": null,
   "id": "9fe0462d-d0fb-49b7-855b-9caf4806f296",
   "metadata": {
    "execution": {
     "iopub.execute_input": "2022-03-02T09:01:24.740000Z",
     "iopub.status.busy": "2022-03-02T09:01:24.739000Z",
     "iopub.status.idle": "2022-03-02T09:01:35.222000Z",
     "shell.execute_reply": "2022-03-02T09:01:35.221000Z"
    }
   },
   "outputs": [],
   "source": [
    "# state variables are X, pars stores rate parameters for each rx\n",
    "@parameters t       \n",
    "@variables k[1:nr]  X[1:N](t)\n",
    "pars = Pair.(collect(k), kv)\n",
    "\n",
    "# time-span\n",
    "if i == 1\n",
    "    tspan = (0. ,2000.)   \n",
    "elseif i == 2\n",
    "    tspan = (0. ,350.)\n",
    "end\n",
    "\n",
    " # initial condition of monomers\n",
    "u₀    = zeros(Int64, N)\n",
    "u₀[1] = uₒ  \n",
    "u₀map = Pair.(collect(X), u₀)   # map variable to its initial value"
   ]
  },
  {
   "cell_type": "code",
   "execution_count": null,
   "id": "5ca0e016-5418-46c3-89de-fdeaa0f54725",
   "metadata": {
    "execution": {
     "iopub.execute_input": "2022-03-02T09:01:35.224000Z",
     "iopub.status.busy": "2022-03-02T09:01:35.223000Z",
     "iopub.status.idle": "2022-03-02T09:01:37.217000Z",
     "shell.execute_reply": "2022-03-02T09:01:37.216000Z"
    }
   },
   "outputs": [],
   "source": [
    "# vector to store the Reactions in\n",
    "rx = []              \n",
    "for n = 1:nr\n",
    "    # for clusters of the same size, double the rate\n",
    "    if (vᵢ[n] == vⱼ[n]) \n",
    "        push!(rx, Reaction(k[n], [X[vᵢ[n]]], [X[sum_vᵢvⱼ[n]]], [2], [1]))\n",
    "    else\n",
    "        push!(rx, Reaction(k[n], [X[vᵢ[n]], X[vⱼ[n]]], [X[sum_vᵢvⱼ[n]]], \n",
    "                           [1, 1], [1]))\n",
    "    end\n",
    "end\n",
    "@named rs = ReactionSystem(rx, t, collect(X), collect(k))"
   ]
  },
  {
   "cell_type": "code",
   "execution_count": null,
   "id": "8db828cd-cd70-475d-a97a-995c64cf9d3f",
   "metadata": {
    "execution": {
     "iopub.execute_input": "2022-03-02T09:01:37.219000Z",
     "iopub.status.busy": "2022-03-02T09:01:37.218000Z",
     "iopub.status.idle": "2022-03-02T09:01:42.854000Z",
     "shell.execute_reply": "2022-03-02T09:01:42.854000Z"
    }
   },
   "outputs": [],
   "source": [
    "# solving the system\n",
    "jumpsys = convert(JumpSystem, rs)\n",
    "dprob   = DiscreteProblem(jumpsys, u₀map, tspan, pars)\n",
    "jprob   = JumpProblem(jumpsys, dprob, Direct(), save_positions=(false,false))\n",
    "jsol    = solve(jprob, SSAStepper(), saveat = tspan[2]/30)"
   ]
  },
  {
   "cell_type": "code",
   "execution_count": null,
   "id": "f873a76e-42cf-488e-8339-9e74095581c4",
   "metadata": {
    "execution": {
     "iopub.execute_input": "2022-03-02T09:01:42.858000Z",
     "iopub.status.busy": "2022-03-02T09:01:42.857000Z",
     "iopub.status.idle": "2022-03-02T09:01:45.606000Z",
     "shell.execute_reply": "2022-03-02T09:01:45.606000Z"
    },
    "tags": []
   },
   "outputs": [],
   "source": [
    "# Results for first three polymers...i.e. monomers, dimers and trimers\n",
    "v_res = [1;2;3]\n",
    "\n",
    "# comparison with analytical solution\n",
    "# we only plot the stochastic solution at a small number of points\n",
    "# to ease distinguishing it from the exact solution\n",
    "t   = jsol.t\n",
    "sol = zeros(length(v_res), length(t))\n",
    "if i == 1\n",
    "    ϕ = @. 1 - exp(-B*Nₒ*Vₒ*t)    \n",
    "    for j in v_res\n",
    "        sol[j,:] = @. Nₒ*(1 - ϕ)*(((j*ϕ)^(j-1))/gamma(j+1))*exp(-j*ϕ)\n",
    "    end\n",
    "elseif i == 2\n",
    "    ϕ = @. (C*Nₒ*t)\n",
    "    for j in v_res\n",
    "        sol[j,:] = @. 4Nₒ*((ϕ^(j-1))/((ϕ + 2)^(j+1)))\n",
    "    end\n",
    "end\n",
    "\n",
    "# plotting normalised concentration vs analytical solution\n",
    "Plots.default(lw=2, xlabel=\"Time (sec)\")\n",
    "scatter(ϕ, jsol(t)[1,:]/uₒ, label=\"X1 (monomers)\", markercolor=:blue)\n",
    "plot!(ϕ, sol[1,:]/Nₒ, line = (:dot,4,:blue), label=\"Analytical sol--X1\")\n",
    "\n",
    "scatter!(ϕ, jsol(t)[2,:]/uₒ, label=\"X2 (dimers)\", markercolor=:orange)\n",
    "plot!(ϕ, sol[2,:]/Nₒ, line = (:dot,4,:orange), label=\"Analytical sol--X2\")\n",
    "\n",
    "scatter!(ϕ, jsol(t)[3,:]/uₒ, label=\"X3 (trimers)\", markercolor=:purple)\n",
    "plot!(ϕ, sol[3,:]/Nₒ, line = (:dot,4,:purple), label=\"Analytical sol--X3\", \n",
    "      ylabel = \"Normalized Concentration\")"
   ]
  }
 ],
 "metadata": {
  "kernelspec": {
   "display_name": "Julia 1.7.2",
   "language": "julia",
   "name": "julia-1.7"
  },
  "language_info": {
   "file_extension": ".jl",
   "mimetype": "application/julia",
   "name": "julia",
   "version": "1.7.2"
  }
 },
 "nbformat": 4,
 "nbformat_minor": 5
}
