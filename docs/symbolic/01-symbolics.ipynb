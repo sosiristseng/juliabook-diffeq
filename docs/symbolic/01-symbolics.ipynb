{
 "cells": [
  {
   "cell_type": "markdown",
   "id": "f11ddee1",
   "metadata": {},
   "source": [
    "# Symbolic calculations in Julia\n",
    "\n",
    "`Symbolics.jl` is a computer Algebra System (CAS) for Julia. The symbols are number-like and follow Julia semantics so we can put them into a regular function to get a symbolic counterpart.\n",
    "\n",
    "Source:\n",
    "- [Simulating Big Models in Julia with ModelingToolkit @ JuliaCon 2021 Workshop](https://youtu.be/HEVOgSLBzWA).\n",
    "- [Symbolics.jl](https://github.com/JuliaSymbolics/Symbolics.jl) Github repo and its [docs](https://symbolics.juliasymbolics.org/dev/).\n",
    "\n",
    "## Caveats about Symbolics.jl\n",
    "\n",
    "`Symbolics.jl` can only handle *traceble*, *quasi-static* expressions.\n",
    "\n",
    "Some code is not quasi-static e.g. factorial. The number of operations depends on the input value.\n",
    "\n",
    "> Use `@register` to make it a primitive function.\n",
    "\n",
    "Some code is *untraceable* like conditional `if`...`else` statements.\n",
    "\n",
    "> You can use `ifelse(cond, ex1, ex2)` to make it traceable."
   ]
  },
  {
   "cell_type": "markdown",
   "id": "5170afb6",
   "metadata": {},
   "source": [
    "## Basic operations"
   ]
  },
  {
   "cell_type": "code",
   "execution_count": null,
   "id": "a06c1755",
   "metadata": {
    "execution": {
     "iopub.execute_input": "2022-03-02T08:59:22.223000Z",
     "iopub.status.busy": "2022-03-02T08:59:21.720000Z",
     "iopub.status.idle": "2022-03-02T08:59:46.848000Z",
     "shell.execute_reply": "2022-03-02T08:59:46.818000Z"
    }
   },
   "outputs": [],
   "source": [
    "using Symbolics"
   ]
  },
  {
   "cell_type": "code",
   "execution_count": null,
   "id": "e40644d9",
   "metadata": {
    "execution": {
     "iopub.execute_input": "2022-03-02T08:59:48.551000Z",
     "iopub.status.busy": "2022-03-02T08:59:46.851000Z",
     "iopub.status.idle": "2022-03-02T08:59:55.681000Z",
     "shell.execute_reply": "2022-03-02T08:59:55.679000Z"
    }
   },
   "outputs": [],
   "source": [
    "# Symbolics\n",
    "@variables x y"
   ]
  },
  {
   "cell_type": "code",
   "execution_count": null,
   "id": "d855fa29",
   "metadata": {
    "execution": {
     "iopub.execute_input": "2022-03-02T08:59:55.683000Z",
     "iopub.status.busy": "2022-03-02T08:59:55.682000Z",
     "iopub.status.idle": "2022-03-02T09:00:01.132000Z",
     "shell.execute_reply": "2022-03-02T09:00:01.132000Z"
    }
   },
   "outputs": [],
   "source": [
    "x^2 + y^2"
   ]
  },
  {
   "cell_type": "code",
   "execution_count": null,
   "id": "f17e85ff",
   "metadata": {},
   "outputs": [],
   "source": [
    "# You can use Latexify.jl to generate latex code\n",
    "A = [x^2 + y 0 2x\n",
    "     0       0 2y\n",
    "     y^2 + x 0 0]"
   ]
  },
  {
   "cell_type": "code",
   "execution_count": null,
   "id": "0b12ff06",
   "metadata": {
    "execution": {
     "iopub.execute_input": "2022-03-02T09:00:01.135000Z",
     "iopub.status.busy": "2022-03-02T09:00:01.134000Z",
     "iopub.status.idle": "2022-03-02T09:00:03.686000Z",
     "shell.execute_reply": "2022-03-02T09:00:03.685000Z"
    }
   },
   "outputs": [],
   "source": [
    "Symbolics.derivative(x^2 + y^2, x)"
   ]
  },
  {
   "cell_type": "code",
   "execution_count": null,
   "id": "8d4205ef",
   "metadata": {
    "execution": {
     "iopub.execute_input": "2022-03-02T09:00:03.688000Z",
     "iopub.status.busy": "2022-03-02T09:00:03.687000Z",
     "iopub.status.idle": "2022-03-02T09:00:03.722000Z",
     "shell.execute_reply": "2022-03-02T09:00:03.722000Z"
    }
   },
   "outputs": [],
   "source": [
    "Symbolics.gradient(x^2 + y^2, [x, y])"
   ]
  },
  {
   "cell_type": "code",
   "execution_count": null,
   "id": "3e0c2c2c",
   "metadata": {
    "execution": {
     "iopub.execute_input": "2022-03-02T09:00:03.725000Z",
     "iopub.status.busy": "2022-03-02T09:00:03.724000Z",
     "iopub.status.idle": "2022-03-02T09:00:05.376000Z",
     "shell.execute_reply": "2022-03-02T09:00:05.375000Z"
    }
   },
   "outputs": [],
   "source": [
    "Symbolics.jacobian([x^2 + y^2; y^2], [x, y])"
   ]
  },
  {
   "cell_type": "code",
   "execution_count": null,
   "id": "8c4bdcaf",
   "metadata": {
    "execution": {
     "iopub.execute_input": "2022-03-02T09:00:05.378000Z",
     "iopub.status.busy": "2022-03-02T09:00:05.377000Z",
     "iopub.status.idle": "2022-03-02T09:00:09.516000Z",
     "shell.execute_reply": "2022-03-02T09:00:09.516000Z"
    }
   },
   "outputs": [],
   "source": [
    "Symbolics.substitute(sin(x)^2 + 2 + cos(x)^2, Dict(x=>y^2))"
   ]
  },
  {
   "cell_type": "code",
   "execution_count": null,
   "id": "1fb85b5d",
   "metadata": {
    "execution": {
     "iopub.execute_input": "2022-03-02T09:00:09.519000Z",
     "iopub.status.busy": "2022-03-02T09:00:09.519000Z",
     "iopub.status.idle": "2022-03-02T09:00:11.319000Z",
     "shell.execute_reply": "2022-03-02T09:00:11.319000Z"
    }
   },
   "outputs": [],
   "source": [
    "Symbolics.substitute(sin(x)^2 + 2 + cos(x)^2, Dict(x=>1.0))"
   ]
  },
  {
   "cell_type": "code",
   "execution_count": null,
   "id": "c2f4f15f",
   "metadata": {
    "execution": {
     "iopub.execute_input": "2022-03-02T09:00:11.323000Z",
     "iopub.status.busy": "2022-03-02T09:00:11.322000Z",
     "iopub.status.idle": "2022-03-02T09:00:17.585000Z",
     "shell.execute_reply": "2022-03-02T09:00:17.584000Z"
    }
   },
   "outputs": [],
   "source": [
    "Symbolics.simplify(sin(x)^2 + 2 + cos(x)^2)"
   ]
  },
  {
   "cell_type": "code",
   "execution_count": null,
   "id": "ec6ea741",
   "metadata": {
    "execution": {
     "iopub.execute_input": "2022-03-02T09:00:17.587000Z",
     "iopub.status.busy": "2022-03-02T09:00:17.587000Z",
     "iopub.status.idle": "2022-03-02T09:00:17.734000Z",
     "shell.execute_reply": "2022-03-02T09:00:17.733000Z"
    }
   },
   "outputs": [],
   "source": [
    "# Automatically simplify because it's always true\n",
    "2x - x"
   ]
  },
  {
   "cell_type": "code",
   "execution_count": null,
   "id": "395bcd44",
   "metadata": {
    "execution": {
     "iopub.execute_input": "2022-03-02T09:00:17.736000Z",
     "iopub.status.busy": "2022-03-02T09:00:17.736000Z",
     "iopub.status.idle": "2022-03-02T09:00:18.451000Z",
     "shell.execute_reply": "2022-03-02T09:00:18.450000Z"
    }
   },
   "outputs": [],
   "source": [
    "ex = x^2 + y^2 + sin(x)"
   ]
  },
  {
   "cell_type": "code",
   "execution_count": null,
   "id": "d2ddabb7",
   "metadata": {
    "execution": {
     "iopub.execute_input": "2022-03-02T09:00:18.453000Z",
     "iopub.status.busy": "2022-03-02T09:00:18.453000Z",
     "iopub.status.idle": "2022-03-02T09:00:19.863000Z",
     "shell.execute_reply": "2022-03-02T09:00:19.862000Z"
    }
   },
   "outputs": [],
   "source": [
    "isequal(2ex, ex + ex)"
   ]
  },
  {
   "cell_type": "code",
   "execution_count": null,
   "id": "b5905b56",
   "metadata": {
    "execution": {
     "iopub.execute_input": "2022-03-02T09:00:19.866000Z",
     "iopub.status.busy": "2022-03-02T09:00:19.865000Z",
     "iopub.status.idle": "2022-03-02T09:00:20.126000Z",
     "shell.execute_reply": "2022-03-02T09:00:20.125000Z"
    }
   },
   "outputs": [],
   "source": [
    "ex / ex"
   ]
  },
  {
   "cell_type": "code",
   "execution_count": null,
   "id": "1a28aae0",
   "metadata": {
    "execution": {
     "iopub.execute_input": "2022-03-02T09:00:20.129000Z",
     "iopub.status.busy": "2022-03-02T09:00:20.128000Z",
     "iopub.status.idle": "2022-03-02T09:00:20.397000Z",
     "shell.execute_reply": "2022-03-02T09:00:20.396000Z"
    }
   },
   "outputs": [],
   "source": [
    "x / expm1(x)"
   ]
  },
  {
   "cell_type": "markdown",
   "id": "813f44dd",
   "metadata": {},
   "source": [
    "## Custom functions"
   ]
  },
  {
   "cell_type": "code",
   "execution_count": null,
   "id": "55f750bd",
   "metadata": {
    "execution": {
     "iopub.execute_input": "2022-03-02T09:00:20.399000Z",
     "iopub.status.busy": "2022-03-02T09:00:20.399000Z",
     "iopub.status.idle": "2022-03-02T09:00:20.739000Z",
     "shell.execute_reply": "2022-03-02T09:00:20.738000Z"
    }
   },
   "outputs": [],
   "source": [
    "foo(x, y) = x * rand() + y"
   ]
  },
  {
   "cell_type": "markdown",
   "id": "37a2610a",
   "metadata": {},
   "source": [
    "Without @register, the `rand()` in `foo()` will be evaulated numerically instead of symbolically.\n",
    "\n",
    "> By default, new functions are traced to the primitives and the symbolic expressions are written on the primitives. However, we can expand the allowed primitives by registering new functions."
   ]
  },
  {
   "cell_type": "code",
   "execution_count": null,
   "id": "4a843afc",
   "metadata": {
    "execution": {
     "iopub.execute_input": "2022-03-02T09:00:20.741000Z",
     "iopub.status.busy": "2022-03-02T09:00:20.741000Z",
     "iopub.status.idle": "2022-03-02T09:00:21.444000Z",
     "shell.execute_reply": "2022-03-02T09:00:21.442000Z"
    }
   },
   "outputs": [],
   "source": [
    "# Bring foo(() into symbolic land\n",
    "@register foo(x, y)"
   ]
  },
  {
   "cell_type": "code",
   "execution_count": null,
   "id": "bb7003ee",
   "metadata": {
    "execution": {
     "iopub.execute_input": "2022-03-02T09:00:21.446000Z",
     "iopub.status.busy": "2022-03-02T09:00:21.445000Z",
     "iopub.status.idle": "2022-03-02T09:00:23.005000Z",
     "shell.execute_reply": "2022-03-02T09:00:23.004000Z"
    }
   },
   "outputs": [],
   "source": [
    "Symbolics.derivative(foo(hypot(x, y), y), x)"
   ]
  },
  {
   "cell_type": "markdown",
   "id": "bb97029a",
   "metadata": {},
   "source": [
    "## More number types"
   ]
  },
  {
   "cell_type": "code",
   "execution_count": null,
   "id": "7bb1eabc",
   "metadata": {
    "execution": {
     "iopub.execute_input": "2022-03-02T09:00:23.007000Z",
     "iopub.status.busy": "2022-03-02T09:00:23.006000Z",
     "iopub.status.idle": "2022-03-02T09:00:24.030000Z",
     "shell.execute_reply": "2022-03-02T09:00:24.029000Z"
    }
   },
   "outputs": [],
   "source": [
    "@variables z::Complex"
   ]
  },
  {
   "cell_type": "code",
   "execution_count": null,
   "id": "3bbe5b47",
   "metadata": {
    "execution": {
     "iopub.execute_input": "2022-03-02T09:00:24.032000Z",
     "iopub.status.busy": "2022-03-02T09:00:24.031000Z",
     "iopub.status.idle": "2022-03-02T09:00:25.137000Z",
     "shell.execute_reply": "2022-03-02T09:00:25.137000Z"
    }
   },
   "outputs": [],
   "source": [
    "@variables xs[1:18]"
   ]
  },
  {
   "cell_type": "code",
   "execution_count": null,
   "id": "e9a9a876",
   "metadata": {
    "execution": {
     "iopub.execute_input": "2022-03-02T09:00:25.140000Z",
     "iopub.status.busy": "2022-03-02T09:00:25.139000Z",
     "iopub.status.idle": "2022-03-02T09:00:25.405000Z",
     "shell.execute_reply": "2022-03-02T09:00:25.404000Z"
    }
   },
   "outputs": [],
   "source": [
    "xs[1]"
   ]
  },
  {
   "cell_type": "code",
   "execution_count": null,
   "id": "7d6b1c50",
   "metadata": {
    "execution": {
     "iopub.execute_input": "2022-03-02T09:00:25.408000Z",
     "iopub.status.busy": "2022-03-02T09:00:25.407000Z",
     "iopub.status.idle": "2022-03-02T09:00:27.736000Z",
     "shell.execute_reply": "2022-03-02T09:00:27.735000Z"
    }
   },
   "outputs": [],
   "source": [
    "# Lazy representation of summation\n",
    "sum(xs)"
   ]
  },
  {
   "cell_type": "code",
   "execution_count": null,
   "id": "06e8e968",
   "metadata": {
    "execution": {
     "iopub.execute_input": "2022-03-02T09:00:27.738000Z",
     "iopub.status.busy": "2022-03-02T09:00:27.738000Z",
     "iopub.status.idle": "2022-03-02T09:00:30.038000Z",
     "shell.execute_reply": "2022-03-02T09:00:30.038000Z"
    }
   },
   "outputs": [],
   "source": [
    "# Explicit vector form\n",
    "collect(xs)"
   ]
  },
  {
   "cell_type": "code",
   "execution_count": null,
   "id": "05fd9ebc",
   "metadata": {
    "execution": {
     "iopub.execute_input": "2022-03-02T09:00:30.041000Z",
     "iopub.status.busy": "2022-03-02T09:00:30.040000Z",
     "iopub.status.idle": "2022-03-02T09:00:30.512000Z",
     "shell.execute_reply": "2022-03-02T09:00:30.511000Z"
    }
   },
   "outputs": [],
   "source": [
    "# Show explicit formulae\n",
    "sum(collect(xs))"
   ]
  },
  {
   "cell_type": "markdown",
   "id": "f7d0b0d3",
   "metadata": {},
   "source": [
    "## Example: Rosenbrock function\n",
    "\n",
    "Wikipedia: <https://en.wikipedia.org/wiki/Rosenbrock_function>"
   ]
  },
  {
   "cell_type": "code",
   "execution_count": null,
   "id": "a724a565",
   "metadata": {
    "execution": {
     "iopub.execute_input": "2022-03-02T09:00:30.514000Z",
     "iopub.status.busy": "2022-03-02T09:00:30.513000Z",
     "iopub.status.idle": "2022-03-02T09:00:30.619000Z",
     "shell.execute_reply": "2022-03-02T09:00:30.619000Z"
    }
   },
   "outputs": [],
   "source": [
    "# The vector form of Rosenbrock function\n",
    "rosenbrock(xs) = sum( 1:length(xs)-1) do i\n",
    "    100*(xs[i+1] - xs[i]^2)^2 + (1 - xs[i])^2\n",
    "end"
   ]
  },
  {
   "cell_type": "code",
   "execution_count": null,
   "id": "83dd43d7",
   "metadata": {
    "execution": {
     "iopub.execute_input": "2022-03-02T09:00:30.622000Z",
     "iopub.status.busy": "2022-03-02T09:00:30.621000Z",
     "iopub.status.idle": "2022-03-02T09:00:30.969000Z",
     "shell.execute_reply": "2022-03-02T09:00:30.968000Z"
    }
   },
   "outputs": [],
   "source": [
    "# Minimum when xs are all one's\n",
    "rosenbrock(ones(100))"
   ]
  },
  {
   "cell_type": "code",
   "execution_count": null,
   "id": "46aad734",
   "metadata": {
    "execution": {
     "iopub.execute_input": "2022-03-02T09:00:30.971000Z",
     "iopub.status.busy": "2022-03-02T09:00:30.970000Z",
     "iopub.status.idle": "2022-03-02T09:00:30.976000Z",
     "shell.execute_reply": "2022-03-02T09:00:30.976000Z"
    }
   },
   "outputs": [],
   "source": [
    "N = 100\n",
    "@variables xs[1:N]"
   ]
  },
  {
   "cell_type": "code",
   "execution_count": null,
   "id": "f9225edf",
   "metadata": {
    "execution": {
     "iopub.execute_input": "2022-03-02T09:00:30.978000Z",
     "iopub.status.busy": "2022-03-02T09:00:30.978000Z",
     "iopub.status.idle": "2022-03-02T09:00:30.985000Z",
     "shell.execute_reply": "2022-03-02T09:00:30.984000Z"
    }
   },
   "outputs": [],
   "source": [
    "# A long list of vector components\n",
    "xs = collect(xs)"
   ]
  },
  {
   "cell_type": "code",
   "execution_count": null,
   "id": "8914ff9e",
   "metadata": {
    "execution": {
     "iopub.execute_input": "2022-03-02T09:00:30.987000Z",
     "iopub.status.busy": "2022-03-02T09:00:30.986000Z",
     "iopub.status.idle": "2022-03-02T09:00:33.506000Z",
     "shell.execute_reply": "2022-03-02T09:00:33.505000Z"
    }
   },
   "outputs": [],
   "source": [
    "rxs = rosenbrock(xs)"
   ]
  },
  {
   "cell_type": "code",
   "execution_count": null,
   "id": "08bcac34",
   "metadata": {
    "execution": {
     "iopub.execute_input": "2022-03-02T09:00:33.508000Z",
     "iopub.status.busy": "2022-03-02T09:00:33.507000Z",
     "iopub.status.idle": "2022-03-02T09:00:37.310000Z",
     "shell.execute_reply": "2022-03-02T09:00:37.309000Z"
    },
    "tags": []
   },
   "outputs": [],
   "source": [
    "grad = Symbolics.gradient(rxs, xs)"
   ]
  },
  {
   "cell_type": "code",
   "execution_count": null,
   "id": "3826bd62",
   "metadata": {
    "execution": {
     "iopub.execute_input": "2022-03-02T09:00:37.313000Z",
     "iopub.status.busy": "2022-03-02T09:00:37.312000Z",
     "iopub.status.idle": "2022-03-02T09:00:38.967000Z",
     "shell.execute_reply": "2022-03-02T09:00:38.966000Z"
    },
    "tags": []
   },
   "outputs": [],
   "source": [
    "# hes = Symbolics.jacobian(grad, xs)\n",
    "hes = Symbolics.hessian(rxs, xs)"
   ]
  },
  {
   "cell_type": "code",
   "execution_count": null,
   "id": "6372b1db",
   "metadata": {
    "execution": {
     "iopub.execute_input": "2022-03-02T09:00:38.970000Z",
     "iopub.status.busy": "2022-03-02T09:00:38.969000Z",
     "iopub.status.idle": "2022-03-02T09:00:39.889000Z",
     "shell.execute_reply": "2022-03-02T09:00:39.888000Z"
    }
   },
   "outputs": [],
   "source": [
    "isequal(Symbolics.hessian(rxs, xs), Symbolics.jacobian(grad, xs))"
   ]
  },
  {
   "cell_type": "markdown",
   "id": "d773e9b4",
   "metadata": {},
   "source": [
    "## Sparse matrix"
   ]
  },
  {
   "cell_type": "code",
   "execution_count": null,
   "id": "403ee111",
   "metadata": {
    "execution": {
     "iopub.execute_input": "2022-03-02T09:00:39.891000Z",
     "iopub.status.busy": "2022-03-02T09:00:39.890000Z",
     "iopub.status.idle": "2022-03-02T09:00:45.117000Z",
     "shell.execute_reply": "2022-03-02T09:00:45.116000Z"
    }
   },
   "outputs": [],
   "source": [
    "# Sparse Hessian matrix of the Hessian matrix of the Rosenbrock function w.r.t. to vector components.\n",
    "# (298 non-zero values out of 10000 elements)\n",
    "hes_sp = Symbolics.hessian_sparsity(rxs, xs)"
   ]
  },
  {
   "cell_type": "markdown",
   "id": "19f3c47f",
   "metadata": {},
   "source": [
    "Visualize sparse matrix using `Plots.spy()`"
   ]
  },
  {
   "cell_type": "code",
   "execution_count": null,
   "id": "7bf832ce",
   "metadata": {
    "execution": {
     "iopub.execute_input": "2022-03-02T09:00:45.123000Z",
     "iopub.status.busy": "2022-03-02T09:00:45.122000Z",
     "iopub.status.idle": "2022-03-02T09:00:59.155000Z",
     "shell.execute_reply": "2022-03-02T09:00:59.154000Z"
    }
   },
   "outputs": [],
   "source": [
    "# Visualizing sparse matrix using Plots.spy()\n",
    "using Plots\n",
    "spy(hes_sp)"
   ]
  },
  {
   "cell_type": "code",
   "execution_count": null,
   "id": "21f7bdcc",
   "metadata": {
    "execution": {
     "iopub.execute_input": "2022-03-02T09:00:59.157000Z",
     "iopub.status.busy": "2022-03-02T09:00:59.156000Z",
     "iopub.status.idle": "2022-03-02T09:01:18.400000Z",
     "shell.execute_reply": "2022-03-02T09:01:18.399000Z"
    }
   },
   "outputs": [],
   "source": [
    "using BenchmarkTools\n",
    "@benchmark Symbolics.hessian($rxs, $xs)"
   ]
  },
  {
   "cell_type": "code",
   "execution_count": null,
   "id": "7f6c841a",
   "metadata": {
    "execution": {
     "iopub.execute_input": "2022-03-02T09:01:18.402000Z",
     "iopub.status.busy": "2022-03-02T09:01:18.401000Z",
     "iopub.status.idle": "2022-03-02T09:01:32.045000Z",
     "shell.execute_reply": "2022-03-02T09:01:32.044000Z"
    }
   },
   "outputs": [],
   "source": [
    "# Sparse is faster\n",
    "@benchmark Symbolics.hessian_sparsity($rxs, $xs)"
   ]
  },
  {
   "cell_type": "markdown",
   "id": "976b2ba7",
   "metadata": {},
   "source": [
    "## Generating functions\n",
    "\n",
    "- `build_function(ex, args...)` generates out-of-place (oop) and in-place (ip) function expressions in a pair.\n",
    "- `build_function(ex, args..., parallel=Symbolics.MultithreadedForm())` generates a parallel algorithm to evaluate the output. See the [example](https://symbolics.juliasymbolics.org/dev/tutorials/symbolic_functions/#Building-Non-Allocating-Parallel-Functions-for-Sparse-Matrices-1) in the official docs. **However**, there is [an issue](https://github.com/JuliaSymbolics/Symbolics.jl/issues/136) blocking it from happending.\n",
    "- `build_function(ex, args..., target=Symbolics.CTarget())` generates a C function from Julia."
   ]
  },
  {
   "cell_type": "code",
   "execution_count": null,
   "id": "6632624f",
   "metadata": {
    "execution": {
     "iopub.execute_input": "2022-03-02T09:01:32.047000Z",
     "iopub.status.busy": "2022-03-02T09:01:32.046000Z",
     "iopub.status.idle": "2022-03-02T09:01:35.921000Z",
     "shell.execute_reply": "2022-03-02T09:01:35.920000Z"
    },
    "tags": []
   },
   "outputs": [],
   "source": [
    "fexprs = build_function(grad, xs);"
   ]
  },
  {
   "cell_type": "code",
   "execution_count": null,
   "id": "302ba920",
   "metadata": {
    "execution": {
     "iopub.execute_input": "2022-03-02T09:01:35.924000Z",
     "iopub.status.busy": "2022-03-02T09:01:35.923000Z",
     "iopub.status.idle": "2022-03-02T09:01:36.067000Z",
     "shell.execute_reply": "2022-03-02T09:01:36.066000Z"
    }
   },
   "outputs": [],
   "source": [
    "foop = eval(fexprs[1])"
   ]
  },
  {
   "cell_type": "code",
   "execution_count": null,
   "id": "b5294478",
   "metadata": {
    "execution": {
     "iopub.execute_input": "2022-03-02T09:01:36.069000Z",
     "iopub.status.busy": "2022-03-02T09:01:36.068000Z",
     "iopub.status.idle": "2022-03-02T09:01:36.212000Z",
     "shell.execute_reply": "2022-03-02T09:01:36.211000Z"
    }
   },
   "outputs": [],
   "source": [
    "fip = eval(fexprs[2])"
   ]
  },
  {
   "cell_type": "code",
   "execution_count": null,
   "id": "d0cc290c",
   "metadata": {
    "execution": {
     "iopub.execute_input": "2022-03-02T09:01:36.214000Z",
     "iopub.status.busy": "2022-03-02T09:01:36.213000Z",
     "iopub.status.idle": "2022-03-02T09:01:36.979000Z",
     "shell.execute_reply": "2022-03-02T09:01:36.978000Z"
    }
   },
   "outputs": [],
   "source": [
    "inxs = rand(N)\n",
    "out = similar(inxs);"
   ]
  },
  {
   "cell_type": "code",
   "execution_count": null,
   "id": "93bf3f12",
   "metadata": {
    "execution": {
     "iopub.execute_input": "2022-03-02T09:01:36.981000Z",
     "iopub.status.busy": "2022-03-02T09:01:36.980000Z",
     "iopub.status.idle": "2022-03-02T09:01:37.092000Z",
     "shell.execute_reply": "2022-03-02T09:01:37.090000Z"
    }
   },
   "outputs": [],
   "source": [
    "fip(out, inxs)  # The inplace version returns nothing. The results are stored in out."
   ]
  },
  {
   "cell_type": "code",
   "execution_count": null,
   "id": "b5404f93",
   "metadata": {
    "execution": {
     "iopub.execute_input": "2022-03-02T09:01:37.094000Z",
     "iopub.status.busy": "2022-03-02T09:01:37.093000Z",
     "iopub.status.idle": "2022-03-02T09:01:37.227000Z",
     "shell.execute_reply": "2022-03-02T09:01:37.226000Z"
    }
   },
   "outputs": [],
   "source": [
    "foop(inxs)"
   ]
  },
  {
   "cell_type": "code",
   "execution_count": null,
   "id": "0ec78e0a",
   "metadata": {
    "execution": {
     "iopub.execute_input": "2022-03-02T09:01:37.229000Z",
     "iopub.status.busy": "2022-03-02T09:01:37.228000Z",
     "iopub.status.idle": "2022-03-02T09:01:37.455000Z",
     "shell.execute_reply": "2022-03-02T09:01:37.455000Z"
    }
   },
   "outputs": [],
   "source": [
    "# Check answers\n",
    "foop(inxs) ≈ out"
   ]
  },
  {
   "cell_type": "code",
   "execution_count": null,
   "id": "7534b940",
   "metadata": {},
   "outputs": [],
   "source": [
    "# Save the generated function for later use\n",
    "# write(\"function.jl\", string(fexprs[2]))"
   ]
  },
  {
   "cell_type": "markdown",
   "id": "e92aa839",
   "metadata": {},
   "source": [
    "We can use another package `ForwardDiff.jl` to make sure our gradient from `Symbolics.jl` is correct."
   ]
  },
  {
   "cell_type": "code",
   "execution_count": null,
   "id": "40df1ea6",
   "metadata": {
    "execution": {
     "iopub.execute_input": "2022-03-02T09:01:37.458000Z",
     "iopub.status.busy": "2022-03-02T09:01:37.457000Z",
     "iopub.status.idle": "2022-03-02T09:01:39.341000Z",
     "shell.execute_reply": "2022-03-02T09:01:39.340000Z"
    }
   },
   "outputs": [],
   "source": [
    "using ForwardDiff\n",
    "ForwardDiff.gradient(rosenbrock, inxs) ≈ out"
   ]
  },
  {
   "cell_type": "code",
   "execution_count": null,
   "id": "b37a8ee4",
   "metadata": {
    "execution": {
     "iopub.execute_input": "2022-03-02T09:01:39.343000Z",
     "iopub.status.busy": "2022-03-02T09:01:39.343000Z",
     "iopub.status.idle": "2022-03-02T09:01:40.430000Z",
     "shell.execute_reply": "2022-03-02T09:01:40.429000Z"
    },
    "tags": []
   },
   "outputs": [],
   "source": [
    "# Sparce Hessian matrix\n",
    "# Only non-zero expressions are calculated\n",
    "hexprs = build_function(hes_sp, xs);"
   ]
  },
  {
   "cell_type": "code",
   "execution_count": null,
   "id": "5d6c0449",
   "metadata": {
    "execution": {
     "iopub.execute_input": "2022-03-02T09:01:40.433000Z",
     "iopub.status.busy": "2022-03-02T09:01:40.432000Z",
     "iopub.status.idle": "2022-03-02T09:01:41.248000Z",
     "shell.execute_reply": "2022-03-02T09:01:41.247000Z"
    }
   },
   "outputs": [],
   "source": [
    "hoop = eval(hexprs[1])\n",
    "hip = eval(hexprs[2])"
   ]
  },
  {
   "cell_type": "code",
   "execution_count": null,
   "id": "21b1a2eb",
   "metadata": {
    "execution": {
     "iopub.execute_input": "2022-03-02T09:01:41.250000Z",
     "iopub.status.busy": "2022-03-02T09:01:41.250000Z",
     "iopub.status.idle": "2022-03-02T09:01:41.295000Z",
     "shell.execute_reply": "2022-03-02T09:01:41.294000Z"
    }
   },
   "outputs": [],
   "source": [
    "hoop(rand(N))"
   ]
  }
 ],
 "metadata": {
  "kernelspec": {
   "display_name": "Julia 1.7.2",
   "language": "julia",
   "name": "julia-1.7"
  },
  "language_info": {
   "file_extension": ".jl",
   "mimetype": "application/julia",
   "name": "julia",
   "version": "1.7.2"
  },
  "toc-autonumbering": true
 },
 "nbformat": 4,
 "nbformat_minor": 5
}
