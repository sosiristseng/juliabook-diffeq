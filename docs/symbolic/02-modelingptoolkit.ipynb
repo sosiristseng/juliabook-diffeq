{
 "cells": [
  {
   "cell_type": "markdown",
   "id": "55362d5f",
   "metadata": {},
   "source": [
    "# ModelingToolkit.jl\n",
    "\n",
    "- [Simulating Big Models in Julia with ModelingToolkit @ JuliaCon 2021 Workshop](https://youtu.be/HEVOgSLBzWA)\n",
    "- [ModelingToolkit.jl](https://github.com/SciML/ModelingToolkit.jl): Symbolic representations for modeling numerical systems."
   ]
  },
  {
   "cell_type": "code",
   "execution_count": null,
   "id": "214fabbb",
   "metadata": {
    "execution": {
     "iopub.execute_input": "2022-03-02T09:01:50.476000Z",
     "iopub.status.busy": "2022-03-02T09:01:49.979000Z",
     "iopub.status.idle": "2022-03-02T09:02:14.814000Z",
     "shell.execute_reply": "2022-03-02T09:02:14.784000Z"
    }
   },
   "outputs": [],
   "source": [
    "using ModelingToolkit\n",
    "using DifferentialEquations\n",
    "using Plots\n",
    "using LinearAlgebra"
   ]
  },
  {
   "cell_type": "code",
   "execution_count": null,
   "id": "0a19a409",
   "metadata": {
    "execution": {
     "iopub.execute_input": "2022-03-02T09:02:16.596000Z",
     "iopub.status.busy": "2022-03-02T09:02:14.817000Z",
     "iopub.status.idle": "2022-03-02T09:02:27.779000Z",
     "shell.execute_reply": "2022-03-02T09:02:27.778000Z"
    }
   },
   "outputs": [],
   "source": [
    "# Independent (time) and dependent variables (x nad RHS)\n",
    "@variables t x(t) RHS(t)  \n",
    "\n",
    "# parameters = constants throughout the simulation\n",
    "@parameters τ\n",
    "\n",
    "# Differential operator w.r.t. time\n",
    "D = Differential(t)"
   ]
  },
  {
   "cell_type": "code",
   "execution_count": null,
   "id": "d834b9ca",
   "metadata": {
    "execution": {
     "iopub.execute_input": "2022-03-02T09:02:28.912000Z",
     "iopub.status.busy": "2022-03-02T09:02:28.912000Z",
     "iopub.status.idle": "2022-03-02T09:02:41.475000Z",
     "shell.execute_reply": "2022-03-02T09:02:41.475000Z"
    }
   },
   "outputs": [],
   "source": [
    "# Equations in MTK use the tilde character (~) as equality.\n",
    "# Every MTK system requires a name. The @named macro simply ensures that the symbolic name matches the name in the REPL.\n",
    "@named fol_separate = ODESystem([ RHS  ~ (1 - x)/τ,\n",
    "                                  D(x) ~ RHS ])"
   ]
  },
  {
   "cell_type": "markdown",
   "id": "2c6e523a",
   "metadata": {},
   "source": [
    "`structural_simplify()` transforms simple DAEs with dependent terms to ODEs and reduces the number of state variables.\n",
    "\n",
    "As a plus, the eleminated terms are still trackable by MTK so that you can plot them later on."
   ]
  },
  {
   "cell_type": "code",
   "execution_count": null,
   "id": "0b4888bc",
   "metadata": {
    "execution": {
     "iopub.execute_input": "2022-03-02T09:02:41.479000Z",
     "iopub.status.busy": "2022-03-02T09:02:41.479000Z",
     "iopub.status.idle": "2022-03-02T09:03:35.402000Z",
     "shell.execute_reply": "2022-03-02T09:03:35.401000Z"
    }
   },
   "outputs": [],
   "source": [
    "sol = let \n",
    "    model = structural_simplify(fol_separate)\n",
    "    u0 = [x => 0.0]\n",
    "    tspan = (0.0,10.0)\n",
    "    param = [τ => 3.0]\n",
    "    prob = ODEProblem(model, u0, tspan, param)\n",
    "    sol = solve(prob)\n",
    "end\n",
    "\n",
    "# The eliminated term is still tracible\n",
    "plot(sol, vars=[x, RHS], legend=:right)"
   ]
  },
  {
   "cell_type": "markdown",
   "id": "af1f00b3",
   "metadata": {},
   "source": [
    "## Time-variant external force"
   ]
  },
  {
   "cell_type": "code",
   "execution_count": null,
   "id": "f0b94d4c",
   "metadata": {
    "execution": {
     "iopub.execute_input": "2022-03-02T09:03:55.699000Z",
     "iopub.status.busy": "2022-03-02T09:03:55.698000Z",
     "iopub.status.idle": "2022-03-02T09:03:56.999000Z",
     "shell.execute_reply": "2022-03-02T09:03:56.999000Z"
    }
   },
   "outputs": [],
   "source": [
    "@variables t x(t) f(t)\n",
    "@parameters τ\n",
    "D = Differential(t)\n",
    "\n",
    "value_vector = randn(10)\n",
    "\n",
    "# Define a time-dependent random external force\n",
    "f_fun(t) = t >= 10 ? value_vector[end] : value_vector[Int(floor(t))+1]\n",
    "\n",
    "# \"Register\" arbitrary Julia functions to be excluded from symbolic transformations but just used as-is.\n",
    "@register f_fun(t)\n",
    "\n",
    "@named fol_external_f = ODESystem([f ~ f_fun(t), D(x) ~ (f - x)/τ])"
   ]
  },
  {
   "cell_type": "code",
   "execution_count": null,
   "id": "11692fef",
   "metadata": {
    "execution": {
     "iopub.execute_input": "2022-03-02T09:03:57.002000Z",
     "iopub.status.busy": "2022-03-02T09:03:57.002000Z",
     "iopub.status.idle": "2022-03-02T09:04:00.946000Z",
     "shell.execute_reply": "2022-03-02T09:04:00.946000Z"
    }
   },
   "outputs": [],
   "source": [
    "prob = ODEProblem(structural_simplify(fol_external_f), [x => 0.0], (0.0,10.0), [τ => 0.75])\n",
    "sol = solve(prob)\n",
    "plot(sol, vars=[x,f])"
   ]
  },
  {
   "cell_type": "markdown",
   "id": "ba3cccde",
   "metadata": {},
   "source": [
    "## Second order ODE system\n",
    "\n",
    "`ode_order_lowering(eqs)` can automatically transform a second-order ODE into two first-order ODEs."
   ]
  },
  {
   "cell_type": "code",
   "execution_count": null,
   "id": "517c73e8",
   "metadata": {
    "execution": {
     "iopub.execute_input": "2022-03-02T09:04:06.267000Z",
     "iopub.status.busy": "2022-03-02T09:04:06.267000Z",
     "iopub.status.idle": "2022-03-02T09:04:06.296000Z",
     "shell.execute_reply": "2022-03-02T09:04:06.296000Z"
    }
   },
   "outputs": [],
   "source": [
    "# Non-state variables\n",
    "@parameters σ ρ β\n",
    "# state variable with time dependence. time (t) is an independent variable\n",
    "@variables t x(t) y(t) z(t)\n",
    "\n",
    "# Differential operator\n",
    "D = Differential(t)\n",
    "\n",
    "D(x)"
   ]
  },
  {
   "cell_type": "code",
   "execution_count": null,
   "id": "cb663217",
   "metadata": {
    "execution": {
     "iopub.execute_input": "2022-03-02T09:04:06.935000Z",
     "iopub.status.busy": "2022-03-02T09:04:06.935000Z",
     "iopub.status.idle": "2022-03-02T09:04:09.585000Z",
     "shell.execute_reply": "2022-03-02T09:04:09.585000Z"
    }
   },
   "outputs": [],
   "source": [
    "eqs = [D(D(x)) ~ σ * (y-x),\n",
    "       D(y) ~ x * (ρ - z) - y,\n",
    "       D(z) ~ x * y - β * z]"
   ]
  },
  {
   "cell_type": "code",
   "execution_count": null,
   "id": "ded08872",
   "metadata": {
    "execution": {
     "iopub.execute_input": "2022-03-02T09:04:09.588000Z",
     "iopub.status.busy": "2022-03-02T09:04:09.588000Z",
     "iopub.status.idle": "2022-03-02T09:04:10.485000Z",
     "shell.execute_reply": "2022-03-02T09:04:10.485000Z"
    }
   },
   "outputs": [],
   "source": [
    "@named sys = ODESystem(eqs)\n",
    "sys = ode_order_lowering(sys)"
   ]
  },
  {
   "cell_type": "code",
   "execution_count": null,
   "id": "a98cef14",
   "metadata": {
    "execution": {
     "iopub.execute_input": "2022-03-02T09:04:11.389000Z",
     "iopub.status.busy": "2022-03-02T09:04:11.389000Z",
     "iopub.status.idle": "2022-03-02T09:04:12.266000Z",
     "shell.execute_reply": "2022-03-02T09:04:12.266000Z"
    }
   },
   "outputs": [],
   "source": [
    "u0 = [ D(x) => 2.0,\n",
    "        x => 1.0,\n",
    "        y => 0.0,\n",
    "        z => 0.0]\n",
    "\n",
    "p = [σ => 28.0,\n",
    "     ρ => 10.0,\n",
    "     β => 8/3]\n",
    "\n",
    "tspan = (0.0, 100.0)\n",
    "prob = ODEProblem(sys, u0, tspan, p, jac=true)\n",
    "\n",
    "sol = solve(prob)\n",
    "\n",
    "using Plots\n",
    "plot(sol, vars=(x, y, z))"
   ]
  },
  {
   "cell_type": "markdown",
   "id": "6129ca90",
   "metadata": {},
   "source": [
    "## Composing systems\n",
    "\n",
    "By defining connection equation(s) to couple ODE systems together, we can build component-based, hierarchical models."
   ]
  },
  {
   "cell_type": "code",
   "execution_count": null,
   "id": "5409caa4",
   "metadata": {
    "execution": {
     "iopub.execute_input": "2022-03-02T09:04:27.686000Z",
     "iopub.status.busy": "2022-03-02T09:04:27.686000Z",
     "iopub.status.idle": "2022-03-02T09:04:27.689000Z",
     "shell.execute_reply": "2022-03-02T09:04:27.689000Z"
    }
   },
   "outputs": [],
   "source": [
    "@parameters σ ρ β\n",
    "@variables t x(t) y(t) z(t)\n",
    "\n",
    "D = Differential(t)\n",
    "\n",
    "# Lorenz system Eqs\n",
    "eqs = [D(x) ~ σ * (y - x),\n",
    "       D(y) ~ x * (ρ - z) - y,\n",
    "       D(z) ~ x * y - β * z]\n",
    "\n",
    "@named lorenz1 = ODESystem(eqs)\n",
    "@named lorenz2 = ODESystem(eqs)"
   ]
  },
  {
   "cell_type": "code",
   "execution_count": null,
   "id": "a9fb77cf",
   "metadata": {
    "execution": {
     "iopub.execute_input": "2022-03-02T09:04:27.704000Z",
     "iopub.status.busy": "2022-03-02T09:04:27.704000Z",
     "iopub.status.idle": "2022-03-02T09:04:28.714000Z",
     "shell.execute_reply": "2022-03-02T09:04:28.714000Z"
    }
   },
   "outputs": [],
   "source": [
    "# Define linking relations\n",
    "@variables a(t)\n",
    "@parameters γ\n",
    "\n",
    "connections = [0 ~ lorenz1.x + lorenz2.y + a * γ]"
   ]
  },
  {
   "cell_type": "code",
   "execution_count": null,
   "id": "f4ae80b7",
   "metadata": {
    "execution": {
     "iopub.execute_input": "2022-03-02T09:04:28.718000Z",
     "iopub.status.busy": "2022-03-02T09:04:28.717000Z",
     "iopub.status.idle": "2022-03-02T09:04:31.132000Z",
     "shell.execute_reply": "2022-03-02T09:04:31.132000Z"
    }
   },
   "outputs": [],
   "source": [
    "@named connLorenz = ODESystem(connections, #=independent var=# t ,  [a], [γ], #=lower sys=# systems = [lorenz1, lorenz2])"
   ]
  },
  {
   "cell_type": "code",
   "execution_count": null,
   "id": "13375220",
   "metadata": {},
   "outputs": [],
   "source": [
    "states(connLorenz)"
   ]
  },
  {
   "cell_type": "code",
   "execution_count": null,
   "id": "97f72ba2",
   "metadata": {
    "execution": {
     "iopub.execute_input": "2022-03-02T09:04:31.142000Z",
     "iopub.status.busy": "2022-03-02T09:04:31.142000Z",
     "iopub.status.idle": "2022-03-02T09:04:31.924000Z",
     "shell.execute_reply": "2022-03-02T09:04:31.924000Z"
    }
   },
   "outputs": [],
   "source": [
    "u0 = [lorenz1.x => 1.0, lorenz1.y => 0.0, lorenz1.z => 0.0,\n",
    "      lorenz2.x => 0.0, lorenz2.y => 1.0, lorenz2.z => 0.0,\n",
    "      a => 2.0]\n",
    "\n",
    "p = [lorenz1.σ => 10.0, lorenz1.ρ => 28.0, lorenz1.β => 8/3,\n",
    "     lorenz2.σ => 10.0, lorenz2.ρ => 28.0, lorenz2.β => 8/3,\n",
    "     γ => 2.0]\n",
    "\n",
    "tspan = (0.0, 100.0)\n",
    "\n",
    "using Plots\n",
    "\n",
    "plot(solve(ODEProblem(connLorenz, u0, tspan, p), Rodas5()), vars=(a, lorenz1.x, lorenz2.x))"
   ]
  },
  {
   "cell_type": "markdown",
   "id": "bcbb80b6",
   "metadata": {},
   "source": [
    "## Convert existing functions into MTK ones\n",
    "\n",
    "`modelingtoolkitize(prob)`\n",
    "\n",
    "And it can generate analytic Jacobin function for faster solving.\n",
    "\n",
    "Example: **[DAE index reduction](https://mtk.sciml.ai/stable/mtkitize_tutorials/modelingtoolkitize_index_reduction/)** for the pendulum problem, which cannot be solved by regular ODE solvers."
   ]
  },
  {
   "cell_type": "code",
   "execution_count": null,
   "id": "4d8a5233",
   "metadata": {
    "execution": {
     "iopub.execute_input": "2022-03-02T09:04:50.383000Z",
     "iopub.status.busy": "2022-03-02T09:04:50.383000Z",
     "iopub.status.idle": "2022-03-02T09:04:50.716000Z",
     "shell.execute_reply": "2022-03-02T09:04:50.716000Z"
    }
   },
   "outputs": [],
   "source": [
    "function pendulum!(du, u, p, t)\n",
    "    x, dx, y, dy, T = u\n",
    "    g, L = p\n",
    "    du[1] = dx\n",
    "    du[2] = T*x\n",
    "    du[3] = dy\n",
    "    du[4] = T*y - g\n",
    "    # Do not write your function like this after you've learned MTK\n",
    "    du[5] = x^2 + y^2 - L^2\n",
    "    return nothing\n",
    "end\n",
    "\n",
    "# mass matrix: The last term is constrained\n",
    "pendulum_fun! = ODEFunction(pendulum!, mass_matrix = Diagonal([1, 1, 1, 1, 0]))"
   ]
  },
  {
   "cell_type": "code",
   "execution_count": null,
   "id": "cf0f3ee5",
   "metadata": {
    "execution": {
     "iopub.execute_input": "2022-03-02T09:04:50.720000Z",
     "iopub.status.busy": "2022-03-02T09:04:50.720000Z",
     "iopub.status.idle": "2022-03-02T09:04:51.064000Z",
     "shell.execute_reply": "2022-03-02T09:04:51.064000Z"
    }
   },
   "outputs": [],
   "source": [
    "u0 = [1.0, 0.0, 0.0, 0.0, 0.0]\n",
    "p = [9.8, 1.0]\n",
    "tspan = (0.0, 10.0)"
   ]
  },
  {
   "cell_type": "code",
   "execution_count": null,
   "id": "d05ab1f4",
   "metadata": {
    "execution": {
     "iopub.execute_input": "2022-03-02T09:04:51.068000Z",
     "iopub.status.busy": "2022-03-02T09:04:51.068000Z",
     "iopub.status.idle": "2022-03-02T09:04:58.026000Z",
     "shell.execute_reply": "2022-03-02T09:04:58.026000Z"
    }
   },
   "outputs": [],
   "source": [
    "prob0 = ODEProblem(pendulum_fun!, u0, tspan, p)\n",
    "@named tracedSys = modelingtoolkitize(prob0)"
   ]
  },
  {
   "cell_type": "code",
   "execution_count": null,
   "id": "3f7cb205",
   "metadata": {
    "execution": {
     "iopub.execute_input": "2022-03-02T09:04:58.030000Z",
     "iopub.status.busy": "2022-03-02T09:04:58.030000Z",
     "iopub.status.idle": "2022-03-02T09:05:08.062000Z",
     "shell.execute_reply": "2022-03-02T09:05:08.062000Z"
    }
   },
   "outputs": [],
   "source": [
    "# Actually, structural_simplify() could do dae_index_lowering() without specifying\n",
    "# Transform the index-3 DAE into an index-0 ODE \n",
    "pendulumSys = structural_simplify(dae_index_lowering(tracedSys))"
   ]
  },
  {
   "cell_type": "code",
   "execution_count": null,
   "id": "353081e2",
   "metadata": {
    "execution": {
     "iopub.execute_input": "2022-03-02T09:05:08.066000Z",
     "iopub.status.busy": "2022-03-02T09:05:08.065000Z",
     "iopub.status.idle": "2022-03-02T09:05:14.698000Z",
     "shell.execute_reply": "2022-03-02T09:05:14.698000Z"
    }
   },
   "outputs": [],
   "source": [
    "# u0 is included in the system already so we don't have to provide it.\n",
    "prob = ODAEProblem(pendulumSys, [], tspan)\n",
    "sol = solve(prob, abstol=1e-8, reltol=1e-8)\n",
    "plot(sol, vars=states(tracedSys))"
   ]
  },
  {
   "cell_type": "markdown",
   "id": "1810a583",
   "metadata": {},
   "source": [
    "# Beyond ODEs\n",
    "\n",
    "Solving Nnn-linear equations."
   ]
  },
  {
   "cell_type": "code",
   "execution_count": null,
   "id": "161fce9d",
   "metadata": {
    "execution": {
     "iopub.execute_input": "2022-03-02T09:05:29.673000Z",
     "iopub.status.busy": "2022-03-02T09:05:29.673000Z",
     "iopub.status.idle": "2022-03-02T09:05:29.674000Z",
     "shell.execute_reply": "2022-03-02T09:05:29.674000Z"
    }
   },
   "outputs": [],
   "source": [
    "using ModelingToolkit, NonlinearSolve"
   ]
  },
  {
   "cell_type": "markdown",
   "id": "85d45c81",
   "metadata": {},
   "source": [
    "## Solving non-linear systems"
   ]
  },
  {
   "cell_type": "code",
   "execution_count": null,
   "id": "cb4c827d",
   "metadata": {
    "execution": {
     "iopub.execute_input": "2022-03-02T09:05:29.676000Z",
     "iopub.status.busy": "2022-03-02T09:05:29.676000Z",
     "iopub.status.idle": "2022-03-02T09:05:29.688000Z",
     "shell.execute_reply": "2022-03-02T09:05:29.688000Z"
    }
   },
   "outputs": [],
   "source": [
    "@variables x y z\n",
    "@parameters σ ρ β"
   ]
  },
  {
   "cell_type": "code",
   "execution_count": null,
   "id": "6c302068",
   "metadata": {
    "execution": {
     "iopub.execute_input": "2022-03-02T09:05:29.691000Z",
     "iopub.status.busy": "2022-03-02T09:05:29.691000Z",
     "iopub.status.idle": "2022-03-02T09:05:29.855000Z",
     "shell.execute_reply": "2022-03-02T09:05:29.855000Z"
    }
   },
   "outputs": [],
   "source": [
    "eqs = [ 0 ~ σ * (y-x),\n",
    "        0 ~ x * (ρ - z) - y,\n",
    "        0 ~ x * y - β * z]"
   ]
  },
  {
   "cell_type": "code",
   "execution_count": null,
   "id": "26eb772b",
   "metadata": {
    "execution": {
     "iopub.execute_input": "2022-03-02T09:05:29.858000Z",
     "iopub.status.busy": "2022-03-02T09:05:29.858000Z",
     "iopub.status.idle": "2022-03-02T09:05:31.592000Z",
     "shell.execute_reply": "2022-03-02T09:05:31.592000Z"
    }
   },
   "outputs": [],
   "source": [
    "@named ns = NonlinearSystem(eqs, [x, y, z], [σ, ρ, β])"
   ]
  },
  {
   "cell_type": "code",
   "execution_count": null,
   "id": "cde2c848",
   "metadata": {
    "execution": {
     "iopub.execute_input": "2022-03-02T09:05:31.595000Z",
     "iopub.status.busy": "2022-03-02T09:05:31.595000Z",
     "iopub.status.idle": "2022-03-02T09:05:31.598000Z",
     "shell.execute_reply": "2022-03-02T09:05:31.598000Z"
    }
   },
   "outputs": [],
   "source": [
    "guess = [x => 1.0, y => 0.0, z => 0.0]\n",
    "\n",
    "ps = [σ => 10.0, ρ => 26.0, β => 8/3]\n",
    "\n",
    "prob = NonlinearProblem(ns, guess, ps)\n",
    "\n",
    "# Should be all zeroes\n",
    "sol = solve(prob, NewtonRaphson())"
   ]
  },
  {
   "cell_type": "code",
   "execution_count": null,
   "id": "e9a913dd",
   "metadata": {
    "execution": {
     "iopub.execute_input": "2022-03-02T09:05:38.352000Z",
     "iopub.status.busy": "2022-03-02T09:05:38.351000Z",
     "iopub.status.idle": "2022-03-02T09:05:38.448000Z",
     "shell.execute_reply": "2022-03-02T09:05:38.448000Z"
    }
   },
   "outputs": [],
   "source": [
    "@parameters t\n",
    "@variables u1(t) u2(t) u3(t) u4(t) u5(t)\n",
    "\n",
    "eqs = [\n",
    "    0 ~ u1 - sin(u5)\n",
    "    0 ~ u2 - cos(u1)\n",
    "    0 ~ u3 - hypot(u1, u2)\n",
    "    0 ~ u4 - hypot(u2, u3)\n",
    "    0 ~ u5 - hypot(u4, u1)\n",
    "]\n",
    "\n",
    "@named sys = NonlinearSystem(eqs, [u1, u2, u3, u4, u5], [])"
   ]
  },
  {
   "cell_type": "code",
   "execution_count": null,
   "id": "258ad61f",
   "metadata": {
    "execution": {
     "iopub.execute_input": "2022-03-02T09:05:38.831000Z",
     "iopub.status.busy": "2022-03-02T09:05:38.831000Z",
     "iopub.status.idle": "2022-03-02T09:05:41.625000Z",
     "shell.execute_reply": "2022-03-02T09:05:41.624000Z"
    }
   },
   "outputs": [],
   "source": [
    "simple_sys = structural_simplify(sys)"
   ]
  },
  {
   "cell_type": "code",
   "execution_count": null,
   "id": "cebee6c3",
   "metadata": {
    "execution": {
     "iopub.execute_input": "2022-03-02T09:05:41.628000Z",
     "iopub.status.busy": "2022-03-02T09:05:41.628000Z",
     "iopub.status.idle": "2022-03-02T09:05:43.449000Z",
     "shell.execute_reply": "2022-03-02T09:05:43.449000Z"
    }
   },
   "outputs": [],
   "source": [
    "prob = NonlinearProblem(simple_sys, [u5=>0.0])\n",
    "sol = solve(prob, NewtonRaphson())\n",
    "\n",
    "@show sol[u5] sol[u1];"
   ]
  },
  {
   "cell_type": "markdown",
   "id": "48550581",
   "metadata": {},
   "source": [
    "## SDE"
   ]
  },
  {
   "cell_type": "code",
   "execution_count": null,
   "id": "e36139c0",
   "metadata": {
    "execution": {
     "iopub.execute_input": "2022-03-02T09:05:46.285000Z",
     "iopub.status.busy": "2022-03-02T09:05:46.285000Z",
     "iopub.status.idle": "2022-03-02T09:05:46.286000Z",
     "shell.execute_reply": "2022-03-02T09:05:46.286000Z"
    }
   },
   "outputs": [],
   "source": [
    "using ModelingToolkit, DifferentialEquations, Plots"
   ]
  },
  {
   "cell_type": "code",
   "execution_count": null,
   "id": "a5b9bda6",
   "metadata": {
    "execution": {
     "iopub.execute_input": "2022-03-02T09:05:46.288000Z",
     "iopub.status.busy": "2022-03-02T09:05:46.288000Z",
     "iopub.status.idle": "2022-03-02T09:05:46.294000Z",
     "shell.execute_reply": "2022-03-02T09:05:46.294000Z"
    }
   },
   "outputs": [],
   "source": [
    "@parameters σ ρ β\n",
    "@variables t x(t) y(t) z(t)\n",
    "\n",
    "D = Differential(t)\n",
    "\n",
    "eqs = [D(x) ~ σ * (y - x),\n",
    "       D(y) ~ x * (ρ - z) - y,\n",
    "       D(z) ~ x * y - β * z]\n",
    "\n",
    "# diagonal noise, 10%\n",
    "noises = [0.1x, 0.1y, 0.1z]\n",
    "\n",
    "@named de = SDESystem(eqs, noises, t, [x, y, z], [σ,ρ,β])"
   ]
  },
  {
   "cell_type": "code",
   "execution_count": null,
   "id": "00060f01",
   "metadata": {
    "execution": {
     "iopub.execute_input": "2022-03-02T09:05:48.669000Z",
     "iopub.status.busy": "2022-03-02T09:05:48.669000Z",
     "iopub.status.idle": "2022-03-02T09:05:53.211000Z",
     "shell.execute_reply": "2022-03-02T09:05:53.211000Z"
    }
   },
   "outputs": [],
   "source": [
    "u0 = [x => 10.0, y => 10.0, z=> 10.0]\n",
    "p = [σ => 10.0, ρ => 28.0, β => 8/3]\n",
    "tspan = (0.0, 200.0)\n",
    "prob = SDEProblem(de, u0, tspan, p)\n",
    "sol = solve(prob)\n",
    "plot(sol, vars=(x, y, z))"
   ]
  },
  {
   "cell_type": "markdown",
   "id": "45a0979a",
   "metadata": {},
   "source": [
    "## Optimization"
   ]
  },
  {
   "cell_type": "code",
   "execution_count": null,
   "id": "f62d51ba",
   "metadata": {
    "execution": {
     "iopub.execute_input": "2022-03-02T09:06:32.599000Z",
     "iopub.status.busy": "2022-03-02T09:06:32.598000Z",
     "iopub.status.idle": "2022-03-02T09:06:32.983000Z",
     "shell.execute_reply": "2022-03-02T09:06:32.983000Z"
    }
   },
   "outputs": [],
   "source": [
    "using ModelingToolkit\n",
    "using GalacticOptim  # Common interface for optimization\n",
    "using Optim\n",
    "using BenchmarkTools"
   ]
  },
  {
   "cell_type": "code",
   "execution_count": null,
   "id": "50979c90",
   "metadata": {
    "execution": {
     "iopub.execute_input": "2022-03-02T09:06:33.876000Z",
     "iopub.status.busy": "2022-03-02T09:06:33.876000Z",
     "iopub.status.idle": "2022-03-02T09:06:38.251000Z",
     "shell.execute_reply": "2022-03-02T09:06:38.251000Z"
    }
   },
   "outputs": [],
   "source": [
    "@variables x y\n",
    "@parameters a b\n",
    "loss = (a - x)^2 + b * (y - x^2)^2\n",
    "@named sys = OptimizationSystem(loss, [x, y], [a, b])"
   ]
  },
  {
   "cell_type": "code",
   "execution_count": null,
   "id": "668cf37f",
   "metadata": {
    "execution": {
     "iopub.execute_input": "2022-03-02T09:06:38.254000Z",
     "iopub.status.busy": "2022-03-02T09:06:38.254000Z",
     "iopub.status.idle": "2022-03-02T09:06:38.257000Z",
     "shell.execute_reply": "2022-03-02T09:06:38.257000Z"
    }
   },
   "outputs": [],
   "source": [
    "u0 = [x => 1.0, y => 2.0]\n",
    "p = [a => 6.0, b => 7.0]\n",
    "prob = OptimizationProblem(sys, u0, p, grad=true, hess=true)\n",
    "@btime  sol = solve(prob, Newton())"
   ]
  }
 ],
 "metadata": {
  "kernelspec": {
   "display_name": "Julia 1.7.2",
   "language": "julia",
   "name": "julia-1.7"
  },
  "language_info": {
   "file_extension": ".jl",
   "mimetype": "application/julia",
   "name": "julia",
   "version": "1.7.2"
  }
 },
 "nbformat": 4,
 "nbformat_minor": 5
}
