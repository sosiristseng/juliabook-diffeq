{
 "cells": [
  {
   "cell_type": "markdown",
   "metadata": {},
   "source": [
    "# Steady State Heat Equation\n",
    "\n",
    "Here we use [MethodOfLines.jl](http://methodoflines.sciml.ai/dev/) to sumbolically define the PDE system in finite difference method (FDM).\n",
    "\n",
    "\n",
    "$$\n",
    "\\frac{\\partial^2 u}{\\partial x^2} + \\frac{\\partial^2 u}{\\partial y^2} = 0\n",
    "$$"
   ]
  },
  {
   "cell_type": "code",
   "execution_count": null,
   "metadata": {},
   "outputs": [],
   "source": [
    "using ModelingToolkit\n",
    "using MethodOfLines\n",
    "using DomainSets\n",
    "using NonlinearSolve\n",
    "using Plots"
   ]
  },
  {
   "cell_type": "code",
   "execution_count": null,
   "metadata": {},
   "outputs": [],
   "source": [
    "@parameters x y\n",
    "@variables u(..)\n",
    "\n",
    "Dxx = Differential(x)^2\n",
    "Dyy = Differential(y)^2\n",
    "\n",
    "# PDE equation\n",
    "eq = Dxx(u(x, y)) + Dyy(u(x, y)) ~ 0\n",
    "\n",
    "# Boundary conditions\n",
    "bcs = [u(0, y) ~ x * y,\n",
    "       u(1, y) ~ x * y,\n",
    "       u(x, 0) ~ x * y,\n",
    "       u(x, 1) ~ x * y]\n",
    "\n",
    "# Space and time domains\n",
    "domains = [x ∈ Interval(0.0, 1.0),\n",
    "           y ∈ Interval(0.0, 1.0)]\n",
    "\n",
    "@named pdesys = PDESystem([eq], bcs, domains, [x, y], [u(x, y)])"
   ]
  },
  {
   "cell_type": "code",
   "execution_count": null,
   "metadata": {},
   "outputs": [],
   "source": [
    "# Discretization of 2D sapce\n",
    "N = 10\n",
    "dx = 1 / N\n",
    "dy = 1 / N\n",
    "\n",
    "# Note that we pass in `nothing` for the time variable `t` here since we\n",
    "# are creating a stationary problem without a dependence on time, only space.\n",
    "discretization = MOLFiniteDifference([x => dx, y => dy], nothing, approx_order=2)"
   ]
  },
  {
   "cell_type": "code",
   "execution_count": null,
   "metadata": {},
   "outputs": [],
   "source": [
    "prob = discretize(pdesys, discretization)\n",
    "\n",
    "sol = NonlinearSolve.solve(prob, NewtonRaphson())"
   ]
  },
  {
   "cell_type": "code",
   "execution_count": null,
   "metadata": {},
   "outputs": [],
   "source": [
    "# Get solution on a grid\n",
    "grid = get_discrete(pdesys, discretization)\n",
    "u_sol = map(d -> sol[d], grid[u(x, y)])\n",
    "\n",
    "heatmap(grid[x], grid[y], u_sol, \n",
    "        xlabel=\"x\", ylabel=\"y\", aspect_ratio=:equal,\n",
    "        xlims=(0.0, 1.0), ylims=(0.0, 1.0), \n",
    "        title=\"Steady State Heat Equation\")"
   ]
  }
 ],
 "metadata": {
  "kernelspec": {
   "display_name": "Julia 1.7.3",
   "language": "julia",
   "name": "julia-1.7"
  },
  "language_info": {
   "file_extension": ".jl",
   "mimetype": "application/julia",
   "name": "julia",
   "version": "1.7.3"
  },
  "orig_nbformat": 4
 },
 "nbformat": 4,
 "nbformat_minor": 2
}
