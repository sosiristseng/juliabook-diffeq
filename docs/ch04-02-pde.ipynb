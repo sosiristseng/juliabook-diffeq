{
 "cells": [
  {
   "cell_type": "markdown",
   "metadata": {},
   "source": [
    "# Brusselator PDE\n",
    "\n",
    "The Brusselator PDE is defined as follows:\n",
    "\n",
    "$$\n",
    "\\begin{align}\n",
    "\\frac{\\partial u}{\\partial t} &= 1 + u^2v - 4.4u + \\alpha (\\frac{\\partial^2 u}{\\partial x^2} + \\frac{\\partial^2 u}{\\partial y^2}) + f(x, y, t) \\\\\n",
    "\\frac{\\partial v}{\\partial t} &= 3.4u - u^2 v + \\alpha (\\frac{\\partial^2 u}{\\partial x^2} + \\frac{\\partial^2 u}{\\partial y^2})\n",
    "\\end{align}\n",
    "$$\n",
    "\n",
    "where\n",
    "\n",
    "$$\n",
    "f(x, y, t) = \n",
    "\\begin{cases}\n",
    "5 \\qquad \\text{if} (x - 0.3)^2 + (y - 0.6)^2 \\leq 0.1^2 \\ and \\  t \\geq 1.1  \\\\\n",
    "0 \\qquad \\text{otherwise}\n",
    "\\end{cases}\n",
    "$$\n",
    "\n",
    "and the initial conditions are\n",
    "\n",
    "$$\n",
    "\\begin{align}\n",
    "u(x, y, 0) &= 22(y(1-y))^{1.5} \\\\\n",
    "v(x, y, 0) &= 27(x(1-x))^{1.5}\n",
    "\\end{align}\n",
    "$$\n",
    "\n",
    "with the periodic boundary condition\n",
    "\n",
    "$$\n",
    "\\begin{align}\n",
    "u(x+1, y, 0) &= u(x, y, t)  \\\\\n",
    "u(x, y+1, 0) &= u(x, y, t)\n",
    "\\end{align}\n",
    "$$\n",
    "\n",
    "on a timespan of $t \\in [0, 11.5]$."
   ]
  },
  {
   "cell_type": "code",
   "execution_count": null,
   "metadata": {},
   "outputs": [],
   "source": [
    "using ModelingToolkit\n",
    "using MethodOfLines\n",
    "using DifferentialEquations\n",
    "using DomainSets\n",
    "using Plots"
   ]
  },
  {
   "cell_type": "code",
   "execution_count": null,
   "metadata": {},
   "outputs": [],
   "source": [
    "@parameters x y t\n",
    "@variables u(..) v(..)\n",
    "\n",
    "Dt = Differential(t)\n",
    "Dx = Differential(x)\n",
    "Dy = Differential(y)\n",
    "Dxx = Differential(x)^2\n",
    "Dyy = Differential(y)^2\n",
    "\n",
    "# Laplacian\n",
    "∇²(u) = Dxx(u) + Dyy(u)"
   ]
  },
  {
   "cell_type": "code",
   "execution_count": null,
   "metadata": {},
   "outputs": [],
   "source": [
    "brusselator_f(x, y, t) = (((x-0.3)^2 + (y-0.6)^2) <= 0.1^2) * (t >= 1.1) * 5"
   ]
  },
  {
   "cell_type": "code",
   "execution_count": null,
   "metadata": {},
   "outputs": [],
   "source": [
    "x_min = y_min = t_min = 0.0\n",
    "x_max = y_max = 1.0\n",
    "t_max = 11.5\n",
    "α = 10.0\n",
    "\n",
    "u0(x,y,t) = 22(y*(1-y))^(3/2)\n",
    "v0(x,y,t) = 27(x*(1-x))^(3/2)\n",
    "\n",
    "eq = [Dt(u(x,y,t)) ~ 1. + v(x,y,t)*u(x,y,t)^2 - 4.4*u(x,y,t) + α*∇²(u(x,y,t)) + brusselator_f(x, y, t),\n",
    "      Dt(v(x,y,t)) ~ 3.4*u(x,y,t) - v(x,y,t)*u(x,y,t)^2 + α*∇²(v(x,y,t))]"
   ]
  },
  {
   "cell_type": "code",
   "execution_count": null,
   "metadata": {},
   "outputs": [],
   "source": [
    "domains = [x ∈ Interval(x_min, x_max),\n",
    "           y ∈ Interval(y_min, y_max),\n",
    "           t ∈ Interval(t_min, t_max)]"
   ]
  },
  {
   "cell_type": "code",
   "execution_count": null,
   "metadata": {},
   "outputs": [],
   "source": [
    "# Periodic BCs\n",
    "bcs = [u(x,y,0) ~ u0(x,y,0),\n",
    "       u(0,y,t) ~ u(1,y,t),\n",
    "       u(x,0,t) ~ u(x,1,t),\n",
    "\n",
    "       v(x,y,0) ~ v0(x,y,0),\n",
    "       v(0,y,t) ~ v(1,y,t),\n",
    "       v(x,0,t) ~ v(x,1,t)] "
   ]
  },
  {
   "cell_type": "code",
   "execution_count": null,
   "metadata": {},
   "outputs": [],
   "source": [
    "@named pdesys = PDESystem(eq, bcs, domains, [x, y, t], [u(x,y,t), v(x,y,t)])"
   ]
  },
  {
   "cell_type": "code",
   "execution_count": null,
   "metadata": {},
   "outputs": [],
   "source": [
    "# Discretization\n",
    "N = 16\n",
    "\n",
    "dx = (x_max - x_min) / N\n",
    "dy = (y_max - y_min) / N\n",
    "\n",
    "order = 2\n",
    "\n",
    "discretization = MOLFiniteDifference([x=>dx, y=>dy], t, approx_order=order, grid_align=center_align)"
   ]
  },
  {
   "cell_type": "code",
   "execution_count": null,
   "metadata": {},
   "outputs": [],
   "source": [
    "# Discretize the PDESystem to an ODEProblem or NonlinearProblem.\n",
    "prob = discretize(pdesys, discretization)"
   ]
  },
  {
   "cell_type": "code",
   "execution_count": null,
   "metadata": {},
   "outputs": [],
   "source": [
    "# Solvers: https://diffeq.sciml.ai/stable/solvers/ode_solve/\n",
    "sol = solve(prob, QNDF(), saveat=0.1)"
   ]
  },
  {
   "cell_type": "code",
   "execution_count": null,
   "metadata": {},
   "outputs": [],
   "source": [
    "grid = get_discrete(pdesys, discretization)\n",
    "discrete_x = grid[x]\n",
    "discrete_y = grid[y]\n",
    "discrete_t = sol[t]\n",
    "\n",
    "solu = [map(d -> sol[d][i], grid[u(x, y, t)]) for i in 1:length(sol[t])]\n",
    "solv = [map(d -> sol[d][i], grid[v(x, y, t)]) for i in 1:length(sol[t])]"
   ]
  },
  {
   "cell_type": "code",
   "execution_count": null,
   "metadata": {},
   "outputs": [],
   "source": [
    "umax = maximum(maximum, solu)\n",
    "vmax = maximum(maximum, solu)"
   ]
  },
  {
   "cell_type": "code",
   "execution_count": null,
   "metadata": {},
   "outputs": [],
   "source": [
    "using Plots\n",
    "\n",
    "anim = @animate for k in 1:length(discrete_t)\n",
    "    heatmap(solu[k][2:end, 2:end], title=\"u @ t=$(discrete_t[k])\", clims = (0.0, 4.5)) # 2:end since end = 1, periodic condition\n",
    "end\n",
    "\n",
    "mp4(anim, fps = 8)"
   ]
  },
  {
   "cell_type": "code",
   "execution_count": null,
   "metadata": {},
   "outputs": [],
   "source": [
    "anim = @animate for k in 1:length(discrete_t)\n",
    "    heatmap(solv[k][2:end, 2:end], title=\"v @ t=$(discrete_t[k])\", clims = (0.0, 4.5))\n",
    "end\n",
    "\n",
    "mp4(anim, fps = 8)"
   ]
  }
 ],
 "metadata": {
  "kernelspec": {
   "display_name": "Julia 1.7.3",
   "language": "julia",
   "name": "julia-1.7"
  },
  "language_info": {
   "name": "julia"
  },
  "orig_nbformat": 4
 },
 "nbformat": 4,
 "nbformat_minor": 2
}
