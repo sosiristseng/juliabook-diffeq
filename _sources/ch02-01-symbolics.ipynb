{
 "cells": [
  {
   "cell_type": "markdown",
   "id": "f11ddee1",
   "metadata": {},
   "source": [
    "# Symbolic calculations in Julia\n",
    "\n",
    "`Symbolics.jl` is a computer Algebra System (CAS) for Julia. The symbols are number-like and follow Julia semantics so we can put them into a regular function to get a symbolic counterpart.\n",
    "\n",
    "Source:\n",
    "- [Simulating Big Models in Julia with ModelingToolkit @ JuliaCon 2021 Workshop](https://youtu.be/HEVOgSLBzWA).\n",
    "- [Symbolics.jl](https://github.com/JuliaSymbolics/Symbolics.jl) Github repo and its [docs](https://symbolics.juliasymbolics.org/dev/).\n",
    "\n",
    "## Caveats about Symbolics.jl\n",
    "\n",
    "`Symbolics.jl` can only handle *traceble*, *quasi-static* expressions.\n",
    "\n",
    "Some code is not quasi-static e.g. factorial. The number of operations depends on the input value.\n",
    "\n",
    "> Use `@register` to make it a primitive function.\n",
    "\n",
    "Some code is *untraceable* like conditional `if`...`else` statements.\n",
    "\n",
    "> You can use `ifelse(cond, ex1, ex2)` to make it traceable."
   ]
  },
  {
   "cell_type": "markdown",
   "id": "5170afb6",
   "metadata": {},
   "source": [
    "## Basic operations"
   ]
  },
  {
   "cell_type": "code",
   "execution_count": 1,
   "id": "a06c1755",
   "metadata": {
    "execution": {
     "iopub.execute_input": "2022-08-01T02:12:44.576000Z",
     "iopub.status.busy": "2022-08-01T02:12:44.135000Z",
     "iopub.status.idle": "2022-08-01T02:12:51.104000Z",
     "shell.execute_reply": "2022-08-01T02:12:51.035000Z"
    }
   },
   "outputs": [],
   "source": [
    "using Symbolics"
   ]
  },
  {
   "cell_type": "code",
   "execution_count": 2,
   "id": "e40644d9",
   "metadata": {
    "execution": {
     "iopub.execute_input": "2022-08-01T02:12:51.326000Z",
     "iopub.status.busy": "2022-08-01T02:12:51.130000Z",
     "iopub.status.idle": "2022-08-01T02:12:55.927000Z",
     "shell.execute_reply": "2022-08-01T02:12:55.925000Z"
    }
   },
   "outputs": [
    {
     "data": {
      "text/latex": [
       "\\begin{equation}\n",
       "\\left[\n",
       "\\begin{array}{c}\n",
       "x \\\\\n",
       "y \\\\\n",
       "\\end{array}\n",
       "\\right]\n",
       "\\end{equation}\n"
      ],
      "text/plain": [
       "2-element Vector{Num}:\n",
       " x\n",
       " y"
      ]
     },
     "execution_count": 2,
     "metadata": {},
     "output_type": "execute_result"
    }
   ],
   "source": [
    "# Symbolics\n",
    "@variables x y"
   ]
  },
  {
   "cell_type": "code",
   "execution_count": 3,
   "id": "d855fa29",
   "metadata": {
    "execution": {
     "iopub.execute_input": "2022-08-01T02:12:55.929000Z",
     "iopub.status.busy": "2022-08-01T02:12:55.929000Z",
     "iopub.status.idle": "2022-08-01T02:13:00.063000Z",
     "shell.execute_reply": "2022-08-01T02:13:00.063000Z"
    }
   },
   "outputs": [
    {
     "data": {
      "text/latex": [
       "\\begin{equation}\n",
       "x^{2} + y^{2}\n",
       "\\end{equation}\n"
      ],
      "text/plain": [
       "x^2 + y^2"
      ]
     },
     "execution_count": 3,
     "metadata": {},
     "output_type": "execute_result"
    }
   ],
   "source": [
    "x^2 + y^2"
   ]
  },
  {
   "cell_type": "code",
   "execution_count": 4,
   "id": "f17e85ff",
   "metadata": {
    "execution": {
     "iopub.execute_input": "2022-08-01T02:13:00.067000Z",
     "iopub.status.busy": "2022-08-01T02:13:00.066000Z",
     "iopub.status.idle": "2022-08-01T02:13:02.474000Z",
     "shell.execute_reply": "2022-08-01T02:13:02.474000Z"
    }
   },
   "outputs": [
    {
     "data": {
      "text/latex": [
       "\\begin{equation}\n",
       "\\left[\n",
       "\\begin{array}{ccc}\n",
       "y + x^{2} & 0 & 2 x \\\\\n",
       "0 & 0 & 2 y \\\\\n",
       "x + y^{2} & 0 & 0 \\\\\n",
       "\\end{array}\n",
       "\\right]\n",
       "\\end{equation}\n"
      ],
      "text/plain": [
       "3×3 Matrix{Num}:\n",
       " y + x^2  0  2x\n",
       "       0  0  2y\n",
       " x + y^2  0   0"
      ]
     },
     "execution_count": 4,
     "metadata": {},
     "output_type": "execute_result"
    }
   ],
   "source": [
    "# You can use Latexify.jl to generate latex code\n",
    "A = [x^2 + y 0 2x\n",
    "     0       0 2y\n",
    "     y^2 + x 0 0]"
   ]
  },
  {
   "cell_type": "code",
   "execution_count": 5,
   "id": "0b12ff06",
   "metadata": {
    "execution": {
     "iopub.execute_input": "2022-08-01T02:13:02.484000Z",
     "iopub.status.busy": "2022-08-01T02:13:02.484000Z",
     "iopub.status.idle": "2022-08-01T02:13:03.863000Z",
     "shell.execute_reply": "2022-08-01T02:13:03.863000Z"
    }
   },
   "outputs": [
    {
     "data": {
      "text/latex": [
       "\\begin{equation}\n",
       "2 x\n",
       "\\end{equation}\n"
      ],
      "text/plain": [
       "2x"
      ]
     },
     "execution_count": 5,
     "metadata": {},
     "output_type": "execute_result"
    }
   ],
   "source": [
    "Symbolics.derivative(x^2 + y^2, x)"
   ]
  },
  {
   "cell_type": "code",
   "execution_count": 6,
   "id": "8d4205ef",
   "metadata": {
    "execution": {
     "iopub.execute_input": "2022-08-01T02:13:03.871000Z",
     "iopub.status.busy": "2022-08-01T02:13:03.871000Z",
     "iopub.status.idle": "2022-08-01T02:13:03.902000Z",
     "shell.execute_reply": "2022-08-01T02:13:03.902000Z"
    }
   },
   "outputs": [
    {
     "data": {
      "text/latex": [
       "\\begin{equation}\n",
       "\\left[\n",
       "\\begin{array}{c}\n",
       "2 x \\\\\n",
       "2 y \\\\\n",
       "\\end{array}\n",
       "\\right]\n",
       "\\end{equation}\n"
      ],
      "text/plain": [
       "2-element Vector{Num}:\n",
       " 2x\n",
       " 2y"
      ]
     },
     "execution_count": 6,
     "metadata": {},
     "output_type": "execute_result"
    }
   ],
   "source": [
    "Symbolics.gradient(x^2 + y^2, [x, y])"
   ]
  },
  {
   "cell_type": "code",
   "execution_count": 7,
   "id": "3e0c2c2c",
   "metadata": {
    "execution": {
     "iopub.execute_input": "2022-08-01T02:13:03.906000Z",
     "iopub.status.busy": "2022-08-01T02:13:03.905000Z",
     "iopub.status.idle": "2022-08-01T02:13:04.654000Z",
     "shell.execute_reply": "2022-08-01T02:13:04.652000Z"
    }
   },
   "outputs": [
    {
     "data": {
      "text/latex": [
       "\\begin{equation}\n",
       "\\left[\n",
       "\\begin{array}{cc}\n",
       "2 x & 2 y \\\\\n",
       "0 & 2 y \\\\\n",
       "\\end{array}\n",
       "\\right]\n",
       "\\end{equation}\n"
      ],
      "text/plain": [
       "2×2 Matrix{Num}:\n",
       " 2x  2y\n",
       "  0  2y"
      ]
     },
     "execution_count": 7,
     "metadata": {},
     "output_type": "execute_result"
    }
   ],
   "source": [
    "Symbolics.jacobian([x^2 + y^2; y^2], [x, y])"
   ]
  },
  {
   "cell_type": "code",
   "execution_count": 8,
   "id": "8c4bdcaf",
   "metadata": {
    "execution": {
     "iopub.execute_input": "2022-08-01T02:13:04.655000Z",
     "iopub.status.busy": "2022-08-01T02:13:04.655000Z",
     "iopub.status.idle": "2022-08-01T02:13:08.229000Z",
     "shell.execute_reply": "2022-08-01T02:13:08.229000Z"
    }
   },
   "outputs": [
    {
     "data": {
      "text/latex": [
       "\\begin{equation}\n",
       "2 + \\cos^{2}\\left( y^{2} \\right) + \\sin^{2}\\left( y^{2} \\right)\n",
       "\\end{equation}\n"
      ],
      "text/plain": [
       "2 + cos(y^2)^2 + sin(y^2)^2"
      ]
     },
     "execution_count": 8,
     "metadata": {},
     "output_type": "execute_result"
    }
   ],
   "source": [
    "Symbolics.substitute(sin(x)^2 + 2 + cos(x)^2, Dict(x=>y^2))"
   ]
  },
  {
   "cell_type": "code",
   "execution_count": 9,
   "id": "1fb85b5d",
   "metadata": {
    "execution": {
     "iopub.execute_input": "2022-08-01T02:13:08.235000Z",
     "iopub.status.busy": "2022-08-01T02:13:08.232000Z",
     "iopub.status.idle": "2022-08-01T02:13:09.684000Z",
     "shell.execute_reply": "2022-08-01T02:13:09.684000Z"
    }
   },
   "outputs": [
    {
     "data": {
      "text/latex": [
       "\\begin{equation}\n",
       "3.0\n",
       "\\end{equation}\n"
      ],
      "text/plain": [
       "3.0"
      ]
     },
     "execution_count": 9,
     "metadata": {},
     "output_type": "execute_result"
    }
   ],
   "source": [
    "Symbolics.substitute(sin(x)^2 + 2 + cos(x)^2, Dict(x=>1.0))"
   ]
  },
  {
   "cell_type": "code",
   "execution_count": 10,
   "id": "c2f4f15f",
   "metadata": {
    "execution": {
     "iopub.execute_input": "2022-08-01T02:13:09.686000Z",
     "iopub.status.busy": "2022-08-01T02:13:09.686000Z",
     "iopub.status.idle": "2022-08-01T02:13:15.032000Z",
     "shell.execute_reply": "2022-08-01T02:13:15.032000Z"
    }
   },
   "outputs": [
    {
     "data": {
      "text/latex": [
       "\\begin{equation}\n",
       "3\n",
       "\\end{equation}\n"
      ],
      "text/plain": [
       "3"
      ]
     },
     "execution_count": 10,
     "metadata": {},
     "output_type": "execute_result"
    }
   ],
   "source": [
    "Symbolics.simplify(sin(x)^2 + 2 + cos(x)^2)"
   ]
  },
  {
   "cell_type": "code",
   "execution_count": 11,
   "id": "ec6ea741",
   "metadata": {
    "execution": {
     "iopub.execute_input": "2022-08-01T02:13:15.049000Z",
     "iopub.status.busy": "2022-08-01T02:13:15.049000Z",
     "iopub.status.idle": "2022-08-01T02:13:15.148000Z",
     "shell.execute_reply": "2022-08-01T02:13:15.146000Z"
    }
   },
   "outputs": [
    {
     "data": {
      "text/latex": [
       "\\begin{equation}\n",
       "x\n",
       "\\end{equation}\n"
      ],
      "text/plain": [
       "x"
      ]
     },
     "execution_count": 11,
     "metadata": {},
     "output_type": "execute_result"
    }
   ],
   "source": [
    "# Automatically simplify because it's always true\n",
    "2x - x"
   ]
  },
  {
   "cell_type": "code",
   "execution_count": 12,
   "id": "395bcd44",
   "metadata": {
    "execution": {
     "iopub.execute_input": "2022-08-01T02:13:15.149000Z",
     "iopub.status.busy": "2022-08-01T02:13:15.149000Z",
     "iopub.status.idle": "2022-08-01T02:13:15.502000Z",
     "shell.execute_reply": "2022-08-01T02:13:15.502000Z"
    }
   },
   "outputs": [
    {
     "data": {
      "text/latex": [
       "\\begin{equation}\n",
       "x^{2} + y^{2} + \\sin\\left( x \\right)\n",
       "\\end{equation}\n"
      ],
      "text/plain": [
       "x^2 + y^2 + sin(x)"
      ]
     },
     "execution_count": 12,
     "metadata": {},
     "output_type": "execute_result"
    }
   ],
   "source": [
    "ex = x^2 + y^2 + sin(x)"
   ]
  },
  {
   "cell_type": "code",
   "execution_count": 13,
   "id": "d2ddabb7",
   "metadata": {
    "execution": {
     "iopub.execute_input": "2022-08-01T02:13:15.505000Z",
     "iopub.status.busy": "2022-08-01T02:13:15.505000Z",
     "iopub.status.idle": "2022-08-01T02:13:16.685000Z",
     "shell.execute_reply": "2022-08-01T02:13:16.685000Z"
    }
   },
   "outputs": [
    {
     "data": {
      "text/plain": [
       "true"
      ]
     },
     "execution_count": 13,
     "metadata": {},
     "output_type": "execute_result"
    }
   ],
   "source": [
    "isequal(2ex, ex + ex)"
   ]
  },
  {
   "cell_type": "code",
   "execution_count": 14,
   "id": "b5905b56",
   "metadata": {
    "execution": {
     "iopub.execute_input": "2022-08-01T02:13:16.690000Z",
     "iopub.status.busy": "2022-08-01T02:13:16.690000Z",
     "iopub.status.idle": "2022-08-01T02:13:16.935000Z",
     "shell.execute_reply": "2022-08-01T02:13:16.935000Z"
    }
   },
   "outputs": [
    {
     "data": {
      "text/latex": [
       "\\begin{equation}\n",
       "1\n",
       "\\end{equation}\n"
      ],
      "text/plain": [
       "1"
      ]
     },
     "execution_count": 14,
     "metadata": {},
     "output_type": "execute_result"
    }
   ],
   "source": [
    "ex / ex"
   ]
  },
  {
   "cell_type": "code",
   "execution_count": 15,
   "id": "1a28aae0",
   "metadata": {
    "execution": {
     "iopub.execute_input": "2022-08-01T02:13:16.941000Z",
     "iopub.status.busy": "2022-08-01T02:13:16.941000Z",
     "iopub.status.idle": "2022-08-01T02:13:17.118000Z",
     "shell.execute_reply": "2022-08-01T02:13:17.118000Z"
    }
   },
   "outputs": [
    {
     "data": {
      "text/latex": [
       "\\begin{equation}\n",
       "\\frac{x}{\\mathrm{expm1}\\left( x \\right)}\n",
       "\\end{equation}\n"
      ],
      "text/plain": [
       "x / expm1(x)"
      ]
     },
     "execution_count": 15,
     "metadata": {},
     "output_type": "execute_result"
    }
   ],
   "source": [
    "x / expm1(x)"
   ]
  },
  {
   "cell_type": "markdown",
   "id": "813f44dd",
   "metadata": {},
   "source": [
    "## Custom functions"
   ]
  },
  {
   "cell_type": "code",
   "execution_count": 16,
   "id": "55f750bd",
   "metadata": {
    "execution": {
     "iopub.execute_input": "2022-08-01T02:13:17.121000Z",
     "iopub.status.busy": "2022-08-01T02:13:17.120000Z",
     "iopub.status.idle": "2022-08-01T02:13:17.417000Z",
     "shell.execute_reply": "2022-08-01T02:13:17.417000Z"
    }
   },
   "outputs": [
    {
     "data": {
      "text/plain": [
       "foo (generic function with 1 method)"
      ]
     },
     "execution_count": 16,
     "metadata": {},
     "output_type": "execute_result"
    }
   ],
   "source": [
    "foo(x, y) = x * rand() + y"
   ]
  },
  {
   "cell_type": "markdown",
   "id": "37a2610a",
   "metadata": {},
   "source": [
    "Without @register, the `rand()` in `foo()` will be evaulated numerically instead of symbolically.\n",
    "\n",
    "> By default, new functions are traced to the primitives and the symbolic expressions are written on the primitives. However, we can expand the allowed primitives by registering new functions."
   ]
  },
  {
   "cell_type": "code",
   "execution_count": 17,
   "id": "4a843afc",
   "metadata": {
    "execution": {
     "iopub.execute_input": "2022-08-01T02:13:17.420000Z",
     "iopub.status.busy": "2022-08-01T02:13:17.420000Z",
     "iopub.status.idle": "2022-08-01T02:13:18.019000Z",
     "shell.execute_reply": "2022-08-01T02:13:18.019000Z"
    }
   },
   "outputs": [],
   "source": [
    "# Bring foo(() into symbolic land\n",
    "@register foo(x, y)"
   ]
  },
  {
   "cell_type": "code",
   "execution_count": 18,
   "id": "bb7003ee",
   "metadata": {
    "execution": {
     "iopub.execute_input": "2022-08-01T02:13:18.022000Z",
     "iopub.status.busy": "2022-08-01T02:13:18.022000Z",
     "iopub.status.idle": "2022-08-01T02:13:19.361000Z",
     "shell.execute_reply": "2022-08-01T02:13:19.361000Z"
    }
   },
   "outputs": [
    {
     "data": {
      "text/latex": [
       "\\begin{equation}\n",
       "\\frac{x \\mathrm{\\frac{d}{d x}}\\left( \\mathrm{foo}\\left( \\mathrm{hypot}\\left( x, y \\right), y \\right) \\right)}{\\mathrm{hypot}\\left( x, y \\right)}\n",
       "\\end{equation}\n"
      ],
      "text/plain": [
       "(x*Differential(x)(foo(hypot(x, y), y))) / hypot(x, y)"
      ]
     },
     "execution_count": 18,
     "metadata": {},
     "output_type": "execute_result"
    }
   ],
   "source": [
    "Symbolics.derivative(foo(hypot(x, y), y), x)"
   ]
  },
  {
   "cell_type": "markdown",
   "id": "bb97029a",
   "metadata": {},
   "source": [
    "## More number types"
   ]
  },
  {
   "cell_type": "code",
   "execution_count": 19,
   "id": "7bb1eabc",
   "metadata": {
    "execution": {
     "iopub.execute_input": "2022-08-01T02:13:19.364000Z",
     "iopub.status.busy": "2022-08-01T02:13:19.364000Z",
     "iopub.status.idle": "2022-08-01T02:13:20.402000Z",
     "shell.execute_reply": "2022-08-01T02:13:20.402000Z"
    }
   },
   "outputs": [
    {
     "data": {
      "text/plain": [
       "1-element Vector{Complex{Num}}:\n",
       " z"
      ]
     },
     "execution_count": 19,
     "metadata": {},
     "output_type": "execute_result"
    }
   ],
   "source": [
    "@variables z::Complex"
   ]
  },
  {
   "cell_type": "code",
   "execution_count": 20,
   "id": "3bbe5b47",
   "metadata": {
    "execution": {
     "iopub.execute_input": "2022-08-01T02:13:20.405000Z",
     "iopub.status.busy": "2022-08-01T02:13:20.405000Z",
     "iopub.status.idle": "2022-08-01T02:13:21.369000Z",
     "shell.execute_reply": "2022-08-01T02:13:21.369000Z"
    }
   },
   "outputs": [
    {
     "data": {
      "text/plain": [
       "1-element Vector{Symbolics.Arr{Num, 1}}:\n",
       " xs[1:18]"
      ]
     },
     "execution_count": 20,
     "metadata": {},
     "output_type": "execute_result"
    }
   ],
   "source": [
    "@variables xs[1:18]"
   ]
  },
  {
   "cell_type": "code",
   "execution_count": 21,
   "id": "e9a9a876",
   "metadata": {
    "execution": {
     "iopub.execute_input": "2022-08-01T02:13:21.371000Z",
     "iopub.status.busy": "2022-08-01T02:13:21.371000Z",
     "iopub.status.idle": "2022-08-01T02:13:21.643000Z",
     "shell.execute_reply": "2022-08-01T02:13:21.643000Z"
    }
   },
   "outputs": [
    {
     "data": {
      "text/latex": [
       "\\begin{equation}\n",
       "xs_1\n",
       "\\end{equation}\n"
      ],
      "text/plain": [
       "xs[1]"
      ]
     },
     "execution_count": 21,
     "metadata": {},
     "output_type": "execute_result"
    }
   ],
   "source": [
    "xs[1]"
   ]
  },
  {
   "cell_type": "code",
   "execution_count": 22,
   "id": "7d6b1c50",
   "metadata": {
    "execution": {
     "iopub.execute_input": "2022-08-01T02:13:21.646000Z",
     "iopub.status.busy": "2022-08-01T02:13:21.646000Z",
     "iopub.status.idle": "2022-08-01T02:13:23.550000Z",
     "shell.execute_reply": "2022-08-01T02:13:23.550000Z"
    }
   },
   "outputs": [
    {
     "data": {
      "text/plain": [
       "Symbolics._mapreduce(identity, +, xs, Colon(), (:init => false,))"
      ]
     },
     "execution_count": 22,
     "metadata": {},
     "output_type": "execute_result"
    }
   ],
   "source": [
    "# Lazy representation of summation\n",
    "sum(xs)"
   ]
  },
  {
   "cell_type": "code",
   "execution_count": 23,
   "id": "06e8e968",
   "metadata": {
    "execution": {
     "iopub.execute_input": "2022-08-01T02:13:23.553000Z",
     "iopub.status.busy": "2022-08-01T02:13:23.553000Z",
     "iopub.status.idle": "2022-08-01T02:13:23.842000Z",
     "shell.execute_reply": "2022-08-01T02:13:23.840000Z"
    }
   },
   "outputs": [
    {
     "data": {
      "text/latex": [
       "\\begin{equation}\n",
       "\\left[\n",
       "\\begin{array}{c}\n",
       "xs_1 \\\\\n",
       "xs_2 \\\\\n",
       "xs_3 \\\\\n",
       "xs_4 \\\\\n",
       "xs_5 \\\\\n",
       "xs_6 \\\\\n",
       "xs_7 \\\\\n",
       "xs_8 \\\\\n",
       "xs_9 \\\\\n",
       "xs_{1 0} \\\\\n",
       "xs_{1 1} \\\\\n",
       "xs_{1 2} \\\\\n",
       "xs_{1 3} \\\\\n",
       "xs_{1 4} \\\\\n",
       "xs_{1 5} \\\\\n",
       "xs_{1 6} \\\\\n",
       "xs_{1 7} \\\\\n",
       "xs_{1 8} \\\\\n",
       "\\end{array}\n",
       "\\right]\n",
       "\\end{equation}\n"
      ],
      "text/plain": [
       "18-element Vector{Num}:\n",
       "  xs[1]\n",
       "  xs[2]\n",
       "  xs[3]\n",
       "  xs[4]\n",
       "  xs[5]\n",
       "  xs[6]\n",
       "  xs[7]\n",
       "  xs[8]\n",
       "  xs[9]\n",
       " xs[10]\n",
       " xs[11]\n",
       " xs[12]\n",
       " xs[13]\n",
       " xs[14]\n",
       " xs[15]\n",
       " xs[16]\n",
       " xs[17]\n",
       " xs[18]"
      ]
     },
     "execution_count": 23,
     "metadata": {},
     "output_type": "execute_result"
    }
   ],
   "source": [
    "# Explicit vector form\n",
    "collect(xs)"
   ]
  },
  {
   "cell_type": "code",
   "execution_count": 24,
   "id": "05fd9ebc",
   "metadata": {
    "execution": {
     "iopub.execute_input": "2022-08-01T02:13:23.843000Z",
     "iopub.status.busy": "2022-08-01T02:13:23.843000Z",
     "iopub.status.idle": "2022-08-01T02:13:24.503000Z",
     "shell.execute_reply": "2022-08-01T02:13:24.502000Z"
    }
   },
   "outputs": [
    {
     "data": {
      "text/latex": [
       "\\begin{equation}\n",
       "xs_1 + xs_2 + xs_3 + xs_4 + xs_5 + xs_6 + xs_7 + xs_8 + xs_9 + xs_{1 0} + xs_{1 1} + xs_{1 2} + xs_{1 3} + xs_{1 4} + xs_{1 5} + xs_{1 6} + xs_{1 7} + xs_{1 8}\n",
       "\\end{equation}\n"
      ],
      "text/plain": [
       "xs[1] + xs[2] + xs[3] + xs[4] + xs[5] + xs[6] + xs[7] + xs[8] + xs[9] + xs[10] + xs[11] + xs[12] + xs[13] + xs[14] + xs[15] + xs[16] + xs[17] + xs[18]"
      ]
     },
     "execution_count": 24,
     "metadata": {},
     "output_type": "execute_result"
    }
   ],
   "source": [
    "# Show explicit formulae\n",
    "sum(collect(xs))"
   ]
  },
  {
   "cell_type": "markdown",
   "id": "f7d0b0d3",
   "metadata": {},
   "source": [
    "## Example: Rosenbrock function\n",
    "\n",
    "Wikipedia: <https://en.wikipedia.org/wiki/Rosenbrock_function>"
   ]
  },
  {
   "cell_type": "code",
   "execution_count": 25,
   "id": "a724a565",
   "metadata": {
    "execution": {
     "iopub.execute_input": "2022-08-01T02:13:24.506000Z",
     "iopub.status.busy": "2022-08-01T02:13:24.506000Z",
     "iopub.status.idle": "2022-08-01T02:13:24.619000Z",
     "shell.execute_reply": "2022-08-01T02:13:24.619000Z"
    }
   },
   "outputs": [
    {
     "data": {
      "text/plain": [
       "rosenbrock (generic function with 1 method)"
      ]
     },
     "execution_count": 25,
     "metadata": {},
     "output_type": "execute_result"
    }
   ],
   "source": [
    "# The vector form of Rosenbrock function\n",
    "rosenbrock(xs) = sum( 1:length(xs)-1) do i\n",
    "    100*(xs[i+1] - xs[i]^2)^2 + (1 - xs[i])^2\n",
    "end"
   ]
  },
  {
   "cell_type": "code",
   "execution_count": 26,
   "id": "83dd43d7",
   "metadata": {
    "execution": {
     "iopub.execute_input": "2022-08-01T02:13:24.622000Z",
     "iopub.status.busy": "2022-08-01T02:13:24.621000Z",
     "iopub.status.idle": "2022-08-01T02:13:24.966000Z",
     "shell.execute_reply": "2022-08-01T02:13:24.964000Z"
    }
   },
   "outputs": [
    {
     "data": {
      "text/plain": [
       "0.0"
      ]
     },
     "execution_count": 26,
     "metadata": {},
     "output_type": "execute_result"
    }
   ],
   "source": [
    "# Minimum when xs are all one's\n",
    "rosenbrock(ones(100))"
   ]
  },
  {
   "cell_type": "code",
   "execution_count": 27,
   "id": "46aad734",
   "metadata": {
    "execution": {
     "iopub.execute_input": "2022-08-01T02:13:24.968000Z",
     "iopub.status.busy": "2022-08-01T02:13:24.967000Z",
     "iopub.status.idle": "2022-08-01T02:13:24.971000Z",
     "shell.execute_reply": "2022-08-01T02:13:24.971000Z"
    }
   },
   "outputs": [
    {
     "data": {
      "text/plain": [
       "1-element Vector{Symbolics.Arr{Num, 1}}:\n",
       " xs[1:100]"
      ]
     },
     "execution_count": 27,
     "metadata": {},
     "output_type": "execute_result"
    }
   ],
   "source": [
    "N = 100\n",
    "@variables xs[1:N]"
   ]
  },
  {
   "cell_type": "code",
   "execution_count": 28,
   "id": "f9225edf",
   "metadata": {
    "execution": {
     "iopub.execute_input": "2022-08-01T02:13:24.973000Z",
     "iopub.status.busy": "2022-08-01T02:13:24.973000Z",
     "iopub.status.idle": "2022-08-01T02:13:24.977000Z",
     "shell.execute_reply": "2022-08-01T02:13:24.977000Z"
    }
   },
   "outputs": [
    {
     "data": {
      "text/latex": [
       "\\begin{equation}\n",
       "\\left[\n",
       "\\begin{array}{c}\n",
       "xs_1 \\\\\n",
       "xs_2 \\\\\n",
       "xs_3 \\\\\n",
       "xs_4 \\\\\n",
       "xs_5 \\\\\n",
       "xs_6 \\\\\n",
       "xs_7 \\\\\n",
       "xs_8 \\\\\n",
       "xs_9 \\\\\n",
       "xs_{1 0} \\\\\n",
       "xs_{1 1} \\\\\n",
       "xs_{1 2} \\\\\n",
       "xs_{1 3} \\\\\n",
       "xs_{1 4} \\\\\n",
       "xs_{1 5} \\\\\n",
       "xs_{1 6} \\\\\n",
       "xs_{1 7} \\\\\n",
       "xs_{1 8} \\\\\n",
       "xs_{1 9} \\\\\n",
       "xs_{2 0} \\\\\n",
       "xs_{2 1} \\\\\n",
       "xs_{2 2} \\\\\n",
       "xs_{2 3} \\\\\n",
       "xs_{2 4} \\\\\n",
       "xs_{2 5} \\\\\n",
       "xs_{2 6} \\\\\n",
       "xs_{2 7} \\\\\n",
       "xs_{2 8} \\\\\n",
       "xs_{2 9} \\\\\n",
       "xs_{3 0} \\\\\n",
       "xs_{3 1} \\\\\n",
       "xs_{3 2} \\\\\n",
       "xs_{3 3} \\\\\n",
       "xs_{3 4} \\\\\n",
       "xs_{3 5} \\\\\n",
       "xs_{3 6} \\\\\n",
       "xs_{3 7} \\\\\n",
       "xs_{3 8} \\\\\n",
       "xs_{3 9} \\\\\n",
       "xs_{4 0} \\\\\n",
       "xs_{4 1} \\\\\n",
       "xs_{4 2} \\\\\n",
       "xs_{4 3} \\\\\n",
       "xs_{4 4} \\\\\n",
       "xs_{4 5} \\\\\n",
       "xs_{4 6} \\\\\n",
       "xs_{4 7} \\\\\n",
       "xs_{4 8} \\\\\n",
       "xs_{4 9} \\\\\n",
       "xs_{5 0} \\\\\n",
       "xs_{5 1} \\\\\n",
       "xs_{5 2} \\\\\n",
       "xs_{5 3} \\\\\n",
       "xs_{5 4} \\\\\n",
       "xs_{5 5} \\\\\n",
       "xs_{5 6} \\\\\n",
       "xs_{5 7} \\\\\n",
       "xs_{5 8} \\\\\n",
       "xs_{5 9} \\\\\n",
       "xs_{6 0} \\\\\n",
       "xs_{6 1} \\\\\n",
       "xs_{6 2} \\\\\n",
       "xs_{6 3} \\\\\n",
       "xs_{6 4} \\\\\n",
       "xs_{6 5} \\\\\n",
       "xs_{6 6} \\\\\n",
       "xs_{6 7} \\\\\n",
       "xs_{6 8} \\\\\n",
       "xs_{6 9} \\\\\n",
       "xs_{7 0} \\\\\n",
       "xs_{7 1} \\\\\n",
       "xs_{7 2} \\\\\n",
       "xs_{7 3} \\\\\n",
       "xs_{7 4} \\\\\n",
       "xs_{7 5} \\\\\n",
       "xs_{7 6} \\\\\n",
       "xs_{7 7} \\\\\n",
       "xs_{7 8} \\\\\n",
       "xs_{7 9} \\\\\n",
       "xs_{8 0} \\\\\n",
       "xs_{8 1} \\\\\n",
       "xs_{8 2} \\\\\n",
       "xs_{8 3} \\\\\n",
       "xs_{8 4} \\\\\n",
       "xs_{8 5} \\\\\n",
       "xs_{8 6} \\\\\n",
       "xs_{8 7} \\\\\n",
       "xs_{8 8} \\\\\n",
       "xs_{8 9} \\\\\n",
       "xs_{9 0} \\\\\n",
       "xs_{9 1} \\\\\n",
       "xs_{9 2} \\\\\n",
       "xs_{9 3} \\\\\n",
       "xs_{9 4} \\\\\n",
       "xs_{9 5} \\\\\n",
       "xs_{9 6} \\\\\n",
       "xs_{9 7} \\\\\n",
       "xs_{9 8} \\\\\n",
       "xs_{9 9} \\\\\n",
       "xs_{1 0 0} \\\\\n",
       "\\end{array}\n",
       "\\right]\n",
       "\\end{equation}\n"
      ],
      "text/plain": [
       "100-element Vector{Num}:\n",
       "   xs[1]\n",
       "   xs[2]\n",
       "   xs[3]\n",
       "   xs[4]\n",
       "   xs[5]\n",
       "   xs[6]\n",
       "   xs[7]\n",
       "   xs[8]\n",
       "   xs[9]\n",
       "  xs[10]\n",
       "  xs[11]\n",
       "  xs[12]\n",
       "  xs[13]\n",
       "       ⋮\n",
       "  xs[89]\n",
       "  xs[90]\n",
       "  xs[91]\n",
       "  xs[92]\n",
       "  xs[93]\n",
       "  xs[94]\n",
       "  xs[95]\n",
       "  xs[96]\n",
       "  xs[97]\n",
       "  xs[98]\n",
       "  xs[99]\n",
       " xs[100]"
      ]
     },
     "execution_count": 28,
     "metadata": {},
     "output_type": "execute_result"
    }
   ],
   "source": [
    "# A long list of vector components\n",
    "xs = collect(xs)"
   ]
  },
  {
   "cell_type": "code",
   "execution_count": 29,
   "id": "8914ff9e",
   "metadata": {
    "execution": {
     "iopub.execute_input": "2022-08-01T02:13:24.980000Z",
     "iopub.status.busy": "2022-08-01T02:13:24.980000Z",
     "iopub.status.idle": "2022-08-01T02:13:27.340000Z",
     "shell.execute_reply": "2022-08-01T02:13:27.340000Z"
    }
   },
   "outputs": [
    {
     "data": {
      "text/latex": [
       "\\begin{equation}\n",
       "100 \\left(  - xs_1^{2} + xs_2 \\right)^{2} + 100 \\left(  - xs_2^{2} + xs_3 \\right)^{2} + 100 \\left(  - xs_3^{2} + xs_4 \\right)^{2} + 100 \\left(  - xs_4^{2} + xs_5 \\right)^{2} + 100 \\left(  - xs_5^{2} + xs_6 \\right)^{2} + 100 \\left(  - xs_6^{2} + xs_7 \\right)^{2} + 100 \\left(  - xs_7^{2} + xs_8 \\right)^{2} + 100 \\left(  - xs_8^{2} + xs_9 \\right)^{2} + 100 \\left(  - xs_9^{2} + xs_{1 0} \\right)^{2} + 100 \\left(  - xs_{1 0}^{2} + xs_{1 1} \\right)^{2} + 100 \\left(  - xs_{1 1}^{2} + xs_{1 2} \\right)^{2} + 100 \\left(  - xs_{1 2}^{2} + xs_{1 3} \\right)^{2} + 100 \\left(  - xs_{1 3}^{2} + xs_{1 4} \\right)^{2} + 100 \\left(  - xs_{1 4}^{2} + xs_{1 5} \\right)^{2} + 100 \\left(  - xs_{1 5}^{2} + xs_{1 6} \\right)^{2} + 100 \\left(  - xs_{1 6}^{2} + xs_{1 7} \\right)^{2} + 100 \\left(  - xs_{1 7}^{2} + xs_{1 8} \\right)^{2} + 100 \\left(  - xs_{1 8}^{2} + xs_{1 9} \\right)^{2} + 100 \\left(  - xs_{1 9}^{2} + xs_{2 0} \\right)^{2} + 100 \\left(  - xs_{2 0}^{2} + xs_{2 1} \\right)^{2} + 100 \\left(  - xs_{2 1}^{2} + xs_{2 2} \\right)^{2} + 100 \\left(  - xs_{2 2}^{2} + xs_{2 3} \\right)^{2} + 100 \\left(  - xs_{2 3}^{2} + xs_{2 4} \\right)^{2} + 100 \\left(  - xs_{2 4}^{2} + xs_{2 5} \\right)^{2} + 100 \\left(  - xs_{2 5}^{2} + xs_{2 6} \\right)^{2} + 100 \\left(  - xs_{2 6}^{2} + xs_{2 7} \\right)^{2} + 100 \\left(  - xs_{2 7}^{2} + xs_{2 8} \\right)^{2} + 100 \\left(  - xs_{2 8}^{2} + xs_{2 9} \\right)^{2} + 100 \\left(  - xs_{2 9}^{2} + xs_{3 0} \\right)^{2} + 100 \\left(  - xs_{3 0}^{2} + xs_{3 1} \\right)^{2} + 100 \\left(  - xs_{3 1}^{2} + xs_{3 2} \\right)^{2} + 100 \\left(  - xs_{3 2}^{2} + xs_{3 3} \\right)^{2} + 100 \\left(  - xs_{3 3}^{2} + xs_{3 4} \\right)^{2} + 100 \\left(  - xs_{3 4}^{2} + xs_{3 5} \\right)^{2} + 100 \\left(  - xs_{3 5}^{2} + xs_{3 6} \\right)^{2} + 100 \\left(  - xs_{3 6}^{2} + xs_{3 7} \\right)^{2} + 100 \\left(  - xs_{3 7}^{2} + xs_{3 8} \\right)^{2} + 100 \\left(  - xs_{3 8}^{2} + xs_{3 9} \\right)^{2} + 100 \\left(  - xs_{3 9}^{2} + xs_{4 0} \\right)^{2} + 100 \\left(  - xs_{4 0}^{2} + xs_{4 1} \\right)^{2} + 100 \\left(  - xs_{4 1}^{2} + xs_{4 2} \\right)^{2} + 100 \\left(  - xs_{4 2}^{2} + xs_{4 3} \\right)^{2} + 100 \\left(  - xs_{4 3}^{2} + xs_{4 4} \\right)^{2} + 100 \\left(  - xs_{4 4}^{2} + xs_{4 5} \\right)^{2} + 100 \\left(  - xs_{4 5}^{2} + xs_{4 6} \\right)^{2} + 100 \\left(  - xs_{4 6}^{2} + xs_{4 7} \\right)^{2} + 100 \\left(  - xs_{4 7}^{2} + xs_{4 8} \\right)^{2} + 100 \\left(  - xs_{4 8}^{2} + xs_{4 9} \\right)^{2} + 100 \\left(  - xs_{4 9}^{2} + xs_{5 0} \\right)^{2} + 100 \\left(  - xs_{5 0}^{2} + xs_{5 1} \\right)^{2} + 100 \\left(  - xs_{5 1}^{2} + xs_{5 2} \\right)^{2} + 100 \\left(  - xs_{5 2}^{2} + xs_{5 3} \\right)^{2} + 100 \\left(  - xs_{5 3}^{2} + xs_{5 4} \\right)^{2} + 100 \\left(  - xs_{5 4}^{2} + xs_{5 5} \\right)^{2} + 100 \\left(  - xs_{5 5}^{2} + xs_{5 6} \\right)^{2} + 100 \\left(  - xs_{5 6}^{2} + xs_{5 7} \\right)^{2} + 100 \\left(  - xs_{5 7}^{2} + xs_{5 8} \\right)^{2} + 100 \\left(  - xs_{5 8}^{2} + xs_{5 9} \\right)^{2} + 100 \\left(  - xs_{5 9}^{2} + xs_{6 0} \\right)^{2} + 100 \\left(  - xs_{6 0}^{2} + xs_{6 1} \\right)^{2} + 100 \\left(  - xs_{6 1}^{2} + xs_{6 2} \\right)^{2} + 100 \\left(  - xs_{6 2}^{2} + xs_{6 3} \\right)^{2} + 100 \\left(  - xs_{6 3}^{2} + xs_{6 4} \\right)^{2} + 100 \\left(  - xs_{6 4}^{2} + xs_{6 5} \\right)^{2} + 100 \\left(  - xs_{6 5}^{2} + xs_{6 6} \\right)^{2} + 100 \\left(  - xs_{6 6}^{2} + xs_{6 7} \\right)^{2} + 100 \\left(  - xs_{6 7}^{2} + xs_{6 8} \\right)^{2} + 100 \\left(  - xs_{6 8}^{2} + xs_{6 9} \\right)^{2} + 100 \\left(  - xs_{6 9}^{2} + xs_{7 0} \\right)^{2} + 100 \\left(  - xs_{7 0}^{2} + xs_{7 1} \\right)^{2} + 100 \\left(  - xs_{7 1}^{2} + xs_{7 2} \\right)^{2} + 100 \\left(  - xs_{7 2}^{2} + xs_{7 3} \\right)^{2} + 100 \\left(  - xs_{7 3}^{2} + xs_{7 4} \\right)^{2} + 100 \\left(  - xs_{7 4}^{2} + xs_{7 5} \\right)^{2} + 100 \\left(  - xs_{7 5}^{2} + xs_{7 6} \\right)^{2} + 100 \\left(  - xs_{7 6}^{2} + xs_{7 7} \\right)^{2} + 100 \\left(  - xs_{7 7}^{2} + xs_{7 8} \\right)^{2} + 100 \\left(  - xs_{7 8}^{2} + xs_{7 9} \\right)^{2} + 100 \\left(  - xs_{7 9}^{2} + xs_{8 0} \\right)^{2} + 100 \\left(  - xs_{8 0}^{2} + xs_{8 1} \\right)^{2} + 100 \\left(  - xs_{8 1}^{2} + xs_{8 2} \\right)^{2} + 100 \\left(  - xs_{8 2}^{2} + xs_{8 3} \\right)^{2} + 100 \\left(  - xs_{8 3}^{2} + xs_{8 4} \\right)^{2} + 100 \\left(  - xs_{8 4}^{2} + xs_{8 5} \\right)^{2} + 100 \\left(  - xs_{8 5}^{2} + xs_{8 6} \\right)^{2} + 100 \\left(  - xs_{8 6}^{2} + xs_{8 7} \\right)^{2} + 100 \\left(  - xs_{8 7}^{2} + xs_{8 8} \\right)^{2} + 100 \\left(  - xs_{8 8}^{2} + xs_{8 9} \\right)^{2} + 100 \\left(  - xs_{8 9}^{2} + xs_{9 0} \\right)^{2} + 100 \\left(  - xs_{9 0}^{2} + xs_{9 1} \\right)^{2} + 100 \\left(  - xs_{9 1}^{2} + xs_{9 2} \\right)^{2} + 100 \\left(  - xs_{9 2}^{2} + xs_{9 3} \\right)^{2} + 100 \\left(  - xs_{9 3}^{2} + xs_{9 4} \\right)^{2} + 100 \\left(  - xs_{9 4}^{2} + xs_{9 5} \\right)^{2} + 100 \\left(  - xs_{9 5}^{2} + xs_{9 6} \\right)^{2} + 100 \\left(  - xs_{9 6}^{2} + xs_{9 7} \\right)^{2} + 100 \\left(  - xs_{9 7}^{2} + xs_{9 8} \\right)^{2} + 100 \\left(  - xs_{9 8}^{2} + xs_{9 9} \\right)^{2} + 100 \\left(  - xs_{9 9}^{2} + xs_{1 0 0} \\right)^{2} + \\left( 1 - xs_1 \\right)^{2} + \\left( 1 - xs_2 \\right)^{2} + \\left( 1 - xs_3 \\right)^{2} + \\left( 1 - xs_4 \\right)^{2} + \\left( 1 - xs_5 \\right)^{2} + \\left( 1 - xs_6 \\right)^{2} + \\left( 1 - xs_7 \\right)^{2} + \\left( 1 - xs_8 \\right)^{2} + \\left( 1 - xs_9 \\right)^{2} + \\left( 1 - xs_{1 0} \\right)^{2} + \\left( 1 - xs_{1 1} \\right)^{2} + \\left( 1 - xs_{1 2} \\right)^{2} + \\left( 1 - xs_{1 3} \\right)^{2} + \\left( 1 - xs_{1 4} \\right)^{2} + \\left( 1 - xs_{1 5} \\right)^{2} + \\left( 1 - xs_{1 6} \\right)^{2} + \\left( 1 - xs_{1 7} \\right)^{2} + \\left( 1 - xs_{1 8} \\right)^{2} + \\left( 1 - xs_{1 9} \\right)^{2} + \\left( 1 - xs_{2 0} \\right)^{2} + \\left( 1 - xs_{2 1} \\right)^{2} + \\left( 1 - xs_{2 2} \\right)^{2} + \\left( 1 - xs_{2 3} \\right)^{2} + \\left( 1 - xs_{2 4} \\right)^{2} + \\left( 1 - xs_{2 5} \\right)^{2} + \\left( 1 - xs_{2 6} \\right)^{2} + \\left( 1 - xs_{2 7} \\right)^{2} + \\left( 1 - xs_{2 8} \\right)^{2} + \\left( 1 - xs_{2 9} \\right)^{2} + \\left( 1 - xs_{3 0} \\right)^{2} + \\left( 1 - xs_{3 1} \\right)^{2} + \\left( 1 - xs_{3 2} \\right)^{2} + \\left( 1 - xs_{3 3} \\right)^{2} + \\left( 1 - xs_{3 4} \\right)^{2} + \\left( 1 - xs_{3 5} \\right)^{2} + \\left( 1 - xs_{3 6} \\right)^{2} + \\left( 1 - xs_{3 7} \\right)^{2} + \\left( 1 - xs_{3 8} \\right)^{2} + \\left( 1 - xs_{3 9} \\right)^{2} + \\left( 1 - xs_{4 0} \\right)^{2} + \\left( 1 - xs_{4 1} \\right)^{2} + \\left( 1 - xs_{4 2} \\right)^{2} + \\left( 1 - xs_{4 3} \\right)^{2} + \\left( 1 - xs_{4 4} \\right)^{2} + \\left( 1 - xs_{4 5} \\right)^{2} + \\left( 1 - xs_{4 6} \\right)^{2} + \\left( 1 - xs_{4 7} \\right)^{2} + \\left( 1 - xs_{4 8} \\right)^{2} + \\left( 1 - xs_{4 9} \\right)^{2} + \\left( 1 - xs_{5 0} \\right)^{2} + \\left( 1 - xs_{5 1} \\right)^{2} + \\left( 1 - xs_{5 2} \\right)^{2} + \\left( 1 - xs_{5 3} \\right)^{2} + \\left( 1 - xs_{5 4} \\right)^{2} + \\left( 1 - xs_{5 5} \\right)^{2} + \\left( 1 - xs_{5 6} \\right)^{2} + \\left( 1 - xs_{5 7} \\right)^{2} + \\left( 1 - xs_{5 8} \\right)^{2} + \\left( 1 - xs_{5 9} \\right)^{2} + \\left( 1 - xs_{6 0} \\right)^{2} + \\left( 1 - xs_{6 1} \\right)^{2} + \\left( 1 - xs_{6 2} \\right)^{2} + \\left( 1 - xs_{6 3} \\right)^{2} + \\left( 1 - xs_{6 4} \\right)^{2} + \\left( 1 - xs_{6 5} \\right)^{2} + \\left( 1 - xs_{6 6} \\right)^{2} + \\left( 1 - xs_{6 7} \\right)^{2} + \\left( 1 - xs_{6 8} \\right)^{2} + \\left( 1 - xs_{6 9} \\right)^{2} + \\left( 1 - xs_{7 0} \\right)^{2} + \\left( 1 - xs_{7 1} \\right)^{2} + \\left( 1 - xs_{7 2} \\right)^{2} + \\left( 1 - xs_{7 3} \\right)^{2} + \\left( 1 - xs_{7 4} \\right)^{2} + \\left( 1 - xs_{7 5} \\right)^{2} + \\left( 1 - xs_{7 6} \\right)^{2} + \\left( 1 - xs_{7 7} \\right)^{2} + \\left( 1 - xs_{7 8} \\right)^{2} + \\left( 1 - xs_{7 9} \\right)^{2} + \\left( 1 - xs_{8 0} \\right)^{2} + \\left( 1 - xs_{8 1} \\right)^{2} + \\left( 1 - xs_{8 2} \\right)^{2} + \\left( 1 - xs_{8 3} \\right)^{2} + \\left( 1 - xs_{8 4} \\right)^{2} + \\left( 1 - xs_{8 5} \\right)^{2} + \\left( 1 - xs_{8 6} \\right)^{2} + \\left( 1 - xs_{8 7} \\right)^{2} + \\left( 1 - xs_{8 8} \\right)^{2} + \\left( 1 - xs_{8 9} \\right)^{2} + \\left( 1 - xs_{9 0} \\right)^{2} + \\left( 1 - xs_{9 1} \\right)^{2} + \\left( 1 - xs_{9 2} \\right)^{2} + \\left( 1 - xs_{9 3} \\right)^{2} + \\left( 1 - xs_{9 4} \\right)^{2} + \\left( 1 - xs_{9 5} \\right)^{2} + \\left( 1 - xs_{9 6} \\right)^{2} + \\left( 1 - xs_{9 7} \\right)^{2} + \\left( 1 - xs_{9 8} \\right)^{2} + \\left( 1 - xs_{9 9} \\right)^{2}\n",
       "\\end{equation}\n"
      ],
      "text/plain": [
       "100((xs[2] - (xs[1]^2))^2) + 100((xs[3] - (xs[2]^2))^2) + 100((xs[4] - (xs[3]^2))^2) + 100((xs[5] - (xs[4]^2))^2) + 100((xs[6] - (xs[5]^2))^2) + 100((xs[7] - (xs[6]^2))^2) + 100((xs[8] - (xs[7]^2))^2) + 100((xs[9] - (xs[8]^2))^2) + 100((xs[10] - (xs[9]^2))^2) + 100((xs[11] - (xs[10]^2))^2) + 100((xs[12] - (xs[11]^2))^2) + 100((xs[13] - (xs[12]^2))^2) + 100((xs[14] - (xs[13]^2))^2) + 100((xs[15] - (xs[14]^2))^2) + 100((xs[16] - (xs[15]^2))^2) + 100((xs[17] - (xs[16]^2))^2) + 100((xs[18] - (xs[17]^2))^2) + 100((xs[19] - (xs[18]^2))^2) + 100((xs[20] - (xs[19]^2))^2) + 100((xs[21] - (xs[20]^2))^2) + 100((xs[22] - (xs[21]^2))^2) + 100((xs[23] - (xs[22]^2))^2) + 100((xs[24] - (xs[23]^2))^2) + 100((xs[25] - (xs[24]^2))^2) + 100((xs[26] - (xs[25]^2))^2) + 100((xs[27] - (xs[26]^2))^2) + 100((xs[28] - (xs[27]^2))^2) + 100((xs[29] - (xs[28]^2))^2) + 100((xs[30] - (xs[29]^2))^2) + 100((xs[31] - (xs[30]^2))^2) + 100((xs[32] - (xs[31]^2))^2) + 100((xs[33] - (xs[32]^2))^2) + 100((xs[34] - (xs[33]^2))^2) + 100((xs[35] - (xs[34]^2))^2) + 100((xs[36] - (xs[35]^2))^2) + 100((xs[37] - (xs[36]^2))^2) + 100((xs[38] - (xs[37]^2))^2) + 100((xs[39] - (xs[38]^2))^2) + 100((xs[40] - (xs[39]^2))^2) + 100((xs[41] - (xs[40]^2))^2) + 100((xs[42] - (xs[41]^2))^2) + 100((xs[43] - (xs[42]^2))^2) + 100((xs[44] - (xs[43]^2))^2) + 100((xs[45] - (xs[44]^2))^2) + 100((xs[46] - (xs[45]^2))^2) + 100((xs[47] - (xs[46]^2))^2) + 100((xs[48] - (xs[47]^2))^2) + 100((xs[49] - (xs[48]^2))^2) + 100((xs[50] - (xs[49]^2))^2) + 100((xs[51] - (xs[50]^2))^2) + 100((xs[52] - (xs[51]^2))^2) + 100((xs[53] - (xs[52]^2))^2) + 100((xs[54] - (xs[53]^2))^2) + 100((xs[55] - (xs[54]^2))^2) + 100((xs[56] - (xs[55]^2))^2) + 100((xs[57] - (xs[56]^2))^2) + 100((xs[58] - (xs[57]^2))^2) + 100((xs[59] - (xs[58]^2))^2) + 100((xs[60] - (xs[59]^2))^2) + 100((xs[61] - (xs[60]^2))^2) + 100((xs[62] - (xs[61]^2))^2) + 100((xs[63] - (xs[62]^2))^2) + 100((xs[64] - (xs[63]^2))^2) + 100((xs[65] - (xs[64]^2))^2) + 100((xs[66] - (xs[65]^2))^2) + 100((xs[67] - (xs[66]^2))^2) + 100((xs[68] - (xs[67]^2))^2) + 100((xs[69] - (xs[68]^2))^2) + 100((xs[70] - (xs[69]^2))^2) + 100((xs[71] - (xs[70]^2))^2) + 100((xs[72] - (xs[71]^2))^2) + 100((xs[73] - (xs[72]^2))^2) + 100((xs[74] - (xs[73]^2))^2) + 100((xs[75] - (xs[74]^2))^2) + 100((xs[76] - (xs[75]^2))^2) + 100((xs[77] - (xs[76]^2))^2) + 100((xs[78] - (xs[77]^2))^2) + 100((xs[79] - (xs[78]^2))^2) + 100((xs[80] - (xs[79]^2))^2) + 100((xs[81] - (xs[80]^2))^2) + 100((xs[82] - (xs[81]^2))^2) + 100((xs[83] - (xs[82]^2))^2) + 100((xs[84] - (xs[83]^2))^2) + 100((xs[85] - (xs[84]^2))^2) + 100((xs[86] - (xs[85]^2))^2) + 100((xs[87] - (xs[86]^2))^2) + 100((xs[88] - (xs[87]^2))^2) + 100((xs[89] - (xs[88]^2))^2) + 100((xs[90] - (xs[89]^2))^2) + 100((xs[91] - (xs[90]^2))^2) + 100((xs[92] - (xs[91]^2))^2) + 100((xs[93] - (xs[92]^2))^2) + 100((xs[94] - (xs[93]^2))^2) + 100((xs[95] - (xs[94]^2))^2) + 100((xs[96] - (xs[95]^2))^2) + 100((xs[97] - (xs[96]^2))^2) + 100((xs[98] - (xs[97]^2))^2) + 100((xs[99] - (xs[98]^2))^2) + 100((xs[100] - (xs[99]^2))^2) + (1 - xs[1])^2 + (1 - xs[2])^2 + (1 - xs[3])^2 + (1 - xs[4])^2 + (1 - xs[5])^2 + (1 - xs[6])^2 + (1 - xs[7])^2 + (1 - xs[8])^2 + (1 - xs[9])^2 + (1 - xs[10])^2 + (1 - xs[11])^2 + (1 - xs[12])^2 + (1 - xs[13])^2 + (1 - xs[14])^2 + (1 - xs[15])^2 + (1 - xs[16])^2 + (1 - xs[17])^2 + (1 - xs[18])^2 + (1 - xs[19])^2 + (1 - xs[20])^2 + (1 - xs[21])^2 + (1 - xs[22])^2 + (1 - xs[23])^2 + (1 - xs[24])^2 + (1 - xs[25])^2 + (1 - xs[26])^2 + (1 - xs[27])^2 + (1 - xs[28])^2 + (1 - xs[29])^2 + (1 - xs[30])^2 + (1 - xs[31])^2 + (1 - xs[32])^2 + (1 - xs[33])^2 + (1 - xs[34])^2 + (1 - xs[35])^2 + (1 - xs[36])^2 + (1 - xs[37])^2 + (1 - xs[38])^2 + (1 - xs[39])^2 + (1 - xs[40])^2 + (1 - xs[41])^2 + (1 - xs[42])^2 + (1 - xs[43])^2 + (1 - xs[44])^2 + (1 - xs[45])^2 + (1 - xs[46])^2 + (1 - xs[47])^2 + (1 - xs[48])^2 + (1 - xs[49])^2 + (1 - xs[50])^2 + (1 - xs[51])^2 + (1 - xs[52])^2 + (1 - xs[53])^2 + (1 - xs[54])^2 + (1 - xs[55])^2 + (1 - xs[56])^2 + (1 - xs[57])^2 + (1 - xs[58])^2 + (1 - xs[59])^2 + (1 - xs[60])^2 + (1 - xs[61])^2 + (1 - xs[62])^2 + (1 - xs[63])^2 + (1 - xs[64])^2 + (1 - xs[65])^2 + (1 - xs[66])^2 + (1 - xs[67])^2 + (1 - xs[68])^2 + (1 - xs[69])^2 + (1 - xs[70])^2 + (1 - xs[71])^2 + (1 - xs[72])^2 + (1 - xs[73])^2 + (1 - xs[74])^2 + (1 - xs[75])^2 + (1 - xs[76])^2 + (1 - xs[77])^2 + (1 - xs[78])^2 + (1 - xs[79])^2 + (1 - xs[80])^2 + (1 - xs[81])^2 + (1 - xs[82])^2 + (1 - xs[83])^2 + (1 - xs[84])^2 + (1 - xs[85])^2 + (1 - xs[86])^2 + (1 - xs[87])^2 + (1 - xs[88])^2 + (1 - xs[89])^2 + (1 - xs[90])^2 + (1 - xs[91])^2 + (1 - xs[92])^2 + (1 - xs[93])^2 + (1 - xs[94])^2 + (1 - xs[95])^2 + (1 - xs[96])^2 + (1 - xs[97])^2 + (1 - xs[98])^2 + (1 - xs[99])^2"
      ]
     },
     "execution_count": 29,
     "metadata": {},
     "output_type": "execute_result"
    }
   ],
   "source": [
    "rxs = rosenbrock(xs)"
   ]
  },
  {
   "cell_type": "code",
   "execution_count": 30,
   "id": "08bcac34",
   "metadata": {
    "execution": {
     "iopub.execute_input": "2022-08-01T02:13:27.344000Z",
     "iopub.status.busy": "2022-08-01T02:13:27.344000Z",
     "iopub.status.idle": "2022-08-01T02:13:31.053000Z",
     "shell.execute_reply": "2022-08-01T02:13:31.052000Z"
    },
    "tags": []
   },
   "outputs": [
    {
     "data": {
      "text/latex": [
       "\\begin{equation}\n",
       "\\left[\n",
       "\\begin{array}{c}\n",
       "-2 + 2 xs_1 - 200 \\left(  - 2 xs_1^{2} + 2 xs_2 \\right) xs_1 \\\\\n",
       "-2 - 200 xs_1^{2} + 202 xs_2 - 200 \\left(  - 2 xs_2^{2} + 2 xs_3 \\right) xs_2 \\\\\n",
       "-2 - 200 xs_2^{2} + 202 xs_3 - 200 \\left(  - 2 xs_3^{2} + 2 xs_4 \\right) xs_3 \\\\\n",
       "-2 - 200 xs_3^{2} + 202 xs_4 - 200 \\left(  - 2 xs_4^{2} + 2 xs_5 \\right) xs_4 \\\\\n",
       "-2 - 200 xs_4^{2} + 202 xs_5 - 200 \\left(  - 2 xs_5^{2} + 2 xs_6 \\right) xs_5 \\\\\n",
       "-2 - 200 xs_5^{2} + 202 xs_6 - 200 \\left(  - 2 xs_6^{2} + 2 xs_7 \\right) xs_6 \\\\\n",
       "-2 - 200 xs_6^{2} + 202 xs_7 - 200 \\left(  - 2 xs_7^{2} + 2 xs_8 \\right) xs_7 \\\\\n",
       "-2 - 200 xs_7^{2} + 202 xs_8 - 200 \\left(  - 2 xs_8^{2} + 2 xs_9 \\right) xs_8 \\\\\n",
       "-2 - 200 xs_8^{2} + 202 xs_9 - 200 \\left(  - 2 xs_9^{2} + 2 xs_{1 0} \\right) xs_9 \\\\\n",
       "-2 - 200 xs_9^{2} + 202 xs_{1 0} - 200 \\left(  - 2 xs_{1 0}^{2} + 2 xs_{1 1} \\right) xs_{1 0} \\\\\n",
       "-2 - 200 xs_{1 0}^{2} + 202 xs_{1 1} - 200 \\left(  - 2 xs_{1 1}^{2} + 2 xs_{1 2} \\right) xs_{1 1} \\\\\n",
       "-2 - 200 xs_{1 1}^{2} + 202 xs_{1 2} - 200 \\left(  - 2 xs_{1 2}^{2} + 2 xs_{1 3} \\right) xs_{1 2} \\\\\n",
       "-2 - 200 xs_{1 2}^{2} + 202 xs_{1 3} - 200 \\left(  - 2 xs_{1 3}^{2} + 2 xs_{1 4} \\right) xs_{1 3} \\\\\n",
       "-2 - 200 xs_{1 3}^{2} + 202 xs_{1 4} - 200 \\left(  - 2 xs_{1 4}^{2} + 2 xs_{1 5} \\right) xs_{1 4} \\\\\n",
       "-2 - 200 xs_{1 4}^{2} + 202 xs_{1 5} - 200 \\left(  - 2 xs_{1 5}^{2} + 2 xs_{1 6} \\right) xs_{1 5} \\\\\n",
       "-2 - 200 xs_{1 5}^{2} + 202 xs_{1 6} - 200 \\left(  - 2 xs_{1 6}^{2} + 2 xs_{1 7} \\right) xs_{1 6} \\\\\n",
       "-2 - 200 xs_{1 6}^{2} + 202 xs_{1 7} - 200 \\left(  - 2 xs_{1 7}^{2} + 2 xs_{1 8} \\right) xs_{1 7} \\\\\n",
       "-2 - 200 xs_{1 7}^{2} + 202 xs_{1 8} - 200 \\left(  - 2 xs_{1 8}^{2} + 2 xs_{1 9} \\right) xs_{1 8} \\\\\n",
       "-2 - 200 xs_{1 8}^{2} + 202 xs_{1 9} - 200 \\left(  - 2 xs_{1 9}^{2} + 2 xs_{2 0} \\right) xs_{1 9} \\\\\n",
       "-2 - 200 xs_{1 9}^{2} + 202 xs_{2 0} - 200 \\left(  - 2 xs_{2 0}^{2} + 2 xs_{2 1} \\right) xs_{2 0} \\\\\n",
       "-2 - 200 xs_{2 0}^{2} + 202 xs_{2 1} - 200 \\left(  - 2 xs_{2 1}^{2} + 2 xs_{2 2} \\right) xs_{2 1} \\\\\n",
       "-2 - 200 xs_{2 1}^{2} + 202 xs_{2 2} - 200 \\left(  - 2 xs_{2 2}^{2} + 2 xs_{2 3} \\right) xs_{2 2} \\\\\n",
       "-2 - 200 xs_{2 2}^{2} + 202 xs_{2 3} - 200 \\left(  - 2 xs_{2 3}^{2} + 2 xs_{2 4} \\right) xs_{2 3} \\\\\n",
       "-2 - 200 xs_{2 3}^{2} + 202 xs_{2 4} - 200 \\left(  - 2 xs_{2 4}^{2} + 2 xs_{2 5} \\right) xs_{2 4} \\\\\n",
       "-2 - 200 xs_{2 4}^{2} + 202 xs_{2 5} - 200 \\left(  - 2 xs_{2 5}^{2} + 2 xs_{2 6} \\right) xs_{2 5} \\\\\n",
       "-2 - 200 xs_{2 5}^{2} + 202 xs_{2 6} - 200 \\left(  - 2 xs_{2 6}^{2} + 2 xs_{2 7} \\right) xs_{2 6} \\\\\n",
       "-2 - 200 xs_{2 6}^{2} + 202 xs_{2 7} - 200 \\left(  - 2 xs_{2 7}^{2} + 2 xs_{2 8} \\right) xs_{2 7} \\\\\n",
       "-2 - 200 xs_{2 7}^{2} + 202 xs_{2 8} - 200 \\left(  - 2 xs_{2 8}^{2} + 2 xs_{2 9} \\right) xs_{2 8} \\\\\n",
       "-2 - 200 xs_{2 8}^{2} + 202 xs_{2 9} - 200 \\left(  - 2 xs_{2 9}^{2} + 2 xs_{3 0} \\right) xs_{2 9} \\\\\n",
       "-2 - 200 xs_{2 9}^{2} + 202 xs_{3 0} - 200 \\left(  - 2 xs_{3 0}^{2} + 2 xs_{3 1} \\right) xs_{3 0} \\\\\n",
       "-2 - 200 xs_{3 0}^{2} + 202 xs_{3 1} - 200 \\left(  - 2 xs_{3 1}^{2} + 2 xs_{3 2} \\right) xs_{3 1} \\\\\n",
       "-2 - 200 xs_{3 1}^{2} + 202 xs_{3 2} - 200 \\left(  - 2 xs_{3 2}^{2} + 2 xs_{3 3} \\right) xs_{3 2} \\\\\n",
       "-2 - 200 xs_{3 2}^{2} + 202 xs_{3 3} - 200 \\left(  - 2 xs_{3 3}^{2} + 2 xs_{3 4} \\right) xs_{3 3} \\\\\n",
       "-2 - 200 xs_{3 3}^{2} + 202 xs_{3 4} - 200 \\left(  - 2 xs_{3 4}^{2} + 2 xs_{3 5} \\right) xs_{3 4} \\\\\n",
       "-2 - 200 xs_{3 4}^{2} + 202 xs_{3 5} - 200 \\left(  - 2 xs_{3 5}^{2} + 2 xs_{3 6} \\right) xs_{3 5} \\\\\n",
       "-2 - 200 xs_{3 5}^{2} + 202 xs_{3 6} - 200 \\left(  - 2 xs_{3 6}^{2} + 2 xs_{3 7} \\right) xs_{3 6} \\\\\n",
       "-2 - 200 xs_{3 6}^{2} + 202 xs_{3 7} - 200 \\left(  - 2 xs_{3 7}^{2} + 2 xs_{3 8} \\right) xs_{3 7} \\\\\n",
       "-2 - 200 xs_{3 7}^{2} + 202 xs_{3 8} - 200 \\left(  - 2 xs_{3 8}^{2} + 2 xs_{3 9} \\right) xs_{3 8} \\\\\n",
       "-2 - 200 xs_{3 8}^{2} + 202 xs_{3 9} - 200 \\left(  - 2 xs_{3 9}^{2} + 2 xs_{4 0} \\right) xs_{3 9} \\\\\n",
       "-2 - 200 xs_{3 9}^{2} + 202 xs_{4 0} - 200 \\left(  - 2 xs_{4 0}^{2} + 2 xs_{4 1} \\right) xs_{4 0} \\\\\n",
       "-2 - 200 xs_{4 0}^{2} + 202 xs_{4 1} - 200 \\left(  - 2 xs_{4 1}^{2} + 2 xs_{4 2} \\right) xs_{4 1} \\\\\n",
       "-2 - 200 xs_{4 1}^{2} + 202 xs_{4 2} - 200 \\left(  - 2 xs_{4 2}^{2} + 2 xs_{4 3} \\right) xs_{4 2} \\\\\n",
       "-2 - 200 xs_{4 2}^{2} + 202 xs_{4 3} - 200 \\left(  - 2 xs_{4 3}^{2} + 2 xs_{4 4} \\right) xs_{4 3} \\\\\n",
       "-2 - 200 xs_{4 3}^{2} + 202 xs_{4 4} - 200 \\left(  - 2 xs_{4 4}^{2} + 2 xs_{4 5} \\right) xs_{4 4} \\\\\n",
       "-2 - 200 xs_{4 4}^{2} + 202 xs_{4 5} - 200 \\left(  - 2 xs_{4 5}^{2} + 2 xs_{4 6} \\right) xs_{4 5} \\\\\n",
       "-2 - 200 xs_{4 5}^{2} + 202 xs_{4 6} - 200 \\left(  - 2 xs_{4 6}^{2} + 2 xs_{4 7} \\right) xs_{4 6} \\\\\n",
       "-2 - 200 xs_{4 6}^{2} + 202 xs_{4 7} - 200 \\left(  - 2 xs_{4 7}^{2} + 2 xs_{4 8} \\right) xs_{4 7} \\\\\n",
       "-2 - 200 xs_{4 7}^{2} + 202 xs_{4 8} - 200 \\left(  - 2 xs_{4 8}^{2} + 2 xs_{4 9} \\right) xs_{4 8} \\\\\n",
       "-2 - 200 xs_{4 8}^{2} + 202 xs_{4 9} - 200 \\left(  - 2 xs_{4 9}^{2} + 2 xs_{5 0} \\right) xs_{4 9} \\\\\n",
       "-2 - 200 xs_{4 9}^{2} + 202 xs_{5 0} - 200 \\left(  - 2 xs_{5 0}^{2} + 2 xs_{5 1} \\right) xs_{5 0} \\\\\n",
       "-2 - 200 xs_{5 0}^{2} + 202 xs_{5 1} - 200 \\left(  - 2 xs_{5 1}^{2} + 2 xs_{5 2} \\right) xs_{5 1} \\\\\n",
       "-2 - 200 xs_{5 1}^{2} + 202 xs_{5 2} - 200 \\left(  - 2 xs_{5 2}^{2} + 2 xs_{5 3} \\right) xs_{5 2} \\\\\n",
       "-2 - 200 xs_{5 2}^{2} + 202 xs_{5 3} - 200 \\left(  - 2 xs_{5 3}^{2} + 2 xs_{5 4} \\right) xs_{5 3} \\\\\n",
       "-2 - 200 xs_{5 3}^{2} + 202 xs_{5 4} - 200 \\left(  - 2 xs_{5 4}^{2} + 2 xs_{5 5} \\right) xs_{5 4} \\\\\n",
       "-2 - 200 xs_{5 4}^{2} + 202 xs_{5 5} - 200 \\left(  - 2 xs_{5 5}^{2} + 2 xs_{5 6} \\right) xs_{5 5} \\\\\n",
       "-2 - 200 xs_{5 5}^{2} + 202 xs_{5 6} - 200 \\left(  - 2 xs_{5 6}^{2} + 2 xs_{5 7} \\right) xs_{5 6} \\\\\n",
       "-2 - 200 xs_{5 6}^{2} + 202 xs_{5 7} - 200 \\left(  - 2 xs_{5 7}^{2} + 2 xs_{5 8} \\right) xs_{5 7} \\\\\n",
       "-2 - 200 xs_{5 7}^{2} + 202 xs_{5 8} - 200 \\left(  - 2 xs_{5 8}^{2} + 2 xs_{5 9} \\right) xs_{5 8} \\\\\n",
       "-2 - 200 xs_{5 8}^{2} + 202 xs_{5 9} - 200 \\left(  - 2 xs_{5 9}^{2} + 2 xs_{6 0} \\right) xs_{5 9} \\\\\n",
       "-2 - 200 xs_{5 9}^{2} + 202 xs_{6 0} - 200 \\left(  - 2 xs_{6 0}^{2} + 2 xs_{6 1} \\right) xs_{6 0} \\\\\n",
       "-2 - 200 xs_{6 0}^{2} + 202 xs_{6 1} - 200 \\left(  - 2 xs_{6 1}^{2} + 2 xs_{6 2} \\right) xs_{6 1} \\\\\n",
       "-2 - 200 xs_{6 1}^{2} + 202 xs_{6 2} - 200 \\left(  - 2 xs_{6 2}^{2} + 2 xs_{6 3} \\right) xs_{6 2} \\\\\n",
       "-2 - 200 xs_{6 2}^{2} + 202 xs_{6 3} - 200 \\left(  - 2 xs_{6 3}^{2} + 2 xs_{6 4} \\right) xs_{6 3} \\\\\n",
       "-2 - 200 xs_{6 3}^{2} + 202 xs_{6 4} - 200 \\left(  - 2 xs_{6 4}^{2} + 2 xs_{6 5} \\right) xs_{6 4} \\\\\n",
       "-2 - 200 xs_{6 4}^{2} + 202 xs_{6 5} - 200 \\left(  - 2 xs_{6 5}^{2} + 2 xs_{6 6} \\right) xs_{6 5} \\\\\n",
       "-2 - 200 xs_{6 5}^{2} + 202 xs_{6 6} - 200 \\left(  - 2 xs_{6 6}^{2} + 2 xs_{6 7} \\right) xs_{6 6} \\\\\n",
       "-2 - 200 xs_{6 6}^{2} + 202 xs_{6 7} - 200 \\left(  - 2 xs_{6 7}^{2} + 2 xs_{6 8} \\right) xs_{6 7} \\\\\n",
       "-2 - 200 xs_{6 7}^{2} + 202 xs_{6 8} - 200 \\left(  - 2 xs_{6 8}^{2} + 2 xs_{6 9} \\right) xs_{6 8} \\\\\n",
       "-2 - 200 xs_{6 8}^{2} + 202 xs_{6 9} - 200 \\left(  - 2 xs_{6 9}^{2} + 2 xs_{7 0} \\right) xs_{6 9} \\\\\n",
       "-2 - 200 xs_{6 9}^{2} + 202 xs_{7 0} - 200 \\left(  - 2 xs_{7 0}^{2} + 2 xs_{7 1} \\right) xs_{7 0} \\\\\n",
       "-2 - 200 xs_{7 0}^{2} + 202 xs_{7 1} - 200 \\left(  - 2 xs_{7 1}^{2} + 2 xs_{7 2} \\right) xs_{7 1} \\\\\n",
       "-2 - 200 xs_{7 1}^{2} + 202 xs_{7 2} - 200 \\left(  - 2 xs_{7 2}^{2} + 2 xs_{7 3} \\right) xs_{7 2} \\\\\n",
       "-2 - 200 xs_{7 2}^{2} + 202 xs_{7 3} - 200 \\left(  - 2 xs_{7 3}^{2} + 2 xs_{7 4} \\right) xs_{7 3} \\\\\n",
       "-2 - 200 xs_{7 3}^{2} + 202 xs_{7 4} - 200 \\left(  - 2 xs_{7 4}^{2} + 2 xs_{7 5} \\right) xs_{7 4} \\\\\n",
       "-2 - 200 xs_{7 4}^{2} + 202 xs_{7 5} - 200 \\left(  - 2 xs_{7 5}^{2} + 2 xs_{7 6} \\right) xs_{7 5} \\\\\n",
       "-2 - 200 xs_{7 5}^{2} + 202 xs_{7 6} - 200 \\left(  - 2 xs_{7 6}^{2} + 2 xs_{7 7} \\right) xs_{7 6} \\\\\n",
       "-2 - 200 xs_{7 6}^{2} + 202 xs_{7 7} - 200 \\left(  - 2 xs_{7 7}^{2} + 2 xs_{7 8} \\right) xs_{7 7} \\\\\n",
       "-2 - 200 xs_{7 7}^{2} + 202 xs_{7 8} - 200 \\left(  - 2 xs_{7 8}^{2} + 2 xs_{7 9} \\right) xs_{7 8} \\\\\n",
       "-2 - 200 xs_{7 8}^{2} + 202 xs_{7 9} - 200 \\left(  - 2 xs_{7 9}^{2} + 2 xs_{8 0} \\right) xs_{7 9} \\\\\n",
       "-2 - 200 xs_{7 9}^{2} + 202 xs_{8 0} - 200 \\left(  - 2 xs_{8 0}^{2} + 2 xs_{8 1} \\right) xs_{8 0} \\\\\n",
       "-2 - 200 xs_{8 0}^{2} + 202 xs_{8 1} - 200 \\left(  - 2 xs_{8 1}^{2} + 2 xs_{8 2} \\right) xs_{8 1} \\\\\n",
       "-2 - 200 xs_{8 1}^{2} + 202 xs_{8 2} - 200 \\left(  - 2 xs_{8 2}^{2} + 2 xs_{8 3} \\right) xs_{8 2} \\\\\n",
       "-2 - 200 xs_{8 2}^{2} + 202 xs_{8 3} - 200 \\left(  - 2 xs_{8 3}^{2} + 2 xs_{8 4} \\right) xs_{8 3} \\\\\n",
       "-2 - 200 xs_{8 3}^{2} + 202 xs_{8 4} - 200 \\left(  - 2 xs_{8 4}^{2} + 2 xs_{8 5} \\right) xs_{8 4} \\\\\n",
       "-2 - 200 xs_{8 4}^{2} + 202 xs_{8 5} - 200 \\left(  - 2 xs_{8 5}^{2} + 2 xs_{8 6} \\right) xs_{8 5} \\\\\n",
       "-2 - 200 xs_{8 5}^{2} + 202 xs_{8 6} - 200 \\left(  - 2 xs_{8 6}^{2} + 2 xs_{8 7} \\right) xs_{8 6} \\\\\n",
       "-2 - 200 xs_{8 6}^{2} + 202 xs_{8 7} - 200 \\left(  - 2 xs_{8 7}^{2} + 2 xs_{8 8} \\right) xs_{8 7} \\\\\n",
       "-2 - 200 xs_{8 7}^{2} + 202 xs_{8 8} - 200 \\left(  - 2 xs_{8 8}^{2} + 2 xs_{8 9} \\right) xs_{8 8} \\\\\n",
       "-2 - 200 xs_{8 8}^{2} + 202 xs_{8 9} - 200 \\left(  - 2 xs_{8 9}^{2} + 2 xs_{9 0} \\right) xs_{8 9} \\\\\n",
       "-2 - 200 xs_{8 9}^{2} + 202 xs_{9 0} - 200 \\left(  - 2 xs_{9 0}^{2} + 2 xs_{9 1} \\right) xs_{9 0} \\\\\n",
       "-2 - 200 xs_{9 0}^{2} + 202 xs_{9 1} - 200 \\left(  - 2 xs_{9 1}^{2} + 2 xs_{9 2} \\right) xs_{9 1} \\\\\n",
       "-2 - 200 xs_{9 1}^{2} + 202 xs_{9 2} - 200 \\left(  - 2 xs_{9 2}^{2} + 2 xs_{9 3} \\right) xs_{9 2} \\\\\n",
       "-2 - 200 xs_{9 2}^{2} + 202 xs_{9 3} - 200 \\left(  - 2 xs_{9 3}^{2} + 2 xs_{9 4} \\right) xs_{9 3} \\\\\n",
       "-2 - 200 xs_{9 3}^{2} + 202 xs_{9 4} - 200 \\left(  - 2 xs_{9 4}^{2} + 2 xs_{9 5} \\right) xs_{9 4} \\\\\n",
       "-2 - 200 xs_{9 4}^{2} + 202 xs_{9 5} - 200 \\left(  - 2 xs_{9 5}^{2} + 2 xs_{9 6} \\right) xs_{9 5} \\\\\n",
       "-2 - 200 xs_{9 5}^{2} + 202 xs_{9 6} - 200 \\left(  - 2 xs_{9 6}^{2} + 2 xs_{9 7} \\right) xs_{9 6} \\\\\n",
       "-2 - 200 xs_{9 6}^{2} + 202 xs_{9 7} - 200 \\left(  - 2 xs_{9 7}^{2} + 2 xs_{9 8} \\right) xs_{9 7} \\\\\n",
       "-2 - 200 xs_{9 7}^{2} + 202 xs_{9 8} - 200 \\left(  - 2 xs_{9 8}^{2} + 2 xs_{9 9} \\right) xs_{9 8} \\\\\n",
       "-2 - 200 xs_{9 8}^{2} + 202 xs_{9 9} - 200 \\left(  - 2 xs_{9 9}^{2} + 2 xs_{1 0 0} \\right) xs_{9 9} \\\\\n",
       " - 200 xs_{9 9}^{2} + 200 xs_{1 0 0} \\\\\n",
       "\\end{array}\n",
       "\\right]\n",
       "\\end{equation}\n"
      ],
      "text/plain": [
       "100-element Vector{Num}:\n",
       "                        2xs[1] - 2 - 200(2xs[2] - 2(xs[1]^2))*xs[1]\n",
       "       202xs[2] - 2 - 200(xs[1]^2) - 200(2xs[3] - 2(xs[2]^2))*xs[2]\n",
       "       202xs[3] - 2 - 200(xs[2]^2) - 200(2xs[4] - 2(xs[3]^2))*xs[3]\n",
       "       202xs[4] - 2 - 200(xs[3]^2) - 200(2xs[5] - 2(xs[4]^2))*xs[4]\n",
       "       202xs[5] - 2 - 200(xs[4]^2) - 200(2xs[6] - 2(xs[5]^2))*xs[5]\n",
       "       202xs[6] - 2 - 200(xs[5]^2) - 200(2xs[7] - 2(xs[6]^2))*xs[6]\n",
       "       202xs[7] - 2 - 200(xs[6]^2) - 200(2xs[8] - 2(xs[7]^2))*xs[7]\n",
       "       202xs[8] - 2 - 200(xs[7]^2) - 200(2xs[9] - 2(xs[8]^2))*xs[8]\n",
       "      202xs[9] - 2 - 200(xs[8]^2) - 200(2xs[10] - 2(xs[9]^2))*xs[9]\n",
       "   202xs[10] - 2 - 200(xs[9]^2) - 200(2xs[11] - 2(xs[10]^2))*xs[10]\n",
       "  202xs[11] - 2 - 200(xs[10]^2) - 200(2xs[12] - 2(xs[11]^2))*xs[11]\n",
       "  202xs[12] - 2 - 200(xs[11]^2) - 200(2xs[13] - 2(xs[12]^2))*xs[12]\n",
       "  202xs[13] - 2 - 200(xs[12]^2) - 200(2xs[14] - 2(xs[13]^2))*xs[13]\n",
       "                                                                  ⋮\n",
       "  202xs[89] - 2 - 200(xs[88]^2) - 200(2xs[90] - 2(xs[89]^2))*xs[89]\n",
       "  202xs[90] - 2 - 200(xs[89]^2) - 200(2xs[91] - 2(xs[90]^2))*xs[90]\n",
       "  202xs[91] - 2 - 200(xs[90]^2) - 200(2xs[92] - 2(xs[91]^2))*xs[91]\n",
       "  202xs[92] - 2 - 200(xs[91]^2) - 200(2xs[93] - 2(xs[92]^2))*xs[92]\n",
       "  202xs[93] - 2 - 200(xs[92]^2) - 200(2xs[94] - 2(xs[93]^2))*xs[93]\n",
       "  202xs[94] - 2 - 200(xs[93]^2) - 200(2xs[95] - 2(xs[94]^2))*xs[94]\n",
       "  202xs[95] - 2 - 200(xs[94]^2) - 200(2xs[96] - 2(xs[95]^2))*xs[95]\n",
       "  202xs[96] - 2 - 200(xs[95]^2) - 200(2xs[97] - 2(xs[96]^2))*xs[96]\n",
       "  202xs[97] - 2 - 200(xs[96]^2) - 200(2xs[98] - 2(xs[97]^2))*xs[97]\n",
       "  202xs[98] - 2 - 200(xs[97]^2) - 200(2xs[99] - 2(xs[98]^2))*xs[98]\n",
       " 202xs[99] - 2 - 200(xs[98]^2) - 200(2xs[100] - 2(xs[99]^2))*xs[99]\n",
       "                                         200xs[100] - 200(xs[99]^2)"
      ]
     },
     "execution_count": 30,
     "metadata": {},
     "output_type": "execute_result"
    }
   ],
   "source": [
    "grad = Symbolics.gradient(rxs, xs)"
   ]
  },
  {
   "cell_type": "code",
   "execution_count": 31,
   "id": "3826bd62",
   "metadata": {
    "execution": {
     "iopub.execute_input": "2022-08-01T02:13:31.055000Z",
     "iopub.status.busy": "2022-08-01T02:13:31.055000Z",
     "iopub.status.idle": "2022-08-01T02:13:33.487000Z",
     "shell.execute_reply": "2022-08-01T02:13:33.487000Z"
    },
    "tags": []
   },
   "outputs": [
    {
     "data": {
      "text/latex": [
       "\\begin{equation}\n",
       "\\left[\n",
       "\\begin{array}{cccccccccccccccccccccccccccccccccccccccccccccccccccccccccccccccccccccccccccccccccccccccccccccccccccc}\n",
       "2 + 1200 xs_1^{2} - 400 xs_2 &  - 400 xs_1 & 0 & 0 & 0 & 0 & 0 & 0 & 0 & 0 & 0 & 0 & 0 & 0 & 0 & 0 & 0 & 0 & 0 & 0 & 0 & 0 & 0 & 0 & 0 & 0 & 0 & 0 & 0 & 0 & 0 & 0 & 0 & 0 & 0 & 0 & 0 & 0 & 0 & 0 & 0 & 0 & 0 & 0 & 0 & 0 & 0 & 0 & 0 & 0 & 0 & 0 & 0 & 0 & 0 & 0 & 0 & 0 & 0 & 0 & 0 & 0 & 0 & 0 & 0 & 0 & 0 & 0 & 0 & 0 & 0 & 0 & 0 & 0 & 0 & 0 & 0 & 0 & 0 & 0 & 0 & 0 & 0 & 0 & 0 & 0 & 0 & 0 & 0 & 0 & 0 & 0 & 0 & 0 & 0 & 0 & 0 & 0 & 0 & 0 \\\\\n",
       " - 400 xs_1 & 202 - 400 xs_3 + 1200 xs_2^{2} &  - 400 xs_2 & 0 & 0 & 0 & 0 & 0 & 0 & 0 & 0 & 0 & 0 & 0 & 0 & 0 & 0 & 0 & 0 & 0 & 0 & 0 & 0 & 0 & 0 & 0 & 0 & 0 & 0 & 0 & 0 & 0 & 0 & 0 & 0 & 0 & 0 & 0 & 0 & 0 & 0 & 0 & 0 & 0 & 0 & 0 & 0 & 0 & 0 & 0 & 0 & 0 & 0 & 0 & 0 & 0 & 0 & 0 & 0 & 0 & 0 & 0 & 0 & 0 & 0 & 0 & 0 & 0 & 0 & 0 & 0 & 0 & 0 & 0 & 0 & 0 & 0 & 0 & 0 & 0 & 0 & 0 & 0 & 0 & 0 & 0 & 0 & 0 & 0 & 0 & 0 & 0 & 0 & 0 & 0 & 0 & 0 & 0 & 0 & 0 \\\\\n",
       "0 &  - 400 xs_2 & 202 + 1200 xs_3^{2} - 400 xs_4 &  - 400 xs_3 & 0 & 0 & 0 & 0 & 0 & 0 & 0 & 0 & 0 & 0 & 0 & 0 & 0 & 0 & 0 & 0 & 0 & 0 & 0 & 0 & 0 & 0 & 0 & 0 & 0 & 0 & 0 & 0 & 0 & 0 & 0 & 0 & 0 & 0 & 0 & 0 & 0 & 0 & 0 & 0 & 0 & 0 & 0 & 0 & 0 & 0 & 0 & 0 & 0 & 0 & 0 & 0 & 0 & 0 & 0 & 0 & 0 & 0 & 0 & 0 & 0 & 0 & 0 & 0 & 0 & 0 & 0 & 0 & 0 & 0 & 0 & 0 & 0 & 0 & 0 & 0 & 0 & 0 & 0 & 0 & 0 & 0 & 0 & 0 & 0 & 0 & 0 & 0 & 0 & 0 & 0 & 0 & 0 & 0 & 0 & 0 \\\\\n",
       "0 & 0 &  - 400 xs_3 & 202 - 400 xs_5 + 1200 xs_4^{2} &  - 400 xs_4 & 0 & 0 & 0 & 0 & 0 & 0 & 0 & 0 & 0 & 0 & 0 & 0 & 0 & 0 & 0 & 0 & 0 & 0 & 0 & 0 & 0 & 0 & 0 & 0 & 0 & 0 & 0 & 0 & 0 & 0 & 0 & 0 & 0 & 0 & 0 & 0 & 0 & 0 & 0 & 0 & 0 & 0 & 0 & 0 & 0 & 0 & 0 & 0 & 0 & 0 & 0 & 0 & 0 & 0 & 0 & 0 & 0 & 0 & 0 & 0 & 0 & 0 & 0 & 0 & 0 & 0 & 0 & 0 & 0 & 0 & 0 & 0 & 0 & 0 & 0 & 0 & 0 & 0 & 0 & 0 & 0 & 0 & 0 & 0 & 0 & 0 & 0 & 0 & 0 & 0 & 0 & 0 & 0 & 0 & 0 \\\\\n",
       "0 & 0 & 0 &  - 400 xs_4 & 202 + 1200 xs_5^{2} - 400 xs_6 &  - 400 xs_5 & 0 & 0 & 0 & 0 & 0 & 0 & 0 & 0 & 0 & 0 & 0 & 0 & 0 & 0 & 0 & 0 & 0 & 0 & 0 & 0 & 0 & 0 & 0 & 0 & 0 & 0 & 0 & 0 & 0 & 0 & 0 & 0 & 0 & 0 & 0 & 0 & 0 & 0 & 0 & 0 & 0 & 0 & 0 & 0 & 0 & 0 & 0 & 0 & 0 & 0 & 0 & 0 & 0 & 0 & 0 & 0 & 0 & 0 & 0 & 0 & 0 & 0 & 0 & 0 & 0 & 0 & 0 & 0 & 0 & 0 & 0 & 0 & 0 & 0 & 0 & 0 & 0 & 0 & 0 & 0 & 0 & 0 & 0 & 0 & 0 & 0 & 0 & 0 & 0 & 0 & 0 & 0 & 0 & 0 \\\\\n",
       "0 & 0 & 0 & 0 &  - 400 xs_5 & 202 - 400 xs_7 + 1200 xs_6^{2} &  - 400 xs_6 & 0 & 0 & 0 & 0 & 0 & 0 & 0 & 0 & 0 & 0 & 0 & 0 & 0 & 0 & 0 & 0 & 0 & 0 & 0 & 0 & 0 & 0 & 0 & 0 & 0 & 0 & 0 & 0 & 0 & 0 & 0 & 0 & 0 & 0 & 0 & 0 & 0 & 0 & 0 & 0 & 0 & 0 & 0 & 0 & 0 & 0 & 0 & 0 & 0 & 0 & 0 & 0 & 0 & 0 & 0 & 0 & 0 & 0 & 0 & 0 & 0 & 0 & 0 & 0 & 0 & 0 & 0 & 0 & 0 & 0 & 0 & 0 & 0 & 0 & 0 & 0 & 0 & 0 & 0 & 0 & 0 & 0 & 0 & 0 & 0 & 0 & 0 & 0 & 0 & 0 & 0 & 0 & 0 \\\\\n",
       "0 & 0 & 0 & 0 & 0 &  - 400 xs_6 & 202 - 400 xs_8 + 1200 xs_7^{2} &  - 400 xs_7 & 0 & 0 & 0 & 0 & 0 & 0 & 0 & 0 & 0 & 0 & 0 & 0 & 0 & 0 & 0 & 0 & 0 & 0 & 0 & 0 & 0 & 0 & 0 & 0 & 0 & 0 & 0 & 0 & 0 & 0 & 0 & 0 & 0 & 0 & 0 & 0 & 0 & 0 & 0 & 0 & 0 & 0 & 0 & 0 & 0 & 0 & 0 & 0 & 0 & 0 & 0 & 0 & 0 & 0 & 0 & 0 & 0 & 0 & 0 & 0 & 0 & 0 & 0 & 0 & 0 & 0 & 0 & 0 & 0 & 0 & 0 & 0 & 0 & 0 & 0 & 0 & 0 & 0 & 0 & 0 & 0 & 0 & 0 & 0 & 0 & 0 & 0 & 0 & 0 & 0 & 0 & 0 \\\\\n",
       "0 & 0 & 0 & 0 & 0 & 0 &  - 400 xs_7 & 202 + 1200 xs_8^{2} - 400 xs_9 &  - 400 xs_8 & 0 & 0 & 0 & 0 & 0 & 0 & 0 & 0 & 0 & 0 & 0 & 0 & 0 & 0 & 0 & 0 & 0 & 0 & 0 & 0 & 0 & 0 & 0 & 0 & 0 & 0 & 0 & 0 & 0 & 0 & 0 & 0 & 0 & 0 & 0 & 0 & 0 & 0 & 0 & 0 & 0 & 0 & 0 & 0 & 0 & 0 & 0 & 0 & 0 & 0 & 0 & 0 & 0 & 0 & 0 & 0 & 0 & 0 & 0 & 0 & 0 & 0 & 0 & 0 & 0 & 0 & 0 & 0 & 0 & 0 & 0 & 0 & 0 & 0 & 0 & 0 & 0 & 0 & 0 & 0 & 0 & 0 & 0 & 0 & 0 & 0 & 0 & 0 & 0 & 0 & 0 \\\\\n",
       "0 & 0 & 0 & 0 & 0 & 0 & 0 &  - 400 xs_8 & 202 - 400 xs_{1 0} + 1200 xs_9^{2} &  - 400 xs_9 & 0 & 0 & 0 & 0 & 0 & 0 & 0 & 0 & 0 & 0 & 0 & 0 & 0 & 0 & 0 & 0 & 0 & 0 & 0 & 0 & 0 & 0 & 0 & 0 & 0 & 0 & 0 & 0 & 0 & 0 & 0 & 0 & 0 & 0 & 0 & 0 & 0 & 0 & 0 & 0 & 0 & 0 & 0 & 0 & 0 & 0 & 0 & 0 & 0 & 0 & 0 & 0 & 0 & 0 & 0 & 0 & 0 & 0 & 0 & 0 & 0 & 0 & 0 & 0 & 0 & 0 & 0 & 0 & 0 & 0 & 0 & 0 & 0 & 0 & 0 & 0 & 0 & 0 & 0 & 0 & 0 & 0 & 0 & 0 & 0 & 0 & 0 & 0 & 0 & 0 \\\\\n",
       "0 & 0 & 0 & 0 & 0 & 0 & 0 & 0 &  - 400 xs_9 & 202 + 1200 xs_{1 0}^{2} - 400 xs_{1 1} &  - 400 xs_{1 0} & 0 & 0 & 0 & 0 & 0 & 0 & 0 & 0 & 0 & 0 & 0 & 0 & 0 & 0 & 0 & 0 & 0 & 0 & 0 & 0 & 0 & 0 & 0 & 0 & 0 & 0 & 0 & 0 & 0 & 0 & 0 & 0 & 0 & 0 & 0 & 0 & 0 & 0 & 0 & 0 & 0 & 0 & 0 & 0 & 0 & 0 & 0 & 0 & 0 & 0 & 0 & 0 & 0 & 0 & 0 & 0 & 0 & 0 & 0 & 0 & 0 & 0 & 0 & 0 & 0 & 0 & 0 & 0 & 0 & 0 & 0 & 0 & 0 & 0 & 0 & 0 & 0 & 0 & 0 & 0 & 0 & 0 & 0 & 0 & 0 & 0 & 0 & 0 & 0 \\\\\n",
       "0 & 0 & 0 & 0 & 0 & 0 & 0 & 0 & 0 &  - 400 xs_{1 0} & 202 - 400 xs_{1 2} + 1200 xs_{1 1}^{2} &  - 400 xs_{1 1} & 0 & 0 & 0 & 0 & 0 & 0 & 0 & 0 & 0 & 0 & 0 & 0 & 0 & 0 & 0 & 0 & 0 & 0 & 0 & 0 & 0 & 0 & 0 & 0 & 0 & 0 & 0 & 0 & 0 & 0 & 0 & 0 & 0 & 0 & 0 & 0 & 0 & 0 & 0 & 0 & 0 & 0 & 0 & 0 & 0 & 0 & 0 & 0 & 0 & 0 & 0 & 0 & 0 & 0 & 0 & 0 & 0 & 0 & 0 & 0 & 0 & 0 & 0 & 0 & 0 & 0 & 0 & 0 & 0 & 0 & 0 & 0 & 0 & 0 & 0 & 0 & 0 & 0 & 0 & 0 & 0 & 0 & 0 & 0 & 0 & 0 & 0 & 0 \\\\\n",
       "0 & 0 & 0 & 0 & 0 & 0 & 0 & 0 & 0 & 0 &  - 400 xs_{1 1} & 202 + 1200 xs_{1 2}^{2} - 400 xs_{1 3} &  - 400 xs_{1 2} & 0 & 0 & 0 & 0 & 0 & 0 & 0 & 0 & 0 & 0 & 0 & 0 & 0 & 0 & 0 & 0 & 0 & 0 & 0 & 0 & 0 & 0 & 0 & 0 & 0 & 0 & 0 & 0 & 0 & 0 & 0 & 0 & 0 & 0 & 0 & 0 & 0 & 0 & 0 & 0 & 0 & 0 & 0 & 0 & 0 & 0 & 0 & 0 & 0 & 0 & 0 & 0 & 0 & 0 & 0 & 0 & 0 & 0 & 0 & 0 & 0 & 0 & 0 & 0 & 0 & 0 & 0 & 0 & 0 & 0 & 0 & 0 & 0 & 0 & 0 & 0 & 0 & 0 & 0 & 0 & 0 & 0 & 0 & 0 & 0 & 0 & 0 \\\\\n",
       "0 & 0 & 0 & 0 & 0 & 0 & 0 & 0 & 0 & 0 & 0 &  - 400 xs_{1 2} & 202 - 400 xs_{1 4} + 1200 xs_{1 3}^{2} &  - 400 xs_{1 3} & 0 & 0 & 0 & 0 & 0 & 0 & 0 & 0 & 0 & 0 & 0 & 0 & 0 & 0 & 0 & 0 & 0 & 0 & 0 & 0 & 0 & 0 & 0 & 0 & 0 & 0 & 0 & 0 & 0 & 0 & 0 & 0 & 0 & 0 & 0 & 0 & 0 & 0 & 0 & 0 & 0 & 0 & 0 & 0 & 0 & 0 & 0 & 0 & 0 & 0 & 0 & 0 & 0 & 0 & 0 & 0 & 0 & 0 & 0 & 0 & 0 & 0 & 0 & 0 & 0 & 0 & 0 & 0 & 0 & 0 & 0 & 0 & 0 & 0 & 0 & 0 & 0 & 0 & 0 & 0 & 0 & 0 & 0 & 0 & 0 & 0 \\\\\n",
       "0 & 0 & 0 & 0 & 0 & 0 & 0 & 0 & 0 & 0 & 0 & 0 &  - 400 xs_{1 3} & 202 - 400 xs_{1 5} + 1200 xs_{1 4}^{2} &  - 400 xs_{1 4} & 0 & 0 & 0 & 0 & 0 & 0 & 0 & 0 & 0 & 0 & 0 & 0 & 0 & 0 & 0 & 0 & 0 & 0 & 0 & 0 & 0 & 0 & 0 & 0 & 0 & 0 & 0 & 0 & 0 & 0 & 0 & 0 & 0 & 0 & 0 & 0 & 0 & 0 & 0 & 0 & 0 & 0 & 0 & 0 & 0 & 0 & 0 & 0 & 0 & 0 & 0 & 0 & 0 & 0 & 0 & 0 & 0 & 0 & 0 & 0 & 0 & 0 & 0 & 0 & 0 & 0 & 0 & 0 & 0 & 0 & 0 & 0 & 0 & 0 & 0 & 0 & 0 & 0 & 0 & 0 & 0 & 0 & 0 & 0 & 0 \\\\\n",
       "0 & 0 & 0 & 0 & 0 & 0 & 0 & 0 & 0 & 0 & 0 & 0 & 0 &  - 400 xs_{1 4} & 202 - 400 xs_{1 6} + 1200 xs_{1 5}^{2} &  - 400 xs_{1 5} & 0 & 0 & 0 & 0 & 0 & 0 & 0 & 0 & 0 & 0 & 0 & 0 & 0 & 0 & 0 & 0 & 0 & 0 & 0 & 0 & 0 & 0 & 0 & 0 & 0 & 0 & 0 & 0 & 0 & 0 & 0 & 0 & 0 & 0 & 0 & 0 & 0 & 0 & 0 & 0 & 0 & 0 & 0 & 0 & 0 & 0 & 0 & 0 & 0 & 0 & 0 & 0 & 0 & 0 & 0 & 0 & 0 & 0 & 0 & 0 & 0 & 0 & 0 & 0 & 0 & 0 & 0 & 0 & 0 & 0 & 0 & 0 & 0 & 0 & 0 & 0 & 0 & 0 & 0 & 0 & 0 & 0 & 0 & 0 \\\\\n",
       "0 & 0 & 0 & 0 & 0 & 0 & 0 & 0 & 0 & 0 & 0 & 0 & 0 & 0 &  - 400 xs_{1 5} & 202 + 1200 xs_{1 6}^{2} - 400 xs_{1 7} &  - 400 xs_{1 6} & 0 & 0 & 0 & 0 & 0 & 0 & 0 & 0 & 0 & 0 & 0 & 0 & 0 & 0 & 0 & 0 & 0 & 0 & 0 & 0 & 0 & 0 & 0 & 0 & 0 & 0 & 0 & 0 & 0 & 0 & 0 & 0 & 0 & 0 & 0 & 0 & 0 & 0 & 0 & 0 & 0 & 0 & 0 & 0 & 0 & 0 & 0 & 0 & 0 & 0 & 0 & 0 & 0 & 0 & 0 & 0 & 0 & 0 & 0 & 0 & 0 & 0 & 0 & 0 & 0 & 0 & 0 & 0 & 0 & 0 & 0 & 0 & 0 & 0 & 0 & 0 & 0 & 0 & 0 & 0 & 0 & 0 & 0 \\\\\n",
       "0 & 0 & 0 & 0 & 0 & 0 & 0 & 0 & 0 & 0 & 0 & 0 & 0 & 0 & 0 &  - 400 xs_{1 6} & 202 - 400 xs_{1 8} + 1200 xs_{1 7}^{2} &  - 400 xs_{1 7} & 0 & 0 & 0 & 0 & 0 & 0 & 0 & 0 & 0 & 0 & 0 & 0 & 0 & 0 & 0 & 0 & 0 & 0 & 0 & 0 & 0 & 0 & 0 & 0 & 0 & 0 & 0 & 0 & 0 & 0 & 0 & 0 & 0 & 0 & 0 & 0 & 0 & 0 & 0 & 0 & 0 & 0 & 0 & 0 & 0 & 0 & 0 & 0 & 0 & 0 & 0 & 0 & 0 & 0 & 0 & 0 & 0 & 0 & 0 & 0 & 0 & 0 & 0 & 0 & 0 & 0 & 0 & 0 & 0 & 0 & 0 & 0 & 0 & 0 & 0 & 0 & 0 & 0 & 0 & 0 & 0 & 0 \\\\\n",
       "0 & 0 & 0 & 0 & 0 & 0 & 0 & 0 & 0 & 0 & 0 & 0 & 0 & 0 & 0 & 0 &  - 400 xs_{1 7} & 202 + 1200 xs_{1 8}^{2} - 400 xs_{1 9} &  - 400 xs_{1 8} & 0 & 0 & 0 & 0 & 0 & 0 & 0 & 0 & 0 & 0 & 0 & 0 & 0 & 0 & 0 & 0 & 0 & 0 & 0 & 0 & 0 & 0 & 0 & 0 & 0 & 0 & 0 & 0 & 0 & 0 & 0 & 0 & 0 & 0 & 0 & 0 & 0 & 0 & 0 & 0 & 0 & 0 & 0 & 0 & 0 & 0 & 0 & 0 & 0 & 0 & 0 & 0 & 0 & 0 & 0 & 0 & 0 & 0 & 0 & 0 & 0 & 0 & 0 & 0 & 0 & 0 & 0 & 0 & 0 & 0 & 0 & 0 & 0 & 0 & 0 & 0 & 0 & 0 & 0 & 0 & 0 \\\\\n",
       "0 & 0 & 0 & 0 & 0 & 0 & 0 & 0 & 0 & 0 & 0 & 0 & 0 & 0 & 0 & 0 & 0 &  - 400 xs_{1 8} & 202 - 400 xs_{2 0} + 1200 xs_{1 9}^{2} &  - 400 xs_{1 9} & 0 & 0 & 0 & 0 & 0 & 0 & 0 & 0 & 0 & 0 & 0 & 0 & 0 & 0 & 0 & 0 & 0 & 0 & 0 & 0 & 0 & 0 & 0 & 0 & 0 & 0 & 0 & 0 & 0 & 0 & 0 & 0 & 0 & 0 & 0 & 0 & 0 & 0 & 0 & 0 & 0 & 0 & 0 & 0 & 0 & 0 & 0 & 0 & 0 & 0 & 0 & 0 & 0 & 0 & 0 & 0 & 0 & 0 & 0 & 0 & 0 & 0 & 0 & 0 & 0 & 0 & 0 & 0 & 0 & 0 & 0 & 0 & 0 & 0 & 0 & 0 & 0 & 0 & 0 & 0 \\\\\n",
       "0 & 0 & 0 & 0 & 0 & 0 & 0 & 0 & 0 & 0 & 0 & 0 & 0 & 0 & 0 & 0 & 0 & 0 &  - 400 xs_{1 9} & 202 - 400 xs_{2 1} + 1200 xs_{2 0}^{2} &  - 400 xs_{2 0} & 0 & 0 & 0 & 0 & 0 & 0 & 0 & 0 & 0 & 0 & 0 & 0 & 0 & 0 & 0 & 0 & 0 & 0 & 0 & 0 & 0 & 0 & 0 & 0 & 0 & 0 & 0 & 0 & 0 & 0 & 0 & 0 & 0 & 0 & 0 & 0 & 0 & 0 & 0 & 0 & 0 & 0 & 0 & 0 & 0 & 0 & 0 & 0 & 0 & 0 & 0 & 0 & 0 & 0 & 0 & 0 & 0 & 0 & 0 & 0 & 0 & 0 & 0 & 0 & 0 & 0 & 0 & 0 & 0 & 0 & 0 & 0 & 0 & 0 & 0 & 0 & 0 & 0 & 0 \\\\\n",
       "0 & 0 & 0 & 0 & 0 & 0 & 0 & 0 & 0 & 0 & 0 & 0 & 0 & 0 & 0 & 0 & 0 & 0 & 0 &  - 400 xs_{2 0} & 202 - 400 xs_{2 2} + 1200 xs_{2 1}^{2} &  - 400 xs_{2 1} & 0 & 0 & 0 & 0 & 0 & 0 & 0 & 0 & 0 & 0 & 0 & 0 & 0 & 0 & 0 & 0 & 0 & 0 & 0 & 0 & 0 & 0 & 0 & 0 & 0 & 0 & 0 & 0 & 0 & 0 & 0 & 0 & 0 & 0 & 0 & 0 & 0 & 0 & 0 & 0 & 0 & 0 & 0 & 0 & 0 & 0 & 0 & 0 & 0 & 0 & 0 & 0 & 0 & 0 & 0 & 0 & 0 & 0 & 0 & 0 & 0 & 0 & 0 & 0 & 0 & 0 & 0 & 0 & 0 & 0 & 0 & 0 & 0 & 0 & 0 & 0 & 0 & 0 \\\\\n",
       "0 & 0 & 0 & 0 & 0 & 0 & 0 & 0 & 0 & 0 & 0 & 0 & 0 & 0 & 0 & 0 & 0 & 0 & 0 & 0 &  - 400 xs_{2 1} & 202 + 1200 xs_{2 2}^{2} - 400 xs_{2 3} &  - 400 xs_{2 2} & 0 & 0 & 0 & 0 & 0 & 0 & 0 & 0 & 0 & 0 & 0 & 0 & 0 & 0 & 0 & 0 & 0 & 0 & 0 & 0 & 0 & 0 & 0 & 0 & 0 & 0 & 0 & 0 & 0 & 0 & 0 & 0 & 0 & 0 & 0 & 0 & 0 & 0 & 0 & 0 & 0 & 0 & 0 & 0 & 0 & 0 & 0 & 0 & 0 & 0 & 0 & 0 & 0 & 0 & 0 & 0 & 0 & 0 & 0 & 0 & 0 & 0 & 0 & 0 & 0 & 0 & 0 & 0 & 0 & 0 & 0 & 0 & 0 & 0 & 0 & 0 & 0 \\\\\n",
       "0 & 0 & 0 & 0 & 0 & 0 & 0 & 0 & 0 & 0 & 0 & 0 & 0 & 0 & 0 & 0 & 0 & 0 & 0 & 0 & 0 &  - 400 xs_{2 2} & 202 - 400 xs_{2 4} + 1200 xs_{2 3}^{2} &  - 400 xs_{2 3} & 0 & 0 & 0 & 0 & 0 & 0 & 0 & 0 & 0 & 0 & 0 & 0 & 0 & 0 & 0 & 0 & 0 & 0 & 0 & 0 & 0 & 0 & 0 & 0 & 0 & 0 & 0 & 0 & 0 & 0 & 0 & 0 & 0 & 0 & 0 & 0 & 0 & 0 & 0 & 0 & 0 & 0 & 0 & 0 & 0 & 0 & 0 & 0 & 0 & 0 & 0 & 0 & 0 & 0 & 0 & 0 & 0 & 0 & 0 & 0 & 0 & 0 & 0 & 0 & 0 & 0 & 0 & 0 & 0 & 0 & 0 & 0 & 0 & 0 & 0 & 0 \\\\\n",
       "0 & 0 & 0 & 0 & 0 & 0 & 0 & 0 & 0 & 0 & 0 & 0 & 0 & 0 & 0 & 0 & 0 & 0 & 0 & 0 & 0 & 0 &  - 400 xs_{2 3} & 202 - 400 xs_{2 5} + 1200 xs_{2 4}^{2} &  - 400 xs_{2 4} & 0 & 0 & 0 & 0 & 0 & 0 & 0 & 0 & 0 & 0 & 0 & 0 & 0 & 0 & 0 & 0 & 0 & 0 & 0 & 0 & 0 & 0 & 0 & 0 & 0 & 0 & 0 & 0 & 0 & 0 & 0 & 0 & 0 & 0 & 0 & 0 & 0 & 0 & 0 & 0 & 0 & 0 & 0 & 0 & 0 & 0 & 0 & 0 & 0 & 0 & 0 & 0 & 0 & 0 & 0 & 0 & 0 & 0 & 0 & 0 & 0 & 0 & 0 & 0 & 0 & 0 & 0 & 0 & 0 & 0 & 0 & 0 & 0 & 0 & 0 \\\\\n",
       "0 & 0 & 0 & 0 & 0 & 0 & 0 & 0 & 0 & 0 & 0 & 0 & 0 & 0 & 0 & 0 & 0 & 0 & 0 & 0 & 0 & 0 & 0 &  - 400 xs_{2 4} & 202 + 1200 xs_{2 5}^{2} - 400 xs_{2 6} &  - 400 xs_{2 5} & 0 & 0 & 0 & 0 & 0 & 0 & 0 & 0 & 0 & 0 & 0 & 0 & 0 & 0 & 0 & 0 & 0 & 0 & 0 & 0 & 0 & 0 & 0 & 0 & 0 & 0 & 0 & 0 & 0 & 0 & 0 & 0 & 0 & 0 & 0 & 0 & 0 & 0 & 0 & 0 & 0 & 0 & 0 & 0 & 0 & 0 & 0 & 0 & 0 & 0 & 0 & 0 & 0 & 0 & 0 & 0 & 0 & 0 & 0 & 0 & 0 & 0 & 0 & 0 & 0 & 0 & 0 & 0 & 0 & 0 & 0 & 0 & 0 & 0 \\\\\n",
       "0 & 0 & 0 & 0 & 0 & 0 & 0 & 0 & 0 & 0 & 0 & 0 & 0 & 0 & 0 & 0 & 0 & 0 & 0 & 0 & 0 & 0 & 0 & 0 &  - 400 xs_{2 5} & 202 - 400 xs_{2 7} + 1200 xs_{2 6}^{2} &  - 400 xs_{2 6} & 0 & 0 & 0 & 0 & 0 & 0 & 0 & 0 & 0 & 0 & 0 & 0 & 0 & 0 & 0 & 0 & 0 & 0 & 0 & 0 & 0 & 0 & 0 & 0 & 0 & 0 & 0 & 0 & 0 & 0 & 0 & 0 & 0 & 0 & 0 & 0 & 0 & 0 & 0 & 0 & 0 & 0 & 0 & 0 & 0 & 0 & 0 & 0 & 0 & 0 & 0 & 0 & 0 & 0 & 0 & 0 & 0 & 0 & 0 & 0 & 0 & 0 & 0 & 0 & 0 & 0 & 0 & 0 & 0 & 0 & 0 & 0 & 0 \\\\\n",
       "0 & 0 & 0 & 0 & 0 & 0 & 0 & 0 & 0 & 0 & 0 & 0 & 0 & 0 & 0 & 0 & 0 & 0 & 0 & 0 & 0 & 0 & 0 & 0 & 0 &  - 400 xs_{2 6} & 202 + 1200 xs_{2 7}^{2} - 400 xs_{2 8} &  - 400 xs_{2 7} & 0 & 0 & 0 & 0 & 0 & 0 & 0 & 0 & 0 & 0 & 0 & 0 & 0 & 0 & 0 & 0 & 0 & 0 & 0 & 0 & 0 & 0 & 0 & 0 & 0 & 0 & 0 & 0 & 0 & 0 & 0 & 0 & 0 & 0 & 0 & 0 & 0 & 0 & 0 & 0 & 0 & 0 & 0 & 0 & 0 & 0 & 0 & 0 & 0 & 0 & 0 & 0 & 0 & 0 & 0 & 0 & 0 & 0 & 0 & 0 & 0 & 0 & 0 & 0 & 0 & 0 & 0 & 0 & 0 & 0 & 0 & 0 \\\\\n",
       "0 & 0 & 0 & 0 & 0 & 0 & 0 & 0 & 0 & 0 & 0 & 0 & 0 & 0 & 0 & 0 & 0 & 0 & 0 & 0 & 0 & 0 & 0 & 0 & 0 & 0 &  - 400 xs_{2 7} & 202 - 400 xs_{2 9} + 1200 xs_{2 8}^{2} &  - 400 xs_{2 8} & 0 & 0 & 0 & 0 & 0 & 0 & 0 & 0 & 0 & 0 & 0 & 0 & 0 & 0 & 0 & 0 & 0 & 0 & 0 & 0 & 0 & 0 & 0 & 0 & 0 & 0 & 0 & 0 & 0 & 0 & 0 & 0 & 0 & 0 & 0 & 0 & 0 & 0 & 0 & 0 & 0 & 0 & 0 & 0 & 0 & 0 & 0 & 0 & 0 & 0 & 0 & 0 & 0 & 0 & 0 & 0 & 0 & 0 & 0 & 0 & 0 & 0 & 0 & 0 & 0 & 0 & 0 & 0 & 0 & 0 & 0 \\\\\n",
       "0 & 0 & 0 & 0 & 0 & 0 & 0 & 0 & 0 & 0 & 0 & 0 & 0 & 0 & 0 & 0 & 0 & 0 & 0 & 0 & 0 & 0 & 0 & 0 & 0 & 0 & 0 &  - 400 xs_{2 8} & 202 + 1200 xs_{2 9}^{2} - 400 xs_{3 0} &  - 400 xs_{2 9} & 0 & 0 & 0 & 0 & 0 & 0 & 0 & 0 & 0 & 0 & 0 & 0 & 0 & 0 & 0 & 0 & 0 & 0 & 0 & 0 & 0 & 0 & 0 & 0 & 0 & 0 & 0 & 0 & 0 & 0 & 0 & 0 & 0 & 0 & 0 & 0 & 0 & 0 & 0 & 0 & 0 & 0 & 0 & 0 & 0 & 0 & 0 & 0 & 0 & 0 & 0 & 0 & 0 & 0 & 0 & 0 & 0 & 0 & 0 & 0 & 0 & 0 & 0 & 0 & 0 & 0 & 0 & 0 & 0 & 0 \\\\\n",
       "0 & 0 & 0 & 0 & 0 & 0 & 0 & 0 & 0 & 0 & 0 & 0 & 0 & 0 & 0 & 0 & 0 & 0 & 0 & 0 & 0 & 0 & 0 & 0 & 0 & 0 & 0 & 0 &  - 400 xs_{2 9} & 202 - 400 xs_{3 1} + 1200 xs_{3 0}^{2} &  - 400 xs_{3 0} & 0 & 0 & 0 & 0 & 0 & 0 & 0 & 0 & 0 & 0 & 0 & 0 & 0 & 0 & 0 & 0 & 0 & 0 & 0 & 0 & 0 & 0 & 0 & 0 & 0 & 0 & 0 & 0 & 0 & 0 & 0 & 0 & 0 & 0 & 0 & 0 & 0 & 0 & 0 & 0 & 0 & 0 & 0 & 0 & 0 & 0 & 0 & 0 & 0 & 0 & 0 & 0 & 0 & 0 & 0 & 0 & 0 & 0 & 0 & 0 & 0 & 0 & 0 & 0 & 0 & 0 & 0 & 0 & 0 \\\\\n",
       "0 & 0 & 0 & 0 & 0 & 0 & 0 & 0 & 0 & 0 & 0 & 0 & 0 & 0 & 0 & 0 & 0 & 0 & 0 & 0 & 0 & 0 & 0 & 0 & 0 & 0 & 0 & 0 & 0 &  - 400 xs_{3 0} & 202 + 1200 xs_{3 1}^{2} - 400 xs_{3 2} &  - 400 xs_{3 1} & 0 & 0 & 0 & 0 & 0 & 0 & 0 & 0 & 0 & 0 & 0 & 0 & 0 & 0 & 0 & 0 & 0 & 0 & 0 & 0 & 0 & 0 & 0 & 0 & 0 & 0 & 0 & 0 & 0 & 0 & 0 & 0 & 0 & 0 & 0 & 0 & 0 & 0 & 0 & 0 & 0 & 0 & 0 & 0 & 0 & 0 & 0 & 0 & 0 & 0 & 0 & 0 & 0 & 0 & 0 & 0 & 0 & 0 & 0 & 0 & 0 & 0 & 0 & 0 & 0 & 0 & 0 & 0 \\\\\n",
       "0 & 0 & 0 & 0 & 0 & 0 & 0 & 0 & 0 & 0 & 0 & 0 & 0 & 0 & 0 & 0 & 0 & 0 & 0 & 0 & 0 & 0 & 0 & 0 & 0 & 0 & 0 & 0 & 0 & 0 &  - 400 xs_{3 1} & 202 - 400 xs_{3 3} + 1200 xs_{3 2}^{2} &  - 400 xs_{3 2} & 0 & 0 & 0 & 0 & 0 & 0 & 0 & 0 & 0 & 0 & 0 & 0 & 0 & 0 & 0 & 0 & 0 & 0 & 0 & 0 & 0 & 0 & 0 & 0 & 0 & 0 & 0 & 0 & 0 & 0 & 0 & 0 & 0 & 0 & 0 & 0 & 0 & 0 & 0 & 0 & 0 & 0 & 0 & 0 & 0 & 0 & 0 & 0 & 0 & 0 & 0 & 0 & 0 & 0 & 0 & 0 & 0 & 0 & 0 & 0 & 0 & 0 & 0 & 0 & 0 & 0 & 0 \\\\\n",
       "0 & 0 & 0 & 0 & 0 & 0 & 0 & 0 & 0 & 0 & 0 & 0 & 0 & 0 & 0 & 0 & 0 & 0 & 0 & 0 & 0 & 0 & 0 & 0 & 0 & 0 & 0 & 0 & 0 & 0 & 0 &  - 400 xs_{3 2} & 202 - 400 xs_{3 4} + 1200 xs_{3 3}^{2} &  - 400 xs_{3 3} & 0 & 0 & 0 & 0 & 0 & 0 & 0 & 0 & 0 & 0 & 0 & 0 & 0 & 0 & 0 & 0 & 0 & 0 & 0 & 0 & 0 & 0 & 0 & 0 & 0 & 0 & 0 & 0 & 0 & 0 & 0 & 0 & 0 & 0 & 0 & 0 & 0 & 0 & 0 & 0 & 0 & 0 & 0 & 0 & 0 & 0 & 0 & 0 & 0 & 0 & 0 & 0 & 0 & 0 & 0 & 0 & 0 & 0 & 0 & 0 & 0 & 0 & 0 & 0 & 0 & 0 \\\\\n",
       "0 & 0 & 0 & 0 & 0 & 0 & 0 & 0 & 0 & 0 & 0 & 0 & 0 & 0 & 0 & 0 & 0 & 0 & 0 & 0 & 0 & 0 & 0 & 0 & 0 & 0 & 0 & 0 & 0 & 0 & 0 & 0 &  - 400 xs_{3 3} & 202 + 1200 xs_{3 4}^{2} - 400 xs_{3 5} &  - 400 xs_{3 4} & 0 & 0 & 0 & 0 & 0 & 0 & 0 & 0 & 0 & 0 & 0 & 0 & 0 & 0 & 0 & 0 & 0 & 0 & 0 & 0 & 0 & 0 & 0 & 0 & 0 & 0 & 0 & 0 & 0 & 0 & 0 & 0 & 0 & 0 & 0 & 0 & 0 & 0 & 0 & 0 & 0 & 0 & 0 & 0 & 0 & 0 & 0 & 0 & 0 & 0 & 0 & 0 & 0 & 0 & 0 & 0 & 0 & 0 & 0 & 0 & 0 & 0 & 0 & 0 & 0 \\\\\n",
       "0 & 0 & 0 & 0 & 0 & 0 & 0 & 0 & 0 & 0 & 0 & 0 & 0 & 0 & 0 & 0 & 0 & 0 & 0 & 0 & 0 & 0 & 0 & 0 & 0 & 0 & 0 & 0 & 0 & 0 & 0 & 0 & 0 &  - 400 xs_{3 4} & 202 + 1200 xs_{3 5}^{2} - 400 xs_{3 6} &  - 400 xs_{3 5} & 0 & 0 & 0 & 0 & 0 & 0 & 0 & 0 & 0 & 0 & 0 & 0 & 0 & 0 & 0 & 0 & 0 & 0 & 0 & 0 & 0 & 0 & 0 & 0 & 0 & 0 & 0 & 0 & 0 & 0 & 0 & 0 & 0 & 0 & 0 & 0 & 0 & 0 & 0 & 0 & 0 & 0 & 0 & 0 & 0 & 0 & 0 & 0 & 0 & 0 & 0 & 0 & 0 & 0 & 0 & 0 & 0 & 0 & 0 & 0 & 0 & 0 & 0 & 0 \\\\\n",
       "0 & 0 & 0 & 0 & 0 & 0 & 0 & 0 & 0 & 0 & 0 & 0 & 0 & 0 & 0 & 0 & 0 & 0 & 0 & 0 & 0 & 0 & 0 & 0 & 0 & 0 & 0 & 0 & 0 & 0 & 0 & 0 & 0 & 0 &  - 400 xs_{3 5} & 202 + 1200 xs_{3 6}^{2} - 400 xs_{3 7} &  - 400 xs_{3 6} & 0 & 0 & 0 & 0 & 0 & 0 & 0 & 0 & 0 & 0 & 0 & 0 & 0 & 0 & 0 & 0 & 0 & 0 & 0 & 0 & 0 & 0 & 0 & 0 & 0 & 0 & 0 & 0 & 0 & 0 & 0 & 0 & 0 & 0 & 0 & 0 & 0 & 0 & 0 & 0 & 0 & 0 & 0 & 0 & 0 & 0 & 0 & 0 & 0 & 0 & 0 & 0 & 0 & 0 & 0 & 0 & 0 & 0 & 0 & 0 & 0 & 0 & 0 \\\\\n",
       "0 & 0 & 0 & 0 & 0 & 0 & 0 & 0 & 0 & 0 & 0 & 0 & 0 & 0 & 0 & 0 & 0 & 0 & 0 & 0 & 0 & 0 & 0 & 0 & 0 & 0 & 0 & 0 & 0 & 0 & 0 & 0 & 0 & 0 & 0 &  - 400 xs_{3 6} & 202 + 1200 xs_{3 7}^{2} - 400 xs_{3 8} &  - 400 xs_{3 7} & 0 & 0 & 0 & 0 & 0 & 0 & 0 & 0 & 0 & 0 & 0 & 0 & 0 & 0 & 0 & 0 & 0 & 0 & 0 & 0 & 0 & 0 & 0 & 0 & 0 & 0 & 0 & 0 & 0 & 0 & 0 & 0 & 0 & 0 & 0 & 0 & 0 & 0 & 0 & 0 & 0 & 0 & 0 & 0 & 0 & 0 & 0 & 0 & 0 & 0 & 0 & 0 & 0 & 0 & 0 & 0 & 0 & 0 & 0 & 0 & 0 & 0 \\\\\n",
       "0 & 0 & 0 & 0 & 0 & 0 & 0 & 0 & 0 & 0 & 0 & 0 & 0 & 0 & 0 & 0 & 0 & 0 & 0 & 0 & 0 & 0 & 0 & 0 & 0 & 0 & 0 & 0 & 0 & 0 & 0 & 0 & 0 & 0 & 0 & 0 &  - 400 xs_{3 7} & 202 - 400 xs_{3 9} + 1200 xs_{3 8}^{2} &  - 400 xs_{3 8} & 0 & 0 & 0 & 0 & 0 & 0 & 0 & 0 & 0 & 0 & 0 & 0 & 0 & 0 & 0 & 0 & 0 & 0 & 0 & 0 & 0 & 0 & 0 & 0 & 0 & 0 & 0 & 0 & 0 & 0 & 0 & 0 & 0 & 0 & 0 & 0 & 0 & 0 & 0 & 0 & 0 & 0 & 0 & 0 & 0 & 0 & 0 & 0 & 0 & 0 & 0 & 0 & 0 & 0 & 0 & 0 & 0 & 0 & 0 & 0 & 0 \\\\\n",
       "0 & 0 & 0 & 0 & 0 & 0 & 0 & 0 & 0 & 0 & 0 & 0 & 0 & 0 & 0 & 0 & 0 & 0 & 0 & 0 & 0 & 0 & 0 & 0 & 0 & 0 & 0 & 0 & 0 & 0 & 0 & 0 & 0 & 0 & 0 & 0 & 0 &  - 400 xs_{3 8} & 202 - 400 xs_{4 0} + 1200 xs_{3 9}^{2} &  - 400 xs_{3 9} & 0 & 0 & 0 & 0 & 0 & 0 & 0 & 0 & 0 & 0 & 0 & 0 & 0 & 0 & 0 & 0 & 0 & 0 & 0 & 0 & 0 & 0 & 0 & 0 & 0 & 0 & 0 & 0 & 0 & 0 & 0 & 0 & 0 & 0 & 0 & 0 & 0 & 0 & 0 & 0 & 0 & 0 & 0 & 0 & 0 & 0 & 0 & 0 & 0 & 0 & 0 & 0 & 0 & 0 & 0 & 0 & 0 & 0 & 0 & 0 \\\\\n",
       "0 & 0 & 0 & 0 & 0 & 0 & 0 & 0 & 0 & 0 & 0 & 0 & 0 & 0 & 0 & 0 & 0 & 0 & 0 & 0 & 0 & 0 & 0 & 0 & 0 & 0 & 0 & 0 & 0 & 0 & 0 & 0 & 0 & 0 & 0 & 0 & 0 & 0 &  - 400 xs_{3 9} & 202 + 1200 xs_{4 0}^{2} - 400 xs_{4 1} &  - 400 xs_{4 0} & 0 & 0 & 0 & 0 & 0 & 0 & 0 & 0 & 0 & 0 & 0 & 0 & 0 & 0 & 0 & 0 & 0 & 0 & 0 & 0 & 0 & 0 & 0 & 0 & 0 & 0 & 0 & 0 & 0 & 0 & 0 & 0 & 0 & 0 & 0 & 0 & 0 & 0 & 0 & 0 & 0 & 0 & 0 & 0 & 0 & 0 & 0 & 0 & 0 & 0 & 0 & 0 & 0 & 0 & 0 & 0 & 0 & 0 & 0 \\\\\n",
       "0 & 0 & 0 & 0 & 0 & 0 & 0 & 0 & 0 & 0 & 0 & 0 & 0 & 0 & 0 & 0 & 0 & 0 & 0 & 0 & 0 & 0 & 0 & 0 & 0 & 0 & 0 & 0 & 0 & 0 & 0 & 0 & 0 & 0 & 0 & 0 & 0 & 0 & 0 &  - 400 xs_{4 0} & 202 - 400 xs_{4 2} + 1200 xs_{4 1}^{2} &  - 400 xs_{4 1} & 0 & 0 & 0 & 0 & 0 & 0 & 0 & 0 & 0 & 0 & 0 & 0 & 0 & 0 & 0 & 0 & 0 & 0 & 0 & 0 & 0 & 0 & 0 & 0 & 0 & 0 & 0 & 0 & 0 & 0 & 0 & 0 & 0 & 0 & 0 & 0 & 0 & 0 & 0 & 0 & 0 & 0 & 0 & 0 & 0 & 0 & 0 & 0 & 0 & 0 & 0 & 0 & 0 & 0 & 0 & 0 & 0 & 0 \\\\\n",
       "0 & 0 & 0 & 0 & 0 & 0 & 0 & 0 & 0 & 0 & 0 & 0 & 0 & 0 & 0 & 0 & 0 & 0 & 0 & 0 & 0 & 0 & 0 & 0 & 0 & 0 & 0 & 0 & 0 & 0 & 0 & 0 & 0 & 0 & 0 & 0 & 0 & 0 & 0 & 0 &  - 400 xs_{4 1} & 202 - 400 xs_{4 3} + 1200 xs_{4 2}^{2} &  - 400 xs_{4 2} & 0 & 0 & 0 & 0 & 0 & 0 & 0 & 0 & 0 & 0 & 0 & 0 & 0 & 0 & 0 & 0 & 0 & 0 & 0 & 0 & 0 & 0 & 0 & 0 & 0 & 0 & 0 & 0 & 0 & 0 & 0 & 0 & 0 & 0 & 0 & 0 & 0 & 0 & 0 & 0 & 0 & 0 & 0 & 0 & 0 & 0 & 0 & 0 & 0 & 0 & 0 & 0 & 0 & 0 & 0 & 0 & 0 \\\\\n",
       "0 & 0 & 0 & 0 & 0 & 0 & 0 & 0 & 0 & 0 & 0 & 0 & 0 & 0 & 0 & 0 & 0 & 0 & 0 & 0 & 0 & 0 & 0 & 0 & 0 & 0 & 0 & 0 & 0 & 0 & 0 & 0 & 0 & 0 & 0 & 0 & 0 & 0 & 0 & 0 & 0 &  - 400 xs_{4 2} & 202 - 400 xs_{4 4} + 1200 xs_{4 3}^{2} &  - 400 xs_{4 3} & 0 & 0 & 0 & 0 & 0 & 0 & 0 & 0 & 0 & 0 & 0 & 0 & 0 & 0 & 0 & 0 & 0 & 0 & 0 & 0 & 0 & 0 & 0 & 0 & 0 & 0 & 0 & 0 & 0 & 0 & 0 & 0 & 0 & 0 & 0 & 0 & 0 & 0 & 0 & 0 & 0 & 0 & 0 & 0 & 0 & 0 & 0 & 0 & 0 & 0 & 0 & 0 & 0 & 0 & 0 & 0 \\\\\n",
       "0 & 0 & 0 & 0 & 0 & 0 & 0 & 0 & 0 & 0 & 0 & 0 & 0 & 0 & 0 & 0 & 0 & 0 & 0 & 0 & 0 & 0 & 0 & 0 & 0 & 0 & 0 & 0 & 0 & 0 & 0 & 0 & 0 & 0 & 0 & 0 & 0 & 0 & 0 & 0 & 0 & 0 &  - 400 xs_{4 3} & 202 + 1200 xs_{4 4}^{2} - 400 xs_{4 5} &  - 400 xs_{4 4} & 0 & 0 & 0 & 0 & 0 & 0 & 0 & 0 & 0 & 0 & 0 & 0 & 0 & 0 & 0 & 0 & 0 & 0 & 0 & 0 & 0 & 0 & 0 & 0 & 0 & 0 & 0 & 0 & 0 & 0 & 0 & 0 & 0 & 0 & 0 & 0 & 0 & 0 & 0 & 0 & 0 & 0 & 0 & 0 & 0 & 0 & 0 & 0 & 0 & 0 & 0 & 0 & 0 & 0 & 0 \\\\\n",
       "0 & 0 & 0 & 0 & 0 & 0 & 0 & 0 & 0 & 0 & 0 & 0 & 0 & 0 & 0 & 0 & 0 & 0 & 0 & 0 & 0 & 0 & 0 & 0 & 0 & 0 & 0 & 0 & 0 & 0 & 0 & 0 & 0 & 0 & 0 & 0 & 0 & 0 & 0 & 0 & 0 & 0 & 0 &  - 400 xs_{4 4} & 202 - 400 xs_{4 6} + 1200 xs_{4 5}^{2} &  - 400 xs_{4 5} & 0 & 0 & 0 & 0 & 0 & 0 & 0 & 0 & 0 & 0 & 0 & 0 & 0 & 0 & 0 & 0 & 0 & 0 & 0 & 0 & 0 & 0 & 0 & 0 & 0 & 0 & 0 & 0 & 0 & 0 & 0 & 0 & 0 & 0 & 0 & 0 & 0 & 0 & 0 & 0 & 0 & 0 & 0 & 0 & 0 & 0 & 0 & 0 & 0 & 0 & 0 & 0 & 0 & 0 \\\\\n",
       "0 & 0 & 0 & 0 & 0 & 0 & 0 & 0 & 0 & 0 & 0 & 0 & 0 & 0 & 0 & 0 & 0 & 0 & 0 & 0 & 0 & 0 & 0 & 0 & 0 & 0 & 0 & 0 & 0 & 0 & 0 & 0 & 0 & 0 & 0 & 0 & 0 & 0 & 0 & 0 & 0 & 0 & 0 & 0 &  - 400 xs_{4 5} & 202 - 400 xs_{4 7} + 1200 xs_{4 6}^{2} &  - 400 xs_{4 6} & 0 & 0 & 0 & 0 & 0 & 0 & 0 & 0 & 0 & 0 & 0 & 0 & 0 & 0 & 0 & 0 & 0 & 0 & 0 & 0 & 0 & 0 & 0 & 0 & 0 & 0 & 0 & 0 & 0 & 0 & 0 & 0 & 0 & 0 & 0 & 0 & 0 & 0 & 0 & 0 & 0 & 0 & 0 & 0 & 0 & 0 & 0 & 0 & 0 & 0 & 0 & 0 & 0 \\\\\n",
       "0 & 0 & 0 & 0 & 0 & 0 & 0 & 0 & 0 & 0 & 0 & 0 & 0 & 0 & 0 & 0 & 0 & 0 & 0 & 0 & 0 & 0 & 0 & 0 & 0 & 0 & 0 & 0 & 0 & 0 & 0 & 0 & 0 & 0 & 0 & 0 & 0 & 0 & 0 & 0 & 0 & 0 & 0 & 0 & 0 &  - 400 xs_{4 6} & 202 - 400 xs_{4 8} + 1200 xs_{4 7}^{2} &  - 400 xs_{4 7} & 0 & 0 & 0 & 0 & 0 & 0 & 0 & 0 & 0 & 0 & 0 & 0 & 0 & 0 & 0 & 0 & 0 & 0 & 0 & 0 & 0 & 0 & 0 & 0 & 0 & 0 & 0 & 0 & 0 & 0 & 0 & 0 & 0 & 0 & 0 & 0 & 0 & 0 & 0 & 0 & 0 & 0 & 0 & 0 & 0 & 0 & 0 & 0 & 0 & 0 & 0 & 0 \\\\\n",
       "0 & 0 & 0 & 0 & 0 & 0 & 0 & 0 & 0 & 0 & 0 & 0 & 0 & 0 & 0 & 0 & 0 & 0 & 0 & 0 & 0 & 0 & 0 & 0 & 0 & 0 & 0 & 0 & 0 & 0 & 0 & 0 & 0 & 0 & 0 & 0 & 0 & 0 & 0 & 0 & 0 & 0 & 0 & 0 & 0 & 0 &  - 400 xs_{4 7} & 202 + 1200 xs_{4 8}^{2} - 400 xs_{4 9} &  - 400 xs_{4 8} & 0 & 0 & 0 & 0 & 0 & 0 & 0 & 0 & 0 & 0 & 0 & 0 & 0 & 0 & 0 & 0 & 0 & 0 & 0 & 0 & 0 & 0 & 0 & 0 & 0 & 0 & 0 & 0 & 0 & 0 & 0 & 0 & 0 & 0 & 0 & 0 & 0 & 0 & 0 & 0 & 0 & 0 & 0 & 0 & 0 & 0 & 0 & 0 & 0 & 0 & 0 \\\\\n",
       "0 & 0 & 0 & 0 & 0 & 0 & 0 & 0 & 0 & 0 & 0 & 0 & 0 & 0 & 0 & 0 & 0 & 0 & 0 & 0 & 0 & 0 & 0 & 0 & 0 & 0 & 0 & 0 & 0 & 0 & 0 & 0 & 0 & 0 & 0 & 0 & 0 & 0 & 0 & 0 & 0 & 0 & 0 & 0 & 0 & 0 & 0 &  - 400 xs_{4 8} & 202 - 400 xs_{5 0} + 1200 xs_{4 9}^{2} &  - 400 xs_{4 9} & 0 & 0 & 0 & 0 & 0 & 0 & 0 & 0 & 0 & 0 & 0 & 0 & 0 & 0 & 0 & 0 & 0 & 0 & 0 & 0 & 0 & 0 & 0 & 0 & 0 & 0 & 0 & 0 & 0 & 0 & 0 & 0 & 0 & 0 & 0 & 0 & 0 & 0 & 0 & 0 & 0 & 0 & 0 & 0 & 0 & 0 & 0 & 0 & 0 & 0 \\\\\n",
       "0 & 0 & 0 & 0 & 0 & 0 & 0 & 0 & 0 & 0 & 0 & 0 & 0 & 0 & 0 & 0 & 0 & 0 & 0 & 0 & 0 & 0 & 0 & 0 & 0 & 0 & 0 & 0 & 0 & 0 & 0 & 0 & 0 & 0 & 0 & 0 & 0 & 0 & 0 & 0 & 0 & 0 & 0 & 0 & 0 & 0 & 0 & 0 &  - 400 xs_{4 9} & 202 - 400 xs_{5 1} + 1200 xs_{5 0}^{2} &  - 400 xs_{5 0} & 0 & 0 & 0 & 0 & 0 & 0 & 0 & 0 & 0 & 0 & 0 & 0 & 0 & 0 & 0 & 0 & 0 & 0 & 0 & 0 & 0 & 0 & 0 & 0 & 0 & 0 & 0 & 0 & 0 & 0 & 0 & 0 & 0 & 0 & 0 & 0 & 0 & 0 & 0 & 0 & 0 & 0 & 0 & 0 & 0 & 0 & 0 & 0 & 0 \\\\\n",
       "0 & 0 & 0 & 0 & 0 & 0 & 0 & 0 & 0 & 0 & 0 & 0 & 0 & 0 & 0 & 0 & 0 & 0 & 0 & 0 & 0 & 0 & 0 & 0 & 0 & 0 & 0 & 0 & 0 & 0 & 0 & 0 & 0 & 0 & 0 & 0 & 0 & 0 & 0 & 0 & 0 & 0 & 0 & 0 & 0 & 0 & 0 & 0 & 0 &  - 400 xs_{5 0} & 202 + 1200 xs_{5 1}^{2} - 400 xs_{5 2} &  - 400 xs_{5 1} & 0 & 0 & 0 & 0 & 0 & 0 & 0 & 0 & 0 & 0 & 0 & 0 & 0 & 0 & 0 & 0 & 0 & 0 & 0 & 0 & 0 & 0 & 0 & 0 & 0 & 0 & 0 & 0 & 0 & 0 & 0 & 0 & 0 & 0 & 0 & 0 & 0 & 0 & 0 & 0 & 0 & 0 & 0 & 0 & 0 & 0 & 0 & 0 \\\\\n",
       "0 & 0 & 0 & 0 & 0 & 0 & 0 & 0 & 0 & 0 & 0 & 0 & 0 & 0 & 0 & 0 & 0 & 0 & 0 & 0 & 0 & 0 & 0 & 0 & 0 & 0 & 0 & 0 & 0 & 0 & 0 & 0 & 0 & 0 & 0 & 0 & 0 & 0 & 0 & 0 & 0 & 0 & 0 & 0 & 0 & 0 & 0 & 0 & 0 & 0 &  - 400 xs_{5 1} & 202 + 1200 xs_{5 2}^{2} - 400 xs_{5 3} &  - 400 xs_{5 2} & 0 & 0 & 0 & 0 & 0 & 0 & 0 & 0 & 0 & 0 & 0 & 0 & 0 & 0 & 0 & 0 & 0 & 0 & 0 & 0 & 0 & 0 & 0 & 0 & 0 & 0 & 0 & 0 & 0 & 0 & 0 & 0 & 0 & 0 & 0 & 0 & 0 & 0 & 0 & 0 & 0 & 0 & 0 & 0 & 0 & 0 & 0 \\\\\n",
       "0 & 0 & 0 & 0 & 0 & 0 & 0 & 0 & 0 & 0 & 0 & 0 & 0 & 0 & 0 & 0 & 0 & 0 & 0 & 0 & 0 & 0 & 0 & 0 & 0 & 0 & 0 & 0 & 0 & 0 & 0 & 0 & 0 & 0 & 0 & 0 & 0 & 0 & 0 & 0 & 0 & 0 & 0 & 0 & 0 & 0 & 0 & 0 & 0 & 0 & 0 &  - 400 xs_{5 2} & 202 - 400 xs_{5 4} + 1200 xs_{5 3}^{2} &  - 400 xs_{5 3} & 0 & 0 & 0 & 0 & 0 & 0 & 0 & 0 & 0 & 0 & 0 & 0 & 0 & 0 & 0 & 0 & 0 & 0 & 0 & 0 & 0 & 0 & 0 & 0 & 0 & 0 & 0 & 0 & 0 & 0 & 0 & 0 & 0 & 0 & 0 & 0 & 0 & 0 & 0 & 0 & 0 & 0 & 0 & 0 & 0 & 0 \\\\\n",
       "0 & 0 & 0 & 0 & 0 & 0 & 0 & 0 & 0 & 0 & 0 & 0 & 0 & 0 & 0 & 0 & 0 & 0 & 0 & 0 & 0 & 0 & 0 & 0 & 0 & 0 & 0 & 0 & 0 & 0 & 0 & 0 & 0 & 0 & 0 & 0 & 0 & 0 & 0 & 0 & 0 & 0 & 0 & 0 & 0 & 0 & 0 & 0 & 0 & 0 & 0 & 0 &  - 400 xs_{5 3} & 202 + 1200 xs_{5 4}^{2} - 400 xs_{5 5} &  - 400 xs_{5 4} & 0 & 0 & 0 & 0 & 0 & 0 & 0 & 0 & 0 & 0 & 0 & 0 & 0 & 0 & 0 & 0 & 0 & 0 & 0 & 0 & 0 & 0 & 0 & 0 & 0 & 0 & 0 & 0 & 0 & 0 & 0 & 0 & 0 & 0 & 0 & 0 & 0 & 0 & 0 & 0 & 0 & 0 & 0 & 0 & 0 \\\\\n",
       "0 & 0 & 0 & 0 & 0 & 0 & 0 & 0 & 0 & 0 & 0 & 0 & 0 & 0 & 0 & 0 & 0 & 0 & 0 & 0 & 0 & 0 & 0 & 0 & 0 & 0 & 0 & 0 & 0 & 0 & 0 & 0 & 0 & 0 & 0 & 0 & 0 & 0 & 0 & 0 & 0 & 0 & 0 & 0 & 0 & 0 & 0 & 0 & 0 & 0 & 0 & 0 & 0 &  - 400 xs_{5 4} & 202 - 400 xs_{5 6} + 1200 xs_{5 5}^{2} &  - 400 xs_{5 5} & 0 & 0 & 0 & 0 & 0 & 0 & 0 & 0 & 0 & 0 & 0 & 0 & 0 & 0 & 0 & 0 & 0 & 0 & 0 & 0 & 0 & 0 & 0 & 0 & 0 & 0 & 0 & 0 & 0 & 0 & 0 & 0 & 0 & 0 & 0 & 0 & 0 & 0 & 0 & 0 & 0 & 0 & 0 & 0 \\\\\n",
       "0 & 0 & 0 & 0 & 0 & 0 & 0 & 0 & 0 & 0 & 0 & 0 & 0 & 0 & 0 & 0 & 0 & 0 & 0 & 0 & 0 & 0 & 0 & 0 & 0 & 0 & 0 & 0 & 0 & 0 & 0 & 0 & 0 & 0 & 0 & 0 & 0 & 0 & 0 & 0 & 0 & 0 & 0 & 0 & 0 & 0 & 0 & 0 & 0 & 0 & 0 & 0 & 0 & 0 &  - 400 xs_{5 5} & 202 - 400 xs_{5 7} + 1200 xs_{5 6}^{2} &  - 400 xs_{5 6} & 0 & 0 & 0 & 0 & 0 & 0 & 0 & 0 & 0 & 0 & 0 & 0 & 0 & 0 & 0 & 0 & 0 & 0 & 0 & 0 & 0 & 0 & 0 & 0 & 0 & 0 & 0 & 0 & 0 & 0 & 0 & 0 & 0 & 0 & 0 & 0 & 0 & 0 & 0 & 0 & 0 & 0 & 0 \\\\\n",
       "0 & 0 & 0 & 0 & 0 & 0 & 0 & 0 & 0 & 0 & 0 & 0 & 0 & 0 & 0 & 0 & 0 & 0 & 0 & 0 & 0 & 0 & 0 & 0 & 0 & 0 & 0 & 0 & 0 & 0 & 0 & 0 & 0 & 0 & 0 & 0 & 0 & 0 & 0 & 0 & 0 & 0 & 0 & 0 & 0 & 0 & 0 & 0 & 0 & 0 & 0 & 0 & 0 & 0 & 0 &  - 400 xs_{5 6} & 202 - 400 xs_{5 8} + 1200 xs_{5 7}^{2} &  - 400 xs_{5 7} & 0 & 0 & 0 & 0 & 0 & 0 & 0 & 0 & 0 & 0 & 0 & 0 & 0 & 0 & 0 & 0 & 0 & 0 & 0 & 0 & 0 & 0 & 0 & 0 & 0 & 0 & 0 & 0 & 0 & 0 & 0 & 0 & 0 & 0 & 0 & 0 & 0 & 0 & 0 & 0 & 0 & 0 \\\\\n",
       "0 & 0 & 0 & 0 & 0 & 0 & 0 & 0 & 0 & 0 & 0 & 0 & 0 & 0 & 0 & 0 & 0 & 0 & 0 & 0 & 0 & 0 & 0 & 0 & 0 & 0 & 0 & 0 & 0 & 0 & 0 & 0 & 0 & 0 & 0 & 0 & 0 & 0 & 0 & 0 & 0 & 0 & 0 & 0 & 0 & 0 & 0 & 0 & 0 & 0 & 0 & 0 & 0 & 0 & 0 & 0 &  - 400 xs_{5 7} & 202 - 400 xs_{5 9} + 1200 xs_{5 8}^{2} &  - 400 xs_{5 8} & 0 & 0 & 0 & 0 & 0 & 0 & 0 & 0 & 0 & 0 & 0 & 0 & 0 & 0 & 0 & 0 & 0 & 0 & 0 & 0 & 0 & 0 & 0 & 0 & 0 & 0 & 0 & 0 & 0 & 0 & 0 & 0 & 0 & 0 & 0 & 0 & 0 & 0 & 0 & 0 & 0 \\\\\n",
       "0 & 0 & 0 & 0 & 0 & 0 & 0 & 0 & 0 & 0 & 0 & 0 & 0 & 0 & 0 & 0 & 0 & 0 & 0 & 0 & 0 & 0 & 0 & 0 & 0 & 0 & 0 & 0 & 0 & 0 & 0 & 0 & 0 & 0 & 0 & 0 & 0 & 0 & 0 & 0 & 0 & 0 & 0 & 0 & 0 & 0 & 0 & 0 & 0 & 0 & 0 & 0 & 0 & 0 & 0 & 0 & 0 &  - 400 xs_{5 8} & 202 + 1200 xs_{5 9}^{2} - 400 xs_{6 0} &  - 400 xs_{5 9} & 0 & 0 & 0 & 0 & 0 & 0 & 0 & 0 & 0 & 0 & 0 & 0 & 0 & 0 & 0 & 0 & 0 & 0 & 0 & 0 & 0 & 0 & 0 & 0 & 0 & 0 & 0 & 0 & 0 & 0 & 0 & 0 & 0 & 0 & 0 & 0 & 0 & 0 & 0 & 0 \\\\\n",
       "0 & 0 & 0 & 0 & 0 & 0 & 0 & 0 & 0 & 0 & 0 & 0 & 0 & 0 & 0 & 0 & 0 & 0 & 0 & 0 & 0 & 0 & 0 & 0 & 0 & 0 & 0 & 0 & 0 & 0 & 0 & 0 & 0 & 0 & 0 & 0 & 0 & 0 & 0 & 0 & 0 & 0 & 0 & 0 & 0 & 0 & 0 & 0 & 0 & 0 & 0 & 0 & 0 & 0 & 0 & 0 & 0 & 0 &  - 400 xs_{5 9} & 202 + 1200 xs_{6 0}^{2} - 400 xs_{6 1} &  - 400 xs_{6 0} & 0 & 0 & 0 & 0 & 0 & 0 & 0 & 0 & 0 & 0 & 0 & 0 & 0 & 0 & 0 & 0 & 0 & 0 & 0 & 0 & 0 & 0 & 0 & 0 & 0 & 0 & 0 & 0 & 0 & 0 & 0 & 0 & 0 & 0 & 0 & 0 & 0 & 0 & 0 \\\\\n",
       "0 & 0 & 0 & 0 & 0 & 0 & 0 & 0 & 0 & 0 & 0 & 0 & 0 & 0 & 0 & 0 & 0 & 0 & 0 & 0 & 0 & 0 & 0 & 0 & 0 & 0 & 0 & 0 & 0 & 0 & 0 & 0 & 0 & 0 & 0 & 0 & 0 & 0 & 0 & 0 & 0 & 0 & 0 & 0 & 0 & 0 & 0 & 0 & 0 & 0 & 0 & 0 & 0 & 0 & 0 & 0 & 0 & 0 & 0 &  - 400 xs_{6 0} & 202 + 1200 xs_{6 1}^{2} - 400 xs_{6 2} &  - 400 xs_{6 1} & 0 & 0 & 0 & 0 & 0 & 0 & 0 & 0 & 0 & 0 & 0 & 0 & 0 & 0 & 0 & 0 & 0 & 0 & 0 & 0 & 0 & 0 & 0 & 0 & 0 & 0 & 0 & 0 & 0 & 0 & 0 & 0 & 0 & 0 & 0 & 0 & 0 & 0 \\\\\n",
       "0 & 0 & 0 & 0 & 0 & 0 & 0 & 0 & 0 & 0 & 0 & 0 & 0 & 0 & 0 & 0 & 0 & 0 & 0 & 0 & 0 & 0 & 0 & 0 & 0 & 0 & 0 & 0 & 0 & 0 & 0 & 0 & 0 & 0 & 0 & 0 & 0 & 0 & 0 & 0 & 0 & 0 & 0 & 0 & 0 & 0 & 0 & 0 & 0 & 0 & 0 & 0 & 0 & 0 & 0 & 0 & 0 & 0 & 0 & 0 &  - 400 xs_{6 1} & 202 - 400 xs_{6 3} + 1200 xs_{6 2}^{2} &  - 400 xs_{6 2} & 0 & 0 & 0 & 0 & 0 & 0 & 0 & 0 & 0 & 0 & 0 & 0 & 0 & 0 & 0 & 0 & 0 & 0 & 0 & 0 & 0 & 0 & 0 & 0 & 0 & 0 & 0 & 0 & 0 & 0 & 0 & 0 & 0 & 0 & 0 & 0 & 0 \\\\\n",
       "0 & 0 & 0 & 0 & 0 & 0 & 0 & 0 & 0 & 0 & 0 & 0 & 0 & 0 & 0 & 0 & 0 & 0 & 0 & 0 & 0 & 0 & 0 & 0 & 0 & 0 & 0 & 0 & 0 & 0 & 0 & 0 & 0 & 0 & 0 & 0 & 0 & 0 & 0 & 0 & 0 & 0 & 0 & 0 & 0 & 0 & 0 & 0 & 0 & 0 & 0 & 0 & 0 & 0 & 0 & 0 & 0 & 0 & 0 & 0 & 0 &  - 400 xs_{6 2} & 202 + 1200 xs_{6 3}^{2} - 400 xs_{6 4} &  - 400 xs_{6 3} & 0 & 0 & 0 & 0 & 0 & 0 & 0 & 0 & 0 & 0 & 0 & 0 & 0 & 0 & 0 & 0 & 0 & 0 & 0 & 0 & 0 & 0 & 0 & 0 & 0 & 0 & 0 & 0 & 0 & 0 & 0 & 0 & 0 & 0 & 0 & 0 \\\\\n",
       "0 & 0 & 0 & 0 & 0 & 0 & 0 & 0 & 0 & 0 & 0 & 0 & 0 & 0 & 0 & 0 & 0 & 0 & 0 & 0 & 0 & 0 & 0 & 0 & 0 & 0 & 0 & 0 & 0 & 0 & 0 & 0 & 0 & 0 & 0 & 0 & 0 & 0 & 0 & 0 & 0 & 0 & 0 & 0 & 0 & 0 & 0 & 0 & 0 & 0 & 0 & 0 & 0 & 0 & 0 & 0 & 0 & 0 & 0 & 0 & 0 & 0 &  - 400 xs_{6 3} & 202 + 1200 xs_{6 4}^{2} - 400 xs_{6 5} &  - 400 xs_{6 4} & 0 & 0 & 0 & 0 & 0 & 0 & 0 & 0 & 0 & 0 & 0 & 0 & 0 & 0 & 0 & 0 & 0 & 0 & 0 & 0 & 0 & 0 & 0 & 0 & 0 & 0 & 0 & 0 & 0 & 0 & 0 & 0 & 0 & 0 & 0 \\\\\n",
       "0 & 0 & 0 & 0 & 0 & 0 & 0 & 0 & 0 & 0 & 0 & 0 & 0 & 0 & 0 & 0 & 0 & 0 & 0 & 0 & 0 & 0 & 0 & 0 & 0 & 0 & 0 & 0 & 0 & 0 & 0 & 0 & 0 & 0 & 0 & 0 & 0 & 0 & 0 & 0 & 0 & 0 & 0 & 0 & 0 & 0 & 0 & 0 & 0 & 0 & 0 & 0 & 0 & 0 & 0 & 0 & 0 & 0 & 0 & 0 & 0 & 0 & 0 &  - 400 xs_{6 4} & 202 + 1200 xs_{6 5}^{2} - 400 xs_{6 6} &  - 400 xs_{6 5} & 0 & 0 & 0 & 0 & 0 & 0 & 0 & 0 & 0 & 0 & 0 & 0 & 0 & 0 & 0 & 0 & 0 & 0 & 0 & 0 & 0 & 0 & 0 & 0 & 0 & 0 & 0 & 0 & 0 & 0 & 0 & 0 & 0 & 0 \\\\\n",
       "0 & 0 & 0 & 0 & 0 & 0 & 0 & 0 & 0 & 0 & 0 & 0 & 0 & 0 & 0 & 0 & 0 & 0 & 0 & 0 & 0 & 0 & 0 & 0 & 0 & 0 & 0 & 0 & 0 & 0 & 0 & 0 & 0 & 0 & 0 & 0 & 0 & 0 & 0 & 0 & 0 & 0 & 0 & 0 & 0 & 0 & 0 & 0 & 0 & 0 & 0 & 0 & 0 & 0 & 0 & 0 & 0 & 0 & 0 & 0 & 0 & 0 & 0 & 0 &  - 400 xs_{6 5} & 202 + 1200 xs_{6 6}^{2} - 400 xs_{6 7} &  - 400 xs_{6 6} & 0 & 0 & 0 & 0 & 0 & 0 & 0 & 0 & 0 & 0 & 0 & 0 & 0 & 0 & 0 & 0 & 0 & 0 & 0 & 0 & 0 & 0 & 0 & 0 & 0 & 0 & 0 & 0 & 0 & 0 & 0 & 0 & 0 \\\\\n",
       "0 & 0 & 0 & 0 & 0 & 0 & 0 & 0 & 0 & 0 & 0 & 0 & 0 & 0 & 0 & 0 & 0 & 0 & 0 & 0 & 0 & 0 & 0 & 0 & 0 & 0 & 0 & 0 & 0 & 0 & 0 & 0 & 0 & 0 & 0 & 0 & 0 & 0 & 0 & 0 & 0 & 0 & 0 & 0 & 0 & 0 & 0 & 0 & 0 & 0 & 0 & 0 & 0 & 0 & 0 & 0 & 0 & 0 & 0 & 0 & 0 & 0 & 0 & 0 & 0 &  - 400 xs_{6 6} & 202 - 400 xs_{6 8} + 1200 xs_{6 7}^{2} &  - 400 xs_{6 7} & 0 & 0 & 0 & 0 & 0 & 0 & 0 & 0 & 0 & 0 & 0 & 0 & 0 & 0 & 0 & 0 & 0 & 0 & 0 & 0 & 0 & 0 & 0 & 0 & 0 & 0 & 0 & 0 & 0 & 0 & 0 & 0 \\\\\n",
       "0 & 0 & 0 & 0 & 0 & 0 & 0 & 0 & 0 & 0 & 0 & 0 & 0 & 0 & 0 & 0 & 0 & 0 & 0 & 0 & 0 & 0 & 0 & 0 & 0 & 0 & 0 & 0 & 0 & 0 & 0 & 0 & 0 & 0 & 0 & 0 & 0 & 0 & 0 & 0 & 0 & 0 & 0 & 0 & 0 & 0 & 0 & 0 & 0 & 0 & 0 & 0 & 0 & 0 & 0 & 0 & 0 & 0 & 0 & 0 & 0 & 0 & 0 & 0 & 0 & 0 &  - 400 xs_{6 7} & 202 - 400 xs_{6 9} + 1200 xs_{6 8}^{2} &  - 400 xs_{6 8} & 0 & 0 & 0 & 0 & 0 & 0 & 0 & 0 & 0 & 0 & 0 & 0 & 0 & 0 & 0 & 0 & 0 & 0 & 0 & 0 & 0 & 0 & 0 & 0 & 0 & 0 & 0 & 0 & 0 & 0 & 0 \\\\\n",
       "0 & 0 & 0 & 0 & 0 & 0 & 0 & 0 & 0 & 0 & 0 & 0 & 0 & 0 & 0 & 0 & 0 & 0 & 0 & 0 & 0 & 0 & 0 & 0 & 0 & 0 & 0 & 0 & 0 & 0 & 0 & 0 & 0 & 0 & 0 & 0 & 0 & 0 & 0 & 0 & 0 & 0 & 0 & 0 & 0 & 0 & 0 & 0 & 0 & 0 & 0 & 0 & 0 & 0 & 0 & 0 & 0 & 0 & 0 & 0 & 0 & 0 & 0 & 0 & 0 & 0 & 0 &  - 400 xs_{6 8} & 202 + 1200 xs_{6 9}^{2} - 400 xs_{7 0} &  - 400 xs_{6 9} & 0 & 0 & 0 & 0 & 0 & 0 & 0 & 0 & 0 & 0 & 0 & 0 & 0 & 0 & 0 & 0 & 0 & 0 & 0 & 0 & 0 & 0 & 0 & 0 & 0 & 0 & 0 & 0 & 0 & 0 \\\\\n",
       "0 & 0 & 0 & 0 & 0 & 0 & 0 & 0 & 0 & 0 & 0 & 0 & 0 & 0 & 0 & 0 & 0 & 0 & 0 & 0 & 0 & 0 & 0 & 0 & 0 & 0 & 0 & 0 & 0 & 0 & 0 & 0 & 0 & 0 & 0 & 0 & 0 & 0 & 0 & 0 & 0 & 0 & 0 & 0 & 0 & 0 & 0 & 0 & 0 & 0 & 0 & 0 & 0 & 0 & 0 & 0 & 0 & 0 & 0 & 0 & 0 & 0 & 0 & 0 & 0 & 0 & 0 & 0 &  - 400 xs_{6 9} & 202 + 1200 xs_{7 0}^{2} - 400 xs_{7 1} &  - 400 xs_{7 0} & 0 & 0 & 0 & 0 & 0 & 0 & 0 & 0 & 0 & 0 & 0 & 0 & 0 & 0 & 0 & 0 & 0 & 0 & 0 & 0 & 0 & 0 & 0 & 0 & 0 & 0 & 0 & 0 & 0 \\\\\n",
       "0 & 0 & 0 & 0 & 0 & 0 & 0 & 0 & 0 & 0 & 0 & 0 & 0 & 0 & 0 & 0 & 0 & 0 & 0 & 0 & 0 & 0 & 0 & 0 & 0 & 0 & 0 & 0 & 0 & 0 & 0 & 0 & 0 & 0 & 0 & 0 & 0 & 0 & 0 & 0 & 0 & 0 & 0 & 0 & 0 & 0 & 0 & 0 & 0 & 0 & 0 & 0 & 0 & 0 & 0 & 0 & 0 & 0 & 0 & 0 & 0 & 0 & 0 & 0 & 0 & 0 & 0 & 0 & 0 &  - 400 xs_{7 0} & 202 - 400 xs_{7 2} + 1200 xs_{7 1}^{2} &  - 400 xs_{7 1} & 0 & 0 & 0 & 0 & 0 & 0 & 0 & 0 & 0 & 0 & 0 & 0 & 0 & 0 & 0 & 0 & 0 & 0 & 0 & 0 & 0 & 0 & 0 & 0 & 0 & 0 & 0 & 0 \\\\\n",
       "0 & 0 & 0 & 0 & 0 & 0 & 0 & 0 & 0 & 0 & 0 & 0 & 0 & 0 & 0 & 0 & 0 & 0 & 0 & 0 & 0 & 0 & 0 & 0 & 0 & 0 & 0 & 0 & 0 & 0 & 0 & 0 & 0 & 0 & 0 & 0 & 0 & 0 & 0 & 0 & 0 & 0 & 0 & 0 & 0 & 0 & 0 & 0 & 0 & 0 & 0 & 0 & 0 & 0 & 0 & 0 & 0 & 0 & 0 & 0 & 0 & 0 & 0 & 0 & 0 & 0 & 0 & 0 & 0 & 0 &  - 400 xs_{7 1} & 202 + 1200 xs_{7 2}^{2} - 400 xs_{7 3} &  - 400 xs_{7 2} & 0 & 0 & 0 & 0 & 0 & 0 & 0 & 0 & 0 & 0 & 0 & 0 & 0 & 0 & 0 & 0 & 0 & 0 & 0 & 0 & 0 & 0 & 0 & 0 & 0 & 0 & 0 \\\\\n",
       "0 & 0 & 0 & 0 & 0 & 0 & 0 & 0 & 0 & 0 & 0 & 0 & 0 & 0 & 0 & 0 & 0 & 0 & 0 & 0 & 0 & 0 & 0 & 0 & 0 & 0 & 0 & 0 & 0 & 0 & 0 & 0 & 0 & 0 & 0 & 0 & 0 & 0 & 0 & 0 & 0 & 0 & 0 & 0 & 0 & 0 & 0 & 0 & 0 & 0 & 0 & 0 & 0 & 0 & 0 & 0 & 0 & 0 & 0 & 0 & 0 & 0 & 0 & 0 & 0 & 0 & 0 & 0 & 0 & 0 & 0 &  - 400 xs_{7 2} & 202 + 1200 xs_{7 3}^{2} - 400 xs_{7 4} &  - 400 xs_{7 3} & 0 & 0 & 0 & 0 & 0 & 0 & 0 & 0 & 0 & 0 & 0 & 0 & 0 & 0 & 0 & 0 & 0 & 0 & 0 & 0 & 0 & 0 & 0 & 0 & 0 & 0 \\\\\n",
       "0 & 0 & 0 & 0 & 0 & 0 & 0 & 0 & 0 & 0 & 0 & 0 & 0 & 0 & 0 & 0 & 0 & 0 & 0 & 0 & 0 & 0 & 0 & 0 & 0 & 0 & 0 & 0 & 0 & 0 & 0 & 0 & 0 & 0 & 0 & 0 & 0 & 0 & 0 & 0 & 0 & 0 & 0 & 0 & 0 & 0 & 0 & 0 & 0 & 0 & 0 & 0 & 0 & 0 & 0 & 0 & 0 & 0 & 0 & 0 & 0 & 0 & 0 & 0 & 0 & 0 & 0 & 0 & 0 & 0 & 0 & 0 &  - 400 xs_{7 3} & 202 - 400 xs_{7 5} + 1200 xs_{7 4}^{2} &  - 400 xs_{7 4} & 0 & 0 & 0 & 0 & 0 & 0 & 0 & 0 & 0 & 0 & 0 & 0 & 0 & 0 & 0 & 0 & 0 & 0 & 0 & 0 & 0 & 0 & 0 & 0 & 0 \\\\\n",
       "0 & 0 & 0 & 0 & 0 & 0 & 0 & 0 & 0 & 0 & 0 & 0 & 0 & 0 & 0 & 0 & 0 & 0 & 0 & 0 & 0 & 0 & 0 & 0 & 0 & 0 & 0 & 0 & 0 & 0 & 0 & 0 & 0 & 0 & 0 & 0 & 0 & 0 & 0 & 0 & 0 & 0 & 0 & 0 & 0 & 0 & 0 & 0 & 0 & 0 & 0 & 0 & 0 & 0 & 0 & 0 & 0 & 0 & 0 & 0 & 0 & 0 & 0 & 0 & 0 & 0 & 0 & 0 & 0 & 0 & 0 & 0 & 0 &  - 400 xs_{7 4} & 202 - 400 xs_{7 6} + 1200 xs_{7 5}^{2} &  - 400 xs_{7 5} & 0 & 0 & 0 & 0 & 0 & 0 & 0 & 0 & 0 & 0 & 0 & 0 & 0 & 0 & 0 & 0 & 0 & 0 & 0 & 0 & 0 & 0 & 0 & 0 \\\\\n",
       "0 & 0 & 0 & 0 & 0 & 0 & 0 & 0 & 0 & 0 & 0 & 0 & 0 & 0 & 0 & 0 & 0 & 0 & 0 & 0 & 0 & 0 & 0 & 0 & 0 & 0 & 0 & 0 & 0 & 0 & 0 & 0 & 0 & 0 & 0 & 0 & 0 & 0 & 0 & 0 & 0 & 0 & 0 & 0 & 0 & 0 & 0 & 0 & 0 & 0 & 0 & 0 & 0 & 0 & 0 & 0 & 0 & 0 & 0 & 0 & 0 & 0 & 0 & 0 & 0 & 0 & 0 & 0 & 0 & 0 & 0 & 0 & 0 & 0 &  - 400 xs_{7 5} & 202 + 1200 xs_{7 6}^{2} - 400 xs_{7 7} &  - 400 xs_{7 6} & 0 & 0 & 0 & 0 & 0 & 0 & 0 & 0 & 0 & 0 & 0 & 0 & 0 & 0 & 0 & 0 & 0 & 0 & 0 & 0 & 0 & 0 & 0 \\\\\n",
       "0 & 0 & 0 & 0 & 0 & 0 & 0 & 0 & 0 & 0 & 0 & 0 & 0 & 0 & 0 & 0 & 0 & 0 & 0 & 0 & 0 & 0 & 0 & 0 & 0 & 0 & 0 & 0 & 0 & 0 & 0 & 0 & 0 & 0 & 0 & 0 & 0 & 0 & 0 & 0 & 0 & 0 & 0 & 0 & 0 & 0 & 0 & 0 & 0 & 0 & 0 & 0 & 0 & 0 & 0 & 0 & 0 & 0 & 0 & 0 & 0 & 0 & 0 & 0 & 0 & 0 & 0 & 0 & 0 & 0 & 0 & 0 & 0 & 0 & 0 &  - 400 xs_{7 6} & 202 + 1200 xs_{7 7}^{2} - 400 xs_{7 8} &  - 400 xs_{7 7} & 0 & 0 & 0 & 0 & 0 & 0 & 0 & 0 & 0 & 0 & 0 & 0 & 0 & 0 & 0 & 0 & 0 & 0 & 0 & 0 & 0 & 0 \\\\\n",
       "0 & 0 & 0 & 0 & 0 & 0 & 0 & 0 & 0 & 0 & 0 & 0 & 0 & 0 & 0 & 0 & 0 & 0 & 0 & 0 & 0 & 0 & 0 & 0 & 0 & 0 & 0 & 0 & 0 & 0 & 0 & 0 & 0 & 0 & 0 & 0 & 0 & 0 & 0 & 0 & 0 & 0 & 0 & 0 & 0 & 0 & 0 & 0 & 0 & 0 & 0 & 0 & 0 & 0 & 0 & 0 & 0 & 0 & 0 & 0 & 0 & 0 & 0 & 0 & 0 & 0 & 0 & 0 & 0 & 0 & 0 & 0 & 0 & 0 & 0 & 0 &  - 400 xs_{7 7} & 202 + 1200 xs_{7 8}^{2} - 400 xs_{7 9} &  - 400 xs_{7 8} & 0 & 0 & 0 & 0 & 0 & 0 & 0 & 0 & 0 & 0 & 0 & 0 & 0 & 0 & 0 & 0 & 0 & 0 & 0 & 0 & 0 \\\\\n",
       "0 & 0 & 0 & 0 & 0 & 0 & 0 & 0 & 0 & 0 & 0 & 0 & 0 & 0 & 0 & 0 & 0 & 0 & 0 & 0 & 0 & 0 & 0 & 0 & 0 & 0 & 0 & 0 & 0 & 0 & 0 & 0 & 0 & 0 & 0 & 0 & 0 & 0 & 0 & 0 & 0 & 0 & 0 & 0 & 0 & 0 & 0 & 0 & 0 & 0 & 0 & 0 & 0 & 0 & 0 & 0 & 0 & 0 & 0 & 0 & 0 & 0 & 0 & 0 & 0 & 0 & 0 & 0 & 0 & 0 & 0 & 0 & 0 & 0 & 0 & 0 & 0 &  - 400 xs_{7 8} & 202 + 1200 xs_{7 9}^{2} - 400 xs_{8 0} &  - 400 xs_{7 9} & 0 & 0 & 0 & 0 & 0 & 0 & 0 & 0 & 0 & 0 & 0 & 0 & 0 & 0 & 0 & 0 & 0 & 0 & 0 & 0 \\\\\n",
       "0 & 0 & 0 & 0 & 0 & 0 & 0 & 0 & 0 & 0 & 0 & 0 & 0 & 0 & 0 & 0 & 0 & 0 & 0 & 0 & 0 & 0 & 0 & 0 & 0 & 0 & 0 & 0 & 0 & 0 & 0 & 0 & 0 & 0 & 0 & 0 & 0 & 0 & 0 & 0 & 0 & 0 & 0 & 0 & 0 & 0 & 0 & 0 & 0 & 0 & 0 & 0 & 0 & 0 & 0 & 0 & 0 & 0 & 0 & 0 & 0 & 0 & 0 & 0 & 0 & 0 & 0 & 0 & 0 & 0 & 0 & 0 & 0 & 0 & 0 & 0 & 0 & 0 &  - 400 xs_{7 9} & 202 + 1200 xs_{8 0}^{2} - 400 xs_{8 1} &  - 400 xs_{8 0} & 0 & 0 & 0 & 0 & 0 & 0 & 0 & 0 & 0 & 0 & 0 & 0 & 0 & 0 & 0 & 0 & 0 & 0 & 0 \\\\\n",
       "0 & 0 & 0 & 0 & 0 & 0 & 0 & 0 & 0 & 0 & 0 & 0 & 0 & 0 & 0 & 0 & 0 & 0 & 0 & 0 & 0 & 0 & 0 & 0 & 0 & 0 & 0 & 0 & 0 & 0 & 0 & 0 & 0 & 0 & 0 & 0 & 0 & 0 & 0 & 0 & 0 & 0 & 0 & 0 & 0 & 0 & 0 & 0 & 0 & 0 & 0 & 0 & 0 & 0 & 0 & 0 & 0 & 0 & 0 & 0 & 0 & 0 & 0 & 0 & 0 & 0 & 0 & 0 & 0 & 0 & 0 & 0 & 0 & 0 & 0 & 0 & 0 & 0 & 0 &  - 400 xs_{8 0} & 202 + 1200 xs_{8 1}^{2} - 400 xs_{8 2} &  - 400 xs_{8 1} & 0 & 0 & 0 & 0 & 0 & 0 & 0 & 0 & 0 & 0 & 0 & 0 & 0 & 0 & 0 & 0 & 0 & 0 \\\\\n",
       "0 & 0 & 0 & 0 & 0 & 0 & 0 & 0 & 0 & 0 & 0 & 0 & 0 & 0 & 0 & 0 & 0 & 0 & 0 & 0 & 0 & 0 & 0 & 0 & 0 & 0 & 0 & 0 & 0 & 0 & 0 & 0 & 0 & 0 & 0 & 0 & 0 & 0 & 0 & 0 & 0 & 0 & 0 & 0 & 0 & 0 & 0 & 0 & 0 & 0 & 0 & 0 & 0 & 0 & 0 & 0 & 0 & 0 & 0 & 0 & 0 & 0 & 0 & 0 & 0 & 0 & 0 & 0 & 0 & 0 & 0 & 0 & 0 & 0 & 0 & 0 & 0 & 0 & 0 & 0 &  - 400 xs_{8 1} & 202 - 400 xs_{8 3} + 1200 xs_{8 2}^{2} &  - 400 xs_{8 2} & 0 & 0 & 0 & 0 & 0 & 0 & 0 & 0 & 0 & 0 & 0 & 0 & 0 & 0 & 0 & 0 & 0 \\\\\n",
       "0 & 0 & 0 & 0 & 0 & 0 & 0 & 0 & 0 & 0 & 0 & 0 & 0 & 0 & 0 & 0 & 0 & 0 & 0 & 0 & 0 & 0 & 0 & 0 & 0 & 0 & 0 & 0 & 0 & 0 & 0 & 0 & 0 & 0 & 0 & 0 & 0 & 0 & 0 & 0 & 0 & 0 & 0 & 0 & 0 & 0 & 0 & 0 & 0 & 0 & 0 & 0 & 0 & 0 & 0 & 0 & 0 & 0 & 0 & 0 & 0 & 0 & 0 & 0 & 0 & 0 & 0 & 0 & 0 & 0 & 0 & 0 & 0 & 0 & 0 & 0 & 0 & 0 & 0 & 0 & 0 &  - 400 xs_{8 2} & 202 - 400 xs_{8 4} + 1200 xs_{8 3}^{2} &  - 400 xs_{8 3} & 0 & 0 & 0 & 0 & 0 & 0 & 0 & 0 & 0 & 0 & 0 & 0 & 0 & 0 & 0 & 0 \\\\\n",
       "0 & 0 & 0 & 0 & 0 & 0 & 0 & 0 & 0 & 0 & 0 & 0 & 0 & 0 & 0 & 0 & 0 & 0 & 0 & 0 & 0 & 0 & 0 & 0 & 0 & 0 & 0 & 0 & 0 & 0 & 0 & 0 & 0 & 0 & 0 & 0 & 0 & 0 & 0 & 0 & 0 & 0 & 0 & 0 & 0 & 0 & 0 & 0 & 0 & 0 & 0 & 0 & 0 & 0 & 0 & 0 & 0 & 0 & 0 & 0 & 0 & 0 & 0 & 0 & 0 & 0 & 0 & 0 & 0 & 0 & 0 & 0 & 0 & 0 & 0 & 0 & 0 & 0 & 0 & 0 & 0 & 0 &  - 400 xs_{8 3} & 202 + 1200 xs_{8 4}^{2} - 400 xs_{8 5} &  - 400 xs_{8 4} & 0 & 0 & 0 & 0 & 0 & 0 & 0 & 0 & 0 & 0 & 0 & 0 & 0 & 0 & 0 \\\\\n",
       "0 & 0 & 0 & 0 & 0 & 0 & 0 & 0 & 0 & 0 & 0 & 0 & 0 & 0 & 0 & 0 & 0 & 0 & 0 & 0 & 0 & 0 & 0 & 0 & 0 & 0 & 0 & 0 & 0 & 0 & 0 & 0 & 0 & 0 & 0 & 0 & 0 & 0 & 0 & 0 & 0 & 0 & 0 & 0 & 0 & 0 & 0 & 0 & 0 & 0 & 0 & 0 & 0 & 0 & 0 & 0 & 0 & 0 & 0 & 0 & 0 & 0 & 0 & 0 & 0 & 0 & 0 & 0 & 0 & 0 & 0 & 0 & 0 & 0 & 0 & 0 & 0 & 0 & 0 & 0 & 0 & 0 & 0 &  - 400 xs_{8 4} & 202 + 1200 xs_{8 5}^{2} - 400 xs_{8 6} &  - 400 xs_{8 5} & 0 & 0 & 0 & 0 & 0 & 0 & 0 & 0 & 0 & 0 & 0 & 0 & 0 & 0 \\\\\n",
       "0 & 0 & 0 & 0 & 0 & 0 & 0 & 0 & 0 & 0 & 0 & 0 & 0 & 0 & 0 & 0 & 0 & 0 & 0 & 0 & 0 & 0 & 0 & 0 & 0 & 0 & 0 & 0 & 0 & 0 & 0 & 0 & 0 & 0 & 0 & 0 & 0 & 0 & 0 & 0 & 0 & 0 & 0 & 0 & 0 & 0 & 0 & 0 & 0 & 0 & 0 & 0 & 0 & 0 & 0 & 0 & 0 & 0 & 0 & 0 & 0 & 0 & 0 & 0 & 0 & 0 & 0 & 0 & 0 & 0 & 0 & 0 & 0 & 0 & 0 & 0 & 0 & 0 & 0 & 0 & 0 & 0 & 0 & 0 &  - 400 xs_{8 5} & 202 - 400 xs_{8 7} + 1200 xs_{8 6}^{2} &  - 400 xs_{8 6} & 0 & 0 & 0 & 0 & 0 & 0 & 0 & 0 & 0 & 0 & 0 & 0 & 0 \\\\\n",
       "0 & 0 & 0 & 0 & 0 & 0 & 0 & 0 & 0 & 0 & 0 & 0 & 0 & 0 & 0 & 0 & 0 & 0 & 0 & 0 & 0 & 0 & 0 & 0 & 0 & 0 & 0 & 0 & 0 & 0 & 0 & 0 & 0 & 0 & 0 & 0 & 0 & 0 & 0 & 0 & 0 & 0 & 0 & 0 & 0 & 0 & 0 & 0 & 0 & 0 & 0 & 0 & 0 & 0 & 0 & 0 & 0 & 0 & 0 & 0 & 0 & 0 & 0 & 0 & 0 & 0 & 0 & 0 & 0 & 0 & 0 & 0 & 0 & 0 & 0 & 0 & 0 & 0 & 0 & 0 & 0 & 0 & 0 & 0 & 0 &  - 400 xs_{8 6} & 202 - 400 xs_{8 8} + 1200 xs_{8 7}^{2} &  - 400 xs_{8 7} & 0 & 0 & 0 & 0 & 0 & 0 & 0 & 0 & 0 & 0 & 0 & 0 \\\\\n",
       "0 & 0 & 0 & 0 & 0 & 0 & 0 & 0 & 0 & 0 & 0 & 0 & 0 & 0 & 0 & 0 & 0 & 0 & 0 & 0 & 0 & 0 & 0 & 0 & 0 & 0 & 0 & 0 & 0 & 0 & 0 & 0 & 0 & 0 & 0 & 0 & 0 & 0 & 0 & 0 & 0 & 0 & 0 & 0 & 0 & 0 & 0 & 0 & 0 & 0 & 0 & 0 & 0 & 0 & 0 & 0 & 0 & 0 & 0 & 0 & 0 & 0 & 0 & 0 & 0 & 0 & 0 & 0 & 0 & 0 & 0 & 0 & 0 & 0 & 0 & 0 & 0 & 0 & 0 & 0 & 0 & 0 & 0 & 0 & 0 & 0 &  - 400 xs_{8 7} & 202 - 400 xs_{8 9} + 1200 xs_{8 8}^{2} &  - 400 xs_{8 8} & 0 & 0 & 0 & 0 & 0 & 0 & 0 & 0 & 0 & 0 & 0 \\\\\n",
       "0 & 0 & 0 & 0 & 0 & 0 & 0 & 0 & 0 & 0 & 0 & 0 & 0 & 0 & 0 & 0 & 0 & 0 & 0 & 0 & 0 & 0 & 0 & 0 & 0 & 0 & 0 & 0 & 0 & 0 & 0 & 0 & 0 & 0 & 0 & 0 & 0 & 0 & 0 & 0 & 0 & 0 & 0 & 0 & 0 & 0 & 0 & 0 & 0 & 0 & 0 & 0 & 0 & 0 & 0 & 0 & 0 & 0 & 0 & 0 & 0 & 0 & 0 & 0 & 0 & 0 & 0 & 0 & 0 & 0 & 0 & 0 & 0 & 0 & 0 & 0 & 0 & 0 & 0 & 0 & 0 & 0 & 0 & 0 & 0 & 0 & 0 &  - 400 xs_{8 8} & 202 + 1200 xs_{8 9}^{2} - 400 xs_{9 0} &  - 400 xs_{8 9} & 0 & 0 & 0 & 0 & 0 & 0 & 0 & 0 & 0 & 0 \\\\\n",
       "0 & 0 & 0 & 0 & 0 & 0 & 0 & 0 & 0 & 0 & 0 & 0 & 0 & 0 & 0 & 0 & 0 & 0 & 0 & 0 & 0 & 0 & 0 & 0 & 0 & 0 & 0 & 0 & 0 & 0 & 0 & 0 & 0 & 0 & 0 & 0 & 0 & 0 & 0 & 0 & 0 & 0 & 0 & 0 & 0 & 0 & 0 & 0 & 0 & 0 & 0 & 0 & 0 & 0 & 0 & 0 & 0 & 0 & 0 & 0 & 0 & 0 & 0 & 0 & 0 & 0 & 0 & 0 & 0 & 0 & 0 & 0 & 0 & 0 & 0 & 0 & 0 & 0 & 0 & 0 & 0 & 0 & 0 & 0 & 0 & 0 & 0 & 0 &  - 400 xs_{8 9} & 202 + 1200 xs_{9 0}^{2} - 400 xs_{9 1} &  - 400 xs_{9 0} & 0 & 0 & 0 & 0 & 0 & 0 & 0 & 0 & 0 \\\\\n",
       "0 & 0 & 0 & 0 & 0 & 0 & 0 & 0 & 0 & 0 & 0 & 0 & 0 & 0 & 0 & 0 & 0 & 0 & 0 & 0 & 0 & 0 & 0 & 0 & 0 & 0 & 0 & 0 & 0 & 0 & 0 & 0 & 0 & 0 & 0 & 0 & 0 & 0 & 0 & 0 & 0 & 0 & 0 & 0 & 0 & 0 & 0 & 0 & 0 & 0 & 0 & 0 & 0 & 0 & 0 & 0 & 0 & 0 & 0 & 0 & 0 & 0 & 0 & 0 & 0 & 0 & 0 & 0 & 0 & 0 & 0 & 0 & 0 & 0 & 0 & 0 & 0 & 0 & 0 & 0 & 0 & 0 & 0 & 0 & 0 & 0 & 0 & 0 & 0 &  - 400 xs_{9 0} & 202 - 400 xs_{9 2} + 1200 xs_{9 1}^{2} &  - 400 xs_{9 1} & 0 & 0 & 0 & 0 & 0 & 0 & 0 & 0 \\\\\n",
       "0 & 0 & 0 & 0 & 0 & 0 & 0 & 0 & 0 & 0 & 0 & 0 & 0 & 0 & 0 & 0 & 0 & 0 & 0 & 0 & 0 & 0 & 0 & 0 & 0 & 0 & 0 & 0 & 0 & 0 & 0 & 0 & 0 & 0 & 0 & 0 & 0 & 0 & 0 & 0 & 0 & 0 & 0 & 0 & 0 & 0 & 0 & 0 & 0 & 0 & 0 & 0 & 0 & 0 & 0 & 0 & 0 & 0 & 0 & 0 & 0 & 0 & 0 & 0 & 0 & 0 & 0 & 0 & 0 & 0 & 0 & 0 & 0 & 0 & 0 & 0 & 0 & 0 & 0 & 0 & 0 & 0 & 0 & 0 & 0 & 0 & 0 & 0 & 0 & 0 &  - 400 xs_{9 1} & 202 + 1200 xs_{9 2}^{2} - 400 xs_{9 3} &  - 400 xs_{9 2} & 0 & 0 & 0 & 0 & 0 & 0 & 0 \\\\\n",
       "0 & 0 & 0 & 0 & 0 & 0 & 0 & 0 & 0 & 0 & 0 & 0 & 0 & 0 & 0 & 0 & 0 & 0 & 0 & 0 & 0 & 0 & 0 & 0 & 0 & 0 & 0 & 0 & 0 & 0 & 0 & 0 & 0 & 0 & 0 & 0 & 0 & 0 & 0 & 0 & 0 & 0 & 0 & 0 & 0 & 0 & 0 & 0 & 0 & 0 & 0 & 0 & 0 & 0 & 0 & 0 & 0 & 0 & 0 & 0 & 0 & 0 & 0 & 0 & 0 & 0 & 0 & 0 & 0 & 0 & 0 & 0 & 0 & 0 & 0 & 0 & 0 & 0 & 0 & 0 & 0 & 0 & 0 & 0 & 0 & 0 & 0 & 0 & 0 & 0 & 0 &  - 400 xs_{9 2} & 202 + 1200 xs_{9 3}^{2} - 400 xs_{9 4} &  - 400 xs_{9 3} & 0 & 0 & 0 & 0 & 0 & 0 \\\\\n",
       "0 & 0 & 0 & 0 & 0 & 0 & 0 & 0 & 0 & 0 & 0 & 0 & 0 & 0 & 0 & 0 & 0 & 0 & 0 & 0 & 0 & 0 & 0 & 0 & 0 & 0 & 0 & 0 & 0 & 0 & 0 & 0 & 0 & 0 & 0 & 0 & 0 & 0 & 0 & 0 & 0 & 0 & 0 & 0 & 0 & 0 & 0 & 0 & 0 & 0 & 0 & 0 & 0 & 0 & 0 & 0 & 0 & 0 & 0 & 0 & 0 & 0 & 0 & 0 & 0 & 0 & 0 & 0 & 0 & 0 & 0 & 0 & 0 & 0 & 0 & 0 & 0 & 0 & 0 & 0 & 0 & 0 & 0 & 0 & 0 & 0 & 0 & 0 & 0 & 0 & 0 & 0 &  - 400 xs_{9 3} & 202 - 400 xs_{9 5} + 1200 xs_{9 4}^{2} &  - 400 xs_{9 4} & 0 & 0 & 0 & 0 & 0 \\\\\n",
       "0 & 0 & 0 & 0 & 0 & 0 & 0 & 0 & 0 & 0 & 0 & 0 & 0 & 0 & 0 & 0 & 0 & 0 & 0 & 0 & 0 & 0 & 0 & 0 & 0 & 0 & 0 & 0 & 0 & 0 & 0 & 0 & 0 & 0 & 0 & 0 & 0 & 0 & 0 & 0 & 0 & 0 & 0 & 0 & 0 & 0 & 0 & 0 & 0 & 0 & 0 & 0 & 0 & 0 & 0 & 0 & 0 & 0 & 0 & 0 & 0 & 0 & 0 & 0 & 0 & 0 & 0 & 0 & 0 & 0 & 0 & 0 & 0 & 0 & 0 & 0 & 0 & 0 & 0 & 0 & 0 & 0 & 0 & 0 & 0 & 0 & 0 & 0 & 0 & 0 & 0 & 0 & 0 &  - 400 xs_{9 4} & 202 - 400 xs_{9 6} + 1200 xs_{9 5}^{2} &  - 400 xs_{9 5} & 0 & 0 & 0 & 0 \\\\\n",
       "0 & 0 & 0 & 0 & 0 & 0 & 0 & 0 & 0 & 0 & 0 & 0 & 0 & 0 & 0 & 0 & 0 & 0 & 0 & 0 & 0 & 0 & 0 & 0 & 0 & 0 & 0 & 0 & 0 & 0 & 0 & 0 & 0 & 0 & 0 & 0 & 0 & 0 & 0 & 0 & 0 & 0 & 0 & 0 & 0 & 0 & 0 & 0 & 0 & 0 & 0 & 0 & 0 & 0 & 0 & 0 & 0 & 0 & 0 & 0 & 0 & 0 & 0 & 0 & 0 & 0 & 0 & 0 & 0 & 0 & 0 & 0 & 0 & 0 & 0 & 0 & 0 & 0 & 0 & 0 & 0 & 0 & 0 & 0 & 0 & 0 & 0 & 0 & 0 & 0 & 0 & 0 & 0 & 0 &  - 400 xs_{9 5} & 202 + 1200 xs_{9 6}^{2} - 400 xs_{9 7} &  - 400 xs_{9 6} & 0 & 0 & 0 \\\\\n",
       "0 & 0 & 0 & 0 & 0 & 0 & 0 & 0 & 0 & 0 & 0 & 0 & 0 & 0 & 0 & 0 & 0 & 0 & 0 & 0 & 0 & 0 & 0 & 0 & 0 & 0 & 0 & 0 & 0 & 0 & 0 & 0 & 0 & 0 & 0 & 0 & 0 & 0 & 0 & 0 & 0 & 0 & 0 & 0 & 0 & 0 & 0 & 0 & 0 & 0 & 0 & 0 & 0 & 0 & 0 & 0 & 0 & 0 & 0 & 0 & 0 & 0 & 0 & 0 & 0 & 0 & 0 & 0 & 0 & 0 & 0 & 0 & 0 & 0 & 0 & 0 & 0 & 0 & 0 & 0 & 0 & 0 & 0 & 0 & 0 & 0 & 0 & 0 & 0 & 0 & 0 & 0 & 0 & 0 & 0 &  - 400 xs_{9 6} & 202 - 400 xs_{9 8} + 1200 xs_{9 7}^{2} &  - 400 xs_{9 7} & 0 & 0 \\\\\n",
       "0 & 0 & 0 & 0 & 0 & 0 & 0 & 0 & 0 & 0 & 0 & 0 & 0 & 0 & 0 & 0 & 0 & 0 & 0 & 0 & 0 & 0 & 0 & 0 & 0 & 0 & 0 & 0 & 0 & 0 & 0 & 0 & 0 & 0 & 0 & 0 & 0 & 0 & 0 & 0 & 0 & 0 & 0 & 0 & 0 & 0 & 0 & 0 & 0 & 0 & 0 & 0 & 0 & 0 & 0 & 0 & 0 & 0 & 0 & 0 & 0 & 0 & 0 & 0 & 0 & 0 & 0 & 0 & 0 & 0 & 0 & 0 & 0 & 0 & 0 & 0 & 0 & 0 & 0 & 0 & 0 & 0 & 0 & 0 & 0 & 0 & 0 & 0 & 0 & 0 & 0 & 0 & 0 & 0 & 0 & 0 &  - 400 xs_{9 7} & 202 + 1200 xs_{9 8}^{2} - 400 xs_{9 9} &  - 400 xs_{9 8} & 0 \\\\\n",
       "0 & 0 & 0 & 0 & 0 & 0 & 0 & 0 & 0 & 0 & 0 & 0 & 0 & 0 & 0 & 0 & 0 & 0 & 0 & 0 & 0 & 0 & 0 & 0 & 0 & 0 & 0 & 0 & 0 & 0 & 0 & 0 & 0 & 0 & 0 & 0 & 0 & 0 & 0 & 0 & 0 & 0 & 0 & 0 & 0 & 0 & 0 & 0 & 0 & 0 & 0 & 0 & 0 & 0 & 0 & 0 & 0 & 0 & 0 & 0 & 0 & 0 & 0 & 0 & 0 & 0 & 0 & 0 & 0 & 0 & 0 & 0 & 0 & 0 & 0 & 0 & 0 & 0 & 0 & 0 & 0 & 0 & 0 & 0 & 0 & 0 & 0 & 0 & 0 & 0 & 0 & 0 & 0 & 0 & 0 & 0 & 0 &  - 400 xs_{9 8} & 202 - 400 xs_{1 0 0} + 1200 xs_{9 9}^{2} &  - 400 xs_{9 9} \\\\\n",
       "0 & 0 & 0 & 0 & 0 & 0 & 0 & 0 & 0 & 0 & 0 & 0 & 0 & 0 & 0 & 0 & 0 & 0 & 0 & 0 & 0 & 0 & 0 & 0 & 0 & 0 & 0 & 0 & 0 & 0 & 0 & 0 & 0 & 0 & 0 & 0 & 0 & 0 & 0 & 0 & 0 & 0 & 0 & 0 & 0 & 0 & 0 & 0 & 0 & 0 & 0 & 0 & 0 & 0 & 0 & 0 & 0 & 0 & 0 & 0 & 0 & 0 & 0 & 0 & 0 & 0 & 0 & 0 & 0 & 0 & 0 & 0 & 0 & 0 & 0 & 0 & 0 & 0 & 0 & 0 & 0 & 0 & 0 & 0 & 0 & 0 & 0 & 0 & 0 & 0 & 0 & 0 & 0 & 0 & 0 & 0 & 0 & 0 &  - 400 xs_{9 9} & 200 \\\\\n",
       "\\end{array}\n",
       "\\right]\n",
       "\\end{equation}\n"
      ],
      "text/plain": [
       "100×100 Matrix{Num}:\n",
       " 2 + 1200(xs[1]^2) - 400xs[2]                       -400xs[1]  …           0\n",
       "                    -400xs[1]  202 + 1200(xs[2]^2) - 400xs[3]              0\n",
       "                            0                       -400xs[2]              0\n",
       "                            0                               0              0\n",
       "                            0                               0              0\n",
       "                            0                               0  …           0\n",
       "                            0                               0              0\n",
       "                            0                               0              0\n",
       "                            0                               0              0\n",
       "                            0                               0              0\n",
       "                            0                               0  …           0\n",
       "                            0                               0              0\n",
       "                            0                               0              0\n",
       "                            ⋮                                  ⋱  \n",
       "                            0                               0              0\n",
       "                            0                               0              0\n",
       "                            0                               0  …           0\n",
       "                            0                               0              0\n",
       "                            0                               0              0\n",
       "                            0                               0              0\n",
       "                            0                               0              0\n",
       "                            0                               0  …           0\n",
       "                            0                               0              0\n",
       "                            0                               0              0\n",
       "                            0                               0     -400xs[99]\n",
       "                            0                               0            200"
      ]
     },
     "execution_count": 31,
     "metadata": {},
     "output_type": "execute_result"
    }
   ],
   "source": [
    "# hes = Symbolics.jacobian(grad, xs)\n",
    "hes = Symbolics.hessian(rxs, xs)"
   ]
  },
  {
   "cell_type": "code",
   "execution_count": 32,
   "id": "6372b1db",
   "metadata": {
    "execution": {
     "iopub.execute_input": "2022-08-01T02:13:33.490000Z",
     "iopub.status.busy": "2022-08-01T02:13:33.490000Z",
     "iopub.status.idle": "2022-08-01T02:13:35.042000Z",
     "shell.execute_reply": "2022-08-01T02:13:35.042000Z"
    }
   },
   "outputs": [
    {
     "data": {
      "text/plain": [
       "true"
      ]
     },
     "execution_count": 32,
     "metadata": {},
     "output_type": "execute_result"
    }
   ],
   "source": [
    "isequal(Symbolics.hessian(rxs, xs), Symbolics.jacobian(grad, xs))"
   ]
  },
  {
   "cell_type": "markdown",
   "id": "d773e9b4",
   "metadata": {},
   "source": [
    "## Sparse matrix"
   ]
  },
  {
   "cell_type": "code",
   "execution_count": 33,
   "id": "403ee111",
   "metadata": {
    "execution": {
     "iopub.execute_input": "2022-08-01T02:13:35.046000Z",
     "iopub.status.busy": "2022-08-01T02:13:35.046000Z",
     "iopub.status.idle": "2022-08-01T02:13:39.823000Z",
     "shell.execute_reply": "2022-08-01T02:13:39.823000Z"
    }
   },
   "outputs": [
    {
     "data": {
      "text/plain": [
       "100×100 SparseArrays.SparseMatrixCSC{Bool, Int64} with 298 stored entries:\n",
       "⠻⣦⡀⠀⠀⠀⠀⠀⠀⠀⠀⠀⠀⠀⠀⠀⠀⠀⠀⠀⠀⠀⠀⠀⠀⠀⠀⠀⠀⠀⠀⠀⠀⠀⠀⠀⠀⠀⠀⠀\n",
       "⠀⠈⠻⣦⡀⠀⠀⠀⠀⠀⠀⠀⠀⠀⠀⠀⠀⠀⠀⠀⠀⠀⠀⠀⠀⠀⠀⠀⠀⠀⠀⠀⠀⠀⠀⠀⠀⠀⠀⠀\n",
       "⠀⠀⠀⠈⠻⣦⡀⠀⠀⠀⠀⠀⠀⠀⠀⠀⠀⠀⠀⠀⠀⠀⠀⠀⠀⠀⠀⠀⠀⠀⠀⠀⠀⠀⠀⠀⠀⠀⠀⠀\n",
       "⠀⠀⠀⠀⠀⠈⠻⣦⡀⠀⠀⠀⠀⠀⠀⠀⠀⠀⠀⠀⠀⠀⠀⠀⠀⠀⠀⠀⠀⠀⠀⠀⠀⠀⠀⠀⠀⠀⠀⠀\n",
       "⠀⠀⠀⠀⠀⠀⠀⠈⠻⣦⡀⠀⠀⠀⠀⠀⠀⠀⠀⠀⠀⠀⠀⠀⠀⠀⠀⠀⠀⠀⠀⠀⠀⠀⠀⠀⠀⠀⠀⠀\n",
       "⠀⠀⠀⠀⠀⠀⠀⠀⠀⠈⠻⣦⡀⠀⠀⠀⠀⠀⠀⠀⠀⠀⠀⠀⠀⠀⠀⠀⠀⠀⠀⠀⠀⠀⠀⠀⠀⠀⠀⠀\n",
       "⠀⠀⠀⠀⠀⠀⠀⠀⠀⠀⠀⠈⠻⣦⡀⠀⠀⠀⠀⠀⠀⠀⠀⠀⠀⠀⠀⠀⠀⠀⠀⠀⠀⠀⠀⠀⠀⠀⠀⠀\n",
       "⠀⠀⠀⠀⠀⠀⠀⠀⠀⠀⠀⠀⠀⠈⠻⣦⡀⠀⠀⠀⠀⠀⠀⠀⠀⠀⠀⠀⠀⠀⠀⠀⠀⠀⠀⠀⠀⠀⠀⠀\n",
       "⠀⠀⠀⠀⠀⠀⠀⠀⠀⠀⠀⠀⠀⠀⠀⠈⠻⣦⡀⠀⠀⠀⠀⠀⠀⠀⠀⠀⠀⠀⠀⠀⠀⠀⠀⠀⠀⠀⠀⠀\n",
       "⠀⠀⠀⠀⠀⠀⠀⠀⠀⠀⠀⠀⠀⠀⠀⠀⠀⠈⠻⣦⡀⠀⠀⠀⠀⠀⠀⠀⠀⠀⠀⠀⠀⠀⠀⠀⠀⠀⠀⠀\n",
       "⠀⠀⠀⠀⠀⠀⠀⠀⠀⠀⠀⠀⠀⠀⠀⠀⠀⠀⠀⠈⠻⣦⡀⠀⠀⠀⠀⠀⠀⠀⠀⠀⠀⠀⠀⠀⠀⠀⠀⠀\n",
       "⠀⠀⠀⠀⠀⠀⠀⠀⠀⠀⠀⠀⠀⠀⠀⠀⠀⠀⠀⠀⠀⠈⠻⣦⡀⠀⠀⠀⠀⠀⠀⠀⠀⠀⠀⠀⠀⠀⠀⠀\n",
       "⠀⠀⠀⠀⠀⠀⠀⠀⠀⠀⠀⠀⠀⠀⠀⠀⠀⠀⠀⠀⠀⠀⠀⠈⠻⣦⡀⠀⠀⠀⠀⠀⠀⠀⠀⠀⠀⠀⠀⠀\n",
       "⠀⠀⠀⠀⠀⠀⠀⠀⠀⠀⠀⠀⠀⠀⠀⠀⠀⠀⠀⠀⠀⠀⠀⠀⠀⠈⠻⣦⡀⠀⠀⠀⠀⠀⠀⠀⠀⠀⠀⠀\n",
       "⠀⠀⠀⠀⠀⠀⠀⠀⠀⠀⠀⠀⠀⠀⠀⠀⠀⠀⠀⠀⠀⠀⠀⠀⠀⠀⠀⠈⠻⣦⡀⠀⠀⠀⠀⠀⠀⠀⠀⠀\n",
       "⠀⠀⠀⠀⠀⠀⠀⠀⠀⠀⠀⠀⠀⠀⠀⠀⠀⠀⠀⠀⠀⠀⠀⠀⠀⠀⠀⠀⠀⠈⠻⣦⡀⠀⠀⠀⠀⠀⠀⠀\n",
       "⠀⠀⠀⠀⠀⠀⠀⠀⠀⠀⠀⠀⠀⠀⠀⠀⠀⠀⠀⠀⠀⠀⠀⠀⠀⠀⠀⠀⠀⠀⠀⠈⠻⣦⡀⠀⠀⠀⠀⠀\n",
       "⠀⠀⠀⠀⠀⠀⠀⠀⠀⠀⠀⠀⠀⠀⠀⠀⠀⠀⠀⠀⠀⠀⠀⠀⠀⠀⠀⠀⠀⠀⠀⠀⠀⠈⠻⣦⡀⠀⠀⠀\n",
       "⠀⠀⠀⠀⠀⠀⠀⠀⠀⠀⠀⠀⠀⠀⠀⠀⠀⠀⠀⠀⠀⠀⠀⠀⠀⠀⠀⠀⠀⠀⠀⠀⠀⠀⠀⠈⠻⣦⡀⠀\n",
       "⠀⠀⠀⠀⠀⠀⠀⠀⠀⠀⠀⠀⠀⠀⠀⠀⠀⠀⠀⠀⠀⠀⠀⠀⠀⠀⠀⠀⠀⠀⠀⠀⠀⠀⠀⠀⠀⠈⠻⣦"
      ]
     },
     "execution_count": 33,
     "metadata": {},
     "output_type": "execute_result"
    }
   ],
   "source": [
    "# Sparse Hessian matrix of the Hessian matrix of the Rosenbrock function w.r.t. to vector components.\n",
    "# (298 non-zero values out of 10000 elements)\n",
    "hes_sp = Symbolics.hessian_sparsity(rxs, xs)"
   ]
  },
  {
   "cell_type": "markdown",
   "id": "19f3c47f",
   "metadata": {},
   "source": [
    "Visualize sparse matrix using `Plots.spy()`"
   ]
  },
  {
   "cell_type": "code",
   "execution_count": 34,
   "id": "7bf832ce",
   "metadata": {
    "execution": {
     "iopub.execute_input": "2022-08-01T02:13:39.827000Z",
     "iopub.status.busy": "2022-08-01T02:13:39.826000Z",
     "iopub.status.idle": "2022-08-01T02:14:00.224000Z",
     "shell.execute_reply": "2022-08-01T02:14:00.224000Z"
    }
   },
   "outputs": [
    {
     "data": {
      "image/svg+xml": [
       "<?xml version=\"1.0\" encoding=\"utf-8\"?>\n",
       "<svg xmlns=\"http://www.w3.org/2000/svg\" xmlns:xlink=\"http://www.w3.org/1999/xlink\" width=\"600\" height=\"400\" viewBox=\"0 0 2400 1600\">\n",
       "<defs>\n",
       "  <clipPath id=\"clip000\">\n",
       "    <rect x=\"0\" y=\"0\" width=\"2400\" height=\"1600\"/>\n",
       "  </clipPath>\n",
       "</defs>\n",
       "<path clip-path=\"url(#clip000)\" d=\"\n",
       "M0 1600 L2400 1600 L2400 0 L0 0  Z\n",
       "  \" fill=\"#ffffff\" fill-rule=\"evenodd\" fill-opacity=\"1\"/>\n",
       "<defs>\n",
       "  <clipPath id=\"clip001\">\n",
       "    <rect x=\"480\" y=\"0\" width=\"1681\" height=\"1600\"/>\n",
       "  </clipPath>\n",
       "</defs>\n",
       "<path clip-path=\"url(#clip000)\" d=\"\n",
       "M541.337 1486.45 L1980.54 1486.45 L1980.54 47.2441 L541.337 47.2441  Z\n",
       "  \" fill=\"#ffffff\" fill-rule=\"evenodd\" fill-opacity=\"1\"/>\n",
       "<defs>\n",
       "  <clipPath id=\"clip002\">\n",
       "    <rect x=\"541\" y=\"47\" width=\"1440\" height=\"1440\"/>\n",
       "  </clipPath>\n",
       "</defs>\n",
       "<polyline clip-path=\"url(#clip000)\" style=\"stroke:#000000; stroke-linecap:butt; stroke-linejoin:round; stroke-width:4; stroke-opacity:1; fill:none\" points=\"\n",
       "  541.337,1486.45 1980.54,1486.45 \n",
       "  \"/>\n",
       "<polyline clip-path=\"url(#clip000)\" style=\"stroke:#000000; stroke-linecap:butt; stroke-linejoin:round; stroke-width:4; stroke-opacity:1; fill:none\" points=\"\n",
       "  568.354,1486.45 568.354,1467.55 \n",
       "  \"/>\n",
       "<polyline clip-path=\"url(#clip000)\" style=\"stroke:#000000; stroke-linecap:butt; stroke-linejoin:round; stroke-width:4; stroke-opacity:1; fill:none\" points=\"\n",
       "  911.218,1486.45 911.218,1467.55 \n",
       "  \"/>\n",
       "<polyline clip-path=\"url(#clip000)\" style=\"stroke:#000000; stroke-linecap:butt; stroke-linejoin:round; stroke-width:4; stroke-opacity:1; fill:none\" points=\"\n",
       "  1254.08,1486.45 1254.08,1467.55 \n",
       "  \"/>\n",
       "<polyline clip-path=\"url(#clip000)\" style=\"stroke:#000000; stroke-linecap:butt; stroke-linejoin:round; stroke-width:4; stroke-opacity:1; fill:none\" points=\"\n",
       "  1596.94,1486.45 1596.94,1467.55 \n",
       "  \"/>\n",
       "<polyline clip-path=\"url(#clip000)\" style=\"stroke:#000000; stroke-linecap:butt; stroke-linejoin:round; stroke-width:4; stroke-opacity:1; fill:none\" points=\"\n",
       "  1939.81,1486.45 1939.81,1467.55 \n",
       "  \"/>\n",
       "<path clip-path=\"url(#clip000)\" d=\"M568.354 1517.37 Q564.743 1517.37 562.915 1520.93 Q561.109 1524.47 561.109 1531.6 Q561.109 1538.71 562.915 1542.27 Q564.743 1545.82 568.354 1545.82 Q571.989 1545.82 573.794 1542.27 Q575.623 1538.71 575.623 1531.6 Q575.623 1524.47 573.794 1520.93 Q571.989 1517.37 568.354 1517.37 M568.354 1513.66 Q574.165 1513.66 577.22 1518.27 Q580.299 1522.85 580.299 1531.6 Q580.299 1540.33 577.22 1544.94 Q574.165 1549.52 568.354 1549.52 Q562.544 1549.52 559.466 1544.94 Q556.41 1540.33 556.41 1531.6 Q556.41 1522.85 559.466 1518.27 Q562.544 1513.66 568.354 1513.66 Z\" fill=\"#000000\" fill-rule=\"evenodd\" fill-opacity=\"1\" /><path clip-path=\"url(#clip000)\" d=\"M890.489 1544.91 L906.808 1544.91 L906.808 1548.85 L884.864 1548.85 L884.864 1544.91 Q887.526 1542.16 892.109 1537.53 Q896.716 1532.88 897.896 1531.53 Q900.142 1529.01 901.021 1527.27 Q901.924 1525.51 901.924 1523.82 Q901.924 1521.07 899.979 1519.33 Q898.058 1517.6 894.956 1517.6 Q892.757 1517.6 890.304 1518.36 Q887.873 1519.13 885.095 1520.68 L885.095 1515.95 Q887.919 1514.82 890.373 1514.24 Q892.827 1513.66 894.864 1513.66 Q900.234 1513.66 903.429 1516.35 Q906.623 1519.03 906.623 1523.52 Q906.623 1525.65 905.813 1527.57 Q905.026 1529.47 902.919 1532.07 Q902.341 1532.74 899.239 1535.95 Q896.137 1539.15 890.489 1544.91 Z\" fill=\"#000000\" fill-rule=\"evenodd\" fill-opacity=\"1\" /><path clip-path=\"url(#clip000)\" d=\"M916.669 1514.29 L935.026 1514.29 L935.026 1518.22 L920.952 1518.22 L920.952 1526.7 Q921.97 1526.35 922.989 1526.19 Q924.007 1526 925.026 1526 Q930.813 1526 934.192 1529.17 Q937.572 1532.34 937.572 1537.76 Q937.572 1543.34 934.1 1546.44 Q930.627 1549.52 924.308 1549.52 Q922.132 1549.52 919.864 1549.15 Q917.618 1548.78 915.211 1548.04 L915.211 1543.34 Q917.294 1544.47 919.516 1545.03 Q921.739 1545.58 924.215 1545.58 Q928.22 1545.58 930.558 1543.48 Q932.896 1541.37 932.896 1537.76 Q932.896 1534.15 930.558 1532.04 Q928.22 1529.94 924.215 1529.94 Q922.34 1529.94 920.465 1530.35 Q918.614 1530.77 916.669 1531.65 L916.669 1514.29 Z\" fill=\"#000000\" fill-rule=\"evenodd\" fill-opacity=\"1\" /><path clip-path=\"url(#clip000)\" d=\"M1228.78 1514.29 L1247.14 1514.29 L1247.14 1518.22 L1233.06 1518.22 L1233.06 1526.7 Q1234.08 1526.35 1235.1 1526.19 Q1236.12 1526 1237.14 1526 Q1242.92 1526 1246.3 1529.17 Q1249.68 1532.34 1249.68 1537.76 Q1249.68 1543.34 1246.21 1546.44 Q1242.74 1549.52 1236.42 1549.52 Q1234.24 1549.52 1231.97 1549.15 Q1229.73 1548.78 1227.32 1548.04 L1227.32 1543.34 Q1229.41 1544.47 1231.63 1545.03 Q1233.85 1545.58 1236.33 1545.58 Q1240.33 1545.58 1242.67 1543.48 Q1245.01 1541.37 1245.01 1537.76 Q1245.01 1534.15 1242.67 1532.04 Q1240.33 1529.94 1236.33 1529.94 Q1234.45 1529.94 1232.58 1530.35 Q1230.72 1530.77 1228.78 1531.65 L1228.78 1514.29 Z\" fill=\"#000000\" fill-rule=\"evenodd\" fill-opacity=\"1\" /><path clip-path=\"url(#clip000)\" d=\"M1268.9 1517.37 Q1265.28 1517.37 1263.46 1520.93 Q1261.65 1524.47 1261.65 1531.6 Q1261.65 1538.71 1263.46 1542.27 Q1265.28 1545.82 1268.9 1545.82 Q1272.53 1545.82 1274.34 1542.27 Q1276.16 1538.71 1276.16 1531.6 Q1276.16 1524.47 1274.34 1520.93 Q1272.53 1517.37 1268.9 1517.37 M1268.9 1513.66 Q1274.71 1513.66 1277.76 1518.27 Q1280.84 1522.85 1280.84 1531.6 Q1280.84 1540.33 1277.76 1544.94 Q1274.71 1549.52 1268.9 1549.52 Q1263.09 1549.52 1260.01 1544.94 Q1256.95 1540.33 1256.95 1531.6 Q1256.95 1522.85 1260.01 1518.27 Q1263.09 1513.66 1268.9 1513.66 Z\" fill=\"#000000\" fill-rule=\"evenodd\" fill-opacity=\"1\" /><path clip-path=\"url(#clip000)\" d=\"M1570.8 1514.29 L1593.02 1514.29 L1593.02 1516.28 L1580.48 1548.85 L1575.59 1548.85 L1587.4 1518.22 L1570.8 1518.22 L1570.8 1514.29 Z\" fill=\"#000000\" fill-rule=\"evenodd\" fill-opacity=\"1\" /><path clip-path=\"url(#clip000)\" d=\"M1602.19 1514.29 L1620.54 1514.29 L1620.54 1518.22 L1606.47 1518.22 L1606.47 1526.7 Q1607.49 1526.35 1608.51 1526.19 Q1609.53 1526 1610.54 1526 Q1616.33 1526 1619.71 1529.17 Q1623.09 1532.34 1623.09 1537.76 Q1623.09 1543.34 1619.62 1546.44 Q1616.15 1549.52 1609.83 1549.52 Q1607.65 1549.52 1605.38 1549.15 Q1603.14 1548.78 1600.73 1548.04 L1600.73 1543.34 Q1602.81 1544.47 1605.04 1545.03 Q1607.26 1545.58 1609.73 1545.58 Q1613.74 1545.58 1616.08 1543.48 Q1618.41 1541.37 1618.41 1537.76 Q1618.41 1534.15 1616.08 1532.04 Q1613.74 1529.94 1609.73 1529.94 Q1607.86 1529.94 1605.98 1530.35 Q1604.13 1530.77 1602.19 1531.65 L1602.19 1514.29 Z\" fill=\"#000000\" fill-rule=\"evenodd\" fill-opacity=\"1\" /><path clip-path=\"url(#clip000)\" d=\"M1899.42 1544.91 L1907.05 1544.91 L1907.05 1518.55 L1898.74 1520.21 L1898.74 1515.95 L1907.01 1514.29 L1911.68 1514.29 L1911.68 1544.91 L1919.32 1544.91 L1919.32 1548.85 L1899.42 1548.85 L1899.42 1544.91 Z\" fill=\"#000000\" fill-rule=\"evenodd\" fill-opacity=\"1\" /><path clip-path=\"url(#clip000)\" d=\"M1938.77 1517.37 Q1935.16 1517.37 1933.33 1520.93 Q1931.52 1524.47 1931.52 1531.6 Q1931.52 1538.71 1933.33 1542.27 Q1935.16 1545.82 1938.77 1545.82 Q1942.4 1545.82 1944.21 1542.27 Q1946.04 1538.71 1946.04 1531.6 Q1946.04 1524.47 1944.21 1520.93 Q1942.4 1517.37 1938.77 1517.37 M1938.77 1513.66 Q1944.58 1513.66 1947.63 1518.27 Q1950.71 1522.85 1950.71 1531.6 Q1950.71 1540.33 1947.63 1544.94 Q1944.58 1549.52 1938.77 1549.52 Q1932.96 1549.52 1929.88 1544.94 Q1926.82 1540.33 1926.82 1531.6 Q1926.82 1522.85 1929.88 1518.27 Q1932.96 1513.66 1938.77 1513.66 Z\" fill=\"#000000\" fill-rule=\"evenodd\" fill-opacity=\"1\" /><path clip-path=\"url(#clip000)\" d=\"M1968.93 1517.37 Q1965.32 1517.37 1963.49 1520.93 Q1961.68 1524.47 1961.68 1531.6 Q1961.68 1538.71 1963.49 1542.27 Q1965.32 1545.82 1968.93 1545.82 Q1972.56 1545.82 1974.37 1542.27 Q1976.2 1538.71 1976.2 1531.6 Q1976.2 1524.47 1974.37 1520.93 Q1972.56 1517.37 1968.93 1517.37 M1968.93 1513.66 Q1974.74 1513.66 1977.79 1518.27 Q1980.87 1522.85 1980.87 1531.6 Q1980.87 1540.33 1977.79 1544.94 Q1974.74 1549.52 1968.93 1549.52 Q1963.12 1549.52 1960.04 1544.94 Q1956.98 1540.33 1956.98 1531.6 Q1956.98 1522.85 1960.04 1518.27 Q1963.12 1513.66 1968.93 1513.66 Z\" fill=\"#000000\" fill-rule=\"evenodd\" fill-opacity=\"1\" /><polyline clip-path=\"url(#clip000)\" style=\"stroke:#000000; stroke-linecap:butt; stroke-linejoin:round; stroke-width:4; stroke-opacity:1; fill:none\" points=\"\n",
       "  541.337,47.2441 541.337,1486.45 \n",
       "  \"/>\n",
       "<polyline clip-path=\"url(#clip000)\" style=\"stroke:#000000; stroke-linecap:butt; stroke-linejoin:round; stroke-width:4; stroke-opacity:1; fill:none\" points=\"\n",
       "  541.337,74.2617 553.792,74.2617 \n",
       "  \"/>\n",
       "<polyline clip-path=\"url(#clip000)\" style=\"stroke:#000000; stroke-linecap:butt; stroke-linejoin:round; stroke-width:4; stroke-opacity:1; fill:none\" points=\"\n",
       "  541.337,417.125 553.792,417.125 \n",
       "  \"/>\n",
       "<polyline clip-path=\"url(#clip000)\" style=\"stroke:#000000; stroke-linecap:butt; stroke-linejoin:round; stroke-width:4; stroke-opacity:1; fill:none\" points=\"\n",
       "  541.337,759.989 553.792,759.989 \n",
       "  \"/>\n",
       "<polyline clip-path=\"url(#clip000)\" style=\"stroke:#000000; stroke-linecap:butt; stroke-linejoin:round; stroke-width:4; stroke-opacity:1; fill:none\" points=\"\n",
       "  541.337,1102.85 553.792,1102.85 \n",
       "  \"/>\n",
       "<polyline clip-path=\"url(#clip000)\" style=\"stroke:#000000; stroke-linecap:butt; stroke-linejoin:round; stroke-width:4; stroke-opacity:1; fill:none\" points=\"\n",
       "  541.337,1445.72 553.792,1445.72 \n",
       "  \"/>\n",
       "<path clip-path=\"url(#clip000)\" d=\"M493.392 60.0604 Q489.781 60.0604 487.953 63.6252 Q486.147 67.1669 486.147 74.2965 Q486.147 81.4029 487.953 84.9677 Q489.781 88.5093 493.392 88.5093 Q497.027 88.5093 498.832 84.9677 Q500.661 81.4029 500.661 74.2965 Q500.661 67.1669 498.832 63.6252 Q497.027 60.0604 493.392 60.0604 M493.392 56.3567 Q499.202 56.3567 502.258 60.9632 Q505.337 65.5465 505.337 74.2965 Q505.337 83.0233 502.258 87.6297 Q499.202 92.213 493.392 92.213 Q487.582 92.213 484.503 87.6297 Q481.448 83.0233 481.448 74.2965 Q481.448 65.5465 484.503 60.9632 Q487.582 56.3567 493.392 56.3567 Z\" fill=\"#000000\" fill-rule=\"evenodd\" fill-opacity=\"1\" /><path clip-path=\"url(#clip000)\" d=\"M458.254 430.47 L474.573 430.47 L474.573 434.405 L452.629 434.405 L452.629 430.47 Q455.291 427.715 459.874 423.086 Q464.48 418.433 465.661 417.091 Q467.906 414.567 468.786 412.831 Q469.689 411.072 469.689 409.382 Q469.689 406.628 467.744 404.891 Q465.823 403.155 462.721 403.155 Q460.522 403.155 458.068 403.919 Q455.638 404.683 452.86 406.234 L452.86 401.512 Q455.684 400.378 458.138 399.799 Q460.592 399.22 462.629 399.22 Q467.999 399.22 471.193 401.905 Q474.388 404.591 474.388 409.081 Q474.388 411.211 473.578 413.132 Q472.791 415.03 470.684 417.623 Q470.105 418.294 467.004 421.512 Q463.902 424.706 458.254 430.47 Z\" fill=\"#000000\" fill-rule=\"evenodd\" fill-opacity=\"1\" /><path clip-path=\"url(#clip000)\" d=\"M484.434 399.845 L502.79 399.845 L502.79 403.78 L488.716 403.78 L488.716 412.253 Q489.735 411.905 490.753 411.743 Q491.772 411.558 492.79 411.558 Q498.577 411.558 501.957 414.729 Q505.337 417.901 505.337 423.317 Q505.337 428.896 501.865 431.998 Q498.392 435.077 492.073 435.077 Q489.897 435.077 487.628 434.706 Q485.383 434.336 482.976 433.595 L482.976 428.896 Q485.059 430.03 487.281 430.586 Q489.503 431.141 491.98 431.141 Q495.985 431.141 498.323 429.035 Q500.661 426.928 500.661 423.317 Q500.661 419.706 498.323 417.6 Q495.985 415.493 491.98 415.493 Q490.105 415.493 488.23 415.91 Q486.378 416.327 484.434 417.206 L484.434 399.845 Z\" fill=\"#000000\" fill-rule=\"evenodd\" fill-opacity=\"1\" /><path clip-path=\"url(#clip000)\" d=\"M453.277 742.709 L471.633 742.709 L471.633 746.644 L457.559 746.644 L457.559 755.116 Q458.578 754.769 459.596 754.607 Q460.615 754.422 461.633 754.422 Q467.42 754.422 470.8 757.593 Q474.179 760.764 474.179 766.181 Q474.179 771.759 470.707 774.861 Q467.235 777.94 460.916 777.94 Q458.74 777.94 456.471 777.57 Q454.226 777.199 451.818 776.459 L451.818 771.759 Q453.902 772.894 456.124 773.449 Q458.346 774.005 460.823 774.005 Q464.828 774.005 467.166 771.898 Q469.504 769.792 469.504 766.181 Q469.504 762.57 467.166 760.463 Q464.828 758.357 460.823 758.357 Q458.948 758.357 457.073 758.773 Q455.221 759.19 453.277 760.07 L453.277 742.709 Z\" fill=\"#000000\" fill-rule=\"evenodd\" fill-opacity=\"1\" /><path clip-path=\"url(#clip000)\" d=\"M493.392 745.787 Q489.781 745.787 487.953 749.352 Q486.147 752.894 486.147 760.023 Q486.147 767.13 487.953 770.695 Q489.781 774.236 493.392 774.236 Q497.027 774.236 498.832 770.695 Q500.661 767.13 500.661 760.023 Q500.661 752.894 498.832 749.352 Q497.027 745.787 493.392 745.787 M493.392 742.084 Q499.202 742.084 502.258 746.69 Q505.337 751.273 505.337 760.023 Q505.337 768.75 502.258 773.357 Q499.202 777.94 493.392 777.94 Q487.582 777.94 484.503 773.357 Q481.448 768.75 481.448 760.023 Q481.448 751.273 484.503 746.69 Q487.582 742.084 493.392 742.084 Z\" fill=\"#000000\" fill-rule=\"evenodd\" fill-opacity=\"1\" /><path clip-path=\"url(#clip000)\" d=\"M453.045 1085.57 L475.267 1085.57 L475.267 1087.56 L462.721 1120.13 L457.837 1120.13 L469.642 1089.51 L453.045 1089.51 L453.045 1085.57 Z\" fill=\"#000000\" fill-rule=\"evenodd\" fill-opacity=\"1\" /><path clip-path=\"url(#clip000)\" d=\"M484.434 1085.57 L502.79 1085.57 L502.79 1089.51 L488.716 1089.51 L488.716 1097.98 Q489.735 1097.63 490.753 1097.47 Q491.772 1097.29 492.79 1097.29 Q498.577 1097.29 501.957 1100.46 Q505.337 1103.63 505.337 1109.04 Q505.337 1114.62 501.865 1117.72 Q498.392 1120.8 492.073 1120.8 Q489.897 1120.8 487.628 1120.43 Q485.383 1120.06 482.976 1119.32 L482.976 1114.62 Q485.059 1115.76 487.281 1116.31 Q489.503 1116.87 491.98 1116.87 Q495.985 1116.87 498.323 1114.76 Q500.661 1112.66 500.661 1109.04 Q500.661 1105.43 498.323 1103.33 Q495.985 1101.22 491.98 1101.22 Q490.105 1101.22 488.23 1101.64 Q486.378 1102.05 484.434 1102.93 L484.434 1085.57 Z\" fill=\"#000000\" fill-rule=\"evenodd\" fill-opacity=\"1\" /><path clip-path=\"url(#clip000)\" d=\"M423.879 1459.06 L431.518 1459.06 L431.518 1432.69 L423.208 1434.36 L423.208 1430.1 L431.471 1428.44 L436.147 1428.44 L436.147 1459.06 L443.786 1459.06 L443.786 1463 L423.879 1463 L423.879 1459.06 Z\" fill=\"#000000\" fill-rule=\"evenodd\" fill-opacity=\"1\" /><path clip-path=\"url(#clip000)\" d=\"M463.23 1431.51 Q459.619 1431.51 457.791 1435.08 Q455.985 1438.62 455.985 1445.75 Q455.985 1452.86 457.791 1456.42 Q459.619 1459.96 463.23 1459.96 Q466.865 1459.96 468.67 1456.42 Q470.499 1452.86 470.499 1445.75 Q470.499 1438.62 468.67 1435.08 Q466.865 1431.51 463.23 1431.51 M463.23 1427.81 Q469.041 1427.81 472.096 1432.42 Q475.175 1437 475.175 1445.75 Q475.175 1454.48 472.096 1459.08 Q469.041 1463.67 463.23 1463.67 Q457.42 1463.67 454.342 1459.08 Q451.286 1454.48 451.286 1445.75 Q451.286 1437 454.342 1432.42 Q457.42 1427.81 463.23 1427.81 Z\" fill=\"#000000\" fill-rule=\"evenodd\" fill-opacity=\"1\" /><path clip-path=\"url(#clip000)\" d=\"M493.392 1431.51 Q489.781 1431.51 487.953 1435.08 Q486.147 1438.62 486.147 1445.75 Q486.147 1452.86 487.953 1456.42 Q489.781 1459.96 493.392 1459.96 Q497.027 1459.96 498.832 1456.42 Q500.661 1452.86 500.661 1445.75 Q500.661 1438.62 498.832 1435.08 Q497.027 1431.51 493.392 1431.51 M493.392 1427.81 Q499.202 1427.81 502.258 1432.42 Q505.337 1437 505.337 1445.75 Q505.337 1454.48 502.258 1459.08 Q499.202 1463.67 493.392 1463.67 Q487.582 1463.67 484.503 1459.08 Q481.448 1454.48 481.448 1445.75 Q481.448 1437 484.503 1432.42 Q487.582 1427.81 493.392 1427.81 Z\" fill=\"#000000\" fill-rule=\"evenodd\" fill-opacity=\"1\" /><circle clip-path=\"url(#clip002)\" cx=\"582.069\" cy=\"87.9763\" r=\"3.6\" fill=\"#000000\" fill-rule=\"evenodd\" fill-opacity=\"1\" stroke=\"none\"/>\n",
       "<circle clip-path=\"url(#clip002)\" cx=\"582.069\" cy=\"101.691\" r=\"3.6\" fill=\"#000000\" fill-rule=\"evenodd\" fill-opacity=\"1\" stroke=\"none\"/>\n",
       "<circle clip-path=\"url(#clip002)\" cx=\"595.783\" cy=\"87.9763\" r=\"3.6\" fill=\"#000000\" fill-rule=\"evenodd\" fill-opacity=\"1\" stroke=\"none\"/>\n",
       "<circle clip-path=\"url(#clip002)\" cx=\"595.783\" cy=\"101.691\" r=\"3.6\" fill=\"#000000\" fill-rule=\"evenodd\" fill-opacity=\"1\" stroke=\"none\"/>\n",
       "<circle clip-path=\"url(#clip002)\" cx=\"595.783\" cy=\"115.405\" r=\"3.6\" fill=\"#000000\" fill-rule=\"evenodd\" fill-opacity=\"1\" stroke=\"none\"/>\n",
       "<circle clip-path=\"url(#clip002)\" cx=\"609.498\" cy=\"101.691\" r=\"3.6\" fill=\"#000000\" fill-rule=\"evenodd\" fill-opacity=\"1\" stroke=\"none\"/>\n",
       "<circle clip-path=\"url(#clip002)\" cx=\"609.498\" cy=\"115.405\" r=\"3.6\" fill=\"#000000\" fill-rule=\"evenodd\" fill-opacity=\"1\" stroke=\"none\"/>\n",
       "<circle clip-path=\"url(#clip002)\" cx=\"609.498\" cy=\"129.12\" r=\"3.6\" fill=\"#000000\" fill-rule=\"evenodd\" fill-opacity=\"1\" stroke=\"none\"/>\n",
       "<circle clip-path=\"url(#clip002)\" cx=\"623.213\" cy=\"115.405\" r=\"3.6\" fill=\"#000000\" fill-rule=\"evenodd\" fill-opacity=\"1\" stroke=\"none\"/>\n",
       "<circle clip-path=\"url(#clip002)\" cx=\"623.213\" cy=\"129.12\" r=\"3.6\" fill=\"#000000\" fill-rule=\"evenodd\" fill-opacity=\"1\" stroke=\"none\"/>\n",
       "<circle clip-path=\"url(#clip002)\" cx=\"623.213\" cy=\"142.834\" r=\"3.6\" fill=\"#000000\" fill-rule=\"evenodd\" fill-opacity=\"1\" stroke=\"none\"/>\n",
       "<circle clip-path=\"url(#clip002)\" cx=\"636.927\" cy=\"129.12\" r=\"3.6\" fill=\"#000000\" fill-rule=\"evenodd\" fill-opacity=\"1\" stroke=\"none\"/>\n",
       "<circle clip-path=\"url(#clip002)\" cx=\"636.927\" cy=\"142.834\" r=\"3.6\" fill=\"#000000\" fill-rule=\"evenodd\" fill-opacity=\"1\" stroke=\"none\"/>\n",
       "<circle clip-path=\"url(#clip002)\" cx=\"636.927\" cy=\"156.549\" r=\"3.6\" fill=\"#000000\" fill-rule=\"evenodd\" fill-opacity=\"1\" stroke=\"none\"/>\n",
       "<circle clip-path=\"url(#clip002)\" cx=\"650.642\" cy=\"142.834\" r=\"3.6\" fill=\"#000000\" fill-rule=\"evenodd\" fill-opacity=\"1\" stroke=\"none\"/>\n",
       "<circle clip-path=\"url(#clip002)\" cx=\"650.642\" cy=\"156.549\" r=\"3.6\" fill=\"#000000\" fill-rule=\"evenodd\" fill-opacity=\"1\" stroke=\"none\"/>\n",
       "<circle clip-path=\"url(#clip002)\" cx=\"650.642\" cy=\"170.264\" r=\"3.6\" fill=\"#000000\" fill-rule=\"evenodd\" fill-opacity=\"1\" stroke=\"none\"/>\n",
       "<circle clip-path=\"url(#clip002)\" cx=\"664.356\" cy=\"156.549\" r=\"3.6\" fill=\"#000000\" fill-rule=\"evenodd\" fill-opacity=\"1\" stroke=\"none\"/>\n",
       "<circle clip-path=\"url(#clip002)\" cx=\"664.356\" cy=\"170.264\" r=\"3.6\" fill=\"#000000\" fill-rule=\"evenodd\" fill-opacity=\"1\" stroke=\"none\"/>\n",
       "<circle clip-path=\"url(#clip002)\" cx=\"664.356\" cy=\"183.978\" r=\"3.6\" fill=\"#000000\" fill-rule=\"evenodd\" fill-opacity=\"1\" stroke=\"none\"/>\n",
       "<circle clip-path=\"url(#clip002)\" cx=\"678.071\" cy=\"170.264\" r=\"3.6\" fill=\"#000000\" fill-rule=\"evenodd\" fill-opacity=\"1\" stroke=\"none\"/>\n",
       "<circle clip-path=\"url(#clip002)\" cx=\"678.071\" cy=\"183.978\" r=\"3.6\" fill=\"#000000\" fill-rule=\"evenodd\" fill-opacity=\"1\" stroke=\"none\"/>\n",
       "<circle clip-path=\"url(#clip002)\" cx=\"678.071\" cy=\"197.693\" r=\"3.6\" fill=\"#000000\" fill-rule=\"evenodd\" fill-opacity=\"1\" stroke=\"none\"/>\n",
       "<circle clip-path=\"url(#clip002)\" cx=\"691.785\" cy=\"183.978\" r=\"3.6\" fill=\"#000000\" fill-rule=\"evenodd\" fill-opacity=\"1\" stroke=\"none\"/>\n",
       "<circle clip-path=\"url(#clip002)\" cx=\"691.785\" cy=\"197.693\" r=\"3.6\" fill=\"#000000\" fill-rule=\"evenodd\" fill-opacity=\"1\" stroke=\"none\"/>\n",
       "<circle clip-path=\"url(#clip002)\" cx=\"691.785\" cy=\"211.407\" r=\"3.6\" fill=\"#000000\" fill-rule=\"evenodd\" fill-opacity=\"1\" stroke=\"none\"/>\n",
       "<circle clip-path=\"url(#clip002)\" cx=\"705.5\" cy=\"197.693\" r=\"3.6\" fill=\"#000000\" fill-rule=\"evenodd\" fill-opacity=\"1\" stroke=\"none\"/>\n",
       "<circle clip-path=\"url(#clip002)\" cx=\"705.5\" cy=\"211.407\" r=\"3.6\" fill=\"#000000\" fill-rule=\"evenodd\" fill-opacity=\"1\" stroke=\"none\"/>\n",
       "<circle clip-path=\"url(#clip002)\" cx=\"705.5\" cy=\"225.122\" r=\"3.6\" fill=\"#000000\" fill-rule=\"evenodd\" fill-opacity=\"1\" stroke=\"none\"/>\n",
       "<circle clip-path=\"url(#clip002)\" cx=\"719.214\" cy=\"211.407\" r=\"3.6\" fill=\"#000000\" fill-rule=\"evenodd\" fill-opacity=\"1\" stroke=\"none\"/>\n",
       "<circle clip-path=\"url(#clip002)\" cx=\"719.214\" cy=\"225.122\" r=\"3.6\" fill=\"#000000\" fill-rule=\"evenodd\" fill-opacity=\"1\" stroke=\"none\"/>\n",
       "<circle clip-path=\"url(#clip002)\" cx=\"719.214\" cy=\"238.836\" r=\"3.6\" fill=\"#000000\" fill-rule=\"evenodd\" fill-opacity=\"1\" stroke=\"none\"/>\n",
       "<circle clip-path=\"url(#clip002)\" cx=\"732.929\" cy=\"225.122\" r=\"3.6\" fill=\"#000000\" fill-rule=\"evenodd\" fill-opacity=\"1\" stroke=\"none\"/>\n",
       "<circle clip-path=\"url(#clip002)\" cx=\"732.929\" cy=\"238.836\" r=\"3.6\" fill=\"#000000\" fill-rule=\"evenodd\" fill-opacity=\"1\" stroke=\"none\"/>\n",
       "<circle clip-path=\"url(#clip002)\" cx=\"732.929\" cy=\"252.551\" r=\"3.6\" fill=\"#000000\" fill-rule=\"evenodd\" fill-opacity=\"1\" stroke=\"none\"/>\n",
       "<circle clip-path=\"url(#clip002)\" cx=\"746.643\" cy=\"238.836\" r=\"3.6\" fill=\"#000000\" fill-rule=\"evenodd\" fill-opacity=\"1\" stroke=\"none\"/>\n",
       "<circle clip-path=\"url(#clip002)\" cx=\"746.643\" cy=\"252.551\" r=\"3.6\" fill=\"#000000\" fill-rule=\"evenodd\" fill-opacity=\"1\" stroke=\"none\"/>\n",
       "<circle clip-path=\"url(#clip002)\" cx=\"746.643\" cy=\"266.265\" r=\"3.6\" fill=\"#000000\" fill-rule=\"evenodd\" fill-opacity=\"1\" stroke=\"none\"/>\n",
       "<circle clip-path=\"url(#clip002)\" cx=\"760.358\" cy=\"252.551\" r=\"3.6\" fill=\"#000000\" fill-rule=\"evenodd\" fill-opacity=\"1\" stroke=\"none\"/>\n",
       "<circle clip-path=\"url(#clip002)\" cx=\"760.358\" cy=\"266.265\" r=\"3.6\" fill=\"#000000\" fill-rule=\"evenodd\" fill-opacity=\"1\" stroke=\"none\"/>\n",
       "<circle clip-path=\"url(#clip002)\" cx=\"760.358\" cy=\"279.98\" r=\"3.6\" fill=\"#000000\" fill-rule=\"evenodd\" fill-opacity=\"1\" stroke=\"none\"/>\n",
       "<circle clip-path=\"url(#clip002)\" cx=\"774.072\" cy=\"266.265\" r=\"3.6\" fill=\"#000000\" fill-rule=\"evenodd\" fill-opacity=\"1\" stroke=\"none\"/>\n",
       "<circle clip-path=\"url(#clip002)\" cx=\"774.072\" cy=\"279.98\" r=\"3.6\" fill=\"#000000\" fill-rule=\"evenodd\" fill-opacity=\"1\" stroke=\"none\"/>\n",
       "<circle clip-path=\"url(#clip002)\" cx=\"774.072\" cy=\"293.694\" r=\"3.6\" fill=\"#000000\" fill-rule=\"evenodd\" fill-opacity=\"1\" stroke=\"none\"/>\n",
       "<circle clip-path=\"url(#clip002)\" cx=\"787.787\" cy=\"279.98\" r=\"3.6\" fill=\"#000000\" fill-rule=\"evenodd\" fill-opacity=\"1\" stroke=\"none\"/>\n",
       "<circle clip-path=\"url(#clip002)\" cx=\"787.787\" cy=\"293.694\" r=\"3.6\" fill=\"#000000\" fill-rule=\"evenodd\" fill-opacity=\"1\" stroke=\"none\"/>\n",
       "<circle clip-path=\"url(#clip002)\" cx=\"787.787\" cy=\"307.409\" r=\"3.6\" fill=\"#000000\" fill-rule=\"evenodd\" fill-opacity=\"1\" stroke=\"none\"/>\n",
       "<circle clip-path=\"url(#clip002)\" cx=\"801.502\" cy=\"293.694\" r=\"3.6\" fill=\"#000000\" fill-rule=\"evenodd\" fill-opacity=\"1\" stroke=\"none\"/>\n",
       "<circle clip-path=\"url(#clip002)\" cx=\"801.502\" cy=\"307.409\" r=\"3.6\" fill=\"#000000\" fill-rule=\"evenodd\" fill-opacity=\"1\" stroke=\"none\"/>\n",
       "<circle clip-path=\"url(#clip002)\" cx=\"801.502\" cy=\"321.123\" r=\"3.6\" fill=\"#000000\" fill-rule=\"evenodd\" fill-opacity=\"1\" stroke=\"none\"/>\n",
       "<circle clip-path=\"url(#clip002)\" cx=\"815.216\" cy=\"307.409\" r=\"3.6\" fill=\"#000000\" fill-rule=\"evenodd\" fill-opacity=\"1\" stroke=\"none\"/>\n",
       "<circle clip-path=\"url(#clip002)\" cx=\"815.216\" cy=\"321.123\" r=\"3.6\" fill=\"#000000\" fill-rule=\"evenodd\" fill-opacity=\"1\" stroke=\"none\"/>\n",
       "<circle clip-path=\"url(#clip002)\" cx=\"815.216\" cy=\"334.838\" r=\"3.6\" fill=\"#000000\" fill-rule=\"evenodd\" fill-opacity=\"1\" stroke=\"none\"/>\n",
       "<circle clip-path=\"url(#clip002)\" cx=\"828.931\" cy=\"321.123\" r=\"3.6\" fill=\"#000000\" fill-rule=\"evenodd\" fill-opacity=\"1\" stroke=\"none\"/>\n",
       "<circle clip-path=\"url(#clip002)\" cx=\"828.931\" cy=\"334.838\" r=\"3.6\" fill=\"#000000\" fill-rule=\"evenodd\" fill-opacity=\"1\" stroke=\"none\"/>\n",
       "<circle clip-path=\"url(#clip002)\" cx=\"828.931\" cy=\"348.553\" r=\"3.6\" fill=\"#000000\" fill-rule=\"evenodd\" fill-opacity=\"1\" stroke=\"none\"/>\n",
       "<circle clip-path=\"url(#clip002)\" cx=\"842.645\" cy=\"334.838\" r=\"3.6\" fill=\"#000000\" fill-rule=\"evenodd\" fill-opacity=\"1\" stroke=\"none\"/>\n",
       "<circle clip-path=\"url(#clip002)\" cx=\"842.645\" cy=\"348.553\" r=\"3.6\" fill=\"#000000\" fill-rule=\"evenodd\" fill-opacity=\"1\" stroke=\"none\"/>\n",
       "<circle clip-path=\"url(#clip002)\" cx=\"842.645\" cy=\"362.267\" r=\"3.6\" fill=\"#000000\" fill-rule=\"evenodd\" fill-opacity=\"1\" stroke=\"none\"/>\n",
       "<circle clip-path=\"url(#clip002)\" cx=\"856.36\" cy=\"348.553\" r=\"3.6\" fill=\"#000000\" fill-rule=\"evenodd\" fill-opacity=\"1\" stroke=\"none\"/>\n",
       "<circle clip-path=\"url(#clip002)\" cx=\"856.36\" cy=\"362.267\" r=\"3.6\" fill=\"#000000\" fill-rule=\"evenodd\" fill-opacity=\"1\" stroke=\"none\"/>\n",
       "<circle clip-path=\"url(#clip002)\" cx=\"856.36\" cy=\"375.982\" r=\"3.6\" fill=\"#000000\" fill-rule=\"evenodd\" fill-opacity=\"1\" stroke=\"none\"/>\n",
       "<circle clip-path=\"url(#clip002)\" cx=\"870.074\" cy=\"362.267\" r=\"3.6\" fill=\"#000000\" fill-rule=\"evenodd\" fill-opacity=\"1\" stroke=\"none\"/>\n",
       "<circle clip-path=\"url(#clip002)\" cx=\"870.074\" cy=\"375.982\" r=\"3.6\" fill=\"#000000\" fill-rule=\"evenodd\" fill-opacity=\"1\" stroke=\"none\"/>\n",
       "<circle clip-path=\"url(#clip002)\" cx=\"870.074\" cy=\"389.696\" r=\"3.6\" fill=\"#000000\" fill-rule=\"evenodd\" fill-opacity=\"1\" stroke=\"none\"/>\n",
       "<circle clip-path=\"url(#clip002)\" cx=\"883.789\" cy=\"375.982\" r=\"3.6\" fill=\"#000000\" fill-rule=\"evenodd\" fill-opacity=\"1\" stroke=\"none\"/>\n",
       "<circle clip-path=\"url(#clip002)\" cx=\"883.789\" cy=\"389.696\" r=\"3.6\" fill=\"#000000\" fill-rule=\"evenodd\" fill-opacity=\"1\" stroke=\"none\"/>\n",
       "<circle clip-path=\"url(#clip002)\" cx=\"883.789\" cy=\"403.411\" r=\"3.6\" fill=\"#000000\" fill-rule=\"evenodd\" fill-opacity=\"1\" stroke=\"none\"/>\n",
       "<circle clip-path=\"url(#clip002)\" cx=\"897.503\" cy=\"389.696\" r=\"3.6\" fill=\"#000000\" fill-rule=\"evenodd\" fill-opacity=\"1\" stroke=\"none\"/>\n",
       "<circle clip-path=\"url(#clip002)\" cx=\"897.503\" cy=\"403.411\" r=\"3.6\" fill=\"#000000\" fill-rule=\"evenodd\" fill-opacity=\"1\" stroke=\"none\"/>\n",
       "<circle clip-path=\"url(#clip002)\" cx=\"897.503\" cy=\"417.125\" r=\"3.6\" fill=\"#000000\" fill-rule=\"evenodd\" fill-opacity=\"1\" stroke=\"none\"/>\n",
       "<circle clip-path=\"url(#clip002)\" cx=\"911.218\" cy=\"403.411\" r=\"3.6\" fill=\"#000000\" fill-rule=\"evenodd\" fill-opacity=\"1\" stroke=\"none\"/>\n",
       "<circle clip-path=\"url(#clip002)\" cx=\"911.218\" cy=\"417.125\" r=\"3.6\" fill=\"#000000\" fill-rule=\"evenodd\" fill-opacity=\"1\" stroke=\"none\"/>\n",
       "<circle clip-path=\"url(#clip002)\" cx=\"911.218\" cy=\"430.84\" r=\"3.6\" fill=\"#000000\" fill-rule=\"evenodd\" fill-opacity=\"1\" stroke=\"none\"/>\n",
       "<circle clip-path=\"url(#clip002)\" cx=\"924.932\" cy=\"417.125\" r=\"3.6\" fill=\"#000000\" fill-rule=\"evenodd\" fill-opacity=\"1\" stroke=\"none\"/>\n",
       "<circle clip-path=\"url(#clip002)\" cx=\"924.932\" cy=\"430.84\" r=\"3.6\" fill=\"#000000\" fill-rule=\"evenodd\" fill-opacity=\"1\" stroke=\"none\"/>\n",
       "<circle clip-path=\"url(#clip002)\" cx=\"924.932\" cy=\"444.554\" r=\"3.6\" fill=\"#000000\" fill-rule=\"evenodd\" fill-opacity=\"1\" stroke=\"none\"/>\n",
       "<circle clip-path=\"url(#clip002)\" cx=\"938.647\" cy=\"430.84\" r=\"3.6\" fill=\"#000000\" fill-rule=\"evenodd\" fill-opacity=\"1\" stroke=\"none\"/>\n",
       "<circle clip-path=\"url(#clip002)\" cx=\"938.647\" cy=\"444.554\" r=\"3.6\" fill=\"#000000\" fill-rule=\"evenodd\" fill-opacity=\"1\" stroke=\"none\"/>\n",
       "<circle clip-path=\"url(#clip002)\" cx=\"938.647\" cy=\"458.269\" r=\"3.6\" fill=\"#000000\" fill-rule=\"evenodd\" fill-opacity=\"1\" stroke=\"none\"/>\n",
       "<circle clip-path=\"url(#clip002)\" cx=\"952.361\" cy=\"444.554\" r=\"3.6\" fill=\"#000000\" fill-rule=\"evenodd\" fill-opacity=\"1\" stroke=\"none\"/>\n",
       "<circle clip-path=\"url(#clip002)\" cx=\"952.361\" cy=\"458.269\" r=\"3.6\" fill=\"#000000\" fill-rule=\"evenodd\" fill-opacity=\"1\" stroke=\"none\"/>\n",
       "<circle clip-path=\"url(#clip002)\" cx=\"952.361\" cy=\"471.983\" r=\"3.6\" fill=\"#000000\" fill-rule=\"evenodd\" fill-opacity=\"1\" stroke=\"none\"/>\n",
       "<circle clip-path=\"url(#clip002)\" cx=\"966.076\" cy=\"458.269\" r=\"3.6\" fill=\"#000000\" fill-rule=\"evenodd\" fill-opacity=\"1\" stroke=\"none\"/>\n",
       "<circle clip-path=\"url(#clip002)\" cx=\"966.076\" cy=\"471.983\" r=\"3.6\" fill=\"#000000\" fill-rule=\"evenodd\" fill-opacity=\"1\" stroke=\"none\"/>\n",
       "<circle clip-path=\"url(#clip002)\" cx=\"966.076\" cy=\"485.698\" r=\"3.6\" fill=\"#000000\" fill-rule=\"evenodd\" fill-opacity=\"1\" stroke=\"none\"/>\n",
       "<circle clip-path=\"url(#clip002)\" cx=\"979.791\" cy=\"471.983\" r=\"3.6\" fill=\"#000000\" fill-rule=\"evenodd\" fill-opacity=\"1\" stroke=\"none\"/>\n",
       "<circle clip-path=\"url(#clip002)\" cx=\"979.791\" cy=\"485.698\" r=\"3.6\" fill=\"#000000\" fill-rule=\"evenodd\" fill-opacity=\"1\" stroke=\"none\"/>\n",
       "<circle clip-path=\"url(#clip002)\" cx=\"979.791\" cy=\"499.412\" r=\"3.6\" fill=\"#000000\" fill-rule=\"evenodd\" fill-opacity=\"1\" stroke=\"none\"/>\n",
       "<circle clip-path=\"url(#clip002)\" cx=\"993.505\" cy=\"485.698\" r=\"3.6\" fill=\"#000000\" fill-rule=\"evenodd\" fill-opacity=\"1\" stroke=\"none\"/>\n",
       "<circle clip-path=\"url(#clip002)\" cx=\"993.505\" cy=\"499.412\" r=\"3.6\" fill=\"#000000\" fill-rule=\"evenodd\" fill-opacity=\"1\" stroke=\"none\"/>\n",
       "<circle clip-path=\"url(#clip002)\" cx=\"993.505\" cy=\"513.127\" r=\"3.6\" fill=\"#000000\" fill-rule=\"evenodd\" fill-opacity=\"1\" stroke=\"none\"/>\n",
       "<circle clip-path=\"url(#clip002)\" cx=\"1007.22\" cy=\"499.412\" r=\"3.6\" fill=\"#000000\" fill-rule=\"evenodd\" fill-opacity=\"1\" stroke=\"none\"/>\n",
       "<circle clip-path=\"url(#clip002)\" cx=\"1007.22\" cy=\"513.127\" r=\"3.6\" fill=\"#000000\" fill-rule=\"evenodd\" fill-opacity=\"1\" stroke=\"none\"/>\n",
       "<circle clip-path=\"url(#clip002)\" cx=\"1007.22\" cy=\"526.842\" r=\"3.6\" fill=\"#000000\" fill-rule=\"evenodd\" fill-opacity=\"1\" stroke=\"none\"/>\n",
       "<circle clip-path=\"url(#clip002)\" cx=\"1020.93\" cy=\"513.127\" r=\"3.6\" fill=\"#000000\" fill-rule=\"evenodd\" fill-opacity=\"1\" stroke=\"none\"/>\n",
       "<circle clip-path=\"url(#clip002)\" cx=\"1020.93\" cy=\"526.842\" r=\"3.6\" fill=\"#000000\" fill-rule=\"evenodd\" fill-opacity=\"1\" stroke=\"none\"/>\n",
       "<circle clip-path=\"url(#clip002)\" cx=\"1020.93\" cy=\"540.556\" r=\"3.6\" fill=\"#000000\" fill-rule=\"evenodd\" fill-opacity=\"1\" stroke=\"none\"/>\n",
       "<circle clip-path=\"url(#clip002)\" cx=\"1034.65\" cy=\"526.842\" r=\"3.6\" fill=\"#000000\" fill-rule=\"evenodd\" fill-opacity=\"1\" stroke=\"none\"/>\n",
       "<circle clip-path=\"url(#clip002)\" cx=\"1034.65\" cy=\"540.556\" r=\"3.6\" fill=\"#000000\" fill-rule=\"evenodd\" fill-opacity=\"1\" stroke=\"none\"/>\n",
       "<circle clip-path=\"url(#clip002)\" cx=\"1034.65\" cy=\"554.271\" r=\"3.6\" fill=\"#000000\" fill-rule=\"evenodd\" fill-opacity=\"1\" stroke=\"none\"/>\n",
       "<circle clip-path=\"url(#clip002)\" cx=\"1048.36\" cy=\"540.556\" r=\"3.6\" fill=\"#000000\" fill-rule=\"evenodd\" fill-opacity=\"1\" stroke=\"none\"/>\n",
       "<circle clip-path=\"url(#clip002)\" cx=\"1048.36\" cy=\"554.271\" r=\"3.6\" fill=\"#000000\" fill-rule=\"evenodd\" fill-opacity=\"1\" stroke=\"none\"/>\n",
       "<circle clip-path=\"url(#clip002)\" cx=\"1048.36\" cy=\"567.985\" r=\"3.6\" fill=\"#000000\" fill-rule=\"evenodd\" fill-opacity=\"1\" stroke=\"none\"/>\n",
       "<circle clip-path=\"url(#clip002)\" cx=\"1062.08\" cy=\"554.271\" r=\"3.6\" fill=\"#000000\" fill-rule=\"evenodd\" fill-opacity=\"1\" stroke=\"none\"/>\n",
       "<circle clip-path=\"url(#clip002)\" cx=\"1062.08\" cy=\"567.985\" r=\"3.6\" fill=\"#000000\" fill-rule=\"evenodd\" fill-opacity=\"1\" stroke=\"none\"/>\n",
       "<circle clip-path=\"url(#clip002)\" cx=\"1062.08\" cy=\"581.7\" r=\"3.6\" fill=\"#000000\" fill-rule=\"evenodd\" fill-opacity=\"1\" stroke=\"none\"/>\n",
       "<circle clip-path=\"url(#clip002)\" cx=\"1075.79\" cy=\"567.985\" r=\"3.6\" fill=\"#000000\" fill-rule=\"evenodd\" fill-opacity=\"1\" stroke=\"none\"/>\n",
       "<circle clip-path=\"url(#clip002)\" cx=\"1075.79\" cy=\"581.7\" r=\"3.6\" fill=\"#000000\" fill-rule=\"evenodd\" fill-opacity=\"1\" stroke=\"none\"/>\n",
       "<circle clip-path=\"url(#clip002)\" cx=\"1075.79\" cy=\"595.414\" r=\"3.6\" fill=\"#000000\" fill-rule=\"evenodd\" fill-opacity=\"1\" stroke=\"none\"/>\n",
       "<circle clip-path=\"url(#clip002)\" cx=\"1089.51\" cy=\"581.7\" r=\"3.6\" fill=\"#000000\" fill-rule=\"evenodd\" fill-opacity=\"1\" stroke=\"none\"/>\n",
       "<circle clip-path=\"url(#clip002)\" cx=\"1089.51\" cy=\"595.414\" r=\"3.6\" fill=\"#000000\" fill-rule=\"evenodd\" fill-opacity=\"1\" stroke=\"none\"/>\n",
       "<circle clip-path=\"url(#clip002)\" cx=\"1089.51\" cy=\"609.129\" r=\"3.6\" fill=\"#000000\" fill-rule=\"evenodd\" fill-opacity=\"1\" stroke=\"none\"/>\n",
       "<circle clip-path=\"url(#clip002)\" cx=\"1103.22\" cy=\"595.414\" r=\"3.6\" fill=\"#000000\" fill-rule=\"evenodd\" fill-opacity=\"1\" stroke=\"none\"/>\n",
       "<circle clip-path=\"url(#clip002)\" cx=\"1103.22\" cy=\"609.129\" r=\"3.6\" fill=\"#000000\" fill-rule=\"evenodd\" fill-opacity=\"1\" stroke=\"none\"/>\n",
       "<circle clip-path=\"url(#clip002)\" cx=\"1103.22\" cy=\"622.843\" r=\"3.6\" fill=\"#000000\" fill-rule=\"evenodd\" fill-opacity=\"1\" stroke=\"none\"/>\n",
       "<circle clip-path=\"url(#clip002)\" cx=\"1116.94\" cy=\"609.129\" r=\"3.6\" fill=\"#000000\" fill-rule=\"evenodd\" fill-opacity=\"1\" stroke=\"none\"/>\n",
       "<circle clip-path=\"url(#clip002)\" cx=\"1116.94\" cy=\"622.843\" r=\"3.6\" fill=\"#000000\" fill-rule=\"evenodd\" fill-opacity=\"1\" stroke=\"none\"/>\n",
       "<circle clip-path=\"url(#clip002)\" cx=\"1116.94\" cy=\"636.558\" r=\"3.6\" fill=\"#000000\" fill-rule=\"evenodd\" fill-opacity=\"1\" stroke=\"none\"/>\n",
       "<circle clip-path=\"url(#clip002)\" cx=\"1130.65\" cy=\"622.843\" r=\"3.6\" fill=\"#000000\" fill-rule=\"evenodd\" fill-opacity=\"1\" stroke=\"none\"/>\n",
       "<circle clip-path=\"url(#clip002)\" cx=\"1130.65\" cy=\"636.558\" r=\"3.6\" fill=\"#000000\" fill-rule=\"evenodd\" fill-opacity=\"1\" stroke=\"none\"/>\n",
       "<circle clip-path=\"url(#clip002)\" cx=\"1130.65\" cy=\"650.272\" r=\"3.6\" fill=\"#000000\" fill-rule=\"evenodd\" fill-opacity=\"1\" stroke=\"none\"/>\n",
       "<circle clip-path=\"url(#clip002)\" cx=\"1144.37\" cy=\"636.558\" r=\"3.6\" fill=\"#000000\" fill-rule=\"evenodd\" fill-opacity=\"1\" stroke=\"none\"/>\n",
       "<circle clip-path=\"url(#clip002)\" cx=\"1144.37\" cy=\"650.272\" r=\"3.6\" fill=\"#000000\" fill-rule=\"evenodd\" fill-opacity=\"1\" stroke=\"none\"/>\n",
       "<circle clip-path=\"url(#clip002)\" cx=\"1144.37\" cy=\"663.987\" r=\"3.6\" fill=\"#000000\" fill-rule=\"evenodd\" fill-opacity=\"1\" stroke=\"none\"/>\n",
       "<circle clip-path=\"url(#clip002)\" cx=\"1158.08\" cy=\"650.272\" r=\"3.6\" fill=\"#000000\" fill-rule=\"evenodd\" fill-opacity=\"1\" stroke=\"none\"/>\n",
       "<circle clip-path=\"url(#clip002)\" cx=\"1158.08\" cy=\"663.987\" r=\"3.6\" fill=\"#000000\" fill-rule=\"evenodd\" fill-opacity=\"1\" stroke=\"none\"/>\n",
       "<circle clip-path=\"url(#clip002)\" cx=\"1158.08\" cy=\"677.701\" r=\"3.6\" fill=\"#000000\" fill-rule=\"evenodd\" fill-opacity=\"1\" stroke=\"none\"/>\n",
       "<circle clip-path=\"url(#clip002)\" cx=\"1171.79\" cy=\"663.987\" r=\"3.6\" fill=\"#000000\" fill-rule=\"evenodd\" fill-opacity=\"1\" stroke=\"none\"/>\n",
       "<circle clip-path=\"url(#clip002)\" cx=\"1171.79\" cy=\"677.701\" r=\"3.6\" fill=\"#000000\" fill-rule=\"evenodd\" fill-opacity=\"1\" stroke=\"none\"/>\n",
       "<circle clip-path=\"url(#clip002)\" cx=\"1171.79\" cy=\"691.416\" r=\"3.6\" fill=\"#000000\" fill-rule=\"evenodd\" fill-opacity=\"1\" stroke=\"none\"/>\n",
       "<circle clip-path=\"url(#clip002)\" cx=\"1185.51\" cy=\"677.701\" r=\"3.6\" fill=\"#000000\" fill-rule=\"evenodd\" fill-opacity=\"1\" stroke=\"none\"/>\n",
       "<circle clip-path=\"url(#clip002)\" cx=\"1185.51\" cy=\"691.416\" r=\"3.6\" fill=\"#000000\" fill-rule=\"evenodd\" fill-opacity=\"1\" stroke=\"none\"/>\n",
       "<circle clip-path=\"url(#clip002)\" cx=\"1185.51\" cy=\"705.131\" r=\"3.6\" fill=\"#000000\" fill-rule=\"evenodd\" fill-opacity=\"1\" stroke=\"none\"/>\n",
       "<circle clip-path=\"url(#clip002)\" cx=\"1199.22\" cy=\"691.416\" r=\"3.6\" fill=\"#000000\" fill-rule=\"evenodd\" fill-opacity=\"1\" stroke=\"none\"/>\n",
       "<circle clip-path=\"url(#clip002)\" cx=\"1199.22\" cy=\"705.131\" r=\"3.6\" fill=\"#000000\" fill-rule=\"evenodd\" fill-opacity=\"1\" stroke=\"none\"/>\n",
       "<circle clip-path=\"url(#clip002)\" cx=\"1199.22\" cy=\"718.845\" r=\"3.6\" fill=\"#000000\" fill-rule=\"evenodd\" fill-opacity=\"1\" stroke=\"none\"/>\n",
       "<circle clip-path=\"url(#clip002)\" cx=\"1212.94\" cy=\"705.131\" r=\"3.6\" fill=\"#000000\" fill-rule=\"evenodd\" fill-opacity=\"1\" stroke=\"none\"/>\n",
       "<circle clip-path=\"url(#clip002)\" cx=\"1212.94\" cy=\"718.845\" r=\"3.6\" fill=\"#000000\" fill-rule=\"evenodd\" fill-opacity=\"1\" stroke=\"none\"/>\n",
       "<circle clip-path=\"url(#clip002)\" cx=\"1212.94\" cy=\"732.56\" r=\"3.6\" fill=\"#000000\" fill-rule=\"evenodd\" fill-opacity=\"1\" stroke=\"none\"/>\n",
       "<circle clip-path=\"url(#clip002)\" cx=\"1226.65\" cy=\"718.845\" r=\"3.6\" fill=\"#000000\" fill-rule=\"evenodd\" fill-opacity=\"1\" stroke=\"none\"/>\n",
       "<circle clip-path=\"url(#clip002)\" cx=\"1226.65\" cy=\"732.56\" r=\"3.6\" fill=\"#000000\" fill-rule=\"evenodd\" fill-opacity=\"1\" stroke=\"none\"/>\n",
       "<circle clip-path=\"url(#clip002)\" cx=\"1226.65\" cy=\"746.274\" r=\"3.6\" fill=\"#000000\" fill-rule=\"evenodd\" fill-opacity=\"1\" stroke=\"none\"/>\n",
       "<circle clip-path=\"url(#clip002)\" cx=\"1240.37\" cy=\"732.56\" r=\"3.6\" fill=\"#000000\" fill-rule=\"evenodd\" fill-opacity=\"1\" stroke=\"none\"/>\n",
       "<circle clip-path=\"url(#clip002)\" cx=\"1240.37\" cy=\"746.274\" r=\"3.6\" fill=\"#000000\" fill-rule=\"evenodd\" fill-opacity=\"1\" stroke=\"none\"/>\n",
       "<circle clip-path=\"url(#clip002)\" cx=\"1240.37\" cy=\"759.989\" r=\"3.6\" fill=\"#000000\" fill-rule=\"evenodd\" fill-opacity=\"1\" stroke=\"none\"/>\n",
       "<circle clip-path=\"url(#clip002)\" cx=\"1254.08\" cy=\"746.274\" r=\"3.6\" fill=\"#000000\" fill-rule=\"evenodd\" fill-opacity=\"1\" stroke=\"none\"/>\n",
       "<circle clip-path=\"url(#clip002)\" cx=\"1254.08\" cy=\"759.989\" r=\"3.6\" fill=\"#000000\" fill-rule=\"evenodd\" fill-opacity=\"1\" stroke=\"none\"/>\n",
       "<circle clip-path=\"url(#clip002)\" cx=\"1254.08\" cy=\"773.703\" r=\"3.6\" fill=\"#000000\" fill-rule=\"evenodd\" fill-opacity=\"1\" stroke=\"none\"/>\n",
       "<circle clip-path=\"url(#clip002)\" cx=\"1267.8\" cy=\"759.989\" r=\"3.6\" fill=\"#000000\" fill-rule=\"evenodd\" fill-opacity=\"1\" stroke=\"none\"/>\n",
       "<circle clip-path=\"url(#clip002)\" cx=\"1267.8\" cy=\"773.703\" r=\"3.6\" fill=\"#000000\" fill-rule=\"evenodd\" fill-opacity=\"1\" stroke=\"none\"/>\n",
       "<circle clip-path=\"url(#clip002)\" cx=\"1267.8\" cy=\"787.418\" r=\"3.6\" fill=\"#000000\" fill-rule=\"evenodd\" fill-opacity=\"1\" stroke=\"none\"/>\n",
       "<circle clip-path=\"url(#clip002)\" cx=\"1281.51\" cy=\"773.703\" r=\"3.6\" fill=\"#000000\" fill-rule=\"evenodd\" fill-opacity=\"1\" stroke=\"none\"/>\n",
       "<circle clip-path=\"url(#clip002)\" cx=\"1281.51\" cy=\"787.418\" r=\"3.6\" fill=\"#000000\" fill-rule=\"evenodd\" fill-opacity=\"1\" stroke=\"none\"/>\n",
       "<circle clip-path=\"url(#clip002)\" cx=\"1281.51\" cy=\"801.132\" r=\"3.6\" fill=\"#000000\" fill-rule=\"evenodd\" fill-opacity=\"1\" stroke=\"none\"/>\n",
       "<circle clip-path=\"url(#clip002)\" cx=\"1295.22\" cy=\"787.418\" r=\"3.6\" fill=\"#000000\" fill-rule=\"evenodd\" fill-opacity=\"1\" stroke=\"none\"/>\n",
       "<circle clip-path=\"url(#clip002)\" cx=\"1295.22\" cy=\"801.132\" r=\"3.6\" fill=\"#000000\" fill-rule=\"evenodd\" fill-opacity=\"1\" stroke=\"none\"/>\n",
       "<circle clip-path=\"url(#clip002)\" cx=\"1295.22\" cy=\"814.847\" r=\"3.6\" fill=\"#000000\" fill-rule=\"evenodd\" fill-opacity=\"1\" stroke=\"none\"/>\n",
       "<circle clip-path=\"url(#clip002)\" cx=\"1308.94\" cy=\"801.132\" r=\"3.6\" fill=\"#000000\" fill-rule=\"evenodd\" fill-opacity=\"1\" stroke=\"none\"/>\n",
       "<circle clip-path=\"url(#clip002)\" cx=\"1308.94\" cy=\"814.847\" r=\"3.6\" fill=\"#000000\" fill-rule=\"evenodd\" fill-opacity=\"1\" stroke=\"none\"/>\n",
       "<circle clip-path=\"url(#clip002)\" cx=\"1308.94\" cy=\"828.561\" r=\"3.6\" fill=\"#000000\" fill-rule=\"evenodd\" fill-opacity=\"1\" stroke=\"none\"/>\n",
       "<circle clip-path=\"url(#clip002)\" cx=\"1322.65\" cy=\"814.847\" r=\"3.6\" fill=\"#000000\" fill-rule=\"evenodd\" fill-opacity=\"1\" stroke=\"none\"/>\n",
       "<circle clip-path=\"url(#clip002)\" cx=\"1322.65\" cy=\"828.561\" r=\"3.6\" fill=\"#000000\" fill-rule=\"evenodd\" fill-opacity=\"1\" stroke=\"none\"/>\n",
       "<circle clip-path=\"url(#clip002)\" cx=\"1322.65\" cy=\"842.276\" r=\"3.6\" fill=\"#000000\" fill-rule=\"evenodd\" fill-opacity=\"1\" stroke=\"none\"/>\n",
       "<circle clip-path=\"url(#clip002)\" cx=\"1336.37\" cy=\"828.561\" r=\"3.6\" fill=\"#000000\" fill-rule=\"evenodd\" fill-opacity=\"1\" stroke=\"none\"/>\n",
       "<circle clip-path=\"url(#clip002)\" cx=\"1336.37\" cy=\"842.276\" r=\"3.6\" fill=\"#000000\" fill-rule=\"evenodd\" fill-opacity=\"1\" stroke=\"none\"/>\n",
       "<circle clip-path=\"url(#clip002)\" cx=\"1336.37\" cy=\"855.99\" r=\"3.6\" fill=\"#000000\" fill-rule=\"evenodd\" fill-opacity=\"1\" stroke=\"none\"/>\n",
       "<circle clip-path=\"url(#clip002)\" cx=\"1350.08\" cy=\"842.276\" r=\"3.6\" fill=\"#000000\" fill-rule=\"evenodd\" fill-opacity=\"1\" stroke=\"none\"/>\n",
       "<circle clip-path=\"url(#clip002)\" cx=\"1350.08\" cy=\"855.99\" r=\"3.6\" fill=\"#000000\" fill-rule=\"evenodd\" fill-opacity=\"1\" stroke=\"none\"/>\n",
       "<circle clip-path=\"url(#clip002)\" cx=\"1350.08\" cy=\"869.705\" r=\"3.6\" fill=\"#000000\" fill-rule=\"evenodd\" fill-opacity=\"1\" stroke=\"none\"/>\n",
       "<circle clip-path=\"url(#clip002)\" cx=\"1363.8\" cy=\"855.99\" r=\"3.6\" fill=\"#000000\" fill-rule=\"evenodd\" fill-opacity=\"1\" stroke=\"none\"/>\n",
       "<circle clip-path=\"url(#clip002)\" cx=\"1363.8\" cy=\"869.705\" r=\"3.6\" fill=\"#000000\" fill-rule=\"evenodd\" fill-opacity=\"1\" stroke=\"none\"/>\n",
       "<circle clip-path=\"url(#clip002)\" cx=\"1363.8\" cy=\"883.42\" r=\"3.6\" fill=\"#000000\" fill-rule=\"evenodd\" fill-opacity=\"1\" stroke=\"none\"/>\n",
       "<circle clip-path=\"url(#clip002)\" cx=\"1377.51\" cy=\"869.705\" r=\"3.6\" fill=\"#000000\" fill-rule=\"evenodd\" fill-opacity=\"1\" stroke=\"none\"/>\n",
       "<circle clip-path=\"url(#clip002)\" cx=\"1377.51\" cy=\"883.42\" r=\"3.6\" fill=\"#000000\" fill-rule=\"evenodd\" fill-opacity=\"1\" stroke=\"none\"/>\n",
       "<circle clip-path=\"url(#clip002)\" cx=\"1377.51\" cy=\"897.134\" r=\"3.6\" fill=\"#000000\" fill-rule=\"evenodd\" fill-opacity=\"1\" stroke=\"none\"/>\n",
       "<circle clip-path=\"url(#clip002)\" cx=\"1391.23\" cy=\"883.42\" r=\"3.6\" fill=\"#000000\" fill-rule=\"evenodd\" fill-opacity=\"1\" stroke=\"none\"/>\n",
       "<circle clip-path=\"url(#clip002)\" cx=\"1391.23\" cy=\"897.134\" r=\"3.6\" fill=\"#000000\" fill-rule=\"evenodd\" fill-opacity=\"1\" stroke=\"none\"/>\n",
       "<circle clip-path=\"url(#clip002)\" cx=\"1391.23\" cy=\"910.849\" r=\"3.6\" fill=\"#000000\" fill-rule=\"evenodd\" fill-opacity=\"1\" stroke=\"none\"/>\n",
       "<circle clip-path=\"url(#clip002)\" cx=\"1404.94\" cy=\"897.134\" r=\"3.6\" fill=\"#000000\" fill-rule=\"evenodd\" fill-opacity=\"1\" stroke=\"none\"/>\n",
       "<circle clip-path=\"url(#clip002)\" cx=\"1404.94\" cy=\"910.849\" r=\"3.6\" fill=\"#000000\" fill-rule=\"evenodd\" fill-opacity=\"1\" stroke=\"none\"/>\n",
       "<circle clip-path=\"url(#clip002)\" cx=\"1404.94\" cy=\"924.563\" r=\"3.6\" fill=\"#000000\" fill-rule=\"evenodd\" fill-opacity=\"1\" stroke=\"none\"/>\n",
       "<circle clip-path=\"url(#clip002)\" cx=\"1418.66\" cy=\"910.849\" r=\"3.6\" fill=\"#000000\" fill-rule=\"evenodd\" fill-opacity=\"1\" stroke=\"none\"/>\n",
       "<circle clip-path=\"url(#clip002)\" cx=\"1418.66\" cy=\"924.563\" r=\"3.6\" fill=\"#000000\" fill-rule=\"evenodd\" fill-opacity=\"1\" stroke=\"none\"/>\n",
       "<circle clip-path=\"url(#clip002)\" cx=\"1418.66\" cy=\"938.278\" r=\"3.6\" fill=\"#000000\" fill-rule=\"evenodd\" fill-opacity=\"1\" stroke=\"none\"/>\n",
       "<circle clip-path=\"url(#clip002)\" cx=\"1432.37\" cy=\"924.563\" r=\"3.6\" fill=\"#000000\" fill-rule=\"evenodd\" fill-opacity=\"1\" stroke=\"none\"/>\n",
       "<circle clip-path=\"url(#clip002)\" cx=\"1432.37\" cy=\"938.278\" r=\"3.6\" fill=\"#000000\" fill-rule=\"evenodd\" fill-opacity=\"1\" stroke=\"none\"/>\n",
       "<circle clip-path=\"url(#clip002)\" cx=\"1432.37\" cy=\"951.992\" r=\"3.6\" fill=\"#000000\" fill-rule=\"evenodd\" fill-opacity=\"1\" stroke=\"none\"/>\n",
       "<circle clip-path=\"url(#clip002)\" cx=\"1446.08\" cy=\"938.278\" r=\"3.6\" fill=\"#000000\" fill-rule=\"evenodd\" fill-opacity=\"1\" stroke=\"none\"/>\n",
       "<circle clip-path=\"url(#clip002)\" cx=\"1446.08\" cy=\"951.992\" r=\"3.6\" fill=\"#000000\" fill-rule=\"evenodd\" fill-opacity=\"1\" stroke=\"none\"/>\n",
       "<circle clip-path=\"url(#clip002)\" cx=\"1446.08\" cy=\"965.707\" r=\"3.6\" fill=\"#000000\" fill-rule=\"evenodd\" fill-opacity=\"1\" stroke=\"none\"/>\n",
       "<circle clip-path=\"url(#clip002)\" cx=\"1459.8\" cy=\"951.992\" r=\"3.6\" fill=\"#000000\" fill-rule=\"evenodd\" fill-opacity=\"1\" stroke=\"none\"/>\n",
       "<circle clip-path=\"url(#clip002)\" cx=\"1459.8\" cy=\"965.707\" r=\"3.6\" fill=\"#000000\" fill-rule=\"evenodd\" fill-opacity=\"1\" stroke=\"none\"/>\n",
       "<circle clip-path=\"url(#clip002)\" cx=\"1459.8\" cy=\"979.421\" r=\"3.6\" fill=\"#000000\" fill-rule=\"evenodd\" fill-opacity=\"1\" stroke=\"none\"/>\n",
       "<circle clip-path=\"url(#clip002)\" cx=\"1473.51\" cy=\"965.707\" r=\"3.6\" fill=\"#000000\" fill-rule=\"evenodd\" fill-opacity=\"1\" stroke=\"none\"/>\n",
       "<circle clip-path=\"url(#clip002)\" cx=\"1473.51\" cy=\"979.421\" r=\"3.6\" fill=\"#000000\" fill-rule=\"evenodd\" fill-opacity=\"1\" stroke=\"none\"/>\n",
       "<circle clip-path=\"url(#clip002)\" cx=\"1473.51\" cy=\"993.136\" r=\"3.6\" fill=\"#000000\" fill-rule=\"evenodd\" fill-opacity=\"1\" stroke=\"none\"/>\n",
       "<circle clip-path=\"url(#clip002)\" cx=\"1487.23\" cy=\"979.421\" r=\"3.6\" fill=\"#000000\" fill-rule=\"evenodd\" fill-opacity=\"1\" stroke=\"none\"/>\n",
       "<circle clip-path=\"url(#clip002)\" cx=\"1487.23\" cy=\"993.136\" r=\"3.6\" fill=\"#000000\" fill-rule=\"evenodd\" fill-opacity=\"1\" stroke=\"none\"/>\n",
       "<circle clip-path=\"url(#clip002)\" cx=\"1487.23\" cy=\"1006.85\" r=\"3.6\" fill=\"#000000\" fill-rule=\"evenodd\" fill-opacity=\"1\" stroke=\"none\"/>\n",
       "<circle clip-path=\"url(#clip002)\" cx=\"1500.94\" cy=\"993.136\" r=\"3.6\" fill=\"#000000\" fill-rule=\"evenodd\" fill-opacity=\"1\" stroke=\"none\"/>\n",
       "<circle clip-path=\"url(#clip002)\" cx=\"1500.94\" cy=\"1006.85\" r=\"3.6\" fill=\"#000000\" fill-rule=\"evenodd\" fill-opacity=\"1\" stroke=\"none\"/>\n",
       "<circle clip-path=\"url(#clip002)\" cx=\"1500.94\" cy=\"1020.56\" r=\"3.6\" fill=\"#000000\" fill-rule=\"evenodd\" fill-opacity=\"1\" stroke=\"none\"/>\n",
       "<circle clip-path=\"url(#clip002)\" cx=\"1514.66\" cy=\"1006.85\" r=\"3.6\" fill=\"#000000\" fill-rule=\"evenodd\" fill-opacity=\"1\" stroke=\"none\"/>\n",
       "<circle clip-path=\"url(#clip002)\" cx=\"1514.66\" cy=\"1020.56\" r=\"3.6\" fill=\"#000000\" fill-rule=\"evenodd\" fill-opacity=\"1\" stroke=\"none\"/>\n",
       "<circle clip-path=\"url(#clip002)\" cx=\"1514.66\" cy=\"1034.28\" r=\"3.6\" fill=\"#000000\" fill-rule=\"evenodd\" fill-opacity=\"1\" stroke=\"none\"/>\n",
       "<circle clip-path=\"url(#clip002)\" cx=\"1528.37\" cy=\"1020.56\" r=\"3.6\" fill=\"#000000\" fill-rule=\"evenodd\" fill-opacity=\"1\" stroke=\"none\"/>\n",
       "<circle clip-path=\"url(#clip002)\" cx=\"1528.37\" cy=\"1034.28\" r=\"3.6\" fill=\"#000000\" fill-rule=\"evenodd\" fill-opacity=\"1\" stroke=\"none\"/>\n",
       "<circle clip-path=\"url(#clip002)\" cx=\"1528.37\" cy=\"1047.99\" r=\"3.6\" fill=\"#000000\" fill-rule=\"evenodd\" fill-opacity=\"1\" stroke=\"none\"/>\n",
       "<circle clip-path=\"url(#clip002)\" cx=\"1542.09\" cy=\"1034.28\" r=\"3.6\" fill=\"#000000\" fill-rule=\"evenodd\" fill-opacity=\"1\" stroke=\"none\"/>\n",
       "<circle clip-path=\"url(#clip002)\" cx=\"1542.09\" cy=\"1047.99\" r=\"3.6\" fill=\"#000000\" fill-rule=\"evenodd\" fill-opacity=\"1\" stroke=\"none\"/>\n",
       "<circle clip-path=\"url(#clip002)\" cx=\"1542.09\" cy=\"1061.71\" r=\"3.6\" fill=\"#000000\" fill-rule=\"evenodd\" fill-opacity=\"1\" stroke=\"none\"/>\n",
       "<circle clip-path=\"url(#clip002)\" cx=\"1555.8\" cy=\"1047.99\" r=\"3.6\" fill=\"#000000\" fill-rule=\"evenodd\" fill-opacity=\"1\" stroke=\"none\"/>\n",
       "<circle clip-path=\"url(#clip002)\" cx=\"1555.8\" cy=\"1061.71\" r=\"3.6\" fill=\"#000000\" fill-rule=\"evenodd\" fill-opacity=\"1\" stroke=\"none\"/>\n",
       "<circle clip-path=\"url(#clip002)\" cx=\"1555.8\" cy=\"1075.42\" r=\"3.6\" fill=\"#000000\" fill-rule=\"evenodd\" fill-opacity=\"1\" stroke=\"none\"/>\n",
       "<circle clip-path=\"url(#clip002)\" cx=\"1569.52\" cy=\"1061.71\" r=\"3.6\" fill=\"#000000\" fill-rule=\"evenodd\" fill-opacity=\"1\" stroke=\"none\"/>\n",
       "<circle clip-path=\"url(#clip002)\" cx=\"1569.52\" cy=\"1075.42\" r=\"3.6\" fill=\"#000000\" fill-rule=\"evenodd\" fill-opacity=\"1\" stroke=\"none\"/>\n",
       "<circle clip-path=\"url(#clip002)\" cx=\"1569.52\" cy=\"1089.14\" r=\"3.6\" fill=\"#000000\" fill-rule=\"evenodd\" fill-opacity=\"1\" stroke=\"none\"/>\n",
       "<circle clip-path=\"url(#clip002)\" cx=\"1583.23\" cy=\"1075.42\" r=\"3.6\" fill=\"#000000\" fill-rule=\"evenodd\" fill-opacity=\"1\" stroke=\"none\"/>\n",
       "<circle clip-path=\"url(#clip002)\" cx=\"1583.23\" cy=\"1089.14\" r=\"3.6\" fill=\"#000000\" fill-rule=\"evenodd\" fill-opacity=\"1\" stroke=\"none\"/>\n",
       "<circle clip-path=\"url(#clip002)\" cx=\"1583.23\" cy=\"1102.85\" r=\"3.6\" fill=\"#000000\" fill-rule=\"evenodd\" fill-opacity=\"1\" stroke=\"none\"/>\n",
       "<circle clip-path=\"url(#clip002)\" cx=\"1596.94\" cy=\"1089.14\" r=\"3.6\" fill=\"#000000\" fill-rule=\"evenodd\" fill-opacity=\"1\" stroke=\"none\"/>\n",
       "<circle clip-path=\"url(#clip002)\" cx=\"1596.94\" cy=\"1102.85\" r=\"3.6\" fill=\"#000000\" fill-rule=\"evenodd\" fill-opacity=\"1\" stroke=\"none\"/>\n",
       "<circle clip-path=\"url(#clip002)\" cx=\"1596.94\" cy=\"1116.57\" r=\"3.6\" fill=\"#000000\" fill-rule=\"evenodd\" fill-opacity=\"1\" stroke=\"none\"/>\n",
       "<circle clip-path=\"url(#clip002)\" cx=\"1610.66\" cy=\"1102.85\" r=\"3.6\" fill=\"#000000\" fill-rule=\"evenodd\" fill-opacity=\"1\" stroke=\"none\"/>\n",
       "<circle clip-path=\"url(#clip002)\" cx=\"1610.66\" cy=\"1116.57\" r=\"3.6\" fill=\"#000000\" fill-rule=\"evenodd\" fill-opacity=\"1\" stroke=\"none\"/>\n",
       "<circle clip-path=\"url(#clip002)\" cx=\"1610.66\" cy=\"1130.28\" r=\"3.6\" fill=\"#000000\" fill-rule=\"evenodd\" fill-opacity=\"1\" stroke=\"none\"/>\n",
       "<circle clip-path=\"url(#clip002)\" cx=\"1624.37\" cy=\"1116.57\" r=\"3.6\" fill=\"#000000\" fill-rule=\"evenodd\" fill-opacity=\"1\" stroke=\"none\"/>\n",
       "<circle clip-path=\"url(#clip002)\" cx=\"1624.37\" cy=\"1130.28\" r=\"3.6\" fill=\"#000000\" fill-rule=\"evenodd\" fill-opacity=\"1\" stroke=\"none\"/>\n",
       "<circle clip-path=\"url(#clip002)\" cx=\"1624.37\" cy=\"1144\" r=\"3.6\" fill=\"#000000\" fill-rule=\"evenodd\" fill-opacity=\"1\" stroke=\"none\"/>\n",
       "<circle clip-path=\"url(#clip002)\" cx=\"1638.09\" cy=\"1130.28\" r=\"3.6\" fill=\"#000000\" fill-rule=\"evenodd\" fill-opacity=\"1\" stroke=\"none\"/>\n",
       "<circle clip-path=\"url(#clip002)\" cx=\"1638.09\" cy=\"1144\" r=\"3.6\" fill=\"#000000\" fill-rule=\"evenodd\" fill-opacity=\"1\" stroke=\"none\"/>\n",
       "<circle clip-path=\"url(#clip002)\" cx=\"1638.09\" cy=\"1157.71\" r=\"3.6\" fill=\"#000000\" fill-rule=\"evenodd\" fill-opacity=\"1\" stroke=\"none\"/>\n",
       "<circle clip-path=\"url(#clip002)\" cx=\"1651.8\" cy=\"1144\" r=\"3.6\" fill=\"#000000\" fill-rule=\"evenodd\" fill-opacity=\"1\" stroke=\"none\"/>\n",
       "<circle clip-path=\"url(#clip002)\" cx=\"1651.8\" cy=\"1157.71\" r=\"3.6\" fill=\"#000000\" fill-rule=\"evenodd\" fill-opacity=\"1\" stroke=\"none\"/>\n",
       "<circle clip-path=\"url(#clip002)\" cx=\"1651.8\" cy=\"1171.42\" r=\"3.6\" fill=\"#000000\" fill-rule=\"evenodd\" fill-opacity=\"1\" stroke=\"none\"/>\n",
       "<circle clip-path=\"url(#clip002)\" cx=\"1665.52\" cy=\"1157.71\" r=\"3.6\" fill=\"#000000\" fill-rule=\"evenodd\" fill-opacity=\"1\" stroke=\"none\"/>\n",
       "<circle clip-path=\"url(#clip002)\" cx=\"1665.52\" cy=\"1171.42\" r=\"3.6\" fill=\"#000000\" fill-rule=\"evenodd\" fill-opacity=\"1\" stroke=\"none\"/>\n",
       "<circle clip-path=\"url(#clip002)\" cx=\"1665.52\" cy=\"1185.14\" r=\"3.6\" fill=\"#000000\" fill-rule=\"evenodd\" fill-opacity=\"1\" stroke=\"none\"/>\n",
       "<circle clip-path=\"url(#clip002)\" cx=\"1679.23\" cy=\"1171.42\" r=\"3.6\" fill=\"#000000\" fill-rule=\"evenodd\" fill-opacity=\"1\" stroke=\"none\"/>\n",
       "<circle clip-path=\"url(#clip002)\" cx=\"1679.23\" cy=\"1185.14\" r=\"3.6\" fill=\"#000000\" fill-rule=\"evenodd\" fill-opacity=\"1\" stroke=\"none\"/>\n",
       "<circle clip-path=\"url(#clip002)\" cx=\"1679.23\" cy=\"1198.85\" r=\"3.6\" fill=\"#000000\" fill-rule=\"evenodd\" fill-opacity=\"1\" stroke=\"none\"/>\n",
       "<circle clip-path=\"url(#clip002)\" cx=\"1692.95\" cy=\"1185.14\" r=\"3.6\" fill=\"#000000\" fill-rule=\"evenodd\" fill-opacity=\"1\" stroke=\"none\"/>\n",
       "<circle clip-path=\"url(#clip002)\" cx=\"1692.95\" cy=\"1198.85\" r=\"3.6\" fill=\"#000000\" fill-rule=\"evenodd\" fill-opacity=\"1\" stroke=\"none\"/>\n",
       "<circle clip-path=\"url(#clip002)\" cx=\"1692.95\" cy=\"1212.57\" r=\"3.6\" fill=\"#000000\" fill-rule=\"evenodd\" fill-opacity=\"1\" stroke=\"none\"/>\n",
       "<circle clip-path=\"url(#clip002)\" cx=\"1706.66\" cy=\"1198.85\" r=\"3.6\" fill=\"#000000\" fill-rule=\"evenodd\" fill-opacity=\"1\" stroke=\"none\"/>\n",
       "<circle clip-path=\"url(#clip002)\" cx=\"1706.66\" cy=\"1212.57\" r=\"3.6\" fill=\"#000000\" fill-rule=\"evenodd\" fill-opacity=\"1\" stroke=\"none\"/>\n",
       "<circle clip-path=\"url(#clip002)\" cx=\"1706.66\" cy=\"1226.28\" r=\"3.6\" fill=\"#000000\" fill-rule=\"evenodd\" fill-opacity=\"1\" stroke=\"none\"/>\n",
       "<circle clip-path=\"url(#clip002)\" cx=\"1720.38\" cy=\"1212.57\" r=\"3.6\" fill=\"#000000\" fill-rule=\"evenodd\" fill-opacity=\"1\" stroke=\"none\"/>\n",
       "<circle clip-path=\"url(#clip002)\" cx=\"1720.38\" cy=\"1226.28\" r=\"3.6\" fill=\"#000000\" fill-rule=\"evenodd\" fill-opacity=\"1\" stroke=\"none\"/>\n",
       "<circle clip-path=\"url(#clip002)\" cx=\"1720.38\" cy=\"1240\" r=\"3.6\" fill=\"#000000\" fill-rule=\"evenodd\" fill-opacity=\"1\" stroke=\"none\"/>\n",
       "<circle clip-path=\"url(#clip002)\" cx=\"1734.09\" cy=\"1226.28\" r=\"3.6\" fill=\"#000000\" fill-rule=\"evenodd\" fill-opacity=\"1\" stroke=\"none\"/>\n",
       "<circle clip-path=\"url(#clip002)\" cx=\"1734.09\" cy=\"1240\" r=\"3.6\" fill=\"#000000\" fill-rule=\"evenodd\" fill-opacity=\"1\" stroke=\"none\"/>\n",
       "<circle clip-path=\"url(#clip002)\" cx=\"1734.09\" cy=\"1253.71\" r=\"3.6\" fill=\"#000000\" fill-rule=\"evenodd\" fill-opacity=\"1\" stroke=\"none\"/>\n",
       "<circle clip-path=\"url(#clip002)\" cx=\"1747.8\" cy=\"1240\" r=\"3.6\" fill=\"#000000\" fill-rule=\"evenodd\" fill-opacity=\"1\" stroke=\"none\"/>\n",
       "<circle clip-path=\"url(#clip002)\" cx=\"1747.8\" cy=\"1253.71\" r=\"3.6\" fill=\"#000000\" fill-rule=\"evenodd\" fill-opacity=\"1\" stroke=\"none\"/>\n",
       "<circle clip-path=\"url(#clip002)\" cx=\"1747.8\" cy=\"1267.43\" r=\"3.6\" fill=\"#000000\" fill-rule=\"evenodd\" fill-opacity=\"1\" stroke=\"none\"/>\n",
       "<circle clip-path=\"url(#clip002)\" cx=\"1761.52\" cy=\"1253.71\" r=\"3.6\" fill=\"#000000\" fill-rule=\"evenodd\" fill-opacity=\"1\" stroke=\"none\"/>\n",
       "<circle clip-path=\"url(#clip002)\" cx=\"1761.52\" cy=\"1267.43\" r=\"3.6\" fill=\"#000000\" fill-rule=\"evenodd\" fill-opacity=\"1\" stroke=\"none\"/>\n",
       "<circle clip-path=\"url(#clip002)\" cx=\"1761.52\" cy=\"1281.14\" r=\"3.6\" fill=\"#000000\" fill-rule=\"evenodd\" fill-opacity=\"1\" stroke=\"none\"/>\n",
       "<circle clip-path=\"url(#clip002)\" cx=\"1775.23\" cy=\"1267.43\" r=\"3.6\" fill=\"#000000\" fill-rule=\"evenodd\" fill-opacity=\"1\" stroke=\"none\"/>\n",
       "<circle clip-path=\"url(#clip002)\" cx=\"1775.23\" cy=\"1281.14\" r=\"3.6\" fill=\"#000000\" fill-rule=\"evenodd\" fill-opacity=\"1\" stroke=\"none\"/>\n",
       "<circle clip-path=\"url(#clip002)\" cx=\"1775.23\" cy=\"1294.86\" r=\"3.6\" fill=\"#000000\" fill-rule=\"evenodd\" fill-opacity=\"1\" stroke=\"none\"/>\n",
       "<circle clip-path=\"url(#clip002)\" cx=\"1788.95\" cy=\"1281.14\" r=\"3.6\" fill=\"#000000\" fill-rule=\"evenodd\" fill-opacity=\"1\" stroke=\"none\"/>\n",
       "<circle clip-path=\"url(#clip002)\" cx=\"1788.95\" cy=\"1294.86\" r=\"3.6\" fill=\"#000000\" fill-rule=\"evenodd\" fill-opacity=\"1\" stroke=\"none\"/>\n",
       "<circle clip-path=\"url(#clip002)\" cx=\"1788.95\" cy=\"1308.57\" r=\"3.6\" fill=\"#000000\" fill-rule=\"evenodd\" fill-opacity=\"1\" stroke=\"none\"/>\n",
       "<circle clip-path=\"url(#clip002)\" cx=\"1802.66\" cy=\"1294.86\" r=\"3.6\" fill=\"#000000\" fill-rule=\"evenodd\" fill-opacity=\"1\" stroke=\"none\"/>\n",
       "<circle clip-path=\"url(#clip002)\" cx=\"1802.66\" cy=\"1308.57\" r=\"3.6\" fill=\"#000000\" fill-rule=\"evenodd\" fill-opacity=\"1\" stroke=\"none\"/>\n",
       "<circle clip-path=\"url(#clip002)\" cx=\"1802.66\" cy=\"1322.28\" r=\"3.6\" fill=\"#000000\" fill-rule=\"evenodd\" fill-opacity=\"1\" stroke=\"none\"/>\n",
       "<circle clip-path=\"url(#clip002)\" cx=\"1816.38\" cy=\"1308.57\" r=\"3.6\" fill=\"#000000\" fill-rule=\"evenodd\" fill-opacity=\"1\" stroke=\"none\"/>\n",
       "<circle clip-path=\"url(#clip002)\" cx=\"1816.38\" cy=\"1322.28\" r=\"3.6\" fill=\"#000000\" fill-rule=\"evenodd\" fill-opacity=\"1\" stroke=\"none\"/>\n",
       "<circle clip-path=\"url(#clip002)\" cx=\"1816.38\" cy=\"1336\" r=\"3.6\" fill=\"#000000\" fill-rule=\"evenodd\" fill-opacity=\"1\" stroke=\"none\"/>\n",
       "<circle clip-path=\"url(#clip002)\" cx=\"1830.09\" cy=\"1322.28\" r=\"3.6\" fill=\"#000000\" fill-rule=\"evenodd\" fill-opacity=\"1\" stroke=\"none\"/>\n",
       "<circle clip-path=\"url(#clip002)\" cx=\"1830.09\" cy=\"1336\" r=\"3.6\" fill=\"#000000\" fill-rule=\"evenodd\" fill-opacity=\"1\" stroke=\"none\"/>\n",
       "<circle clip-path=\"url(#clip002)\" cx=\"1830.09\" cy=\"1349.71\" r=\"3.6\" fill=\"#000000\" fill-rule=\"evenodd\" fill-opacity=\"1\" stroke=\"none\"/>\n",
       "<circle clip-path=\"url(#clip002)\" cx=\"1843.81\" cy=\"1336\" r=\"3.6\" fill=\"#000000\" fill-rule=\"evenodd\" fill-opacity=\"1\" stroke=\"none\"/>\n",
       "<circle clip-path=\"url(#clip002)\" cx=\"1843.81\" cy=\"1349.71\" r=\"3.6\" fill=\"#000000\" fill-rule=\"evenodd\" fill-opacity=\"1\" stroke=\"none\"/>\n",
       "<circle clip-path=\"url(#clip002)\" cx=\"1843.81\" cy=\"1363.43\" r=\"3.6\" fill=\"#000000\" fill-rule=\"evenodd\" fill-opacity=\"1\" stroke=\"none\"/>\n",
       "<circle clip-path=\"url(#clip002)\" cx=\"1857.52\" cy=\"1349.71\" r=\"3.6\" fill=\"#000000\" fill-rule=\"evenodd\" fill-opacity=\"1\" stroke=\"none\"/>\n",
       "<circle clip-path=\"url(#clip002)\" cx=\"1857.52\" cy=\"1363.43\" r=\"3.6\" fill=\"#000000\" fill-rule=\"evenodd\" fill-opacity=\"1\" stroke=\"none\"/>\n",
       "<circle clip-path=\"url(#clip002)\" cx=\"1857.52\" cy=\"1377.14\" r=\"3.6\" fill=\"#000000\" fill-rule=\"evenodd\" fill-opacity=\"1\" stroke=\"none\"/>\n",
       "<circle clip-path=\"url(#clip002)\" cx=\"1871.24\" cy=\"1363.43\" r=\"3.6\" fill=\"#000000\" fill-rule=\"evenodd\" fill-opacity=\"1\" stroke=\"none\"/>\n",
       "<circle clip-path=\"url(#clip002)\" cx=\"1871.24\" cy=\"1377.14\" r=\"3.6\" fill=\"#000000\" fill-rule=\"evenodd\" fill-opacity=\"1\" stroke=\"none\"/>\n",
       "<circle clip-path=\"url(#clip002)\" cx=\"1871.24\" cy=\"1390.86\" r=\"3.6\" fill=\"#000000\" fill-rule=\"evenodd\" fill-opacity=\"1\" stroke=\"none\"/>\n",
       "<circle clip-path=\"url(#clip002)\" cx=\"1884.95\" cy=\"1377.14\" r=\"3.6\" fill=\"#000000\" fill-rule=\"evenodd\" fill-opacity=\"1\" stroke=\"none\"/>\n",
       "<circle clip-path=\"url(#clip002)\" cx=\"1884.95\" cy=\"1390.86\" r=\"3.6\" fill=\"#000000\" fill-rule=\"evenodd\" fill-opacity=\"1\" stroke=\"none\"/>\n",
       "<circle clip-path=\"url(#clip002)\" cx=\"1884.95\" cy=\"1404.57\" r=\"3.6\" fill=\"#000000\" fill-rule=\"evenodd\" fill-opacity=\"1\" stroke=\"none\"/>\n",
       "<circle clip-path=\"url(#clip002)\" cx=\"1898.66\" cy=\"1390.86\" r=\"3.6\" fill=\"#000000\" fill-rule=\"evenodd\" fill-opacity=\"1\" stroke=\"none\"/>\n",
       "<circle clip-path=\"url(#clip002)\" cx=\"1898.66\" cy=\"1404.57\" r=\"3.6\" fill=\"#000000\" fill-rule=\"evenodd\" fill-opacity=\"1\" stroke=\"none\"/>\n",
       "<circle clip-path=\"url(#clip002)\" cx=\"1898.66\" cy=\"1418.29\" r=\"3.6\" fill=\"#000000\" fill-rule=\"evenodd\" fill-opacity=\"1\" stroke=\"none\"/>\n",
       "<circle clip-path=\"url(#clip002)\" cx=\"1912.38\" cy=\"1404.57\" r=\"3.6\" fill=\"#000000\" fill-rule=\"evenodd\" fill-opacity=\"1\" stroke=\"none\"/>\n",
       "<circle clip-path=\"url(#clip002)\" cx=\"1912.38\" cy=\"1418.29\" r=\"3.6\" fill=\"#000000\" fill-rule=\"evenodd\" fill-opacity=\"1\" stroke=\"none\"/>\n",
       "<circle clip-path=\"url(#clip002)\" cx=\"1912.38\" cy=\"1432\" r=\"3.6\" fill=\"#000000\" fill-rule=\"evenodd\" fill-opacity=\"1\" stroke=\"none\"/>\n",
       "<circle clip-path=\"url(#clip002)\" cx=\"1926.09\" cy=\"1418.29\" r=\"3.6\" fill=\"#000000\" fill-rule=\"evenodd\" fill-opacity=\"1\" stroke=\"none\"/>\n",
       "<circle clip-path=\"url(#clip002)\" cx=\"1926.09\" cy=\"1432\" r=\"3.6\" fill=\"#000000\" fill-rule=\"evenodd\" fill-opacity=\"1\" stroke=\"none\"/>\n",
       "<circle clip-path=\"url(#clip002)\" cx=\"1926.09\" cy=\"1445.72\" r=\"3.6\" fill=\"#000000\" fill-rule=\"evenodd\" fill-opacity=\"1\" stroke=\"none\"/>\n",
       "<circle clip-path=\"url(#clip002)\" cx=\"1939.81\" cy=\"1432\" r=\"3.6\" fill=\"#000000\" fill-rule=\"evenodd\" fill-opacity=\"1\" stroke=\"none\"/>\n",
       "<circle clip-path=\"url(#clip002)\" cx=\"1939.81\" cy=\"1445.72\" r=\"3.6\" fill=\"#000000\" fill-rule=\"evenodd\" fill-opacity=\"1\" stroke=\"none\"/>\n",
       "</svg>\n"
      ]
     },
     "execution_count": 34,
     "metadata": {},
     "output_type": "execute_result"
    }
   ],
   "source": [
    "# Visualizing sparse matrix using Plots.spy()\n",
    "using Plots\n",
    "spy(hes_sp)"
   ]
  },
  {
   "cell_type": "code",
   "execution_count": 35,
   "id": "21f7bdcc",
   "metadata": {
    "execution": {
     "iopub.execute_input": "2022-08-01T02:14:01.241000Z",
     "iopub.status.busy": "2022-08-01T02:14:00.227000Z",
     "iopub.status.idle": "2022-08-01T02:14:21.129000Z",
     "shell.execute_reply": "2022-08-01T02:14:21.129000Z"
    }
   },
   "outputs": [
    {
     "data": {
      "text/plain": [
       "BenchmarkTools.Trial: 8 samples with 1 evaluation.\n",
       " Range \u001b[90m(\u001b[39m\u001b[36m\u001b[1mmin\u001b[22m\u001b[39m … \u001b[35mmax\u001b[39m\u001b[90m):  \u001b[39m\u001b[36m\u001b[1m661.164 ms\u001b[22m\u001b[39m … \u001b[35m693.985 ms\u001b[39m  \u001b[90m┊\u001b[39m GC \u001b[90m(\u001b[39mmin … max\u001b[90m): \u001b[39m3.92% … 5.72%\n",
       " Time  \u001b[90m(\u001b[39m\u001b[34m\u001b[1mmedian\u001b[22m\u001b[39m\u001b[90m):     \u001b[39m\u001b[34m\u001b[1m680.813 ms               \u001b[22m\u001b[39m\u001b[90m┊\u001b[39m GC \u001b[90m(\u001b[39mmedian\u001b[90m):    \u001b[39m4.94%\n",
       " Time  \u001b[90m(\u001b[39m\u001b[32m\u001b[1mmean\u001b[22m\u001b[39m ± \u001b[32mσ\u001b[39m\u001b[90m):   \u001b[39m\u001b[32m\u001b[1m678.904 ms\u001b[22m\u001b[39m ± \u001b[32m 10.779 ms\u001b[39m  \u001b[90m┊\u001b[39m GC \u001b[90m(\u001b[39mmean ± σ\u001b[90m):  \u001b[39m4.91% ± 1.01%\n",
       "\n",
       "  \u001b[39m█\u001b[39m \u001b[39m \u001b[39m \u001b[39m \u001b[39m \u001b[39m \u001b[39m \u001b[39m \u001b[39m \u001b[39m█\u001b[39m \u001b[39m \u001b[39m \u001b[39m \u001b[39m \u001b[39m \u001b[39m \u001b[39m \u001b[39m \u001b[39m \u001b[39m \u001b[39m \u001b[39m \u001b[39m \u001b[39m \u001b[39m \u001b[39m \u001b[39m█\u001b[39m \u001b[39m \u001b[39m█\u001b[34m \u001b[39m\u001b[32m \u001b[39m\u001b[39m \u001b[39m \u001b[39m \u001b[39m \u001b[39m \u001b[39m \u001b[39m \u001b[39m█\u001b[39m \u001b[39m█\u001b[39m \u001b[39m \u001b[39m \u001b[39m█\u001b[39m \u001b[39m \u001b[39m \u001b[39m \u001b[39m \u001b[39m \u001b[39m \u001b[39m \u001b[39m \u001b[39m \u001b[39m \u001b[39m \u001b[39m█\u001b[39m \u001b[39m \n",
       "  \u001b[39m█\u001b[39m▁\u001b[39m▁\u001b[39m▁\u001b[39m▁\u001b[39m▁\u001b[39m▁\u001b[39m▁\u001b[39m▁\u001b[39m▁\u001b[39m█\u001b[39m▁\u001b[39m▁\u001b[39m▁\u001b[39m▁\u001b[39m▁\u001b[39m▁\u001b[39m▁\u001b[39m▁\u001b[39m▁\u001b[39m▁\u001b[39m▁\u001b[39m▁\u001b[39m▁\u001b[39m▁\u001b[39m▁\u001b[39m▁\u001b[39m▁\u001b[39m█\u001b[39m▁\u001b[39m▁\u001b[39m█\u001b[34m▁\u001b[39m\u001b[32m▁\u001b[39m\u001b[39m▁\u001b[39m▁\u001b[39m▁\u001b[39m▁\u001b[39m▁\u001b[39m▁\u001b[39m▁\u001b[39m█\u001b[39m▁\u001b[39m█\u001b[39m▁\u001b[39m▁\u001b[39m▁\u001b[39m█\u001b[39m▁\u001b[39m▁\u001b[39m▁\u001b[39m▁\u001b[39m▁\u001b[39m▁\u001b[39m▁\u001b[39m▁\u001b[39m▁\u001b[39m▁\u001b[39m▁\u001b[39m▁\u001b[39m█\u001b[39m \u001b[39m▁\n",
       "  661 ms\u001b[90m           Histogram: frequency by time\u001b[39m          694 ms \u001b[0m\u001b[1m<\u001b[22m\n",
       "\n",
       " Memory estimate\u001b[90m: \u001b[39m\u001b[33m160.28 MiB\u001b[39m, allocs estimate\u001b[90m: \u001b[39m\u001b[33m4330310\u001b[39m."
      ]
     },
     "execution_count": 35,
     "metadata": {},
     "output_type": "execute_result"
    }
   ],
   "source": [
    "using BenchmarkTools\n",
    "@benchmark Symbolics.hessian($rxs, $xs)"
   ]
  },
  {
   "cell_type": "code",
   "execution_count": 36,
   "id": "7f6c841a",
   "metadata": {
    "execution": {
     "iopub.execute_input": "2022-08-01T02:14:21.138000Z",
     "iopub.status.busy": "2022-08-01T02:14:21.138000Z",
     "iopub.status.idle": "2022-08-01T02:14:33.582000Z",
     "shell.execute_reply": "2022-08-01T02:14:33.582000Z"
    }
   },
   "outputs": [
    {
     "data": {
      "text/plain": [
       "BenchmarkTools.Trial: 439 samples with 1 evaluation.\n",
       " Range \u001b[90m(\u001b[39m\u001b[36m\u001b[1mmin\u001b[22m\u001b[39m … \u001b[35mmax\u001b[39m\u001b[90m):  \u001b[39m\u001b[36m\u001b[1m 9.538 ms\u001b[22m\u001b[39m … \u001b[35m27.689 ms\u001b[39m  \u001b[90m┊\u001b[39m GC \u001b[90m(\u001b[39mmin … max\u001b[90m): \u001b[39m0.00% …  0.00%\n",
       " Time  \u001b[90m(\u001b[39m\u001b[34m\u001b[1mmedian\u001b[22m\u001b[39m\u001b[90m):     \u001b[39m\u001b[34m\u001b[1m10.220 ms              \u001b[22m\u001b[39m\u001b[90m┊\u001b[39m GC \u001b[90m(\u001b[39mmedian\u001b[90m):    \u001b[39m0.00%\n",
       " Time  \u001b[90m(\u001b[39m\u001b[32m\u001b[1mmean\u001b[22m\u001b[39m ± \u001b[32mσ\u001b[39m\u001b[90m):   \u001b[39m\u001b[32m\u001b[1m11.375 ms\u001b[22m\u001b[39m ± \u001b[32m 3.346 ms\u001b[39m  \u001b[90m┊\u001b[39m GC \u001b[90m(\u001b[39mmean ± σ\u001b[90m):  \u001b[39m8.48% ± 14.25%\n",
       "\n",
       "  \u001b[39m▂\u001b[39m▆\u001b[39m█\u001b[34m▇\u001b[39m\u001b[39m▅\u001b[39m▄\u001b[39m▂\u001b[39m \u001b[32m▁\u001b[39m\u001b[39m \u001b[39m \u001b[39m \u001b[39m \u001b[39m \u001b[39m \u001b[39m \u001b[39m \u001b[39m \u001b[39m \u001b[39m \u001b[39m \u001b[39m \u001b[39m \u001b[39m \u001b[39m \u001b[39m \u001b[39m \u001b[39m \u001b[39m \u001b[39m \u001b[39m \u001b[39m \u001b[39m \u001b[39m \u001b[39m \u001b[39m \u001b[39m \u001b[39m \u001b[39m \u001b[39m \u001b[39m \u001b[39m \u001b[39m \u001b[39m \u001b[39m \u001b[39m \u001b[39m \u001b[39m \u001b[39m \u001b[39m \u001b[39m \u001b[39m▁\u001b[39m \u001b[39m \u001b[39m \u001b[39m \u001b[39m \u001b[39m \u001b[39m \u001b[39m \u001b[39m \n",
       "  \u001b[39m█\u001b[39m█\u001b[39m█\u001b[34m█\u001b[39m\u001b[39m█\u001b[39m█\u001b[39m█\u001b[39m▇\u001b[32m█\u001b[39m\u001b[39m▇\u001b[39m▆\u001b[39m▁\u001b[39m▁\u001b[39m▁\u001b[39m▁\u001b[39m▁\u001b[39m▁\u001b[39m▁\u001b[39m▁\u001b[39m▁\u001b[39m▁\u001b[39m▁\u001b[39m▁\u001b[39m▁\u001b[39m▁\u001b[39m▁\u001b[39m▁\u001b[39m▁\u001b[39m▁\u001b[39m▁\u001b[39m▁\u001b[39m▁\u001b[39m▁\u001b[39m▁\u001b[39m▁\u001b[39m▁\u001b[39m▁\u001b[39m▁\u001b[39m▁\u001b[39m▁\u001b[39m▁\u001b[39m▁\u001b[39m▁\u001b[39m▁\u001b[39m▁\u001b[39m▁\u001b[39m▁\u001b[39m▄\u001b[39m▅\u001b[39m▅\u001b[39m█\u001b[39m█\u001b[39m▇\u001b[39m▇\u001b[39m▄\u001b[39m▇\u001b[39m▆\u001b[39m▅\u001b[39m▄\u001b[39m \u001b[39m▇\n",
       "  9.54 ms\u001b[90m      \u001b[39m\u001b[90mHistogram: \u001b[39m\u001b[90m\u001b[1mlog(\u001b[22m\u001b[39m\u001b[90mfrequency\u001b[39m\u001b[90m\u001b[1m)\u001b[22m\u001b[39m\u001b[90m by time\u001b[39m      22.5 ms \u001b[0m\u001b[1m<\u001b[22m\n",
       "\n",
       " Memory estimate\u001b[90m: \u001b[39m\u001b[33m6.06 MiB\u001b[39m, allocs estimate\u001b[90m: \u001b[39m\u001b[33m126901\u001b[39m."
      ]
     },
     "execution_count": 36,
     "metadata": {},
     "output_type": "execute_result"
    }
   ],
   "source": [
    "# Sparse is faster\n",
    "@benchmark Symbolics.hessian_sparsity($rxs, $xs)"
   ]
  },
  {
   "cell_type": "markdown",
   "id": "976b2ba7",
   "metadata": {},
   "source": [
    "## Generating functions\n",
    "\n",
    "- `build_function(ex, args...)` generates out-of-place (oop) and in-place (ip) function expressions in a pair.\n",
    "- `build_function(ex, args..., parallel=Symbolics.MultithreadedForm())` generates a parallel algorithm to evaluate the output. See the [example](https://symbolics.juliasymbolics.org/dev/tutorials/symbolic_functions/#Building-Non-Allocating-Parallel-Functions-for-Sparse-Matrices-1) in the official docs. **However**, there is [an issue](https://github.com/JuliaSymbolics/Symbolics.jl/issues/136) blocking it from happending.\n",
    "- `build_function(ex, args..., target=Symbolics.CTarget())` generates a C function from Julia."
   ]
  },
  {
   "cell_type": "code",
   "execution_count": 37,
   "id": "6632624f",
   "metadata": {
    "execution": {
     "iopub.execute_input": "2022-08-01T02:14:33.584000Z",
     "iopub.status.busy": "2022-08-01T02:14:33.584000Z",
     "iopub.status.idle": "2022-08-01T02:14:37.537000Z",
     "shell.execute_reply": "2022-08-01T02:14:37.537000Z"
    },
    "tags": []
   },
   "outputs": [],
   "source": [
    "fexprs = build_function(grad, xs);"
   ]
  },
  {
   "cell_type": "code",
   "execution_count": 38,
   "id": "302ba920",
   "metadata": {
    "execution": {
     "iopub.execute_input": "2022-08-01T02:14:37.540000Z",
     "iopub.status.busy": "2022-08-01T02:14:37.539000Z",
     "iopub.status.idle": "2022-08-01T02:14:37.697000Z",
     "shell.execute_reply": "2022-08-01T02:14:37.697000Z"
    }
   },
   "outputs": [
    {
     "data": {
      "text/plain": [
       "#29 (generic function with 1 method)"
      ]
     },
     "execution_count": 38,
     "metadata": {},
     "output_type": "execute_result"
    }
   ],
   "source": [
    "foop = eval(fexprs[1])"
   ]
  },
  {
   "cell_type": "code",
   "execution_count": 39,
   "id": "b5294478",
   "metadata": {
    "execution": {
     "iopub.execute_input": "2022-08-01T02:14:37.700000Z",
     "iopub.status.busy": "2022-08-01T02:14:37.700000Z",
     "iopub.status.idle": "2022-08-01T02:14:37.847000Z",
     "shell.execute_reply": "2022-08-01T02:14:37.846000Z"
    }
   },
   "outputs": [
    {
     "data": {
      "text/plain": [
       "#31 (generic function with 1 method)"
      ]
     },
     "execution_count": 39,
     "metadata": {},
     "output_type": "execute_result"
    }
   ],
   "source": [
    "fip = eval(fexprs[2])"
   ]
  },
  {
   "cell_type": "code",
   "execution_count": 40,
   "id": "d0cc290c",
   "metadata": {
    "execution": {
     "iopub.execute_input": "2022-08-01T02:14:37.849000Z",
     "iopub.status.busy": "2022-08-01T02:14:37.849000Z",
     "iopub.status.idle": "2022-08-01T02:14:37.984000Z",
     "shell.execute_reply": "2022-08-01T02:14:37.983000Z"
    }
   },
   "outputs": [],
   "source": [
    "inxs = rand(N)\n",
    "out = similar(inxs);"
   ]
  },
  {
   "cell_type": "code",
   "execution_count": 41,
   "id": "93bf3f12",
   "metadata": {
    "execution": {
     "iopub.execute_input": "2022-08-01T02:14:37.986000Z",
     "iopub.status.busy": "2022-08-01T02:14:37.985000Z",
     "iopub.status.idle": "2022-08-01T02:14:38.102000Z",
     "shell.execute_reply": "2022-08-01T02:14:38.101000Z"
    }
   },
   "outputs": [],
   "source": [
    "fip(out, inxs)  # The inplace version returns nothing. The results are stored in out."
   ]
  },
  {
   "cell_type": "code",
   "execution_count": 42,
   "id": "b5404f93",
   "metadata": {
    "execution": {
     "iopub.execute_input": "2022-08-01T02:14:38.104000Z",
     "iopub.status.busy": "2022-08-01T02:14:38.104000Z",
     "iopub.status.idle": "2022-08-01T02:14:39.203000Z",
     "shell.execute_reply": "2022-08-01T02:14:39.203000Z"
    }
   },
   "outputs": [
    {
     "data": {
      "text/plain": [
       "100-element Vector{Float64}:\n",
       "   80.65615625055672\n",
       "  -53.906439564062055\n",
       "   25.414059738305852\n",
       "  -33.096389267842085\n",
       "   30.693013863891018\n",
       "   17.63983174445427\n",
       "   25.874022598983707\n",
       "  -39.38636362650162\n",
       "   26.678917944854796\n",
       "  -76.04318656742313\n",
       "  376.91073659539603\n",
       " -160.19207442404434\n",
       "  212.9037737337025\n",
       "    ⋮\n",
       "  -54.35735235106788\n",
       "   13.13187244513503\n",
       "   90.6531931182862\n",
       " -101.1423209644311\n",
       "   54.315276384803475\n",
       "   84.44470157123254\n",
       "  -87.95515481336793\n",
       "  417.26882953620685\n",
       " -152.44710756165853\n",
       "   93.5004676231119\n",
       "  -39.64868296113883\n",
       "  112.76890392885836"
      ]
     },
     "execution_count": 42,
     "metadata": {},
     "output_type": "execute_result"
    }
   ],
   "source": [
    "foop(inxs)"
   ]
  },
  {
   "cell_type": "code",
   "execution_count": 43,
   "id": "0ec78e0a",
   "metadata": {
    "execution": {
     "iopub.execute_input": "2022-08-01T02:14:39.206000Z",
     "iopub.status.busy": "2022-08-01T02:14:39.206000Z",
     "iopub.status.idle": "2022-08-01T02:14:39.399000Z",
     "shell.execute_reply": "2022-08-01T02:14:39.399000Z"
    }
   },
   "outputs": [
    {
     "data": {
      "text/plain": [
       "true"
      ]
     },
     "execution_count": 43,
     "metadata": {},
     "output_type": "execute_result"
    }
   ],
   "source": [
    "# Check answers\n",
    "foop(inxs) ≈ out"
   ]
  },
  {
   "cell_type": "code",
   "execution_count": 44,
   "id": "7534b940",
   "metadata": {
    "execution": {
     "iopub.execute_input": "2022-08-01T02:14:39.402000Z",
     "iopub.status.busy": "2022-08-01T02:14:39.402000Z",
     "iopub.status.idle": "2022-08-01T02:14:39.402000Z",
     "shell.execute_reply": "2022-08-01T02:14:39.402000Z"
    }
   },
   "outputs": [],
   "source": [
    "# Save the generated function for later use\n",
    "# write(\"function.jl\", string(fexprs[2]))"
   ]
  },
  {
   "cell_type": "markdown",
   "id": "e92aa839",
   "metadata": {},
   "source": [
    "We can use another package `ForwardDiff.jl` to make sure our gradient from `Symbolics.jl` is correct."
   ]
  },
  {
   "cell_type": "code",
   "execution_count": 45,
   "id": "40df1ea6",
   "metadata": {
    "execution": {
     "iopub.execute_input": "2022-08-01T02:14:39.404000Z",
     "iopub.status.busy": "2022-08-01T02:14:39.404000Z",
     "iopub.status.idle": "2022-08-01T02:14:40.765000Z",
     "shell.execute_reply": "2022-08-01T02:14:40.765000Z"
    }
   },
   "outputs": [
    {
     "data": {
      "text/plain": [
       "true"
      ]
     },
     "execution_count": 45,
     "metadata": {},
     "output_type": "execute_result"
    }
   ],
   "source": [
    "using ForwardDiff\n",
    "ForwardDiff.gradient(rosenbrock, inxs) ≈ out"
   ]
  },
  {
   "cell_type": "code",
   "execution_count": 46,
   "id": "b37a8ee4",
   "metadata": {
    "execution": {
     "iopub.execute_input": "2022-08-01T02:14:40.768000Z",
     "iopub.status.busy": "2022-08-01T02:14:40.768000Z",
     "iopub.status.idle": "2022-08-01T02:14:41.922000Z",
     "shell.execute_reply": "2022-08-01T02:14:41.922000Z"
    },
    "tags": []
   },
   "outputs": [],
   "source": [
    "# Sparce Hessian matrix\n",
    "# Only non-zero expressions are calculated\n",
    "hexprs = build_function(hes_sp, xs);"
   ]
  },
  {
   "cell_type": "code",
   "execution_count": 47,
   "id": "5d6c0449",
   "metadata": {
    "execution": {
     "iopub.execute_input": "2022-08-01T02:14:41.929000Z",
     "iopub.status.busy": "2022-08-01T02:14:41.929000Z",
     "iopub.status.idle": "2022-08-01T02:14:42.607000Z",
     "shell.execute_reply": "2022-08-01T02:14:42.607000Z"
    }
   },
   "outputs": [
    {
     "data": {
      "text/plain": [
       "#35 (generic function with 1 method)"
      ]
     },
     "execution_count": 47,
     "metadata": {},
     "output_type": "execute_result"
    }
   ],
   "source": [
    "hoop = eval(hexprs[1])\n",
    "hip = eval(hexprs[2])"
   ]
  },
  {
   "cell_type": "code",
   "execution_count": 48,
   "id": "21b1a2eb",
   "metadata": {
    "execution": {
     "iopub.execute_input": "2022-08-01T02:14:42.610000Z",
     "iopub.status.busy": "2022-08-01T02:14:42.610000Z",
     "iopub.status.idle": "2022-08-01T02:14:42.931000Z",
     "shell.execute_reply": "2022-08-01T02:14:42.931000Z"
    }
   },
   "outputs": [
    {
     "data": {
      "text/plain": [
       "100×100 SparseArrays.SparseMatrixCSC{Bool, Int64} with 298 stored entries:\n",
       "⠻⣦⡀⠀⠀⠀⠀⠀⠀⠀⠀⠀⠀⠀⠀⠀⠀⠀⠀⠀⠀⠀⠀⠀⠀⠀⠀⠀⠀⠀⠀⠀⠀⠀⠀⠀⠀⠀⠀⠀\n",
       "⠀⠈⠻⣦⡀⠀⠀⠀⠀⠀⠀⠀⠀⠀⠀⠀⠀⠀⠀⠀⠀⠀⠀⠀⠀⠀⠀⠀⠀⠀⠀⠀⠀⠀⠀⠀⠀⠀⠀⠀\n",
       "⠀⠀⠀⠈⠻⣦⡀⠀⠀⠀⠀⠀⠀⠀⠀⠀⠀⠀⠀⠀⠀⠀⠀⠀⠀⠀⠀⠀⠀⠀⠀⠀⠀⠀⠀⠀⠀⠀⠀⠀\n",
       "⠀⠀⠀⠀⠀⠈⠻⣦⡀⠀⠀⠀⠀⠀⠀⠀⠀⠀⠀⠀⠀⠀⠀⠀⠀⠀⠀⠀⠀⠀⠀⠀⠀⠀⠀⠀⠀⠀⠀⠀\n",
       "⠀⠀⠀⠀⠀⠀⠀⠈⠻⣦⡀⠀⠀⠀⠀⠀⠀⠀⠀⠀⠀⠀⠀⠀⠀⠀⠀⠀⠀⠀⠀⠀⠀⠀⠀⠀⠀⠀⠀⠀\n",
       "⠀⠀⠀⠀⠀⠀⠀⠀⠀⠈⠻⣦⡀⠀⠀⠀⠀⠀⠀⠀⠀⠀⠀⠀⠀⠀⠀⠀⠀⠀⠀⠀⠀⠀⠀⠀⠀⠀⠀⠀\n",
       "⠀⠀⠀⠀⠀⠀⠀⠀⠀⠀⠀⠈⠻⣦⡀⠀⠀⠀⠀⠀⠀⠀⠀⠀⠀⠀⠀⠀⠀⠀⠀⠀⠀⠀⠀⠀⠀⠀⠀⠀\n",
       "⠀⠀⠀⠀⠀⠀⠀⠀⠀⠀⠀⠀⠀⠈⠻⣦⡀⠀⠀⠀⠀⠀⠀⠀⠀⠀⠀⠀⠀⠀⠀⠀⠀⠀⠀⠀⠀⠀⠀⠀\n",
       "⠀⠀⠀⠀⠀⠀⠀⠀⠀⠀⠀⠀⠀⠀⠀⠈⠻⣦⡀⠀⠀⠀⠀⠀⠀⠀⠀⠀⠀⠀⠀⠀⠀⠀⠀⠀⠀⠀⠀⠀\n",
       "⠀⠀⠀⠀⠀⠀⠀⠀⠀⠀⠀⠀⠀⠀⠀⠀⠀⠈⠻⣦⡀⠀⠀⠀⠀⠀⠀⠀⠀⠀⠀⠀⠀⠀⠀⠀⠀⠀⠀⠀\n",
       "⠀⠀⠀⠀⠀⠀⠀⠀⠀⠀⠀⠀⠀⠀⠀⠀⠀⠀⠀⠈⠻⣦⡀⠀⠀⠀⠀⠀⠀⠀⠀⠀⠀⠀⠀⠀⠀⠀⠀⠀\n",
       "⠀⠀⠀⠀⠀⠀⠀⠀⠀⠀⠀⠀⠀⠀⠀⠀⠀⠀⠀⠀⠀⠈⠻⣦⡀⠀⠀⠀⠀⠀⠀⠀⠀⠀⠀⠀⠀⠀⠀⠀\n",
       "⠀⠀⠀⠀⠀⠀⠀⠀⠀⠀⠀⠀⠀⠀⠀⠀⠀⠀⠀⠀⠀⠀⠀⠈⠻⣦⡀⠀⠀⠀⠀⠀⠀⠀⠀⠀⠀⠀⠀⠀\n",
       "⠀⠀⠀⠀⠀⠀⠀⠀⠀⠀⠀⠀⠀⠀⠀⠀⠀⠀⠀⠀⠀⠀⠀⠀⠀⠈⠻⣦⡀⠀⠀⠀⠀⠀⠀⠀⠀⠀⠀⠀\n",
       "⠀⠀⠀⠀⠀⠀⠀⠀⠀⠀⠀⠀⠀⠀⠀⠀⠀⠀⠀⠀⠀⠀⠀⠀⠀⠀⠀⠈⠻⣦⡀⠀⠀⠀⠀⠀⠀⠀⠀⠀\n",
       "⠀⠀⠀⠀⠀⠀⠀⠀⠀⠀⠀⠀⠀⠀⠀⠀⠀⠀⠀⠀⠀⠀⠀⠀⠀⠀⠀⠀⠀⠈⠻⣦⡀⠀⠀⠀⠀⠀⠀⠀\n",
       "⠀⠀⠀⠀⠀⠀⠀⠀⠀⠀⠀⠀⠀⠀⠀⠀⠀⠀⠀⠀⠀⠀⠀⠀⠀⠀⠀⠀⠀⠀⠀⠈⠻⣦⡀⠀⠀⠀⠀⠀\n",
       "⠀⠀⠀⠀⠀⠀⠀⠀⠀⠀⠀⠀⠀⠀⠀⠀⠀⠀⠀⠀⠀⠀⠀⠀⠀⠀⠀⠀⠀⠀⠀⠀⠀⠈⠻⣦⡀⠀⠀⠀\n",
       "⠀⠀⠀⠀⠀⠀⠀⠀⠀⠀⠀⠀⠀⠀⠀⠀⠀⠀⠀⠀⠀⠀⠀⠀⠀⠀⠀⠀⠀⠀⠀⠀⠀⠀⠀⠈⠻⣦⡀⠀\n",
       "⠀⠀⠀⠀⠀⠀⠀⠀⠀⠀⠀⠀⠀⠀⠀⠀⠀⠀⠀⠀⠀⠀⠀⠀⠀⠀⠀⠀⠀⠀⠀⠀⠀⠀⠀⠀⠀⠈⠻⣦"
      ]
     },
     "execution_count": 48,
     "metadata": {},
     "output_type": "execute_result"
    }
   ],
   "source": [
    "hoop(rand(N))"
   ]
  }
 ],
 "metadata": {
  "kernelspec": {
   "display_name": "Julia 1.7.2",
   "language": "julia",
   "name": "julia-1.7"
  },
  "language_info": {
   "file_extension": ".jl",
   "mimetype": "application/julia",
   "name": "julia",
   "version": "1.7.3"
  },
  "toc-autonumbering": true
 },
 "nbformat": 4,
 "nbformat_minor": 5
}
