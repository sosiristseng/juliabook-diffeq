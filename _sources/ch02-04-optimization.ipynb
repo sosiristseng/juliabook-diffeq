{
 "cells": [
  {
   "cell_type": "markdown",
   "metadata": {},
   "source": [
    "# Optimization Problems\n",
    "\n",
    "From: https://mtk.sciml.ai/dev/tutorials/optimization/\n",
    "\n",
    "Find $(x, y)$ that minimizes the loss function $(a - x)^2 + b(y - x^2)^2$"
   ]
  },
  {
   "cell_type": "code",
   "execution_count": 1,
   "metadata": {
    "execution": {
     "iopub.execute_input": "2022-08-01T02:09:41.305000Z",
     "iopub.status.busy": "2022-08-01T02:09:40.858000Z",
     "iopub.status.idle": "2022-08-01T02:09:54.238000Z",
     "shell.execute_reply": "2022-08-01T02:09:54.164000Z"
    }
   },
   "outputs": [],
   "source": [
    "using ModelingToolkit\n",
    "using Optimization\n",
    "using OptimizationOptimJL"
   ]
  },
  {
   "cell_type": "code",
   "execution_count": 2,
   "metadata": {
    "execution": {
     "iopub.execute_input": "2022-08-01T02:09:54.466000Z",
     "iopub.status.busy": "2022-08-01T02:09:54.242000Z",
     "iopub.status.idle": "2022-08-01T02:10:06.674000Z",
     "shell.execute_reply": "2022-08-01T02:10:06.674000Z"
    }
   },
   "outputs": [
    {
     "data": {
      "text/latex": [
       "$$ \\begin{equation}\n",
       "\\left( y - x^{2} \\right)^{2} b + \\left( a - x \\right)^{2}\n",
       "\\end{equation}\n",
       " $$"
      ],
      "text/plain": [
       "\u001b[0m\u001b[1mModel sys\u001b[22m\n",
       "\u001b[0m\u001b[1mStates (2):\u001b[22m\n",
       "  x\n",
       "  y\n",
       "\u001b[0m\u001b[1mParameters (2):\u001b[22m\n",
       "  a\n",
       "  b"
      ]
     },
     "execution_count": 2,
     "metadata": {},
     "output_type": "execute_result"
    }
   ],
   "source": [
    "@variables x y\n",
    "@parameters a b\n",
    "\n",
    "loss = (a - x)^2 + b * (y - x^2)^2\n",
    "\n",
    "@named sys = OptimizationSystem(loss, [x, y], [a, b])"
   ]
  },
  {
   "cell_type": "code",
   "execution_count": 3,
   "metadata": {
    "execution": {
     "iopub.execute_input": "2022-08-01T02:10:06.704000Z",
     "iopub.status.busy": "2022-08-01T02:10:06.703000Z",
     "iopub.status.idle": "2022-08-01T02:10:37.149000Z",
     "shell.execute_reply": "2022-08-01T02:10:37.148000Z"
    }
   },
   "outputs": [
    {
     "data": {
      "text/plain": [
       "u: 2-element Vector{Float64}:\n",
       "  6.0\n",
       " 36.0"
      ]
     },
     "execution_count": 3,
     "metadata": {},
     "output_type": "execute_result"
    }
   ],
   "source": [
    "u0 = [\n",
    "    x=>1.0\n",
    "    y=>2.0\n",
    "]\n",
    "p = [\n",
    "    a => 6.0\n",
    "    b => 7.0\n",
    "]\n",
    "\n",
    "# Generate Gradient and Hessian for the optimizer\n",
    "prob = OptimizationProblem(sys, u0, p, grad=true, hess=true)\n",
    "sol = solve(prob, Newton()) # Should be (6.0, 36.0)"
   ]
  }
 ],
 "metadata": {
  "kernelspec": {
   "display_name": "Julia 1.7.3",
   "language": "julia",
   "name": "julia-1.7"
  },
  "language_info": {
   "file_extension": ".jl",
   "mimetype": "application/julia",
   "name": "julia",
   "version": "1.7.3"
  }
 },
 "nbformat": 4,
 "nbformat_minor": 2
}
