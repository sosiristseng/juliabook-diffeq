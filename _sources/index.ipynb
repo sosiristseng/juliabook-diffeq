{
 "cells": [
  {
   "cell_type": "markdown",
   "metadata": {},
   "source": [
    "# Learning Julia Differential Equations\n",
    "\n",
    "- [DifferentialEquations.jl](https://github.com/SciML/DifferentialEquations.jl): high-performance solvers of differential equations."
   ]
  },
  {
   "cell_type": "markdown",
   "metadata": {},
   "source": [
    "## Runtime information"
   ]
  },
  {
   "cell_type": "code",
   "execution_count": 1,
   "metadata": {
    "execution": {
     "iopub.execute_input": "2022-08-01T02:09:28.892000Z",
     "iopub.status.busy": "2022-08-01T02:09:28.446000Z",
     "iopub.status.idle": "2022-08-01T02:09:29.891000Z",
     "shell.execute_reply": "2022-08-01T02:09:29.821000Z"
    }
   },
   "outputs": [
    {
     "name": "stdout",
     "output_type": "stream",
     "text": [
      "Julia Version 1.7.3\n",
      "Commit 742b9abb4d (2022-05-06 12:58 UTC)\n",
      "Platform Info:\n",
      "  OS: Linux (x86_64-pc-linux-gnu)\n",
      "  CPU: AMD EPYC 7B13\n",
      "  WORD_SIZE: 64\n",
      "  LIBM: libopenlibm\n",
      "  LLVM: libLLVM-12.0.1 (ORCJIT, znver3)\n",
      "Environment:\n",
      "  JULIA_PATH = /usr/local/julia/\n"
     ]
    }
   ],
   "source": [
    "versioninfo()"
   ]
  },
  {
   "cell_type": "code",
   "execution_count": 2,
   "metadata": {
    "execution": {
     "iopub.execute_input": "2022-08-01T02:09:29.917000Z",
     "iopub.status.busy": "2022-08-01T02:09:29.917000Z",
     "iopub.status.idle": "2022-08-01T02:09:32.122000Z",
     "shell.execute_reply": "2022-08-01T02:09:32.122000Z"
    }
   },
   "outputs": [
    {
     "name": "stdout",
     "output_type": "stream",
     "text": [
      "\u001b[32m\u001b[1m      Status\u001b[22m\u001b[39m `/tmp/cirrus-ci-build/Project.toml`\n",
      " \u001b[90m [6e4b80f9] \u001b[39mBenchmarkTools v1.3.1\n",
      " \u001b[90m [479239e8] \u001b[39mCatalyst v12.1.4\n",
      " \u001b[90m [1130ab10] \u001b[39mDiffEqParamEstim v1.26.0\n",
      " \u001b[90m [0c46a032] \u001b[39mDifferentialEquations v7.2.0\n",
      " \u001b[90m [5b8099bc] \u001b[39mDomainSets v0.5.11\n",
      " \u001b[90m [f6369f11] \u001b[39mForwardDiff v0.10.30\n",
      " \u001b[90m [2ee39098] \u001b[39mLabelledArrays v1.11.1\n",
      " \u001b[90m [94925ecb] \u001b[39mMethodOfLines v0.3.2\n",
      " \u001b[90m [961ee093] \u001b[39mModelingToolkit v8.18.3\n",
      " \u001b[90m [8913a72c] \u001b[39mNonlinearSolve v0.3.22\n",
      " \u001b[90m [429524aa] \u001b[39mOptim v1.7.1\n",
      " \u001b[90m [7f7a1694] \u001b[39mOptimization v3.8.2\n",
      " \u001b[90m [36348300] \u001b[39mOptimizationOptimJL v0.1.2\n",
      " \u001b[90m [91a5bcdd] \u001b[39mPlots v1.31.5\n",
      " \u001b[90m [276daf66] \u001b[39mSpecialFunctions v2.1.7\n",
      " \u001b[90m [0c5d862f] \u001b[39mSymbolics v4.10.3\n",
      " \u001b[90m [37e2e46d] \u001b[39mLinearAlgebra\n"
     ]
    }
   ],
   "source": [
    "using Pkg\n",
    "Pkg.status()"
   ]
  }
 ],
 "metadata": {
  "kernelspec": {
   "display_name": "Julia 1.7.3",
   "language": "julia",
   "name": "julia-1.7"
  },
  "language_info": {
   "file_extension": ".jl",
   "mimetype": "application/julia",
   "name": "julia",
   "version": "1.7.3"
  }
 },
 "nbformat": 4,
 "nbformat_minor": 2
}
